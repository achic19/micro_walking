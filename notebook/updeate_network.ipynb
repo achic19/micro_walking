{
 "cells": [
  {
   "cell_type": "code",
   "execution_count": 13,
   "outputs": [],
   "source": [
    "import geopandas as gpd\n",
    "from geopandas import GeoDataFrame\n",
    "import os\n",
    "import zipfile\n",
    "import pandas as pd\n",
    "import glob\n",
    "import zipfile\n",
    "from pandas import DataFrame\n",
    "layer_crs= 'epsg:2039'\n",
    "project_folder = os.path.dirname(os.getcwd())"
   ],
   "metadata": {
    "collapsed": false,
    "pycharm": {
     "name": "#%%\n"
    }
   }
  },
  {
   "cell_type": "code",
   "execution_count": 14,
   "outputs": [],
   "source": [
    "main_path =  'output/streets_elements/detailed_folder'\n",
    "buildings_business = f'{main_path}/buildings_business'\n",
    "elements_as_graph = f'{main_path}/elements_as_graph'\n",
    "elements_as_length = f'{main_path}/elements_as_length'\n",
    "parks_resDen_bikes= f'{main_path}/parks_resDen_bikes'\n",
    "noise_density= f'{main_path}/noise_density'"
   ],
   "metadata": {
    "collapsed": false,
    "pycharm": {
     "name": "#%%\n"
    }
   }
  },
  {
   "cell_type": "code",
   "execution_count": 15,
   "outputs": [],
   "source": [
    "main_dic= {'buildings':[True,f'{buildings_business}/buildings','avg'],\n",
    "           'businesses':[True,f'{buildings_business}/businesses','ratio'],\n",
    "           'educational_institutes':[True,f'{elements_as_graph}/educational_institutes','count400'],\n",
    "           'Health_services':[True,f'{elements_as_graph}/Health_services','count400'],\n",
    "           'Leisure_amenities':[True,f'{elements_as_graph}/Leisure_amenities','count400'],\n",
    "           'Playgrounds':[True,f'{elements_as_graph}/Playgrounds','count400'],\n",
    "           'Sport_facilities':[True,f'{elements_as_graph}/Sport_facilities','count400'],\n",
    "           'synagogues':[True,f'{elements_as_graph}/synagogues','count400'],\n",
    "           'bus_stations':[True,f'{elements_as_length}/bus_stations','ratio'],\n",
    "           'lighting':[True,f'{elements_as_length}/lighting','ratio'],\n",
    "           'trees':[True,f'{elements_as_length}/trees','ratio'],\n",
    "            'bike_trails':[True,f'{parks_resDen_bikes}/bike_trails','is_bike'],\n",
    "           'parks':[True,f'{parks_resDen_bikes}/parks','count200'],\n",
    "           'density':[True,f'{noise_density}/density','density'],\n",
    "           'SEleve1_10':[True,f'{noise_density}/SEleve1_10','SEleve1_10'],\n",
    "}"
   ],
   "metadata": {
    "collapsed": false,
    "pycharm": {
     "name": "#%%\n"
    }
   }
  },
  {
   "cell_type": "code",
   "execution_count": 15,
   "outputs": [],
   "source": [],
   "metadata": {
    "collapsed": false,
    "pycharm": {
     "name": "#%%\n"
    }
   }
  },
  {
   "cell_type": "code",
   "execution_count": 16,
   "outputs": [],
   "source": [
    "res_path = 'output/streets_elements'\n",
    "clean_network = gpd.read_file(r'{}/streets_elements.shp'.format(res_path))\n",
    "\n",
    "col_to_leave = ['oidrechov','length','geometry']\n",
    "clean_network = clean_network[col_to_leave]"
   ],
   "metadata": {
    "collapsed": false,
    "pycharm": {
     "name": "#%%\n"
    }
   }
  },
  {
   "cell_type": "code",
   "execution_count": 17,
   "outputs": [
    {
     "data": {
      "text/plain": "{'buildings': [True,\n  'output/streets_elements/detailed_folder/buildings_business/buildings',\n  'avg'],\n 'businesses': [True,\n  'output/streets_elements/detailed_folder/buildings_business/businesses',\n  'ratio'],\n 'educational_institutes': [True,\n  'output/streets_elements/detailed_folder/elements_as_graph/educational_institutes',\n  'count400'],\n 'Health_services': [True,\n  'output/streets_elements/detailed_folder/elements_as_graph/Health_services',\n  'count400'],\n 'Leisure_amenities': [True,\n  'output/streets_elements/detailed_folder/elements_as_graph/Leisure_amenities',\n  'count400'],\n 'Playgrounds': [True,\n  'output/streets_elements/detailed_folder/elements_as_graph/Playgrounds',\n  'count400'],\n 'Sport_facilities': [True,\n  'output/streets_elements/detailed_folder/elements_as_graph/Sport_facilities',\n  'count400'],\n 'synagogues': [True,\n  'output/streets_elements/detailed_folder/elements_as_graph/synagogues',\n  'count400'],\n 'bus_stations': [True,\n  'output/streets_elements/detailed_folder/elements_as_length/bus_stations',\n  'ratio'],\n 'lighting': [True,\n  'output/streets_elements/detailed_folder/elements_as_length/lighting',\n  'ratio'],\n 'trees': [True,\n  'output/streets_elements/detailed_folder/elements_as_length/trees',\n  'ratio'],\n 'bike_trails': [True,\n  'output/streets_elements/detailed_folder/parks_resDen_bikes/bike_trails',\n  'is_bike'],\n 'parks': [True,\n  'output/streets_elements/detailed_folder/parks_resDen_bikes/parks',\n  'count200'],\n 'density': [True,\n  'output/streets_elements/detailed_folder/noise_density/density',\n  'density'],\n 'SEleve1_10': [True,\n  'output/streets_elements/detailed_folder/noise_density/SEleve1_10',\n  'SEleve1_10']}"
     },
     "execution_count": 17,
     "metadata": {},
     "output_type": "execute_result"
    }
   ],
   "source": [
    "\n",
    "main_dic"
   ],
   "metadata": {
    "collapsed": false,
    "pycharm": {
     "name": "#%%\n"
    }
   }
  },
  {
   "cell_type": "code",
   "execution_count": 18,
   "outputs": [
    {
     "name": "stdout",
     "output_type": "stream",
     "text": [
      "buildings\n",
      "businesses\n",
      "educational_institutes\n",
      "Health_services\n",
      "Leisure_amenities\n",
      "Playgrounds\n",
      "Sport_facilities\n",
      "synagogues\n",
      "bus_stations\n",
      "lighting\n",
      "trees\n",
      "bike_trails\n",
      "parks\n",
      "density\n",
      "SEleve1_10\n"
     ]
    }
   ],
   "source": [
    "for layer in main_dic.items():\n",
    "    print(layer[0])\n",
    "    info = layer[1]\n",
    "    if info[0]:\n",
    "        df_data = gpd.read_file(f'{info[1]}/streets_elements_{layer[0]}.shp')\n",
    "        clean_network[layer[0]] = df_data[info[2]]"
   ],
   "metadata": {
    "collapsed": false,
    "pycharm": {
     "name": "#%%\n"
    }
   }
  },
  {
   "cell_type": "code",
   "execution_count": 20,
   "outputs": [
    {
     "data": {
      "text/plain": "      oidrechov       length  \\\n0           1.0    32.807598   \n1           3.0    63.288914   \n2           4.0    25.981647   \n3           5.0    80.268853   \n4           6.0    80.152149   \n...         ...          ...   \n8746     9650.0    92.387138   \n8747     9651.0    55.993258   \n8748     9658.0  1416.463909   \n8749     9659.0   720.172594   \n8750     9662.0   979.661687   \n\n                                               geometry  buildings  \\\n0     LINESTRING (184322.705 668574.483, 184351.736 ...  16.036667   \n1     LINESTRING (179282.603 666005.717, 179343.283 ...  25.930000   \n2     LINESTRING (180952.197 664967.670, 180964.041 ...  14.666667   \n3     LINESTRING (180668.486 662875.092, 180748.697 ...   7.753077   \n4     LINESTRING (182532.174 661455.967, 182514.127 ...   8.800000   \n...                                                 ...        ...   \n8746  LINESTRING (180252.127 670097.359, 180342.969 ...        NaN   \n8747  LINESTRING (180204.072 670123.951, 180220.846 ...        NaN   \n8748  LINESTRING (180765.260 670000.467, 180830.127 ...  14.356000   \n8749  LINESTRING (181058.769 671381.112, 181091.908 ...        NaN   \n8750  LINESTRING (180665.748 670989.905, 180717.768 ...  10.162857   \n\n      businesses  educational_institutes  Health_services  Leisure_amenities  \\\n0            NaN                       8                1                  0   \n1            NaN                       5                4                  1   \n2            NaN                      10                0                  0   \n3            NaN                       4                3                  0   \n4       0.012476                       0                0                  0   \n...          ...                     ...              ...                ...   \n8746         NaN                       0                0                  0   \n8747         NaN                       0                0                  0   \n8748         NaN                       0                0                  0   \n8749         NaN                       0                0                  0   \n8750    0.001021                       4                2                  0   \n\n      Playgrounds  Sport_facilities  synagogues  bus_stations  lighting  \\\n0               7                 3           4      0.030481  0.060961   \n1               3                 2           3           NaN  0.015801   \n2               3                 1           1      0.038489  0.038489   \n3               2                 2           3           NaN  0.037374   \n4               0                 2           0           NaN  0.024953   \n...           ...               ...         ...           ...       ...   \n8746            0                 0           0           NaN  0.064944   \n8747            0                 0           0           NaN  0.107156   \n8748            0                 0           0      0.002118  0.039535   \n8749            0                 0           0      0.004166  0.023605   \n8750            2                 7           0      0.006125  0.042872   \n\n         trees  bike_trails  parks  density  SEleve1_10  \n0          NaN            0     12      3.3           7  \n1     0.015801            0      2     18.1           7  \n2          NaN            0      4     15.5           6  \n3     0.037374            0     12     10.8           3  \n4          NaN            1      8     25.7           4  \n...        ...          ...    ...      ...         ...  \n8746       NaN            1      4     16.3           8  \n8747       NaN            1      2      1.4           9  \n8748  0.390409            0     23      1.4           9  \n8749  0.279100            0      5      1.4           9  \n8750  0.103097            1      6      1.4           9  \n\n[8751 rows x 18 columns]",
      "text/html": "<div>\n<style scoped>\n    .dataframe tbody tr th:only-of-type {\n        vertical-align: middle;\n    }\n\n    .dataframe tbody tr th {\n        vertical-align: top;\n    }\n\n    .dataframe thead th {\n        text-align: right;\n    }\n</style>\n<table border=\"1\" class=\"dataframe\">\n  <thead>\n    <tr style=\"text-align: right;\">\n      <th></th>\n      <th>oidrechov</th>\n      <th>length</th>\n      <th>geometry</th>\n      <th>buildings</th>\n      <th>businesses</th>\n      <th>educational_institutes</th>\n      <th>Health_services</th>\n      <th>Leisure_amenities</th>\n      <th>Playgrounds</th>\n      <th>Sport_facilities</th>\n      <th>synagogues</th>\n      <th>bus_stations</th>\n      <th>lighting</th>\n      <th>trees</th>\n      <th>bike_trails</th>\n      <th>parks</th>\n      <th>density</th>\n      <th>SEleve1_10</th>\n    </tr>\n  </thead>\n  <tbody>\n    <tr>\n      <th>0</th>\n      <td>1.0</td>\n      <td>32.807598</td>\n      <td>LINESTRING (184322.705 668574.483, 184351.736 ...</td>\n      <td>16.036667</td>\n      <td>NaN</td>\n      <td>8</td>\n      <td>1</td>\n      <td>0</td>\n      <td>7</td>\n      <td>3</td>\n      <td>4</td>\n      <td>0.030481</td>\n      <td>0.060961</td>\n      <td>NaN</td>\n      <td>0</td>\n      <td>12</td>\n      <td>3.3</td>\n      <td>7</td>\n    </tr>\n    <tr>\n      <th>1</th>\n      <td>3.0</td>\n      <td>63.288914</td>\n      <td>LINESTRING (179282.603 666005.717, 179343.283 ...</td>\n      <td>25.930000</td>\n      <td>NaN</td>\n      <td>5</td>\n      <td>4</td>\n      <td>1</td>\n      <td>3</td>\n      <td>2</td>\n      <td>3</td>\n      <td>NaN</td>\n      <td>0.015801</td>\n      <td>0.015801</td>\n      <td>0</td>\n      <td>2</td>\n      <td>18.1</td>\n      <td>7</td>\n    </tr>\n    <tr>\n      <th>2</th>\n      <td>4.0</td>\n      <td>25.981647</td>\n      <td>LINESTRING (180952.197 664967.670, 180964.041 ...</td>\n      <td>14.666667</td>\n      <td>NaN</td>\n      <td>10</td>\n      <td>0</td>\n      <td>0</td>\n      <td>3</td>\n      <td>1</td>\n      <td>1</td>\n      <td>0.038489</td>\n      <td>0.038489</td>\n      <td>NaN</td>\n      <td>0</td>\n      <td>4</td>\n      <td>15.5</td>\n      <td>6</td>\n    </tr>\n    <tr>\n      <th>3</th>\n      <td>5.0</td>\n      <td>80.268853</td>\n      <td>LINESTRING (180668.486 662875.092, 180748.697 ...</td>\n      <td>7.753077</td>\n      <td>NaN</td>\n      <td>4</td>\n      <td>3</td>\n      <td>0</td>\n      <td>2</td>\n      <td>2</td>\n      <td>3</td>\n      <td>NaN</td>\n      <td>0.037374</td>\n      <td>0.037374</td>\n      <td>0</td>\n      <td>12</td>\n      <td>10.8</td>\n      <td>3</td>\n    </tr>\n    <tr>\n      <th>4</th>\n      <td>6.0</td>\n      <td>80.152149</td>\n      <td>LINESTRING (182532.174 661455.967, 182514.127 ...</td>\n      <td>8.800000</td>\n      <td>0.012476</td>\n      <td>0</td>\n      <td>0</td>\n      <td>0</td>\n      <td>0</td>\n      <td>2</td>\n      <td>0</td>\n      <td>NaN</td>\n      <td>0.024953</td>\n      <td>NaN</td>\n      <td>1</td>\n      <td>8</td>\n      <td>25.7</td>\n      <td>4</td>\n    </tr>\n    <tr>\n      <th>...</th>\n      <td>...</td>\n      <td>...</td>\n      <td>...</td>\n      <td>...</td>\n      <td>...</td>\n      <td>...</td>\n      <td>...</td>\n      <td>...</td>\n      <td>...</td>\n      <td>...</td>\n      <td>...</td>\n      <td>...</td>\n      <td>...</td>\n      <td>...</td>\n      <td>...</td>\n      <td>...</td>\n      <td>...</td>\n      <td>...</td>\n    </tr>\n    <tr>\n      <th>8746</th>\n      <td>9650.0</td>\n      <td>92.387138</td>\n      <td>LINESTRING (180252.127 670097.359, 180342.969 ...</td>\n      <td>NaN</td>\n      <td>NaN</td>\n      <td>0</td>\n      <td>0</td>\n      <td>0</td>\n      <td>0</td>\n      <td>0</td>\n      <td>0</td>\n      <td>NaN</td>\n      <td>0.064944</td>\n      <td>NaN</td>\n      <td>1</td>\n      <td>4</td>\n      <td>16.3</td>\n      <td>8</td>\n    </tr>\n    <tr>\n      <th>8747</th>\n      <td>9651.0</td>\n      <td>55.993258</td>\n      <td>LINESTRING (180204.072 670123.951, 180220.846 ...</td>\n      <td>NaN</td>\n      <td>NaN</td>\n      <td>0</td>\n      <td>0</td>\n      <td>0</td>\n      <td>0</td>\n      <td>0</td>\n      <td>0</td>\n      <td>NaN</td>\n      <td>0.107156</td>\n      <td>NaN</td>\n      <td>1</td>\n      <td>2</td>\n      <td>1.4</td>\n      <td>9</td>\n    </tr>\n    <tr>\n      <th>8748</th>\n      <td>9658.0</td>\n      <td>1416.463909</td>\n      <td>LINESTRING (180765.260 670000.467, 180830.127 ...</td>\n      <td>14.356000</td>\n      <td>NaN</td>\n      <td>0</td>\n      <td>0</td>\n      <td>0</td>\n      <td>0</td>\n      <td>0</td>\n      <td>0</td>\n      <td>0.002118</td>\n      <td>0.039535</td>\n      <td>0.390409</td>\n      <td>0</td>\n      <td>23</td>\n      <td>1.4</td>\n      <td>9</td>\n    </tr>\n    <tr>\n      <th>8749</th>\n      <td>9659.0</td>\n      <td>720.172594</td>\n      <td>LINESTRING (181058.769 671381.112, 181091.908 ...</td>\n      <td>NaN</td>\n      <td>NaN</td>\n      <td>0</td>\n      <td>0</td>\n      <td>0</td>\n      <td>0</td>\n      <td>0</td>\n      <td>0</td>\n      <td>0.004166</td>\n      <td>0.023605</td>\n      <td>0.279100</td>\n      <td>0</td>\n      <td>5</td>\n      <td>1.4</td>\n      <td>9</td>\n    </tr>\n    <tr>\n      <th>8750</th>\n      <td>9662.0</td>\n      <td>979.661687</td>\n      <td>LINESTRING (180665.748 670989.905, 180717.768 ...</td>\n      <td>10.162857</td>\n      <td>0.001021</td>\n      <td>4</td>\n      <td>2</td>\n      <td>0</td>\n      <td>2</td>\n      <td>7</td>\n      <td>0</td>\n      <td>0.006125</td>\n      <td>0.042872</td>\n      <td>0.103097</td>\n      <td>1</td>\n      <td>6</td>\n      <td>1.4</td>\n      <td>9</td>\n    </tr>\n  </tbody>\n</table>\n<p>8751 rows × 18 columns</p>\n</div>"
     },
     "execution_count": 20,
     "metadata": {},
     "output_type": "execute_result"
    }
   ],
   "source": [
    "clean_network"
   ],
   "metadata": {
    "collapsed": false,
    "pycharm": {
     "name": "#%%\n"
    }
   }
  },
  {
   "cell_type": "code",
   "execution_count": 21,
   "outputs": [
    {
     "name": "stderr",
     "output_type": "stream",
     "text": [
      "C:\\Users\\Achituv\\AppData\\Local\\Temp\\ipykernel_12388\\1810301420.py:1: UserWarning: Column names longer than 10 characters will be truncated when saved to ESRI Shapefile.\n",
      "  clean_network.fillna(0).to_file(r'{}/streets_elements.shp'.format(res_path))\n"
     ]
    }
   ],
   "source": [
    "clean_network.fillna(0).to_file(r'{}/streets_elements.shp'.format(res_path))"
   ],
   "metadata": {
    "collapsed": false,
    "pycharm": {
     "name": "#%%\n"
    }
   }
  },
  {
   "cell_type": "code",
   "execution_count": null,
   "outputs": [],
   "source": [],
   "metadata": {
    "collapsed": false,
    "pycharm": {
     "name": "#%%\n"
    }
   }
  }
 ],
 "metadata": {
  "kernelspec": {
   "display_name": "Python 3",
   "language": "python",
   "name": "python3"
  },
  "language_info": {
   "codemirror_mode": {
    "name": "ipython",
    "version": 2
   },
   "file_extension": ".py",
   "mimetype": "text/x-python",
   "name": "python",
   "nbconvert_exporter": "python",
   "pygments_lexer": "ipython2",
   "version": "2.7.6"
  }
 },
 "nbformat": 4,
 "nbformat_minor": 0
}