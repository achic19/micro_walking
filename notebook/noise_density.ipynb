{
 "cells": [
  {
   "cell_type": "code",
   "execution_count": 11,
   "outputs": [],
   "source": [
    "import geopandas as gpd\n",
    "from geopandas import GeoDataFrame\n",
    "import os\n",
    "import zipfile\n",
    "import pandas as pd\n",
    "import glob\n",
    "import zipfile\n",
    "from pandas import DataFrame,Series\n",
    "import pyproj\n",
    "layer_crs = 'epsg:2039'\n",
    "geodesic = pyproj.Geod(ellps='GRS80')\n",
    "\n",
    "data_folder = 'noise_density'\n",
    "# The network to work with\n",
    "res_path = 'output/streets_elements'\n",
    "clean_network = gpd.read_file(r'{}/streets_elements.shp'.format(res_path))\n",
    "col_to_leave = ['oidrechov', 'length', 'geometry']\n",
    "key_fields = 'oidrechov'\n",
    "main_path = f'output/streets_elements/elements/{data_folder}'\n",
    "res_path = f'output/streets_elements/detailed_folder/{data_folder}'\n",
    "clean_network_temp = clean_network[col_to_leave]\n",
    "clean_network_temp.set_index(key_fields,inplace=True)"
   ],
   "metadata": {
    "collapsed": false,
    "pycharm": {
     "name": "#%%\n"
    }
   }
  },
  {
   "cell_type": "code",
   "execution_count": 12,
   "outputs": [],
   "source": [
    "# Density"
   ],
   "metadata": {
    "collapsed": false,
    "pycharm": {
     "name": "#%%\n"
    }
   }
  },
  {
   "cell_type": "code",
   "execution_count": 13,
   "outputs": [
    {
     "data": {
      "text/plain": "    oidshchuna  msshchuna           dateimport     ShapeArea  \\\n0          1.0        3.0  31/12/2018 11:03:03  1.307955e+06   \n1          2.0        2.0  31/12/2018 11:03:03  1.288925e+06   \n2          3.0        7.0  31/12/2018 11:03:03  1.101582e+06   \n3          4.0       11.0  31/12/2018 11:03:03  1.459851e+06   \n4          5.0        6.0  31/12/2018 11:03:03  4.212298e+05   \n..         ...        ...                  ...           ...   \n66        67.0       13.0  31/12/2018 11:03:03  3.750740e+06   \n67        68.0       50.0  31/12/2018 11:03:03  8.605188e+05   \n68        69.0       47.0  31/12/2018 11:03:03  4.464244e+05   \n69        70.0       45.0  31/12/2018 11:03:03  1.059984e+06   \n70        71.0       46.0  31/12/2018 11:03:03  6.979523e+05   \n\n             shemshchun UniqueId  SEleve1_10  density  \\\n0           אזור שדה דב    511-1         9.0      1.4   \n1             צוקי אביב    511-2         9.0      1.4   \n2           'רמת אביב ג    511-3         8.0     11.4   \n3        אוניברסיטת ת\"א    511-4         0.0      NaN   \n4            כוכב הצפון    511-5         9.0     13.5   \n..                  ...      ...         ...      ...   \n66          פארק הירקון   511-67         0.0      NaN   \n67             נוה עופר   511-68         2.0      5.0   \n68     יפו ג' ונוה גולן   511-69         1.0     14.3   \n69     עג'מי וגבעת עליה   511-70         2.0      6.2   \n70  צהלון ושיכוני חסכון   511-71         2.0     12.5   \n\n                                             geometry  \n0   POLYGON ((180194.786 670106.559, 180194.277 67...  \n1   POLYGON ((180938.798 670850.278, 180901.843 67...  \n2   POLYGON ((182099.846 670660.108, 182107.940 67...  \n3   POLYGON ((181510.362 669481.235, 181513.748 66...  \n4   POLYGON ((179724.726 667333.924, 179721.910 66...  \n..                                                ...  \n66  POLYGON ((186060.221 669657.936, 186071.361 66...  \n67  POLYGON ((178338.599 660492.267, 178340.418 66...  \n68  POLYGON ((176706.533 660189.858, 176702.268 66...  \n69  POLYGON ((176764.792 661726.336, 176766.408 66...  \n70  POLYGON ((177059.689 660663.313, 177048.956 66...  \n\n[71 rows x 9 columns]",
      "text/html": "<div>\n<style scoped>\n    .dataframe tbody tr th:only-of-type {\n        vertical-align: middle;\n    }\n\n    .dataframe tbody tr th {\n        vertical-align: top;\n    }\n\n    .dataframe thead th {\n        text-align: right;\n    }\n</style>\n<table border=\"1\" class=\"dataframe\">\n  <thead>\n    <tr style=\"text-align: right;\">\n      <th></th>\n      <th>oidshchuna</th>\n      <th>msshchuna</th>\n      <th>dateimport</th>\n      <th>ShapeArea</th>\n      <th>shemshchun</th>\n      <th>UniqueId</th>\n      <th>SEleve1_10</th>\n      <th>density</th>\n      <th>geometry</th>\n    </tr>\n  </thead>\n  <tbody>\n    <tr>\n      <th>0</th>\n      <td>1.0</td>\n      <td>3.0</td>\n      <td>31/12/2018 11:03:03</td>\n      <td>1.307955e+06</td>\n      <td>אזור שדה דב</td>\n      <td>511-1</td>\n      <td>9.0</td>\n      <td>1.4</td>\n      <td>POLYGON ((180194.786 670106.559, 180194.277 67...</td>\n    </tr>\n    <tr>\n      <th>1</th>\n      <td>2.0</td>\n      <td>2.0</td>\n      <td>31/12/2018 11:03:03</td>\n      <td>1.288925e+06</td>\n      <td>צוקי אביב</td>\n      <td>511-2</td>\n      <td>9.0</td>\n      <td>1.4</td>\n      <td>POLYGON ((180938.798 670850.278, 180901.843 67...</td>\n    </tr>\n    <tr>\n      <th>2</th>\n      <td>3.0</td>\n      <td>7.0</td>\n      <td>31/12/2018 11:03:03</td>\n      <td>1.101582e+06</td>\n      <td>'רמת אביב ג</td>\n      <td>511-3</td>\n      <td>8.0</td>\n      <td>11.4</td>\n      <td>POLYGON ((182099.846 670660.108, 182107.940 67...</td>\n    </tr>\n    <tr>\n      <th>3</th>\n      <td>4.0</td>\n      <td>11.0</td>\n      <td>31/12/2018 11:03:03</td>\n      <td>1.459851e+06</td>\n      <td>אוניברסיטת ת\"א</td>\n      <td>511-4</td>\n      <td>0.0</td>\n      <td>NaN</td>\n      <td>POLYGON ((181510.362 669481.235, 181513.748 66...</td>\n    </tr>\n    <tr>\n      <th>4</th>\n      <td>5.0</td>\n      <td>6.0</td>\n      <td>31/12/2018 11:03:03</td>\n      <td>4.212298e+05</td>\n      <td>כוכב הצפון</td>\n      <td>511-5</td>\n      <td>9.0</td>\n      <td>13.5</td>\n      <td>POLYGON ((179724.726 667333.924, 179721.910 66...</td>\n    </tr>\n    <tr>\n      <th>...</th>\n      <td>...</td>\n      <td>...</td>\n      <td>...</td>\n      <td>...</td>\n      <td>...</td>\n      <td>...</td>\n      <td>...</td>\n      <td>...</td>\n      <td>...</td>\n    </tr>\n    <tr>\n      <th>66</th>\n      <td>67.0</td>\n      <td>13.0</td>\n      <td>31/12/2018 11:03:03</td>\n      <td>3.750740e+06</td>\n      <td>פארק הירקון</td>\n      <td>511-67</td>\n      <td>0.0</td>\n      <td>NaN</td>\n      <td>POLYGON ((186060.221 669657.936, 186071.361 66...</td>\n    </tr>\n    <tr>\n      <th>67</th>\n      <td>68.0</td>\n      <td>50.0</td>\n      <td>31/12/2018 11:03:03</td>\n      <td>8.605188e+05</td>\n      <td>נוה עופר</td>\n      <td>511-68</td>\n      <td>2.0</td>\n      <td>5.0</td>\n      <td>POLYGON ((178338.599 660492.267, 178340.418 66...</td>\n    </tr>\n    <tr>\n      <th>68</th>\n      <td>69.0</td>\n      <td>47.0</td>\n      <td>31/12/2018 11:03:03</td>\n      <td>4.464244e+05</td>\n      <td>יפו ג' ונוה גולן</td>\n      <td>511-69</td>\n      <td>1.0</td>\n      <td>14.3</td>\n      <td>POLYGON ((176706.533 660189.858, 176702.268 66...</td>\n    </tr>\n    <tr>\n      <th>69</th>\n      <td>70.0</td>\n      <td>45.0</td>\n      <td>31/12/2018 11:03:03</td>\n      <td>1.059984e+06</td>\n      <td>עג'מי וגבעת עליה</td>\n      <td>511-70</td>\n      <td>2.0</td>\n      <td>6.2</td>\n      <td>POLYGON ((176764.792 661726.336, 176766.408 66...</td>\n    </tr>\n    <tr>\n      <th>70</th>\n      <td>71.0</td>\n      <td>46.0</td>\n      <td>31/12/2018 11:03:03</td>\n      <td>6.979523e+05</td>\n      <td>צהלון ושיכוני חסכון</td>\n      <td>511-71</td>\n      <td>2.0</td>\n      <td>12.5</td>\n      <td>POLYGON ((177059.689 660663.313, 177048.956 66...</td>\n    </tr>\n  </tbody>\n</table>\n<p>71 rows × 9 columns</p>\n</div>"
     },
     "execution_count": 13,
     "metadata": {},
     "output_type": "execute_result"
    }
   ],
   "source": [
    "# Upload noise data\n",
    "name= 'SEleve1_10'\n",
    "spec_path = f'{res_path}/{name}'\n",
    "os.makedirs(spec_path,exist_ok = True)\n",
    "df_elements = gpd.read_file(f'{main_path}/Neighbourhoods.shp')\n",
    "df_elements['SEleve1_10'].fillna(0,inplace=True)\n",
    "df_elements"
   ],
   "metadata": {
    "collapsed": false,
    "pycharm": {
     "name": "#%%\n"
    }
   }
  },
  {
   "cell_type": "code",
   "execution_count": 14,
   "outputs": [
    {
     "name": "stderr",
     "output_type": "stream",
     "text": [
      "C:\\Users\\Achituv\\AppData\\Local\\Temp\\ipykernel_10196\\2365611981.py:2: UserWarning: Column names longer than 10 characters will be truncated when saved to ESRI Shapefile.\n",
      "  sjoin.to_file(f'{spec_path}/sjoin.shp')\n"
     ]
    }
   ],
   "source": [
    "sjoin = clean_network_temp.sjoin(df_elements)\n",
    "sjoin.to_file(f'{spec_path}/sjoin.shp')"
   ],
   "metadata": {
    "collapsed": false,
    "pycharm": {
     "name": "#%%\n"
    }
   }
  },
  {
   "cell_type": "code",
   "execution_count": 15,
   "outputs": [
    {
     "data": {
      "text/plain": "               length                                           geometry  \\\noidrechov                                                                  \n1.0         32.807598  LINESTRING (184322.705 668574.483, 184351.736 ...   \n320.0       89.686334  LINESTRING (184251.346 668628.811, 184322.705 ...   \n321.0       42.851132  LINESTRING (184672.377 668488.436, 184704.236 ...   \n322.0      114.828879  LINESTRING (184789.424 668738.842, 184863.986 ...   \n323.0       88.718661  LINESTRING (184922.674 669063.529, 184913.814 ...   \n...               ...                                                ...   \n9255.0     334.854230  LINESTRING (184281.330 670484.545, 184340.827 ...   \n9256.0      17.069295  LINESTRING (184481.848 670511.997, 184482.347 ...   \n9257.0      64.179530  LINESTRING (184409.977 670492.772, 184415.467 ...   \n9315.0     122.803044  LINESTRING (184440.174 670313.154, 184500.939 ...   \n9317.0     212.839281  LINESTRING (184698.799 670306.873, 184675.233 ...   \n\n           index_right  oidshchuna  msshchuna           dateimport  \\\noidrechov                                                            \n1.0                 52        53.0       27.0  31/12/2018 11:03:03   \n320.0               52        53.0       27.0  31/12/2018 11:03:03   \n321.0               52        53.0       27.0  31/12/2018 11:03:03   \n322.0               52        53.0       27.0  31/12/2018 11:03:03   \n323.0               52        53.0       27.0  31/12/2018 11:03:03   \n...                ...         ...        ...                  ...   \n9255.0              12        13.0       21.0  31/12/2018 11:03:03   \n9256.0              12        13.0       21.0  31/12/2018 11:03:03   \n9257.0              12        13.0       21.0  31/12/2018 11:03:03   \n9315.0              12        13.0       21.0  31/12/2018 11:03:03   \n9317.0              12        13.0       21.0  31/12/2018 11:03:03   \n\n               ShapeArea shemshchun UniqueId  SEleve1_10  density  \noidrechov                                                          \n1.0        724838.463359  רמת החייל   511-53         7.0      3.3  \n320.0      724838.463359  רמת החייל   511-53         7.0      3.3  \n321.0      724838.463359  רמת החייל   511-53         7.0      3.3  \n322.0      724838.463359  רמת החייל   511-53         7.0      3.3  \n323.0      724838.463359  רמת החייל   511-53         7.0      3.3  \n...                  ...        ...      ...         ...      ...  \n9255.0     288898.697557     המשתלה   511-13         9.0     14.3  \n9256.0     288898.697557     המשתלה   511-13         9.0     14.3  \n9257.0     288898.697557     המשתלה   511-13         9.0     14.3  \n9315.0     288898.697557     המשתלה   511-13         9.0     14.3  \n9317.0     288898.697557     המשתלה   511-13         9.0     14.3  \n\n[9826 rows x 11 columns]",
      "text/html": "<div>\n<style scoped>\n    .dataframe tbody tr th:only-of-type {\n        vertical-align: middle;\n    }\n\n    .dataframe tbody tr th {\n        vertical-align: top;\n    }\n\n    .dataframe thead th {\n        text-align: right;\n    }\n</style>\n<table border=\"1\" class=\"dataframe\">\n  <thead>\n    <tr style=\"text-align: right;\">\n      <th></th>\n      <th>length</th>\n      <th>geometry</th>\n      <th>index_right</th>\n      <th>oidshchuna</th>\n      <th>msshchuna</th>\n      <th>dateimport</th>\n      <th>ShapeArea</th>\n      <th>shemshchun</th>\n      <th>UniqueId</th>\n      <th>SEleve1_10</th>\n      <th>density</th>\n    </tr>\n    <tr>\n      <th>oidrechov</th>\n      <th></th>\n      <th></th>\n      <th></th>\n      <th></th>\n      <th></th>\n      <th></th>\n      <th></th>\n      <th></th>\n      <th></th>\n      <th></th>\n      <th></th>\n    </tr>\n  </thead>\n  <tbody>\n    <tr>\n      <th>1.0</th>\n      <td>32.807598</td>\n      <td>LINESTRING (184322.705 668574.483, 184351.736 ...</td>\n      <td>52</td>\n      <td>53.0</td>\n      <td>27.0</td>\n      <td>31/12/2018 11:03:03</td>\n      <td>724838.463359</td>\n      <td>רמת החייל</td>\n      <td>511-53</td>\n      <td>7.0</td>\n      <td>3.3</td>\n    </tr>\n    <tr>\n      <th>320.0</th>\n      <td>89.686334</td>\n      <td>LINESTRING (184251.346 668628.811, 184322.705 ...</td>\n      <td>52</td>\n      <td>53.0</td>\n      <td>27.0</td>\n      <td>31/12/2018 11:03:03</td>\n      <td>724838.463359</td>\n      <td>רמת החייל</td>\n      <td>511-53</td>\n      <td>7.0</td>\n      <td>3.3</td>\n    </tr>\n    <tr>\n      <th>321.0</th>\n      <td>42.851132</td>\n      <td>LINESTRING (184672.377 668488.436, 184704.236 ...</td>\n      <td>52</td>\n      <td>53.0</td>\n      <td>27.0</td>\n      <td>31/12/2018 11:03:03</td>\n      <td>724838.463359</td>\n      <td>רמת החייל</td>\n      <td>511-53</td>\n      <td>7.0</td>\n      <td>3.3</td>\n    </tr>\n    <tr>\n      <th>322.0</th>\n      <td>114.828879</td>\n      <td>LINESTRING (184789.424 668738.842, 184863.986 ...</td>\n      <td>52</td>\n      <td>53.0</td>\n      <td>27.0</td>\n      <td>31/12/2018 11:03:03</td>\n      <td>724838.463359</td>\n      <td>רמת החייל</td>\n      <td>511-53</td>\n      <td>7.0</td>\n      <td>3.3</td>\n    </tr>\n    <tr>\n      <th>323.0</th>\n      <td>88.718661</td>\n      <td>LINESTRING (184922.674 669063.529, 184913.814 ...</td>\n      <td>52</td>\n      <td>53.0</td>\n      <td>27.0</td>\n      <td>31/12/2018 11:03:03</td>\n      <td>724838.463359</td>\n      <td>רמת החייל</td>\n      <td>511-53</td>\n      <td>7.0</td>\n      <td>3.3</td>\n    </tr>\n    <tr>\n      <th>...</th>\n      <td>...</td>\n      <td>...</td>\n      <td>...</td>\n      <td>...</td>\n      <td>...</td>\n      <td>...</td>\n      <td>...</td>\n      <td>...</td>\n      <td>...</td>\n      <td>...</td>\n      <td>...</td>\n    </tr>\n    <tr>\n      <th>9255.0</th>\n      <td>334.854230</td>\n      <td>LINESTRING (184281.330 670484.545, 184340.827 ...</td>\n      <td>12</td>\n      <td>13.0</td>\n      <td>21.0</td>\n      <td>31/12/2018 11:03:03</td>\n      <td>288898.697557</td>\n      <td>המשתלה</td>\n      <td>511-13</td>\n      <td>9.0</td>\n      <td>14.3</td>\n    </tr>\n    <tr>\n      <th>9256.0</th>\n      <td>17.069295</td>\n      <td>LINESTRING (184481.848 670511.997, 184482.347 ...</td>\n      <td>12</td>\n      <td>13.0</td>\n      <td>21.0</td>\n      <td>31/12/2018 11:03:03</td>\n      <td>288898.697557</td>\n      <td>המשתלה</td>\n      <td>511-13</td>\n      <td>9.0</td>\n      <td>14.3</td>\n    </tr>\n    <tr>\n      <th>9257.0</th>\n      <td>64.179530</td>\n      <td>LINESTRING (184409.977 670492.772, 184415.467 ...</td>\n      <td>12</td>\n      <td>13.0</td>\n      <td>21.0</td>\n      <td>31/12/2018 11:03:03</td>\n      <td>288898.697557</td>\n      <td>המשתלה</td>\n      <td>511-13</td>\n      <td>9.0</td>\n      <td>14.3</td>\n    </tr>\n    <tr>\n      <th>9315.0</th>\n      <td>122.803044</td>\n      <td>LINESTRING (184440.174 670313.154, 184500.939 ...</td>\n      <td>12</td>\n      <td>13.0</td>\n      <td>21.0</td>\n      <td>31/12/2018 11:03:03</td>\n      <td>288898.697557</td>\n      <td>המשתלה</td>\n      <td>511-13</td>\n      <td>9.0</td>\n      <td>14.3</td>\n    </tr>\n    <tr>\n      <th>9317.0</th>\n      <td>212.839281</td>\n      <td>LINESTRING (184698.799 670306.873, 184675.233 ...</td>\n      <td>12</td>\n      <td>13.0</td>\n      <td>21.0</td>\n      <td>31/12/2018 11:03:03</td>\n      <td>288898.697557</td>\n      <td>המשתלה</td>\n      <td>511-13</td>\n      <td>9.0</td>\n      <td>14.3</td>\n    </tr>\n  </tbody>\n</table>\n<p>9826 rows × 11 columns</p>\n</div>"
     },
     "execution_count": 15,
     "metadata": {},
     "output_type": "execute_result"
    }
   ],
   "source": [
    "sjoin"
   ],
   "metadata": {
    "collapsed": false,
    "pycharm": {
     "name": "#%%\n"
    }
   }
  },
  {
   "cell_type": "code",
   "execution_count": 16,
   "outputs": [
    {
     "name": "stderr",
     "output_type": "stream",
     "text": [
      "C:\\Users\\Achituv\\anaconda3\\envs\\momepy_env\\lib\\site-packages\\geopandas\\geodataframe.py:1472: SettingWithCopyWarning: \n",
      "A value is trying to be set on a copy of a slice from a DataFrame.\n",
      "Try using .loc[row_indexer,col_indexer] = value instead\n",
      "\n",
      "See the caveats in the documentation: https://pandas.pydata.org/pandas-docs/stable/user_guide/indexing.html#returning-a-view-versus-a-copy\n",
      "  super().__setitem__(key, value)\n",
      "C:\\Users\\Achituv\\anaconda3\\envs\\momepy_env\\lib\\site-packages\\geopandas\\geodataframe.py:1472: SettingWithCopyWarning: \n",
      "A value is trying to be set on a copy of a slice from a DataFrame.\n",
      "Try using .loc[row_indexer,col_indexer] = value instead\n",
      "\n",
      "See the caveats in the documentation: https://pandas.pydata.org/pandas-docs/stable/user_guide/indexing.html#returning-a-view-versus-a-copy\n",
      "  super().__setitem__(key, value)\n"
     ]
    }
   ],
   "source": [
    "data_field = 'SEleve1_10'\n",
    "clean_network_temp[data_field] = 0\n",
    "for group in sjoin.groupby('oidrechov'):\n",
    "    par_name = group[0]\n",
    "    if len(group[1]) == 1:\n",
    "        clean_network_temp.at[par_name,data_field] = group[1][data_field]\n",
    "    else:\n",
    "        density,area = 0,0\n",
    "        street_geo = group[1].iloc[0]['geometry'].buffer(cap_style=2,distance=1,join_style=3)\n",
    "        street_geo_area = street_geo.area\n",
    "        for street_temp in group[1].iterrows():\n",
    "            my_intersect = street_geo.intersection(df_elements.loc[street_temp[1]['index_right']].geometry)\n",
    "            if my_intersect.area >area:\n",
    "                density = street_temp[1][data_field]\n",
    "                area = my_intersect.area\n",
    "        clean_network_temp.at[par_name,data_field] = density\n",
    "        clean_network_temp.at[par_name,'inter_area'] = area\n",
    "clean_network_temp.to_file(f'{res_path}/{name}/streets_elements_{name}.shp')"
   ],
   "metadata": {
    "collapsed": false,
    "pycharm": {
     "name": "#%%\n"
    }
   }
  },
  {
   "cell_type": "code",
   "execution_count": 17,
   "outputs": [
    {
     "data": {
      "text/plain": "                length                                           geometry  \\\noidrechov                                                                   \n1.0          32.807598  LINESTRING (184322.705 668574.483, 184351.736 ...   \n3.0          63.288914  LINESTRING (179282.603 666005.717, 179343.283 ...   \n4.0          25.981647  LINESTRING (180952.197 664967.670, 180964.041 ...   \n5.0          80.268853  LINESTRING (180668.486 662875.092, 180748.697 ...   \n6.0          80.152149  LINESTRING (182532.174 661455.967, 182514.127 ...   \n...                ...                                                ...   \n9650.0       92.387138  LINESTRING (180252.127 670097.359, 180342.969 ...   \n9651.0       55.993258  LINESTRING (180204.072 670123.951, 180220.846 ...   \n9658.0     1416.463909  LINESTRING (180765.260 670000.467, 180830.127 ...   \n9659.0      720.172594  LINESTRING (181058.769 671381.112, 181091.908 ...   \n9662.0      979.661687  LINESTRING (180665.748 670989.905, 180717.768 ...   \n\n           SEleve1_10   inter_area  \noidrechov                           \n1.0                 7          NaN  \n3.0                 7          NaN  \n4.0                 6          NaN  \n5.0                 3          NaN  \n6.0                 4          NaN  \n...               ...          ...  \n9650.0              8          NaN  \n9651.0              9    73.299904  \n9658.0              9  2678.060975  \n9659.0              9          NaN  \n9662.0              9  1101.689344  \n\n[8751 rows x 4 columns]",
      "text/html": "<div>\n<style scoped>\n    .dataframe tbody tr th:only-of-type {\n        vertical-align: middle;\n    }\n\n    .dataframe tbody tr th {\n        vertical-align: top;\n    }\n\n    .dataframe thead th {\n        text-align: right;\n    }\n</style>\n<table border=\"1\" class=\"dataframe\">\n  <thead>\n    <tr style=\"text-align: right;\">\n      <th></th>\n      <th>length</th>\n      <th>geometry</th>\n      <th>SEleve1_10</th>\n      <th>inter_area</th>\n    </tr>\n    <tr>\n      <th>oidrechov</th>\n      <th></th>\n      <th></th>\n      <th></th>\n      <th></th>\n    </tr>\n  </thead>\n  <tbody>\n    <tr>\n      <th>1.0</th>\n      <td>32.807598</td>\n      <td>LINESTRING (184322.705 668574.483, 184351.736 ...</td>\n      <td>7</td>\n      <td>NaN</td>\n    </tr>\n    <tr>\n      <th>3.0</th>\n      <td>63.288914</td>\n      <td>LINESTRING (179282.603 666005.717, 179343.283 ...</td>\n      <td>7</td>\n      <td>NaN</td>\n    </tr>\n    <tr>\n      <th>4.0</th>\n      <td>25.981647</td>\n      <td>LINESTRING (180952.197 664967.670, 180964.041 ...</td>\n      <td>6</td>\n      <td>NaN</td>\n    </tr>\n    <tr>\n      <th>5.0</th>\n      <td>80.268853</td>\n      <td>LINESTRING (180668.486 662875.092, 180748.697 ...</td>\n      <td>3</td>\n      <td>NaN</td>\n    </tr>\n    <tr>\n      <th>6.0</th>\n      <td>80.152149</td>\n      <td>LINESTRING (182532.174 661455.967, 182514.127 ...</td>\n      <td>4</td>\n      <td>NaN</td>\n    </tr>\n    <tr>\n      <th>...</th>\n      <td>...</td>\n      <td>...</td>\n      <td>...</td>\n      <td>...</td>\n    </tr>\n    <tr>\n      <th>9650.0</th>\n      <td>92.387138</td>\n      <td>LINESTRING (180252.127 670097.359, 180342.969 ...</td>\n      <td>8</td>\n      <td>NaN</td>\n    </tr>\n    <tr>\n      <th>9651.0</th>\n      <td>55.993258</td>\n      <td>LINESTRING (180204.072 670123.951, 180220.846 ...</td>\n      <td>9</td>\n      <td>73.299904</td>\n    </tr>\n    <tr>\n      <th>9658.0</th>\n      <td>1416.463909</td>\n      <td>LINESTRING (180765.260 670000.467, 180830.127 ...</td>\n      <td>9</td>\n      <td>2678.060975</td>\n    </tr>\n    <tr>\n      <th>9659.0</th>\n      <td>720.172594</td>\n      <td>LINESTRING (181058.769 671381.112, 181091.908 ...</td>\n      <td>9</td>\n      <td>NaN</td>\n    </tr>\n    <tr>\n      <th>9662.0</th>\n      <td>979.661687</td>\n      <td>LINESTRING (180665.748 670989.905, 180717.768 ...</td>\n      <td>9</td>\n      <td>1101.689344</td>\n    </tr>\n  </tbody>\n</table>\n<p>8751 rows × 4 columns</p>\n</div>"
     },
     "execution_count": 17,
     "metadata": {},
     "output_type": "execute_result"
    }
   ],
   "source": [
    "clean_network_temp"
   ],
   "metadata": {
    "collapsed": false,
    "pycharm": {
     "name": "#%%\n"
    }
   }
  },
  {
   "cell_type": "code",
   "execution_count": 13,
   "outputs": [
    {
     "data": {
      "text/plain": "                length  buildings  businesses  educationa  Health_ser  \\\noidrechov                                                               \n1.0          32.807598  12.580000    0.000000           8           1   \n3.0          63.288914  20.415000    0.000000           5           4   \n4.0          25.981647  19.000000    0.000000          10           0   \n5.0          80.268853  10.202381    0.000000           4           3   \n6.0          80.152149  10.500000    0.012476           0           0   \n...                ...        ...         ...         ...         ...   \n9650.0       92.387138   0.000000    0.000000           0           0   \n9651.0       55.993258   0.000000    0.000000           0           0   \n9658.0     1416.463909  12.661667    0.000000           0           0   \n9659.0      720.172594  17.560000    0.000000           0           0   \n9662.0      979.661687  16.378889    0.001021           4           2   \n\n           Leisure_am  Playground  Sport_faci  synagogues  bus_statio  \\\noidrechov                                                               \n1.0                 0           7           3           4    0.030481   \n3.0                 1           3           2           3    0.000000   \n4.0                 0           3           1           1    0.038489   \n5.0                 0           2           2           3    0.000000   \n6.0                 0           0           2           0    0.000000   \n...               ...         ...         ...         ...         ...   \n9650.0              0           0           0           0    0.000000   \n9651.0              0           0           0           0    0.000000   \n9658.0              0           0           0           0    0.002118   \n9659.0              0           0           0           0    0.004166   \n9662.0              0           2           7           0    0.006125   \n\n           lighting     trees  bike_trail  parks  \\\noidrechov                                          \n1.0        0.060961  0.000000           0     12   \n3.0        0.015801  0.015801           0      2   \n4.0        0.038489  0.000000           0      4   \n5.0        0.037374  0.037374           0     12   \n6.0        0.024953  0.000000           1      8   \n...             ...       ...         ...    ...   \n9650.0     0.064944  0.000000           1      4   \n9651.0     0.107156  0.000000           1      2   \n9658.0     0.039535  0.390409           0     23   \n9659.0     0.023605  0.279100           0      5   \n9662.0     0.042872  0.103097           1      6   \n\n                                                    geometry  density  \noidrechov                                                              \n1.0        LINESTRING (184322.705 668574.483, 184351.736 ...      3.3  \n3.0        LINESTRING (179282.603 666005.717, 179343.283 ...     18.1  \n4.0        LINESTRING (180952.197 664967.670, 180964.041 ...     15.5  \n5.0        LINESTRING (180668.486 662875.092, 180748.697 ...     10.8  \n6.0        LINESTRING (182532.174 661455.967, 182514.127 ...     25.7  \n...                                                      ...      ...  \n9650.0     LINESTRING (180252.127 670097.359, 180342.969 ...     16.3  \n9651.0     LINESTRING (180204.072 670123.951, 180220.846 ...      1.4  \n9658.0     LINESTRING (180765.260 670000.467, 180830.127 ...      1.4  \n9659.0     LINESTRING (181058.769 671381.112, 181091.908 ...      1.4  \n9662.0     LINESTRING (180665.748 670989.905, 180717.768 ...      1.4  \n\n[8751 rows x 16 columns]",
      "text/html": "<div>\n<style scoped>\n    .dataframe tbody tr th:only-of-type {\n        vertical-align: middle;\n    }\n\n    .dataframe tbody tr th {\n        vertical-align: top;\n    }\n\n    .dataframe thead th {\n        text-align: right;\n    }\n</style>\n<table border=\"1\" class=\"dataframe\">\n  <thead>\n    <tr style=\"text-align: right;\">\n      <th></th>\n      <th>length</th>\n      <th>buildings</th>\n      <th>businesses</th>\n      <th>educationa</th>\n      <th>Health_ser</th>\n      <th>Leisure_am</th>\n      <th>Playground</th>\n      <th>Sport_faci</th>\n      <th>synagogues</th>\n      <th>bus_statio</th>\n      <th>lighting</th>\n      <th>trees</th>\n      <th>bike_trail</th>\n      <th>parks</th>\n      <th>geometry</th>\n      <th>density</th>\n    </tr>\n    <tr>\n      <th>oidrechov</th>\n      <th></th>\n      <th></th>\n      <th></th>\n      <th></th>\n      <th></th>\n      <th></th>\n      <th></th>\n      <th></th>\n      <th></th>\n      <th></th>\n      <th></th>\n      <th></th>\n      <th></th>\n      <th></th>\n      <th></th>\n      <th></th>\n    </tr>\n  </thead>\n  <tbody>\n    <tr>\n      <th>1.0</th>\n      <td>32.807598</td>\n      <td>12.580000</td>\n      <td>0.000000</td>\n      <td>8</td>\n      <td>1</td>\n      <td>0</td>\n      <td>7</td>\n      <td>3</td>\n      <td>4</td>\n      <td>0.030481</td>\n      <td>0.060961</td>\n      <td>0.000000</td>\n      <td>0</td>\n      <td>12</td>\n      <td>LINESTRING (184322.705 668574.483, 184351.736 ...</td>\n      <td>3.3</td>\n    </tr>\n    <tr>\n      <th>3.0</th>\n      <td>63.288914</td>\n      <td>20.415000</td>\n      <td>0.000000</td>\n      <td>5</td>\n      <td>4</td>\n      <td>1</td>\n      <td>3</td>\n      <td>2</td>\n      <td>3</td>\n      <td>0.000000</td>\n      <td>0.015801</td>\n      <td>0.015801</td>\n      <td>0</td>\n      <td>2</td>\n      <td>LINESTRING (179282.603 666005.717, 179343.283 ...</td>\n      <td>18.1</td>\n    </tr>\n    <tr>\n      <th>4.0</th>\n      <td>25.981647</td>\n      <td>19.000000</td>\n      <td>0.000000</td>\n      <td>10</td>\n      <td>0</td>\n      <td>0</td>\n      <td>3</td>\n      <td>1</td>\n      <td>1</td>\n      <td>0.038489</td>\n      <td>0.038489</td>\n      <td>0.000000</td>\n      <td>0</td>\n      <td>4</td>\n      <td>LINESTRING (180952.197 664967.670, 180964.041 ...</td>\n      <td>15.5</td>\n    </tr>\n    <tr>\n      <th>5.0</th>\n      <td>80.268853</td>\n      <td>10.202381</td>\n      <td>0.000000</td>\n      <td>4</td>\n      <td>3</td>\n      <td>0</td>\n      <td>2</td>\n      <td>2</td>\n      <td>3</td>\n      <td>0.000000</td>\n      <td>0.037374</td>\n      <td>0.037374</td>\n      <td>0</td>\n      <td>12</td>\n      <td>LINESTRING (180668.486 662875.092, 180748.697 ...</td>\n      <td>10.8</td>\n    </tr>\n    <tr>\n      <th>6.0</th>\n      <td>80.152149</td>\n      <td>10.500000</td>\n      <td>0.012476</td>\n      <td>0</td>\n      <td>0</td>\n      <td>0</td>\n      <td>0</td>\n      <td>2</td>\n      <td>0</td>\n      <td>0.000000</td>\n      <td>0.024953</td>\n      <td>0.000000</td>\n      <td>1</td>\n      <td>8</td>\n      <td>LINESTRING (182532.174 661455.967, 182514.127 ...</td>\n      <td>25.7</td>\n    </tr>\n    <tr>\n      <th>...</th>\n      <td>...</td>\n      <td>...</td>\n      <td>...</td>\n      <td>...</td>\n      <td>...</td>\n      <td>...</td>\n      <td>...</td>\n      <td>...</td>\n      <td>...</td>\n      <td>...</td>\n      <td>...</td>\n      <td>...</td>\n      <td>...</td>\n      <td>...</td>\n      <td>...</td>\n      <td>...</td>\n    </tr>\n    <tr>\n      <th>9650.0</th>\n      <td>92.387138</td>\n      <td>0.000000</td>\n      <td>0.000000</td>\n      <td>0</td>\n      <td>0</td>\n      <td>0</td>\n      <td>0</td>\n      <td>0</td>\n      <td>0</td>\n      <td>0.000000</td>\n      <td>0.064944</td>\n      <td>0.000000</td>\n      <td>1</td>\n      <td>4</td>\n      <td>LINESTRING (180252.127 670097.359, 180342.969 ...</td>\n      <td>16.3</td>\n    </tr>\n    <tr>\n      <th>9651.0</th>\n      <td>55.993258</td>\n      <td>0.000000</td>\n      <td>0.000000</td>\n      <td>0</td>\n      <td>0</td>\n      <td>0</td>\n      <td>0</td>\n      <td>0</td>\n      <td>0</td>\n      <td>0.000000</td>\n      <td>0.107156</td>\n      <td>0.000000</td>\n      <td>1</td>\n      <td>2</td>\n      <td>LINESTRING (180204.072 670123.951, 180220.846 ...</td>\n      <td>1.4</td>\n    </tr>\n    <tr>\n      <th>9658.0</th>\n      <td>1416.463909</td>\n      <td>12.661667</td>\n      <td>0.000000</td>\n      <td>0</td>\n      <td>0</td>\n      <td>0</td>\n      <td>0</td>\n      <td>0</td>\n      <td>0</td>\n      <td>0.002118</td>\n      <td>0.039535</td>\n      <td>0.390409</td>\n      <td>0</td>\n      <td>23</td>\n      <td>LINESTRING (180765.260 670000.467, 180830.127 ...</td>\n      <td>1.4</td>\n    </tr>\n    <tr>\n      <th>9659.0</th>\n      <td>720.172594</td>\n      <td>17.560000</td>\n      <td>0.000000</td>\n      <td>0</td>\n      <td>0</td>\n      <td>0</td>\n      <td>0</td>\n      <td>0</td>\n      <td>0</td>\n      <td>0.004166</td>\n      <td>0.023605</td>\n      <td>0.279100</td>\n      <td>0</td>\n      <td>5</td>\n      <td>LINESTRING (181058.769 671381.112, 181091.908 ...</td>\n      <td>1.4</td>\n    </tr>\n    <tr>\n      <th>9662.0</th>\n      <td>979.661687</td>\n      <td>16.378889</td>\n      <td>0.001021</td>\n      <td>4</td>\n      <td>2</td>\n      <td>0</td>\n      <td>2</td>\n      <td>7</td>\n      <td>0</td>\n      <td>0.006125</td>\n      <td>0.042872</td>\n      <td>0.103097</td>\n      <td>1</td>\n      <td>6</td>\n      <td>LINESTRING (180665.748 670989.905, 180717.768 ...</td>\n      <td>1.4</td>\n    </tr>\n  </tbody>\n</table>\n<p>8751 rows × 16 columns</p>\n</div>"
     },
     "execution_count": 13,
     "metadata": {},
     "output_type": "execute_result"
    }
   ],
   "source": [
    "clean_network2 = clean_network.set_index(key_fields)\n",
    "clean_network2[data_field] = clean_network_temp[data_field]\n",
    "clean_network2\n"
   ],
   "metadata": {
    "collapsed": false,
    "pycharm": {
     "name": "#%%\n"
    }
   }
  },
  {
   "cell_type": "code",
   "execution_count": 14,
   "outputs": [],
   "source": [
    "res_path = 'output/streets_elements'\n",
    "clean_network2.to_file((r'{}/streets_elements_temp.shp'.format(res_path)))"
   ],
   "metadata": {
    "collapsed": false,
    "pycharm": {
     "name": "#%%\n"
    }
   }
  },
  {
   "cell_type": "code",
   "execution_count": 7,
   "outputs": [
    {
     "data": {
      "text/plain": "0       POLYGON ((184363.381 668581.323, 184340.091 66...\n1       POLYGON ((179350.387 666011.702, 179336.179 66...\n2       POLYGON ((180941.790 665002.192, 180986.292 66...\n3       POLYGON ((180749.646 662897.027, 180747.748 66...\n4       POLYGON ((182538.485 661372.244, 182489.769 66...\n                              ...                        \n8746    POLYGON ((180347.522 670105.115, 180338.416 67...\n8747    POLYGON ((180234.120 670130.372, 180258.841 67...\n8748    POLYGON ((180805.433 670414.930, 180805.493 67...\n8749    POLYGON ((181069.112 671464.980, 181069.225 67...\n8750    POLYGON ((180725.438 670993.770, 180748.170 67...\nLength: 8751, dtype: geometry"
     },
     "execution_count": 7,
     "metadata": {},
     "output_type": "execute_result"
    }
   ],
   "source": [
    "# Buffer around each bke trail\n",
    "buffers_df = clean_network.buffer(cap_style=2,distance=25,join_style=3)\n",
    "buffers_df.to_file(f'{spec_path}/buffer.shp')\n",
    "buffers_df"
   ],
   "metadata": {
    "collapsed": false,
    "pycharm": {
     "name": "#%%\n"
    }
   }
  },
  {
   "cell_type": "code",
   "execution_count": 14,
   "outputs": [],
   "source": [
    "# create new intersctions between road buffers and noise polygons\n",
    "res_inter = GeoDataFrame(geometry=buffers_df,crs=layer_crs).overlay(df_elements, how='intersection')"
   ],
   "metadata": {
    "collapsed": false,
    "pycharm": {
     "name": "#%%\n"
    }
   }
  },
  {
   "cell_type": "code",
   "execution_count": 17,
   "outputs": [],
   "source": [
    "res_inter.to_file(f'{spec_path}/inter.shp')"
   ],
   "metadata": {
    "collapsed": false,
    "pycharm": {
     "name": "#%%\n"
    }
   }
  },
  {
   "cell_type": "code",
   "execution_count": null,
   "outputs": [],
   "source": [],
   "metadata": {
    "collapsed": false,
    "pycharm": {
     "name": "#%%\n"
    }
   }
  }
 ],
 "metadata": {
  "kernelspec": {
   "display_name": "Python 3",
   "language": "python",
   "name": "python3"
  },
  "language_info": {
   "codemirror_mode": {
    "name": "ipython",
    "version": 2
   },
   "file_extension": ".py",
   "mimetype": "text/x-python",
   "name": "python",
   "nbconvert_exporter": "python",
   "pygments_lexer": "ipython2",
   "version": "2.7.6"
  }
 },
 "nbformat": 4,
 "nbformat_minor": 0
}