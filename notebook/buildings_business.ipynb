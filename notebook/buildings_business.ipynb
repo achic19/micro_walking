{
 "cells": [
  {
   "cell_type": "code",
   "execution_count": 2,
   "outputs": [],
   "source": [
    "import geopandas as gpd\n",
    "from geopandas import GeoDataFrame\n",
    "import os\n",
    "import zipfile\n",
    "import pandas as pd\n",
    "import glob\n",
    "import zipfile\n",
    "from pandas import DataFrame\n",
    "layer_crs= 'epsg:2039'\n",
    "project_folder = os.path.dirname(os.getcwd())\n",
    "from shapely.geometry import LineString"
   ],
   "metadata": {
    "collapsed": false,
    "pycharm": {
     "name": "#%%\n"
    }
   }
  },
  {
   "cell_type": "code",
   "execution_count": 3,
   "outputs": [],
   "source": [
    "# The network to work with\n",
    "res_path = 'output/streets_elements'\n",
    "clean_network = gpd.read_file(r'{}/streets_elements.shp'.format(res_path))\n",
    "col_to_leave = ['oidrechov','length','geometry']\n"
   ],
   "metadata": {
    "collapsed": false,
    "pycharm": {
     "name": "#%%\n"
    }
   }
  },
  {
   "cell_type": "code",
   "execution_count": 4,
   "outputs": [],
   "source": [
    "key_fields = 'oidrechov'"
   ],
   "metadata": {
    "collapsed": false,
    "pycharm": {
     "name": "#%%\n"
    }
   }
  },
  {
   "cell_type": "code",
   "execution_count": 5,
   "outputs": [
    {
     "name": "stderr",
     "output_type": "stream",
     "text": [
      "C:\\Users\\Achituv\\anaconda3\\envs\\momepy_env\\lib\\site-packages\\geopandas\\geodataframe.py:1472: SettingWithCopyWarning: \n",
      "A value is trying to be set on a copy of a slice from a DataFrame.\n",
      "Try using .loc[row_indexer,col_indexer] = value instead\n",
      "\n",
      "See the caveats in the documentation: https://pandas.pydata.org/pandas-docs/stable/user_guide/indexing.html#returning-a-view-versus-a-copy\n",
      "  super().__setitem__(key, value)\n",
      "C:\\Users\\Achituv\\anaconda3\\envs\\momepy_env\\lib\\site-packages\\geopandas\\geodataframe.py:1472: SettingWithCopyWarning: \n",
      "A value is trying to be set on a copy of a slice from a DataFrame.\n",
      "Try using .loc[row_indexer,col_indexer] = value instead\n",
      "\n",
      "See the caveats in the documentation: https://pandas.pydata.org/pandas-docs/stable/user_guide/indexing.html#returning-a-view-versus-a-copy\n",
      "  super().__setitem__(key, value)\n"
     ]
    },
    {
     "name": "stdout",
     "output_type": "stream",
     "text": [
      "buildings\n"
     ]
    }
   ],
   "source": [
    "# Code for building  'output/streets_elements/elements/buildings_business\\\\businesses.shp']\n",
    "file = 'output/streets_elements/elements/buildings_business\\\\buildings.shp'\n",
    "clean_network_temp =clean_network[col_to_leave]\n",
    "clean_network_temp[['count','sum']] = 0\n",
    "\n",
    "# clean_network_temp['count'], sjoin,name,path= calculate_count(file)\n",
    "name = file.split(\"\\\\\")[-1].split('.')[0]\n",
    "field = 'govasimple'\n",
    "\n",
    "print(name)\n",
    "\n",
    "objects_file = gpd.read_file(file).drop(columns=['index'])\n",
    "objects_file = objects_file[objects_file[field]>3]\n"
   ],
   "metadata": {
    "collapsed": false,
    "pycharm": {
     "name": "#%%\n"
    }
   }
  },
  {
   "cell_type": "code",
   "execution_count": 6,
   "outputs": [
    {
     "name": "stderr",
     "output_type": "stream",
     "text": [
      "C:\\Users\\Achituv\\AppData\\Local\\Temp\\ipykernel_5596\\3626553475.py:14: UserWarning: Column names longer than 10 characters will be truncated when saved to ESRI Shapefile.\n",
      "  s_join.to_file((f'{path}/s_join.shp'))\n"
     ]
    }
   ],
   "source": [
    "# prepare data\n",
    "# Buffer around each building\n",
    "path = 'output/streets_elements/detailed_folder/buildings_business/{}'.format(name)\n",
    "buffers_df = objects_file.buffer(distance=50,join_style=2)\n",
    "\n",
    "GeoDataFrame(geometry=buffers_df,crs=layer_crs).reset_index().to_file(f'{path}/buffer.shp')\n",
    "# reset_index in order to save the index file when presented on ArcGIS\n",
    "objects_file.reset_index().to_file((f'{path}/filter_height.shp'))\n",
    "\n",
    "# find for each polygon all the polylines intersected with him. leave only those with at least one intersection\n",
    "s_join = GeoDataFrame(geometry=buffers_df,crs=layer_crs).sjoin(clean_network_temp,how='inner',lsuffix='')\n",
    "# reset_index in order to save the index file when presented on ArcGIS, inplace=True since it also used later\n",
    "s_join.reset_index(inplace=True)\n",
    "s_join.to_file((f'{path}/s_join.shp'))\n",
    "# Find the centroid of each building\n",
    "centroid = objects_file.centroid\n",
    "GeoDataFrame(centroid.reset_index().rename(columns ={0:'geometry'}),crs=layer_crs).to_file(f'{path}/centroid.shp')"
   ],
   "metadata": {
    "collapsed": false,
    "pycharm": {
     "name": "#%%\n"
    }
   }
  },
  {
   "cell_type": "code",
   "execution_count": null,
   "outputs": [],
   "source": [
    "# Create new polylines between the buildings to the streets around\n",
    "new_lines ={'building':[],'road':[],'geometry':[]}\n",
    "def create_new_polyline(row):\n",
    "    road_index = row['index_right']\n",
    "    building_index = row['index']\n",
    "    centroid_0 = centroid.loc[building_index]\n",
    "    line = clean_network_temp.loc[road_index]['geometry']\n",
    "    new_point = list(line.interpolate(line.project(centroid_0)).coords)[0]\n",
    "    if  (new_point[0]==line.xy[0][0] and new_point[1]==line.xy[1][0]) or (new_point[0]==line.xy[0][-1] and new_point[1]==line.xy[1][-1]):\n",
    "        return\n",
    "    neline = LineString([list(centroid_0.coords)[0], new_point])\n",
    "    new_lines['geometry'].append(neline)\n",
    "    new_lines['road'].append(road_index)\n",
    "    new_lines['building'].append(building_index)\n",
    "s_join.apply(create_new_polyline,axis=1)\n",
    "new_lines_df= GeoDataFrame(new_lines,crs=layer_crs)\n",
    "new_lines_df.to_file(f'{path}/new_lines.shp')"
   ],
   "metadata": {
    "collapsed": false,
    "pycharm": {
     "name": "#%%\n"
    }
   }
  },
  {
   "cell_type": "code",
   "execution_count": 14,
   "outputs": [],
   "source": [
    "new_lines_buildings_0 = new_lines_df.sjoin(objects_file,how='left',lsuffix='')\n",
    "no_intersect = []\n",
    "for group in new_lines_buildings_0.groupby(['building','road']):\n",
    "    if len(group[1])==1:\n",
    "        no_intersect.append(group[1])\n",
    "no_inter_building = pd.concat(no_intersect)"
   ],
   "metadata": {
    "collapsed": false,
    "pycharm": {
     "name": "#%%\n"
    }
   }
  },
  {
   "cell_type": "code",
   "execution_count": 17,
   "outputs": [],
   "source": [
    "no_inter_building.drop(columns='index_right',inplace=True)\n",
    "s_join2 =no_inter_building.sjoin( GeoDataFrame(geometry=clean_network_temp.buffer(distance=1,join_style=2),crs=layer_crs),how='left',lsuffix='')\n",
    "s_join2.to_file(f'{path}/s_join2.shp')"
   ],
   "metadata": {
    "collapsed": false,
    "pycharm": {
     "name": "#%%\n"
    }
   }
  },
  {
   "cell_type": "code",
   "execution_count": 39,
   "outputs": [
    {
     "data": {
      "text/plain": "        building  road                                           geometry  \\\n9              2  6319  LINESTRING (185244.253 669013.307, 185247.286 ...   \n0              2  7077  LINESTRING (185244.253 669013.307, 185231.993 ...   \n10             3  6319  LINESTRING (185218.875 669045.615, 185217.337 ...   \n1              3  7077  LINESTRING (185218.875 669045.615, 185200.249 ...   \n1              3  7077  LINESTRING (185218.875 669045.615, 185200.249 ...   \n...          ...   ...                                                ...   \n117473     47237  6417  LINESTRING (177309.377 660205.841, 177341.862 ...   \n117351     47237  8436  LINESTRING (177309.377 660205.841, 177311.996 ...   \n117135     47240  2548  LINESTRING (175928.959 660158.345, 175919.031 ...   \n117142     47240  2549  LINESTRING (175928.959 660158.345, 175956.171 ...   \n117193     47240  2553  LINESTRING (175928.959 660158.345, 175937.064 ...   \n\n        govasimple                    name  index_right  \\\n9             6.69  export_20220818_150110         6319   \n0             6.69  export_20220818_150110         7077   \n10            6.26  export_20220818_150110         6319   \n1             6.26  export_20220818_150110         7077   \n1             6.26  export_20220818_150110         6319   \n...            ...                     ...          ...   \n117473        9.79  export_20220818_150955         6417   \n117351        9.79  export_20220818_150955         8436   \n117135        6.52  export_20220818_150955         2548   \n117142        6.52  export_20220818_150955         2549   \n117193        6.52  export_20220818_150955         2553   \n\n                                                      wkt  \n9       LINESTRING (185244.2527250059 669013.307291207...  \n0       LINESTRING (185244.2527250059 669013.307291207...  \n10      LINESTRING (185218.87507689887 669045.61514012...  \n1       LINESTRING (185218.87507689887 669045.61514012...  \n1       LINESTRING (185218.87507689887 669045.61514012...  \n...                                                   ...  \n117473  LINESTRING (177309.37698045632 660205.84050648...  \n117351  LINESTRING (177309.37698045632 660205.84050648...  \n117135  LINESTRING (175928.95865433384 660158.34465438...  \n117142  LINESTRING (175928.95865433384 660158.34465438...  \n117193  LINESTRING (175928.95865433384 660158.34465438...  \n\n[64709 rows x 7 columns]",
      "text/html": "<div>\n<style scoped>\n    .dataframe tbody tr th:only-of-type {\n        vertical-align: middle;\n    }\n\n    .dataframe tbody tr th {\n        vertical-align: top;\n    }\n\n    .dataframe thead th {\n        text-align: right;\n    }\n</style>\n<table border=\"1\" class=\"dataframe\">\n  <thead>\n    <tr style=\"text-align: right;\">\n      <th></th>\n      <th>building</th>\n      <th>road</th>\n      <th>geometry</th>\n      <th>govasimple</th>\n      <th>name</th>\n      <th>index_right</th>\n      <th>wkt</th>\n    </tr>\n  </thead>\n  <tbody>\n    <tr>\n      <th>9</th>\n      <td>2</td>\n      <td>6319</td>\n      <td>LINESTRING (185244.253 669013.307, 185247.286 ...</td>\n      <td>6.69</td>\n      <td>export_20220818_150110</td>\n      <td>6319</td>\n      <td>LINESTRING (185244.2527250059 669013.307291207...</td>\n    </tr>\n    <tr>\n      <th>0</th>\n      <td>2</td>\n      <td>7077</td>\n      <td>LINESTRING (185244.253 669013.307, 185231.993 ...</td>\n      <td>6.69</td>\n      <td>export_20220818_150110</td>\n      <td>7077</td>\n      <td>LINESTRING (185244.2527250059 669013.307291207...</td>\n    </tr>\n    <tr>\n      <th>10</th>\n      <td>3</td>\n      <td>6319</td>\n      <td>LINESTRING (185218.875 669045.615, 185217.337 ...</td>\n      <td>6.26</td>\n      <td>export_20220818_150110</td>\n      <td>6319</td>\n      <td>LINESTRING (185218.87507689887 669045.61514012...</td>\n    </tr>\n    <tr>\n      <th>1</th>\n      <td>3</td>\n      <td>7077</td>\n      <td>LINESTRING (185218.875 669045.615, 185200.249 ...</td>\n      <td>6.26</td>\n      <td>export_20220818_150110</td>\n      <td>7077</td>\n      <td>LINESTRING (185218.87507689887 669045.61514012...</td>\n    </tr>\n    <tr>\n      <th>1</th>\n      <td>3</td>\n      <td>7077</td>\n      <td>LINESTRING (185218.875 669045.615, 185200.249 ...</td>\n      <td>6.26</td>\n      <td>export_20220818_150110</td>\n      <td>6319</td>\n      <td>LINESTRING (185218.87507689887 669045.61514012...</td>\n    </tr>\n    <tr>\n      <th>...</th>\n      <td>...</td>\n      <td>...</td>\n      <td>...</td>\n      <td>...</td>\n      <td>...</td>\n      <td>...</td>\n      <td>...</td>\n    </tr>\n    <tr>\n      <th>117473</th>\n      <td>47237</td>\n      <td>6417</td>\n      <td>LINESTRING (177309.377 660205.841, 177341.862 ...</td>\n      <td>9.79</td>\n      <td>export_20220818_150955</td>\n      <td>6417</td>\n      <td>LINESTRING (177309.37698045632 660205.84050648...</td>\n    </tr>\n    <tr>\n      <th>117351</th>\n      <td>47237</td>\n      <td>8436</td>\n      <td>LINESTRING (177309.377 660205.841, 177311.996 ...</td>\n      <td>9.79</td>\n      <td>export_20220818_150955</td>\n      <td>8436</td>\n      <td>LINESTRING (177309.37698045632 660205.84050648...</td>\n    </tr>\n    <tr>\n      <th>117135</th>\n      <td>47240</td>\n      <td>2548</td>\n      <td>LINESTRING (175928.959 660158.345, 175919.031 ...</td>\n      <td>6.52</td>\n      <td>export_20220818_150955</td>\n      <td>2548</td>\n      <td>LINESTRING (175928.95865433384 660158.34465438...</td>\n    </tr>\n    <tr>\n      <th>117142</th>\n      <td>47240</td>\n      <td>2549</td>\n      <td>LINESTRING (175928.959 660158.345, 175956.171 ...</td>\n      <td>6.52</td>\n      <td>export_20220818_150955</td>\n      <td>2549</td>\n      <td>LINESTRING (175928.95865433384 660158.34465438...</td>\n    </tr>\n    <tr>\n      <th>117193</th>\n      <td>47240</td>\n      <td>2553</td>\n      <td>LINESTRING (175928.959 660158.345, 175937.064 ...</td>\n      <td>6.52</td>\n      <td>export_20220818_150955</td>\n      <td>2553</td>\n      <td>LINESTRING (175928.95865433384 660158.34465438...</td>\n    </tr>\n  </tbody>\n</table>\n<p>64709 rows × 7 columns</p>\n</div>"
     },
     "execution_count": 39,
     "metadata": {},
     "output_type": "execute_result"
    }
   ],
   "source": [
    "s_join2['wkt']= s_join2.apply(lambda x: x['geometry'].wkt,axis=1)\n",
    "s_join2\n"
   ],
   "metadata": {
    "collapsed": false,
    "pycharm": {
     "name": "#%%\n"
    }
   }
  },
  {
   "cell_type": "code",
   "execution_count": 40,
   "outputs": [
    {
     "name": "stderr",
     "output_type": "stream",
     "text": [
      "C:\\Users\\Achituv\\AppData\\Local\\Temp\\ipykernel_5596\\2698935623.py:2: FutureWarning: In a future version of pandas, a length 1 tuple will be returned when iterating over a groupby with a grouper equal to a list of length 1. Don't supply a list with a single grouper to avoid this warning.\n",
      "  for group in s_join2.groupby(['wkt']):\n",
      "C:\\Users\\Achituv\\AppData\\Local\\Temp\\ipykernel_5596\\2698935623.py:6: UserWarning: Column names longer than 10 characters will be truncated when saved to ESRI Shapefile.\n",
      "  no_inter_building2.to_file((f'{path}/no_intersect_line.shp'))\n"
     ]
    }
   ],
   "source": [
    "no_intersect2 = []\n",
    "for group in s_join2.groupby('wkt'):\n",
    "    if len(group[1])==1:\n",
    "        no_intersect2.append(group[1])\n",
    "no_inter_building2 = pd.concat(no_intersect2)\n",
    "no_inter_building2.to_file((f'{path}/no_intersect_line.shp'))"
   ],
   "metadata": {
    "collapsed": false,
    "pycharm": {
     "name": "#%%\n"
    }
   }
  },
  {
   "cell_type": "code",
   "execution_count": null,
   "outputs": [],
   "source": [
    "\n"
   ],
   "metadata": {
    "collapsed": false,
    "pycharm": {
     "name": "#%%\n"
    }
   }
  },
  {
   "cell_type": "code",
   "execution_count": null,
   "outputs": [],
   "source": [],
   "metadata": {
    "collapsed": false,
    "pycharm": {
     "name": "#%%\n"
    }
   }
  },
  {
   "cell_type": "code",
   "execution_count": 42,
   "outputs": [
    {
     "name": "stderr",
     "output_type": "stream",
     "text": [
      "C:\\Users\\Achituv\\anaconda3\\envs\\momepy_env\\lib\\site-packages\\geopandas\\geodataframe.py:1472: SettingWithCopyWarning: \n",
      "A value is trying to be set on a copy of a slice from a DataFrame.\n",
      "Try using .loc[row_indexer,col_indexer] = value instead\n",
      "\n",
      "See the caveats in the documentation: https://pandas.pydata.org/pandas-docs/stable/user_guide/indexing.html#returning-a-view-versus-a-copy\n",
      "  super().__setitem__(key, value)\n",
      "C:\\Users\\Achituv\\anaconda3\\envs\\momepy_env\\lib\\site-packages\\geopandas\\geodataframe.py:1472: SettingWithCopyWarning: \n",
      "A value is trying to be set on a copy of a slice from a DataFrame.\n",
      "Try using .loc[row_indexer,col_indexer] = value instead\n",
      "\n",
      "See the caveats in the documentation: https://pandas.pydata.org/pandas-docs/stable/user_guide/indexing.html#returning-a-view-versus-a-copy\n",
      "  super().__setitem__(key, value)\n",
      "C:\\Users\\Achituv\\AppData\\Local\\Temp\\ipykernel_5596\\2955999986.py:18: SettingWithCopyWarning: \n",
      "A value is trying to be set on a copy of a slice from a DataFrame\n",
      "\n",
      "See the caveats in the documentation: https://pandas.pydata.org/pandas-docs/stable/user_guide/indexing.html#returning-a-view-versus-a-copy\n",
      "  clean_network_temp[['count','sum']].fillna(0,inplace=True)\n"
     ]
    },
    {
     "name": "stdout",
     "output_type": "stream",
     "text": [
      "finish\n"
     ]
    }
   ],
   "source": [
    "# add number of building and avarage height\n",
    "dic_count={}\n",
    "dic_height ={}\n",
    "for group in no_inter_building2.groupby(['building','road']):\n",
    "    if len(group[1])==1:\n",
    "        road = group[0][1]\n",
    "        if road in dic_count:\n",
    "            dic_count[road]+=1\n",
    "            dic_height[road]+= group[1]['govasimple'].values[0]\n",
    "        else:\n",
    "            dic_count[road]=1\n",
    "            dic_height[road]= group[1]['govasimple'].values[0]\n",
    "    else:\n",
    "        print(f'error-{group[0]}')\n",
    "clean_network_temp['count'] =dic_count\n",
    "clean_network_temp['sum'] = dic_height\n",
    "clean_network_temp['avg']= clean_network_temp['sum']/clean_network_temp['count']\n",
    "clean_network_temp[['count','sum']].fillna(0,inplace=True)\n",
    "clean_network_temp.to_file('{}/streets_elements_{}.shp'.format(path,name))\n",
    "print('finish')"
   ],
   "metadata": {
    "collapsed": false,
    "pycharm": {
     "name": "#%%\n"
    }
   }
  },
  {
   "cell_type": "code",
   "execution_count": 46,
   "outputs": [],
   "source": [
    "clean_network[name] = clean_network_temp['avg']\n",
    "clean_network.to_file('output/streets_elements/streets_elements_temp.shp')"
   ],
   "metadata": {
    "collapsed": false,
    "pycharm": {
     "name": "#%%\n"
    }
   }
  },
  {
   "cell_type": "code",
   "execution_count": 45,
   "outputs": [
    {
     "data": {
      "text/plain": "      oidrechov       length  \\\n0           1.0    32.807598   \n1           3.0    63.288914   \n2           4.0    25.981647   \n3           5.0    80.268853   \n4           6.0    80.152149   \n...         ...          ...   \n8746     9650.0    92.387138   \n8747     9651.0    55.993258   \n8748     9658.0  1416.463909   \n8749     9659.0   720.172594   \n8750     9662.0   979.661687   \n\n                                               geometry  count     sum  \\\n0     LINESTRING (184322.705 668574.483, 184351.736 ...    3.0   48.11   \n1     LINESTRING (179282.603 666005.717, 179343.283 ...    4.0  103.72   \n2     LINESTRING (180952.197 664967.670, 180964.041 ...    3.0   44.00   \n3     LINESTRING (180668.486 662875.092, 180748.697 ...   13.0  100.79   \n4     LINESTRING (182532.174 661455.967, 182514.127 ...    5.0   44.00   \n...                                                 ...    ...     ...   \n8746  LINESTRING (180252.127 670097.359, 180342.969 ...    NaN     NaN   \n8747  LINESTRING (180204.072 670123.951, 180220.846 ...    NaN     NaN   \n8748  LINESTRING (180765.260 670000.467, 180830.127 ...    5.0   71.78   \n8749  LINESTRING (181058.769 671381.112, 181091.908 ...    NaN     NaN   \n8750  LINESTRING (180665.748 670989.905, 180717.768 ...    7.0   71.14   \n\n            avg  \n0     16.036667  \n1     25.930000  \n2     14.666667  \n3      7.753077  \n4      8.800000  \n...         ...  \n8746        NaN  \n8747        NaN  \n8748  14.356000  \n8749        NaN  \n8750  10.162857  \n\n[8751 rows x 6 columns]",
      "text/html": "<div>\n<style scoped>\n    .dataframe tbody tr th:only-of-type {\n        vertical-align: middle;\n    }\n\n    .dataframe tbody tr th {\n        vertical-align: top;\n    }\n\n    .dataframe thead th {\n        text-align: right;\n    }\n</style>\n<table border=\"1\" class=\"dataframe\">\n  <thead>\n    <tr style=\"text-align: right;\">\n      <th></th>\n      <th>oidrechov</th>\n      <th>length</th>\n      <th>geometry</th>\n      <th>count</th>\n      <th>sum</th>\n      <th>avg</th>\n    </tr>\n  </thead>\n  <tbody>\n    <tr>\n      <th>0</th>\n      <td>1.0</td>\n      <td>32.807598</td>\n      <td>LINESTRING (184322.705 668574.483, 184351.736 ...</td>\n      <td>3.0</td>\n      <td>48.11</td>\n      <td>16.036667</td>\n    </tr>\n    <tr>\n      <th>1</th>\n      <td>3.0</td>\n      <td>63.288914</td>\n      <td>LINESTRING (179282.603 666005.717, 179343.283 ...</td>\n      <td>4.0</td>\n      <td>103.72</td>\n      <td>25.930000</td>\n    </tr>\n    <tr>\n      <th>2</th>\n      <td>4.0</td>\n      <td>25.981647</td>\n      <td>LINESTRING (180952.197 664967.670, 180964.041 ...</td>\n      <td>3.0</td>\n      <td>44.00</td>\n      <td>14.666667</td>\n    </tr>\n    <tr>\n      <th>3</th>\n      <td>5.0</td>\n      <td>80.268853</td>\n      <td>LINESTRING (180668.486 662875.092, 180748.697 ...</td>\n      <td>13.0</td>\n      <td>100.79</td>\n      <td>7.753077</td>\n    </tr>\n    <tr>\n      <th>4</th>\n      <td>6.0</td>\n      <td>80.152149</td>\n      <td>LINESTRING (182532.174 661455.967, 182514.127 ...</td>\n      <td>5.0</td>\n      <td>44.00</td>\n      <td>8.800000</td>\n    </tr>\n    <tr>\n      <th>...</th>\n      <td>...</td>\n      <td>...</td>\n      <td>...</td>\n      <td>...</td>\n      <td>...</td>\n      <td>...</td>\n    </tr>\n    <tr>\n      <th>8746</th>\n      <td>9650.0</td>\n      <td>92.387138</td>\n      <td>LINESTRING (180252.127 670097.359, 180342.969 ...</td>\n      <td>NaN</td>\n      <td>NaN</td>\n      <td>NaN</td>\n    </tr>\n    <tr>\n      <th>8747</th>\n      <td>9651.0</td>\n      <td>55.993258</td>\n      <td>LINESTRING (180204.072 670123.951, 180220.846 ...</td>\n      <td>NaN</td>\n      <td>NaN</td>\n      <td>NaN</td>\n    </tr>\n    <tr>\n      <th>8748</th>\n      <td>9658.0</td>\n      <td>1416.463909</td>\n      <td>LINESTRING (180765.260 670000.467, 180830.127 ...</td>\n      <td>5.0</td>\n      <td>71.78</td>\n      <td>14.356000</td>\n    </tr>\n    <tr>\n      <th>8749</th>\n      <td>9659.0</td>\n      <td>720.172594</td>\n      <td>LINESTRING (181058.769 671381.112, 181091.908 ...</td>\n      <td>NaN</td>\n      <td>NaN</td>\n      <td>NaN</td>\n    </tr>\n    <tr>\n      <th>8750</th>\n      <td>9662.0</td>\n      <td>979.661687</td>\n      <td>LINESTRING (180665.748 670989.905, 180717.768 ...</td>\n      <td>7.0</td>\n      <td>71.14</td>\n      <td>10.162857</td>\n    </tr>\n  </tbody>\n</table>\n<p>8751 rows × 6 columns</p>\n</div>"
     },
     "execution_count": 45,
     "metadata": {},
     "output_type": "execute_result"
    }
   ],
   "source": [
    "clean_network_temp"
   ],
   "metadata": {
    "collapsed": false,
    "pycharm": {
     "name": "#%%\n"
    }
   }
  },
  {
   "cell_type": "code",
   "execution_count": 162,
   "outputs": [
    {
     "name": "stdout",
     "output_type": "stream",
     "text": [
      "finish\n"
     ]
    }
   ],
   "source": [
    "\n",
    "clean_network.to_file('output/streets_elements/streets_elements_temp.shp')\n"
   ],
   "metadata": {
    "collapsed": false,
    "pycharm": {
     "name": "#%%\n"
    }
   }
  },
  {
   "cell_type": "code",
   "execution_count": 163,
   "outputs": [
    {
     "name": "stderr",
     "output_type": "stream",
     "text": [
      "C:\\Users\\Achituv\\anaconda3\\envs\\momepy_env\\lib\\site-packages\\geopandas\\geodataframe.py:1472: SettingWithCopyWarning: \n",
      "A value is trying to be set on a copy of a slice from a DataFrame.\n",
      "Try using .loc[row_indexer,col_indexer] = value instead\n",
      "\n",
      "See the caveats in the documentation: https://pandas.pydata.org/pandas-docs/stable/user_guide/indexing.html#returning-a-view-versus-a-copy\n",
      "  super().__setitem__(key, value)\n",
      "C:\\Users\\Achituv\\anaconda3\\envs\\momepy_env\\lib\\site-packages\\geopandas\\geodataframe.py:1472: SettingWithCopyWarning: \n",
      "A value is trying to be set on a copy of a slice from a DataFrame.\n",
      "Try using .loc[row_indexer,col_indexer] = value instead\n",
      "\n",
      "See the caveats in the documentation: https://pandas.pydata.org/pandas-docs/stable/user_guide/indexing.html#returning-a-view-versus-a-copy\n",
      "  super().__setitem__(key, value)\n",
      "C:\\Users\\Achituv\\anaconda3\\envs\\momepy_env\\lib\\site-packages\\geopandas\\geodataframe.py:1472: SettingWithCopyWarning: \n",
      "A value is trying to be set on a copy of a slice from a DataFrame.\n",
      "Try using .loc[row_indexer,col_indexer] = value instead\n",
      "\n",
      "See the caveats in the documentation: https://pandas.pydata.org/pandas-docs/stable/user_guide/indexing.html#returning-a-view-versus-a-copy\n",
      "  super().__setitem__(key, value)\n",
      "C:\\Users\\Achituv\\anaconda3\\envs\\momepy_env\\lib\\site-packages\\geopandas\\geodataframe.py:1472: SettingWithCopyWarning: \n",
      "A value is trying to be set on a copy of a slice from a DataFrame.\n",
      "Try using .loc[row_indexer,col_indexer] = value instead\n",
      "\n",
      "See the caveats in the documentation: https://pandas.pydata.org/pandas-docs/stable/user_guide/indexing.html#returning-a-view-versus-a-copy\n",
      "  super().__setitem__(key, value)\n"
     ]
    },
    {
     "name": "stdout",
     "output_type": "stream",
     "text": [
      "businesses\n"
     ]
    },
    {
     "name": "stderr",
     "output_type": "stream",
     "text": [
      "C:\\Users\\Achituv\\anaconda3\\envs\\momepy_env\\lib\\site-packages\\geopandas\\geodataframe.py:1472: SettingWithCopyWarning: \n",
      "A value is trying to be set on a copy of a slice from a DataFrame.\n",
      "Try using .loc[row_indexer,col_indexer] = value instead\n",
      "\n",
      "See the caveats in the documentation: https://pandas.pydata.org/pandas-docs/stable/user_guide/indexing.html#returning-a-view-versus-a-copy\n",
      "  super().__setitem__(key, value)\n",
      "C:\\Users\\Achituv\\anaconda3\\envs\\momepy_env\\lib\\site-packages\\geopandas\\geodataframe.py:1472: SettingWithCopyWarning: \n",
      "A value is trying to be set on a copy of a slice from a DataFrame.\n",
      "Try using .loc[row_indexer,col_indexer] = value instead\n",
      "\n",
      "See the caveats in the documentation: https://pandas.pydata.org/pandas-docs/stable/user_guide/indexing.html#returning-a-view-versus-a-copy\n",
      "  super().__setitem__(key, value)\n",
      "C:\\Users\\Achituv\\anaconda3\\envs\\momepy_env\\lib\\site-packages\\geopandas\\geodataframe.py:1472: SettingWithCopyWarning: \n",
      "A value is trying to be set on a copy of a slice from a DataFrame.\n",
      "Try using .loc[row_indexer,col_indexer] = value instead\n",
      "\n",
      "See the caveats in the documentation: https://pandas.pydata.org/pandas-docs/stable/user_guide/indexing.html#returning-a-view-versus-a-copy\n",
      "  super().__setitem__(key, value)\n",
      "C:\\Users\\Achituv\\anaconda3\\envs\\momepy_env\\lib\\site-packages\\geopandas\\geodataframe.py:1472: SettingWithCopyWarning: \n",
      "A value is trying to be set on a copy of a slice from a DataFrame.\n",
      "Try using .loc[row_indexer,col_indexer] = value instead\n",
      "\n",
      "See the caveats in the documentation: https://pandas.pydata.org/pandas-docs/stable/user_guide/indexing.html#returning-a-view-versus-a-copy\n",
      "  super().__setitem__(key, value)\n"
     ]
    },
    {
     "name": "stdout",
     "output_type": "stream",
     "text": [
      "finish\n"
     ]
    }
   ],
   "source": [
    "# Code for building  'output/streets_elements/elements/buildings_business\\\\businesses.shp']\n",
    "file = 'output/streets_elements/elements/buildings_business\\\\businesses.shp'\n",
    "file_buildings = r'output\\streets_elements\\detailed_folder\\buildings_business\\buildings\\streets_elements_buildings.shp'\n",
    "clean_network_temp = clean_network[col_to_leave]\n",
    "clean_network_temp[['count','count_b', 'ratio','ratio_b']] = 0\n",
    "\n",
    "# clean_network_temp['count'], sjoin,name,path= calculate_count(file)\n",
    "name = file.split(\"\\\\\")[-1].split('.')[0]\n",
    "\n",
    "print(name)\n",
    "\n",
    "objects_file = gpd.read_file(file)\n",
    "# Find the nearest street segment for each object\n",
    "sjoin = objects_file.sjoin_nearest(clean_network_temp, distance_col='dis', max_distance=50)\n",
    "path = 'output/streets_elements/detailed_folder/buildings_business/{}'.format(name)\n",
    "os.makedirs(path, exist_ok=True)\n",
    "sjoin[['geometry','oidrechov','length','dis','count','count_b', 'ratio','ratio_b']].to_file('{}/sjoin.shp'.format(path))\n",
    "file = 'output/streets_elements/elements/buildings_business\\\\{}.shp'.format(name)\n",
    "clean_network_temp = clean_network[col_to_leave]\n",
    "\n",
    "\n",
    "# Aggregate objects that share the same closet street\n",
    "dissolve = DataFrame(sjoin).groupby(by=key_fields).count()\n",
    "clean_network_temp.set_index(key_fields, inplace=True)\n",
    "clean_network_temp['count'] = dissolve['length']\n",
    "building_network =  gpd.read_file(file_buildings).set_index(key_fields)\n",
    "clean_network_temp['ratio'] = clean_network_temp['count'] / building_network['length']\n",
    "clean_network_temp['ratio_b'] = clean_network_temp['count'] / building_network['count']\n",
    "clean_network_temp['count_b'] = building_network['count']\n",
    "\n",
    "clean_network_temp.to_file('{}/streets_elements_{}.shp'.format(path, name))\n",
    "print('finish')"
   ],
   "metadata": {
    "collapsed": false,
    "pycharm": {
     "name": "#%%\n"
    }
   }
  },
  {
   "cell_type": "code",
   "execution_count": null,
   "outputs": [],
   "source": [
    "\n",
    "# Find the nearest street segment for each object\n",
    "# sjoin= objects_file.sjoin_nearest(clean_network_temp,distance_col='dis', max_distance=50)\n",
    "\n",
    "# os.makedirs(path,exist_ok = True)\n",
    "# sjoin.dropna(subset=[field],inplace=True)\n",
    "# sjoin.to_file('{}/sjoin.shp'.format(path))\n",
    "# file = 'output/streets_elements/elements/buildings_business\\\\buildings.shp'\n",
    "# clean_network_temp =clean_network[col_to_leave]\n",
    "#\n",
    "#\n",
    "# # Aggregate objects that share the same closet street\n",
    "# dissolve = DataFrame(sjoin).groupby(by = key_fields).count()\n",
    "# clean_network_temp.set_index(key_fields, inplace=True)\n",
    "# clean_network_temp['count'] =dissolve['length']\n",
    "#\n",
    "#\n",
    "#\n",
    "# s_col = sjoin[[field,key_fields]]\n",
    "# dissolve = s_col.groupby(by = key_fields).mean()\n",
    "#\n",
    "# clean_network_temp['avg'] = dissolve[field]\n",
    "# clean_network.set_index(key_fields, inplace=True)\n",
    "# clean_network[name] = clean_network_temp['avg']\n",
    "# clean_network.reset_index(inplace=True)\n",
    "# clean_network_temp.to_file('{}/streets_elements_{}.shp'.format(path,name))\n",
    "# clean_network.to_file('output/streets_elements/streets_elements.shp')\n",
    "# print('finish')"
   ],
   "metadata": {
    "collapsed": false,
    "pycharm": {
     "name": "#%%\n"
    }
   }
  },
  {
   "cell_type": "code",
   "execution_count": null,
   "outputs": [],
   "source": [],
   "metadata": {
    "collapsed": false,
    "pycharm": {
     "name": "#%%\n"
    }
   }
  }
 ],
 "metadata": {
  "kernelspec": {
   "display_name": "Python 3",
   "language": "python",
   "name": "python3"
  },
  "language_info": {
   "codemirror_mode": {
    "name": "ipython",
    "version": 2
   },
   "file_extension": ".py",
   "mimetype": "text/x-python",
   "name": "python",
   "nbconvert_exporter": "python",
   "pygments_lexer": "ipython2",
   "version": "2.7.6"
  }
 },
 "nbformat": 4,
 "nbformat_minor": 0
}