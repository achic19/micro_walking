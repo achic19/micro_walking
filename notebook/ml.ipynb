{
 "cells": [
  {
   "cell_type": "code",
   "execution_count": 17,
   "outputs": [],
   "source": [
    "import geopandas as gpd\n",
    "from geopandas import GeoDataFrame, GeoSeries\n",
    "import calendar\n",
    "from pandas import DataFrame"
   ],
   "metadata": {
    "collapsed": false,
    "pycharm": {
     "name": "#%%\n"
    }
   }
  },
  {
   "cell_type": "code",
   "execution_count": 30,
   "outputs": [
    {
     "data": {
      "text/plain": "     Period        W    ID  morning  noon  afternoon  night\n0     APR21  WeekDay     0        1     0          2      0\n1     APR21  WeekDay     1        4     4          4      3\n2     APR21  WeekDay     2        4     4          4      3\n3     APR21  WeekDay     3        1     9          0      2\n4     APR21  WeekDay     4        0     0          9      1\n...     ...      ...   ...      ...   ...        ...    ...\n8536  APR21  WeekDay  8760        3     2          1      0\n8537  APR21  WeekDay  8761        0     0          0      0\n8538  APR21  WeekDay  8762        4     4          4      3\n8539  APR21  WeekDay  8763        2     3          2      3\n8540  APR21  WeekDay  8764        3     4          2      3\n\n[8541 rows x 7 columns]",
      "text/html": "<div>\n<style scoped>\n    .dataframe tbody tr th:only-of-type {\n        vertical-align: middle;\n    }\n\n    .dataframe tbody tr th {\n        vertical-align: top;\n    }\n\n    .dataframe thead th {\n        text-align: right;\n    }\n</style>\n<table border=\"1\" class=\"dataframe\">\n  <thead>\n    <tr style=\"text-align: right;\">\n      <th></th>\n      <th>Period</th>\n      <th>W</th>\n      <th>ID</th>\n      <th>morning</th>\n      <th>noon</th>\n      <th>afternoon</th>\n      <th>night</th>\n    </tr>\n  </thead>\n  <tbody>\n    <tr>\n      <th>0</th>\n      <td>APR21</td>\n      <td>WeekDay</td>\n      <td>0</td>\n      <td>1</td>\n      <td>0</td>\n      <td>2</td>\n      <td>0</td>\n    </tr>\n    <tr>\n      <th>1</th>\n      <td>APR21</td>\n      <td>WeekDay</td>\n      <td>1</td>\n      <td>4</td>\n      <td>4</td>\n      <td>4</td>\n      <td>3</td>\n    </tr>\n    <tr>\n      <th>2</th>\n      <td>APR21</td>\n      <td>WeekDay</td>\n      <td>2</td>\n      <td>4</td>\n      <td>4</td>\n      <td>4</td>\n      <td>3</td>\n    </tr>\n    <tr>\n      <th>3</th>\n      <td>APR21</td>\n      <td>WeekDay</td>\n      <td>3</td>\n      <td>1</td>\n      <td>9</td>\n      <td>0</td>\n      <td>2</td>\n    </tr>\n    <tr>\n      <th>4</th>\n      <td>APR21</td>\n      <td>WeekDay</td>\n      <td>4</td>\n      <td>0</td>\n      <td>0</td>\n      <td>9</td>\n      <td>1</td>\n    </tr>\n    <tr>\n      <th>...</th>\n      <td>...</td>\n      <td>...</td>\n      <td>...</td>\n      <td>...</td>\n      <td>...</td>\n      <td>...</td>\n      <td>...</td>\n    </tr>\n    <tr>\n      <th>8536</th>\n      <td>APR21</td>\n      <td>WeekDay</td>\n      <td>8760</td>\n      <td>3</td>\n      <td>2</td>\n      <td>1</td>\n      <td>0</td>\n    </tr>\n    <tr>\n      <th>8537</th>\n      <td>APR21</td>\n      <td>WeekDay</td>\n      <td>8761</td>\n      <td>0</td>\n      <td>0</td>\n      <td>0</td>\n      <td>0</td>\n    </tr>\n    <tr>\n      <th>8538</th>\n      <td>APR21</td>\n      <td>WeekDay</td>\n      <td>8762</td>\n      <td>4</td>\n      <td>4</td>\n      <td>4</td>\n      <td>3</td>\n    </tr>\n    <tr>\n      <th>8539</th>\n      <td>APR21</td>\n      <td>WeekDay</td>\n      <td>8763</td>\n      <td>2</td>\n      <td>3</td>\n      <td>2</td>\n      <td>3</td>\n    </tr>\n    <tr>\n      <th>8540</th>\n      <td>APR21</td>\n      <td>WeekDay</td>\n      <td>8764</td>\n      <td>3</td>\n      <td>4</td>\n      <td>2</td>\n      <td>3</td>\n    </tr>\n  </tbody>\n</table>\n<p>8541 rows × 7 columns</p>\n</div>"
     },
     "execution_count": 30,
     "metadata": {},
     "output_type": "execute_result"
    }
   ],
   "source": [
    "# work on features\n",
    "cols_to_use =['Period','W', 'ID', 'morning', 'noon', 'afternoon','night']\n",
    "moovit_data = gpd.read_file(r'output/moovit/APR21WeekDay.shp')[cols_to_use]\n",
    "\n",
    "moovit_data"
   ],
   "metadata": {
    "collapsed": false,
    "pycharm": {
     "name": "#%%\n"
    }
   }
  },
  {
   "cell_type": "code",
   "execution_count": 32,
   "outputs": [
    {
     "data": {
      "text/plain": "         ID  day part  ped_level\n0         0         0          1\n1         0         1          0\n2         0         2          2\n3         0         3          0\n4         1         0          4\n...     ...       ...        ...\n31802  8763         3          3\n31803  8764         0          3\n31804  8764         1          4\n31805  8764         2          2\n31806  8764         3          3\n\n[31807 rows x 3 columns]",
      "text/html": "<div>\n<style scoped>\n    .dataframe tbody tr th:only-of-type {\n        vertical-align: middle;\n    }\n\n    .dataframe tbody tr th {\n        vertical-align: top;\n    }\n\n    .dataframe thead th {\n        text-align: right;\n    }\n</style>\n<table border=\"1\" class=\"dataframe\">\n  <thead>\n    <tr style=\"text-align: right;\">\n      <th></th>\n      <th>ID</th>\n      <th>day part</th>\n      <th>ped_level</th>\n    </tr>\n  </thead>\n  <tbody>\n    <tr>\n      <th>0</th>\n      <td>0</td>\n      <td>0</td>\n      <td>1</td>\n    </tr>\n    <tr>\n      <th>1</th>\n      <td>0</td>\n      <td>1</td>\n      <td>0</td>\n    </tr>\n    <tr>\n      <th>2</th>\n      <td>0</td>\n      <td>2</td>\n      <td>2</td>\n    </tr>\n    <tr>\n      <th>3</th>\n      <td>0</td>\n      <td>3</td>\n      <td>0</td>\n    </tr>\n    <tr>\n      <th>4</th>\n      <td>1</td>\n      <td>0</td>\n      <td>4</td>\n    </tr>\n    <tr>\n      <th>...</th>\n      <td>...</td>\n      <td>...</td>\n      <td>...</td>\n    </tr>\n    <tr>\n      <th>31802</th>\n      <td>8763</td>\n      <td>3</td>\n      <td>3</td>\n    </tr>\n    <tr>\n      <th>31803</th>\n      <td>8764</td>\n      <td>0</td>\n      <td>3</td>\n    </tr>\n    <tr>\n      <th>31804</th>\n      <td>8764</td>\n      <td>1</td>\n      <td>4</td>\n    </tr>\n    <tr>\n      <th>31805</th>\n      <td>8764</td>\n      <td>2</td>\n      <td>2</td>\n    </tr>\n    <tr>\n      <th>31806</th>\n      <td>8764</td>\n      <td>3</td>\n      <td>3</td>\n    </tr>\n  </tbody>\n</table>\n<p>31807 rows × 3 columns</p>\n</div>"
     },
     "execution_count": 32,
     "metadata": {},
     "output_type": "execute_result"
    }
   ],
   "source": [
    "# flat the data so each ped level would be in a new row\n",
    "def rearrange_data(row):\n",
    "    r\"\"\"\n",
    "    :param row:\n",
    "    :return:\n",
    "    \"\"\"\n",
    "    id= row['ID']\n",
    "    def add_row(day_part,ped_level):\n",
    "        r\"\"\"\n",
    "        if the ped level is not 9 add new line to the list with ID, day part and ped level\n",
    "        :param day_part:\n",
    "        :param ped_level:\n",
    "        :return:\n",
    "        \"\"\"\n",
    "        if ped_level!=9:\n",
    "            data_for_ml.append([id,day_part,ped_level])\n",
    "    [add_row(x,row[x+3]) for x in range(4)]\n",
    "\n",
    "data_for_ml = []\n",
    "moovit_data.apply(rearrange_data,axis=1)\n",
    "ml_data = DataFrame(data_for_ml,columns=['ID','day part','ped_level'])\n",
    "ml_data"
   ],
   "metadata": {
    "collapsed": false,
    "pycharm": {
     "name": "#%%\n"
    }
   }
  },
  {
   "cell_type": "code",
   "execution_count": 33,
   "outputs": [
    {
     "data": {
      "text/plain": "         ID  day part  ped_level  season  day\n0         0         0          1       4    0\n1         0         1          0       4    0\n2         0         2          2       4    0\n3         0         3          0       4    0\n4         1         0          4       4    0\n...     ...       ...        ...     ...  ...\n31802  8763         3          3       4    0\n31803  8764         0          3       4    0\n31804  8764         1          4       4    0\n31805  8764         2          2       4    0\n31806  8764         3          3       4    0\n\n[31807 rows x 5 columns]",
      "text/html": "<div>\n<style scoped>\n    .dataframe tbody tr th:only-of-type {\n        vertical-align: middle;\n    }\n\n    .dataframe tbody tr th {\n        vertical-align: top;\n    }\n\n    .dataframe thead th {\n        text-align: right;\n    }\n</style>\n<table border=\"1\" class=\"dataframe\">\n  <thead>\n    <tr style=\"text-align: right;\">\n      <th></th>\n      <th>ID</th>\n      <th>day part</th>\n      <th>ped_level</th>\n      <th>season</th>\n      <th>day</th>\n    </tr>\n  </thead>\n  <tbody>\n    <tr>\n      <th>0</th>\n      <td>0</td>\n      <td>0</td>\n      <td>1</td>\n      <td>4</td>\n      <td>0</td>\n    </tr>\n    <tr>\n      <th>1</th>\n      <td>0</td>\n      <td>1</td>\n      <td>0</td>\n      <td>4</td>\n      <td>0</td>\n    </tr>\n    <tr>\n      <th>2</th>\n      <td>0</td>\n      <td>2</td>\n      <td>2</td>\n      <td>4</td>\n      <td>0</td>\n    </tr>\n    <tr>\n      <th>3</th>\n      <td>0</td>\n      <td>3</td>\n      <td>0</td>\n      <td>4</td>\n      <td>0</td>\n    </tr>\n    <tr>\n      <th>4</th>\n      <td>1</td>\n      <td>0</td>\n      <td>4</td>\n      <td>4</td>\n      <td>0</td>\n    </tr>\n    <tr>\n      <th>...</th>\n      <td>...</td>\n      <td>...</td>\n      <td>...</td>\n      <td>...</td>\n      <td>...</td>\n    </tr>\n    <tr>\n      <th>31802</th>\n      <td>8763</td>\n      <td>3</td>\n      <td>3</td>\n      <td>4</td>\n      <td>0</td>\n    </tr>\n    <tr>\n      <th>31803</th>\n      <td>8764</td>\n      <td>0</td>\n      <td>3</td>\n      <td>4</td>\n      <td>0</td>\n    </tr>\n    <tr>\n      <th>31804</th>\n      <td>8764</td>\n      <td>1</td>\n      <td>4</td>\n      <td>4</td>\n      <td>0</td>\n    </tr>\n    <tr>\n      <th>31805</th>\n      <td>8764</td>\n      <td>2</td>\n      <td>2</td>\n      <td>4</td>\n      <td>0</td>\n    </tr>\n    <tr>\n      <th>31806</th>\n      <td>8764</td>\n      <td>3</td>\n      <td>3</td>\n      <td>4</td>\n      <td>0</td>\n    </tr>\n  </tbody>\n</table>\n<p>31807 rows × 5 columns</p>\n</div>"
     },
     "execution_count": 33,
     "metadata": {},
     "output_type": "execute_result"
    }
   ],
   "source": [
    "# Calculate season predictor\n",
    "month_name = [x for x in calendar.month_abbr]\n",
    "month = month_name.index(moovit_data['Period'][0][:3].lower().capitalize())\n",
    "if month in [12, 1, 2]:\n",
    "    season = 1\n",
    "elif month in [3, 4, 5]:\n",
    "    season = 2\n",
    "elif month in [6, 7, 8]:\n",
    "    season = 3\n",
    "else:\n",
    "    season = 0\n",
    "ml_data['season'] = month\n",
    "# Encode W columns\n",
    "ml_data['day'] = 0 if moovit_data['W'][0]=='WeekDay'else 1\n",
    "ml_data"
   ],
   "metadata": {
    "collapsed": false,
    "pycharm": {
     "name": "#%%\n"
    }
   }
  },
  {
   "cell_type": "code",
   "execution_count": 34,
   "outputs": [
    {
     "data": {
      "text/plain": "      oidrechov       length  buildings  businesses  educationa  Health_ser  \\\n0           1.0    32.807598  12.580000    0.000000           8           1   \n1           3.0    63.288914  20.415000    0.000000           5           4   \n2           4.0    25.981647  19.000000    0.000000          10           0   \n3           5.0    80.268853  10.202381    0.000000           4           3   \n4           6.0    80.152149  10.500000    0.012476           0           0   \n...         ...          ...        ...         ...         ...         ...   \n8746     9650.0    92.387138   0.000000    0.000000           0           0   \n8747     9651.0    55.993258   0.000000    0.000000           0           0   \n8748     9658.0  1416.463909  12.661667    0.000000           0           0   \n8749     9659.0   720.172594  17.560000    0.000000           0           0   \n8750     9662.0   979.661687  16.378889    0.001021           4           2   \n\n      Leisure_am  Playground  Sport_faci  synagogues  bus_statio  lighting  \\\n0              0           7           3           4    0.030481  0.060961   \n1              1           3           2           3    0.000000  0.015801   \n2              0           3           1           1    0.038489  0.038489   \n3              0           2           2           3    0.000000  0.037374   \n4              0           0           2           0    0.000000  0.024953   \n...          ...         ...         ...         ...         ...       ...   \n8746           0           0           0           0    0.000000  0.064944   \n8747           0           0           0           0    0.000000  0.107156   \n8748           0           0           0           0    0.002118  0.039535   \n8749           0           0           0           0    0.004166  0.023605   \n8750           0           2           7           0    0.006125  0.042872   \n\n         trees  bike_trail  parks  density  \\\n0     0.000000           0     12      3.3   \n1     0.015801           0      2     18.1   \n2     0.000000           0      4     15.5   \n3     0.037374           0     12     10.8   \n4     0.000000           1      8     25.7   \n...        ...         ...    ...      ...   \n8746  0.000000           1      4     16.3   \n8747  0.000000           1      2      1.4   \n8748  0.390409           0     23      1.4   \n8749  0.279100           0      5      1.4   \n8750  0.103097           1      6      1.4   \n\n                                               geometry  \n0     LINESTRING (184322.705 668574.483, 184351.736 ...  \n1     LINESTRING (179282.603 666005.717, 179343.283 ...  \n2     LINESTRING (180952.197 664967.670, 180964.041 ...  \n3     LINESTRING (180668.486 662875.092, 180748.697 ...  \n4     LINESTRING (182532.174 661455.967, 182514.127 ...  \n...                                                 ...  \n8746  LINESTRING (180252.127 670097.359, 180342.969 ...  \n8747  LINESTRING (180204.072 670123.951, 180220.846 ...  \n8748  LINESTRING (180765.260 670000.467, 180830.127 ...  \n8749  LINESTRING (181058.769 671381.112, 181091.908 ...  \n8750  LINESTRING (180665.748 670989.905, 180717.768 ...  \n\n[8751 rows x 17 columns]",
      "text/html": "<div>\n<style scoped>\n    .dataframe tbody tr th:only-of-type {\n        vertical-align: middle;\n    }\n\n    .dataframe tbody tr th {\n        vertical-align: top;\n    }\n\n    .dataframe thead th {\n        text-align: right;\n    }\n</style>\n<table border=\"1\" class=\"dataframe\">\n  <thead>\n    <tr style=\"text-align: right;\">\n      <th></th>\n      <th>oidrechov</th>\n      <th>length</th>\n      <th>buildings</th>\n      <th>businesses</th>\n      <th>educationa</th>\n      <th>Health_ser</th>\n      <th>Leisure_am</th>\n      <th>Playground</th>\n      <th>Sport_faci</th>\n      <th>synagogues</th>\n      <th>bus_statio</th>\n      <th>lighting</th>\n      <th>trees</th>\n      <th>bike_trail</th>\n      <th>parks</th>\n      <th>density</th>\n      <th>geometry</th>\n    </tr>\n  </thead>\n  <tbody>\n    <tr>\n      <th>0</th>\n      <td>1.0</td>\n      <td>32.807598</td>\n      <td>12.580000</td>\n      <td>0.000000</td>\n      <td>8</td>\n      <td>1</td>\n      <td>0</td>\n      <td>7</td>\n      <td>3</td>\n      <td>4</td>\n      <td>0.030481</td>\n      <td>0.060961</td>\n      <td>0.000000</td>\n      <td>0</td>\n      <td>12</td>\n      <td>3.3</td>\n      <td>LINESTRING (184322.705 668574.483, 184351.736 ...</td>\n    </tr>\n    <tr>\n      <th>1</th>\n      <td>3.0</td>\n      <td>63.288914</td>\n      <td>20.415000</td>\n      <td>0.000000</td>\n      <td>5</td>\n      <td>4</td>\n      <td>1</td>\n      <td>3</td>\n      <td>2</td>\n      <td>3</td>\n      <td>0.000000</td>\n      <td>0.015801</td>\n      <td>0.015801</td>\n      <td>0</td>\n      <td>2</td>\n      <td>18.1</td>\n      <td>LINESTRING (179282.603 666005.717, 179343.283 ...</td>\n    </tr>\n    <tr>\n      <th>2</th>\n      <td>4.0</td>\n      <td>25.981647</td>\n      <td>19.000000</td>\n      <td>0.000000</td>\n      <td>10</td>\n      <td>0</td>\n      <td>0</td>\n      <td>3</td>\n      <td>1</td>\n      <td>1</td>\n      <td>0.038489</td>\n      <td>0.038489</td>\n      <td>0.000000</td>\n      <td>0</td>\n      <td>4</td>\n      <td>15.5</td>\n      <td>LINESTRING (180952.197 664967.670, 180964.041 ...</td>\n    </tr>\n    <tr>\n      <th>3</th>\n      <td>5.0</td>\n      <td>80.268853</td>\n      <td>10.202381</td>\n      <td>0.000000</td>\n      <td>4</td>\n      <td>3</td>\n      <td>0</td>\n      <td>2</td>\n      <td>2</td>\n      <td>3</td>\n      <td>0.000000</td>\n      <td>0.037374</td>\n      <td>0.037374</td>\n      <td>0</td>\n      <td>12</td>\n      <td>10.8</td>\n      <td>LINESTRING (180668.486 662875.092, 180748.697 ...</td>\n    </tr>\n    <tr>\n      <th>4</th>\n      <td>6.0</td>\n      <td>80.152149</td>\n      <td>10.500000</td>\n      <td>0.012476</td>\n      <td>0</td>\n      <td>0</td>\n      <td>0</td>\n      <td>0</td>\n      <td>2</td>\n      <td>0</td>\n      <td>0.000000</td>\n      <td>0.024953</td>\n      <td>0.000000</td>\n      <td>1</td>\n      <td>8</td>\n      <td>25.7</td>\n      <td>LINESTRING (182532.174 661455.967, 182514.127 ...</td>\n    </tr>\n    <tr>\n      <th>...</th>\n      <td>...</td>\n      <td>...</td>\n      <td>...</td>\n      <td>...</td>\n      <td>...</td>\n      <td>...</td>\n      <td>...</td>\n      <td>...</td>\n      <td>...</td>\n      <td>...</td>\n      <td>...</td>\n      <td>...</td>\n      <td>...</td>\n      <td>...</td>\n      <td>...</td>\n      <td>...</td>\n      <td>...</td>\n    </tr>\n    <tr>\n      <th>8746</th>\n      <td>9650.0</td>\n      <td>92.387138</td>\n      <td>0.000000</td>\n      <td>0.000000</td>\n      <td>0</td>\n      <td>0</td>\n      <td>0</td>\n      <td>0</td>\n      <td>0</td>\n      <td>0</td>\n      <td>0.000000</td>\n      <td>0.064944</td>\n      <td>0.000000</td>\n      <td>1</td>\n      <td>4</td>\n      <td>16.3</td>\n      <td>LINESTRING (180252.127 670097.359, 180342.969 ...</td>\n    </tr>\n    <tr>\n      <th>8747</th>\n      <td>9651.0</td>\n      <td>55.993258</td>\n      <td>0.000000</td>\n      <td>0.000000</td>\n      <td>0</td>\n      <td>0</td>\n      <td>0</td>\n      <td>0</td>\n      <td>0</td>\n      <td>0</td>\n      <td>0.000000</td>\n      <td>0.107156</td>\n      <td>0.000000</td>\n      <td>1</td>\n      <td>2</td>\n      <td>1.4</td>\n      <td>LINESTRING (180204.072 670123.951, 180220.846 ...</td>\n    </tr>\n    <tr>\n      <th>8748</th>\n      <td>9658.0</td>\n      <td>1416.463909</td>\n      <td>12.661667</td>\n      <td>0.000000</td>\n      <td>0</td>\n      <td>0</td>\n      <td>0</td>\n      <td>0</td>\n      <td>0</td>\n      <td>0</td>\n      <td>0.002118</td>\n      <td>0.039535</td>\n      <td>0.390409</td>\n      <td>0</td>\n      <td>23</td>\n      <td>1.4</td>\n      <td>LINESTRING (180765.260 670000.467, 180830.127 ...</td>\n    </tr>\n    <tr>\n      <th>8749</th>\n      <td>9659.0</td>\n      <td>720.172594</td>\n      <td>17.560000</td>\n      <td>0.000000</td>\n      <td>0</td>\n      <td>0</td>\n      <td>0</td>\n      <td>0</td>\n      <td>0</td>\n      <td>0</td>\n      <td>0.004166</td>\n      <td>0.023605</td>\n      <td>0.279100</td>\n      <td>0</td>\n      <td>5</td>\n      <td>1.4</td>\n      <td>LINESTRING (181058.769 671381.112, 181091.908 ...</td>\n    </tr>\n    <tr>\n      <th>8750</th>\n      <td>9662.0</td>\n      <td>979.661687</td>\n      <td>16.378889</td>\n      <td>0.001021</td>\n      <td>4</td>\n      <td>2</td>\n      <td>0</td>\n      <td>2</td>\n      <td>7</td>\n      <td>0</td>\n      <td>0.006125</td>\n      <td>0.042872</td>\n      <td>0.103097</td>\n      <td>1</td>\n      <td>6</td>\n      <td>1.4</td>\n      <td>LINESTRING (180665.748 670989.905, 180717.768 ...</td>\n    </tr>\n  </tbody>\n</table>\n<p>8751 rows × 17 columns</p>\n</div>"
     },
     "execution_count": 34,
     "metadata": {},
     "output_type": "execute_result"
    }
   ],
   "source": [
    "network_data = gpd.read_file(r'output/streets_elements/streets_elements.shp')\n",
    "network_data[]"
   ],
   "metadata": {
    "collapsed": false,
    "pycharm": {
     "name": "#%%\n"
    }
   }
  },
  {
   "cell_type": "code",
   "execution_count": 36,
   "outputs": [
    {
     "data": {
      "text/plain": "      day part  ped_level  season  day  buildings  businesses  educationa  \\\n0            0          1       4    0  12.580000    0.000000           8   \n0            1          0       4    0  12.580000    0.000000           8   \n0            2          2       4    0  12.580000    0.000000           8   \n0            3          0       4    0  12.580000    0.000000           8   \n1            0          4       4    0  20.415000    0.000000           5   \n...        ...        ...     ...  ...        ...         ...         ...   \n8749         3          4       4    0  17.560000    0.000000           0   \n8750         0          4       4    0  16.378889    0.001021           4   \n8750         1          4       4    0  16.378889    0.001021           4   \n8750         2          4       4    0  16.378889    0.001021           4   \n8750         3          4       4    0  16.378889    0.001021           4   \n\n      Health_ser  Leisure_am  Playground  Sport_faci  synagogues  bus_statio  \\\n0              1           0           7           3           4    0.030481   \n0              1           0           7           3           4    0.030481   \n0              1           0           7           3           4    0.030481   \n0              1           0           7           3           4    0.030481   \n1              4           1           3           2           3    0.000000   \n...          ...         ...         ...         ...         ...         ...   \n8749           0           0           0           0           0    0.004166   \n8750           2           0           2           7           0    0.006125   \n8750           2           0           2           7           0    0.006125   \n8750           2           0           2           7           0    0.006125   \n8750           2           0           2           7           0    0.006125   \n\n      lighting     trees  bike_trail  parks  density  \n0     0.060961  0.000000           0     12      3.3  \n0     0.060961  0.000000           0     12      3.3  \n0     0.060961  0.000000           0     12      3.3  \n0     0.060961  0.000000           0     12      3.3  \n1     0.015801  0.015801           0      2     18.1  \n...        ...       ...         ...    ...      ...  \n8749  0.023605  0.279100           0      5      1.4  \n8750  0.042872  0.103097           1      6      1.4  \n8750  0.042872  0.103097           1      6      1.4  \n8750  0.042872  0.103097           1      6      1.4  \n8750  0.042872  0.103097           1      6      1.4  \n\n[31755 rows x 18 columns]",
      "text/html": "<div>\n<style scoped>\n    .dataframe tbody tr th:only-of-type {\n        vertical-align: middle;\n    }\n\n    .dataframe tbody tr th {\n        vertical-align: top;\n    }\n\n    .dataframe thead th {\n        text-align: right;\n    }\n</style>\n<table border=\"1\" class=\"dataframe\">\n  <thead>\n    <tr style=\"text-align: right;\">\n      <th></th>\n      <th>day part</th>\n      <th>ped_level</th>\n      <th>season</th>\n      <th>day</th>\n      <th>buildings</th>\n      <th>businesses</th>\n      <th>educationa</th>\n      <th>Health_ser</th>\n      <th>Leisure_am</th>\n      <th>Playground</th>\n      <th>Sport_faci</th>\n      <th>synagogues</th>\n      <th>bus_statio</th>\n      <th>lighting</th>\n      <th>trees</th>\n      <th>bike_trail</th>\n      <th>parks</th>\n      <th>density</th>\n    </tr>\n  </thead>\n  <tbody>\n    <tr>\n      <th>0</th>\n      <td>0</td>\n      <td>1</td>\n      <td>4</td>\n      <td>0</td>\n      <td>12.580000</td>\n      <td>0.000000</td>\n      <td>8</td>\n      <td>1</td>\n      <td>0</td>\n      <td>7</td>\n      <td>3</td>\n      <td>4</td>\n      <td>0.030481</td>\n      <td>0.060961</td>\n      <td>0.000000</td>\n      <td>0</td>\n      <td>12</td>\n      <td>3.3</td>\n    </tr>\n    <tr>\n      <th>0</th>\n      <td>1</td>\n      <td>0</td>\n      <td>4</td>\n      <td>0</td>\n      <td>12.580000</td>\n      <td>0.000000</td>\n      <td>8</td>\n      <td>1</td>\n      <td>0</td>\n      <td>7</td>\n      <td>3</td>\n      <td>4</td>\n      <td>0.030481</td>\n      <td>0.060961</td>\n      <td>0.000000</td>\n      <td>0</td>\n      <td>12</td>\n      <td>3.3</td>\n    </tr>\n    <tr>\n      <th>0</th>\n      <td>2</td>\n      <td>2</td>\n      <td>4</td>\n      <td>0</td>\n      <td>12.580000</td>\n      <td>0.000000</td>\n      <td>8</td>\n      <td>1</td>\n      <td>0</td>\n      <td>7</td>\n      <td>3</td>\n      <td>4</td>\n      <td>0.030481</td>\n      <td>0.060961</td>\n      <td>0.000000</td>\n      <td>0</td>\n      <td>12</td>\n      <td>3.3</td>\n    </tr>\n    <tr>\n      <th>0</th>\n      <td>3</td>\n      <td>0</td>\n      <td>4</td>\n      <td>0</td>\n      <td>12.580000</td>\n      <td>0.000000</td>\n      <td>8</td>\n      <td>1</td>\n      <td>0</td>\n      <td>7</td>\n      <td>3</td>\n      <td>4</td>\n      <td>0.030481</td>\n      <td>0.060961</td>\n      <td>0.000000</td>\n      <td>0</td>\n      <td>12</td>\n      <td>3.3</td>\n    </tr>\n    <tr>\n      <th>1</th>\n      <td>0</td>\n      <td>4</td>\n      <td>4</td>\n      <td>0</td>\n      <td>20.415000</td>\n      <td>0.000000</td>\n      <td>5</td>\n      <td>4</td>\n      <td>1</td>\n      <td>3</td>\n      <td>2</td>\n      <td>3</td>\n      <td>0.000000</td>\n      <td>0.015801</td>\n      <td>0.015801</td>\n      <td>0</td>\n      <td>2</td>\n      <td>18.1</td>\n    </tr>\n    <tr>\n      <th>...</th>\n      <td>...</td>\n      <td>...</td>\n      <td>...</td>\n      <td>...</td>\n      <td>...</td>\n      <td>...</td>\n      <td>...</td>\n      <td>...</td>\n      <td>...</td>\n      <td>...</td>\n      <td>...</td>\n      <td>...</td>\n      <td>...</td>\n      <td>...</td>\n      <td>...</td>\n      <td>...</td>\n      <td>...</td>\n      <td>...</td>\n    </tr>\n    <tr>\n      <th>8749</th>\n      <td>3</td>\n      <td>4</td>\n      <td>4</td>\n      <td>0</td>\n      <td>17.560000</td>\n      <td>0.000000</td>\n      <td>0</td>\n      <td>0</td>\n      <td>0</td>\n      <td>0</td>\n      <td>0</td>\n      <td>0</td>\n      <td>0.004166</td>\n      <td>0.023605</td>\n      <td>0.279100</td>\n      <td>0</td>\n      <td>5</td>\n      <td>1.4</td>\n    </tr>\n    <tr>\n      <th>8750</th>\n      <td>0</td>\n      <td>4</td>\n      <td>4</td>\n      <td>0</td>\n      <td>16.378889</td>\n      <td>0.001021</td>\n      <td>4</td>\n      <td>2</td>\n      <td>0</td>\n      <td>2</td>\n      <td>7</td>\n      <td>0</td>\n      <td>0.006125</td>\n      <td>0.042872</td>\n      <td>0.103097</td>\n      <td>1</td>\n      <td>6</td>\n      <td>1.4</td>\n    </tr>\n    <tr>\n      <th>8750</th>\n      <td>1</td>\n      <td>4</td>\n      <td>4</td>\n      <td>0</td>\n      <td>16.378889</td>\n      <td>0.001021</td>\n      <td>4</td>\n      <td>2</td>\n      <td>0</td>\n      <td>2</td>\n      <td>7</td>\n      <td>0</td>\n      <td>0.006125</td>\n      <td>0.042872</td>\n      <td>0.103097</td>\n      <td>1</td>\n      <td>6</td>\n      <td>1.4</td>\n    </tr>\n    <tr>\n      <th>8750</th>\n      <td>2</td>\n      <td>4</td>\n      <td>4</td>\n      <td>0</td>\n      <td>16.378889</td>\n      <td>0.001021</td>\n      <td>4</td>\n      <td>2</td>\n      <td>0</td>\n      <td>2</td>\n      <td>7</td>\n      <td>0</td>\n      <td>0.006125</td>\n      <td>0.042872</td>\n      <td>0.103097</td>\n      <td>1</td>\n      <td>6</td>\n      <td>1.4</td>\n    </tr>\n    <tr>\n      <th>8750</th>\n      <td>3</td>\n      <td>4</td>\n      <td>4</td>\n      <td>0</td>\n      <td>16.378889</td>\n      <td>0.001021</td>\n      <td>4</td>\n      <td>2</td>\n      <td>0</td>\n      <td>2</td>\n      <td>7</td>\n      <td>0</td>\n      <td>0.006125</td>\n      <td>0.042872</td>\n      <td>0.103097</td>\n      <td>1</td>\n      <td>6</td>\n      <td>1.4</td>\n    </tr>\n  </tbody>\n</table>\n<p>31755 rows × 18 columns</p>\n</div>"
     },
     "execution_count": 36,
     "metadata": {},
     "output_type": "execute_result"
    }
   ],
   "source": [
    "result = ml_data.set_index('ID').join(network_data, how='inner')\n",
    "ml_result = result.drop(columns=['oidrechov','length','geometry'])\n",
    "ml_result"
   ],
   "metadata": {
    "collapsed": false,
    "pycharm": {
     "name": "#%%\n"
    }
   }
  },
  {
   "cell_type": "code",
   "execution_count": 16,
   "outputs": [
    {
     "data": {
      "text/plain": "     Period        W    ID      trechov         shemangli  mslamas  tsug  \\\n0     APR21  WeekDay     0  ????? ?????   HARUGEY MALKHOT      336  ????   \n1     APR21  WeekDay     1      ???????         AMSTERDAM      516  ????   \n2     APR21  WeekDay     2    ???? ????      YIG'AL ALLON     2524  ????   \n3     APR21  WeekDay     3      ???????          MARGOLIN     2649  ????   \n4     APR21  WeekDay     4      ???????   HATASSIM DERAKH     2601   ???   \n...     ...      ...   ...          ...               ...      ...   ...   \n8536  APR21  WeekDay  8760        ?????            PROPES      185  ????   \n8537  APR21  WeekDay  8761        ?????            PROPES      185  ????   \n8538  APR21  WeekDay  8762   ???? ?????             NAMIR     1011   ???   \n8539  APR21  WeekDay  8763   ???? ?????             NAMIR     1011   ???   \n8540  APR21  WeekDay  8764  ????? ?????  PERSITZ SHOSHANA      276  ????   \n\n      kkivun   UniqueId  BUFF_DIST  ...  noon  afternoon  night  Sp_1_Morn  \\\n0          0  507-10001          8  ...     0          2      0        2.5   \n1          1  507-10003          8  ...     4          4      3        3.1   \n2          0  507-10004          8  ...     4          4      3        4.1   \n3          1  507-10005          8  ...     9          0      2        5.1   \n4          0  507-10006          8  ...     0          9      1        4.2   \n...      ...        ...        ...  ...   ...        ...    ...        ...   \n8536       0  507-21352          8  ...     2          1      0        4.0   \n8537       0  507-21351          8  ...     0          0      0        4.9   \n8538       0  507-21364          8  ...     4          4      3        3.8   \n8539       0  507-21363          8  ...     3          2      3        4.0   \n8540       0  507-20411          8  ...     4          2      3        3.8   \n\n      Sp_2_Noon  Sp_3_Aftrn  Sp_4_Nght  Daily_Avrg  \\\n0           2.9         3.9        2.7           1   \n1           3.3         3.4        4.3           4   \n2           3.5         4.3        3.7           4   \n3           NaN         4.6        2.8           1   \n4           3.9         NaN        2.9           0   \n...         ...         ...        ...         ...   \n8536        3.9         5.7        5.6           1   \n8537        3.7         5.0        4.0           0   \n8538        3.6         4.1        4.2           4   \n8539        4.5         3.9        4.2           2   \n8540        3.6         3.6        4.5           3   \n\n                                                    WKT  \\\n0     MULTILINESTRING ((34.832258364625 32.110044199...   \n1     MULTILINESTRING ((34.7789654994423 32.08671155...   \n2     MULTILINESTRING ((34.7966920352919 32.07740885...   \n3     MULTILINESTRING ((34.7937715205782 32.05852872...   \n4     MULTILINESTRING ((34.8135608057952 32.04579371...   \n...                                                 ...   \n8536  MULTILINESTRING ((34.7890680344983 32.12364294...   \n8537  MULTILINESTRING ((34.7885577252564 32.12388106...   \n8538  MULTILINESTRING ((34.7945094284509 32.12278692...   \n8539  MULTILINESTRING ((34.797564347166 32.135247199...   \n8540  MULTILINESTRING ((34.7934149384208 32.13170595...   \n\n                                               geometry  \n0     LINESTRING (184322.705 668574.483, 184351.736 ...  \n1     LINESTRING (179282.603 666005.717, 179343.283 ...  \n2     LINESTRING (180952.197 664967.670, 180964.041 ...  \n3     LINESTRING (180668.486 662875.092, 180748.697 ...  \n4     LINESTRING (182532.174 661455.967, 182514.127 ...  \n...                                                 ...  \n8536  LINESTRING (180252.127 670097.359, 180342.969 ...  \n8537  LINESTRING (180204.072 670123.951, 180220.846 ...  \n8538  LINESTRING (180765.260 670000.467, 180830.127 ...  \n8539  LINESTRING (181058.769 671381.112, 181091.908 ...  \n8540  LINESTRING (180665.748 670989.905, 180717.768 ...  \n\n[8541 rows x 21 columns]",
      "text/html": "<div>\n<style scoped>\n    .dataframe tbody tr th:only-of-type {\n        vertical-align: middle;\n    }\n\n    .dataframe tbody tr th {\n        vertical-align: top;\n    }\n\n    .dataframe thead th {\n        text-align: right;\n    }\n</style>\n<table border=\"1\" class=\"dataframe\">\n  <thead>\n    <tr style=\"text-align: right;\">\n      <th></th>\n      <th>Period</th>\n      <th>W</th>\n      <th>ID</th>\n      <th>trechov</th>\n      <th>shemangli</th>\n      <th>mslamas</th>\n      <th>tsug</th>\n      <th>kkivun</th>\n      <th>UniqueId</th>\n      <th>BUFF_DIST</th>\n      <th>...</th>\n      <th>noon</th>\n      <th>afternoon</th>\n      <th>night</th>\n      <th>Sp_1_Morn</th>\n      <th>Sp_2_Noon</th>\n      <th>Sp_3_Aftrn</th>\n      <th>Sp_4_Nght</th>\n      <th>Daily_Avrg</th>\n      <th>WKT</th>\n      <th>geometry</th>\n    </tr>\n  </thead>\n  <tbody>\n    <tr>\n      <th>0</th>\n      <td>APR21</td>\n      <td>WeekDay</td>\n      <td>0</td>\n      <td>????? ?????</td>\n      <td>HARUGEY MALKHOT</td>\n      <td>336</td>\n      <td>????</td>\n      <td>0</td>\n      <td>507-10001</td>\n      <td>8</td>\n      <td>...</td>\n      <td>0</td>\n      <td>2</td>\n      <td>0</td>\n      <td>2.5</td>\n      <td>2.9</td>\n      <td>3.9</td>\n      <td>2.7</td>\n      <td>1</td>\n      <td>MULTILINESTRING ((34.832258364625 32.110044199...</td>\n      <td>LINESTRING (184322.705 668574.483, 184351.736 ...</td>\n    </tr>\n    <tr>\n      <th>1</th>\n      <td>APR21</td>\n      <td>WeekDay</td>\n      <td>1</td>\n      <td>???????</td>\n      <td>AMSTERDAM</td>\n      <td>516</td>\n      <td>????</td>\n      <td>1</td>\n      <td>507-10003</td>\n      <td>8</td>\n      <td>...</td>\n      <td>4</td>\n      <td>4</td>\n      <td>3</td>\n      <td>3.1</td>\n      <td>3.3</td>\n      <td>3.4</td>\n      <td>4.3</td>\n      <td>4</td>\n      <td>MULTILINESTRING ((34.7789654994423 32.08671155...</td>\n      <td>LINESTRING (179282.603 666005.717, 179343.283 ...</td>\n    </tr>\n    <tr>\n      <th>2</th>\n      <td>APR21</td>\n      <td>WeekDay</td>\n      <td>2</td>\n      <td>???? ????</td>\n      <td>YIG'AL ALLON</td>\n      <td>2524</td>\n      <td>????</td>\n      <td>0</td>\n      <td>507-10004</td>\n      <td>8</td>\n      <td>...</td>\n      <td>4</td>\n      <td>4</td>\n      <td>3</td>\n      <td>4.1</td>\n      <td>3.5</td>\n      <td>4.3</td>\n      <td>3.7</td>\n      <td>4</td>\n      <td>MULTILINESTRING ((34.7966920352919 32.07740885...</td>\n      <td>LINESTRING (180952.197 664967.670, 180964.041 ...</td>\n    </tr>\n    <tr>\n      <th>3</th>\n      <td>APR21</td>\n      <td>WeekDay</td>\n      <td>3</td>\n      <td>???????</td>\n      <td>MARGOLIN</td>\n      <td>2649</td>\n      <td>????</td>\n      <td>1</td>\n      <td>507-10005</td>\n      <td>8</td>\n      <td>...</td>\n      <td>9</td>\n      <td>0</td>\n      <td>2</td>\n      <td>5.1</td>\n      <td>NaN</td>\n      <td>4.6</td>\n      <td>2.8</td>\n      <td>1</td>\n      <td>MULTILINESTRING ((34.7937715205782 32.05852872...</td>\n      <td>LINESTRING (180668.486 662875.092, 180748.697 ...</td>\n    </tr>\n    <tr>\n      <th>4</th>\n      <td>APR21</td>\n      <td>WeekDay</td>\n      <td>4</td>\n      <td>???????</td>\n      <td>HATASSIM DERAKH</td>\n      <td>2601</td>\n      <td>???</td>\n      <td>0</td>\n      <td>507-10006</td>\n      <td>8</td>\n      <td>...</td>\n      <td>0</td>\n      <td>9</td>\n      <td>1</td>\n      <td>4.2</td>\n      <td>3.9</td>\n      <td>NaN</td>\n      <td>2.9</td>\n      <td>0</td>\n      <td>MULTILINESTRING ((34.8135608057952 32.04579371...</td>\n      <td>LINESTRING (182532.174 661455.967, 182514.127 ...</td>\n    </tr>\n    <tr>\n      <th>...</th>\n      <td>...</td>\n      <td>...</td>\n      <td>...</td>\n      <td>...</td>\n      <td>...</td>\n      <td>...</td>\n      <td>...</td>\n      <td>...</td>\n      <td>...</td>\n      <td>...</td>\n      <td>...</td>\n      <td>...</td>\n      <td>...</td>\n      <td>...</td>\n      <td>...</td>\n      <td>...</td>\n      <td>...</td>\n      <td>...</td>\n      <td>...</td>\n      <td>...</td>\n      <td>...</td>\n    </tr>\n    <tr>\n      <th>8536</th>\n      <td>APR21</td>\n      <td>WeekDay</td>\n      <td>8760</td>\n      <td>?????</td>\n      <td>PROPES</td>\n      <td>185</td>\n      <td>????</td>\n      <td>0</td>\n      <td>507-21352</td>\n      <td>8</td>\n      <td>...</td>\n      <td>2</td>\n      <td>1</td>\n      <td>0</td>\n      <td>4.0</td>\n      <td>3.9</td>\n      <td>5.7</td>\n      <td>5.6</td>\n      <td>1</td>\n      <td>MULTILINESTRING ((34.7890680344983 32.12364294...</td>\n      <td>LINESTRING (180252.127 670097.359, 180342.969 ...</td>\n    </tr>\n    <tr>\n      <th>8537</th>\n      <td>APR21</td>\n      <td>WeekDay</td>\n      <td>8761</td>\n      <td>?????</td>\n      <td>PROPES</td>\n      <td>185</td>\n      <td>????</td>\n      <td>0</td>\n      <td>507-21351</td>\n      <td>8</td>\n      <td>...</td>\n      <td>0</td>\n      <td>0</td>\n      <td>0</td>\n      <td>4.9</td>\n      <td>3.7</td>\n      <td>5.0</td>\n      <td>4.0</td>\n      <td>0</td>\n      <td>MULTILINESTRING ((34.7885577252564 32.12388106...</td>\n      <td>LINESTRING (180204.072 670123.951, 180220.846 ...</td>\n    </tr>\n    <tr>\n      <th>8538</th>\n      <td>APR21</td>\n      <td>WeekDay</td>\n      <td>8762</td>\n      <td>???? ?????</td>\n      <td>NAMIR</td>\n      <td>1011</td>\n      <td>???</td>\n      <td>0</td>\n      <td>507-21364</td>\n      <td>8</td>\n      <td>...</td>\n      <td>4</td>\n      <td>4</td>\n      <td>3</td>\n      <td>3.8</td>\n      <td>3.6</td>\n      <td>4.1</td>\n      <td>4.2</td>\n      <td>4</td>\n      <td>MULTILINESTRING ((34.7945094284509 32.12278692...</td>\n      <td>LINESTRING (180765.260 670000.467, 180830.127 ...</td>\n    </tr>\n    <tr>\n      <th>8539</th>\n      <td>APR21</td>\n      <td>WeekDay</td>\n      <td>8763</td>\n      <td>???? ?????</td>\n      <td>NAMIR</td>\n      <td>1011</td>\n      <td>???</td>\n      <td>0</td>\n      <td>507-21363</td>\n      <td>8</td>\n      <td>...</td>\n      <td>3</td>\n      <td>2</td>\n      <td>3</td>\n      <td>4.0</td>\n      <td>4.5</td>\n      <td>3.9</td>\n      <td>4.2</td>\n      <td>2</td>\n      <td>MULTILINESTRING ((34.797564347166 32.135247199...</td>\n      <td>LINESTRING (181058.769 671381.112, 181091.908 ...</td>\n    </tr>\n    <tr>\n      <th>8540</th>\n      <td>APR21</td>\n      <td>WeekDay</td>\n      <td>8764</td>\n      <td>????? ?????</td>\n      <td>PERSITZ SHOSHANA</td>\n      <td>276</td>\n      <td>????</td>\n      <td>0</td>\n      <td>507-20411</td>\n      <td>8</td>\n      <td>...</td>\n      <td>4</td>\n      <td>2</td>\n      <td>3</td>\n      <td>3.8</td>\n      <td>3.6</td>\n      <td>3.6</td>\n      <td>4.5</td>\n      <td>3</td>\n      <td>MULTILINESTRING ((34.7934149384208 32.13170595...</td>\n      <td>LINESTRING (180665.748 670989.905, 180717.768 ...</td>\n    </tr>\n  </tbody>\n</table>\n<p>8541 rows × 21 columns</p>\n</div>"
     },
     "execution_count": 16,
     "metadata": {},
     "output_type": "execute_result"
    }
   ],
   "source": [
    "gpd.read_file(r'output/moovit/APR21WeekDay.shp')"
   ],
   "metadata": {
    "collapsed": false,
    "pycharm": {
     "name": "#%%\n"
    }
   }
  },
  {
   "cell_type": "code",
   "execution_count": null,
   "outputs": [],
   "source": [],
   "metadata": {
    "collapsed": false,
    "pycharm": {
     "name": "#%%\n"
    }
   }
  }
 ],
 "metadata": {
  "kernelspec": {
   "display_name": "Python 3",
   "language": "python",
   "name": "python3"
  },
  "language_info": {
   "codemirror_mode": {
    "name": "ipython",
    "version": 2
   },
   "file_extension": ".py",
   "mimetype": "text/x-python",
   "name": "python",
   "nbconvert_exporter": "python",
   "pygments_lexer": "ipython2",
   "version": "2.7.6"
  }
 },
 "nbformat": 4,
 "nbformat_minor": 0
}