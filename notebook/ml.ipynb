{
 "cells": [
  {
   "cell_type": "code",
   "execution_count": 27,
   "outputs": [],
   "source": [
    "import geopandas as gpd\n",
    "from geopandas import GeoDataFrame, GeoSeries\n",
    "import calendar\n",
    "from pandas import DataFrame\n",
    "import glob\n",
    "\n",
    "import warnings\n",
    "warnings.filterwarnings(action='ignore')\n",
    "\n",
    "# fields names\n",
    "ped_level= 'ped_level'\n"
   ],
   "metadata": {
    "collapsed": false,
    "pycharm": {
     "name": "#%%\n"
    }
   }
  },
  {
   "cell_type": "markdown",
   "source": [
    "### get time features and ped level from moovit data"
   ],
   "metadata": {
    "collapsed": false,
    "pycharm": {
     "name": "#%% md\n"
    }
   }
  },
  {
   "cell_type": "code",
   "execution_count": 3,
   "outputs": [],
   "source": [
    "\n",
    "cols_to_use =['Period','W', 'ID', 'morning', 'noon', 'afternoon','night']\n",
    "moovit_data = [gpd.read_file(x)[cols_to_use] for x in glob.glob(r'output/moovit/*.shp') ]"
   ],
   "metadata": {
    "collapsed": false,
    "pycharm": {
     "name": "#%%\n"
    }
   }
  },
  {
   "cell_type": "code",
   "execution_count": 10,
   "outputs": [
    {
     "data": {
      "text/plain": "[     Period        W    ID  morning  noon  afternoon  night  season  day\n 0     APR21  WeekDay     0        1     0          2      0       2    0\n 1     APR21  WeekDay     1        4     4          4      3       2    0\n 2     APR21  WeekDay     2        4     4          4      3       2    0\n 3     APR21  WeekDay     3        1     9          0      2       2    0\n 4     APR21  WeekDay     4        0     0          9      1       2    0\n ...     ...      ...   ...      ...   ...        ...    ...     ...  ...\n 8536  APR21  WeekDay  8760        3     2          1      0       2    0\n 8537  APR21  WeekDay  8761        0     0          0      0       2    0\n 8538  APR21  WeekDay  8762        4     4          4      3       2    0\n 8539  APR21  WeekDay  8763        2     3          2      3       2    0\n 8540  APR21  WeekDay  8764        3     4          2      3       2    0\n \n [8541 rows x 9 columns],\n      Period        W    ID  morning  noon  afternoon  night  season  day\n 0     APR21  WeekEnd     0        0     9          9      9       2    1\n 1     APR21  WeekEnd     1        3     2          3      3       2    1\n 2     APR21  WeekEnd     2        2     1          1      0       2    1\n 3     APR21  WeekEnd     3        0     9          9      0       2    1\n 4     APR21  WeekEnd     4        0     9          0      9       2    1\n ...     ...      ...   ...      ...   ...        ...    ...     ...  ...\n 8033  APR21  WeekEnd  8760        0     0          9      9       2    1\n 8034  APR21  WeekEnd  8761        0     1          9      9       2    1\n 8035  APR21  WeekEnd  8762        2     2          2      1       2    1\n 8036  APR21  WeekEnd  8763        1     0          9      9       2    1\n 8037  APR21  WeekEnd  8764        0     9          9      3       2    1\n \n [8038 rows x 9 columns],\n      Period        W    ID  morning  noon  afternoon  night  season  day\n 0     DEC21  WeekDay     0        2     2          2      1       1    0\n 1     DEC21  WeekDay     1        4     4          4      3       1    0\n 2     DEC21  WeekDay     2        3     1          2      0       1    0\n 3     DEC21  WeekDay     3        3     2          0      1       1    0\n 4     DEC21  WeekDay     4        1     0          2      9       1    0\n ...     ...      ...   ...      ...   ...        ...    ...     ...  ...\n 8535  DEC21  WeekDay  8760        0     0          9      0       1    0\n 8536  DEC21  WeekDay  8761        1     9          9      9       1    0\n 8537  DEC21  WeekDay  8762        4     4          4      3       1    0\n 8538  DEC21  WeekDay  8763        3     3          1      1       1    0\n 8539  DEC21  WeekDay  8764        3     4          2      1       1    0\n \n [8540 rows x 9 columns],\n      Period        W    ID  morning  noon  afternoon  night  season  day\n 0     DEC21  WeekEnd     0        0     2          1      9       1    1\n 1     DEC21  WeekEnd     1        2     1          0      9       1    1\n 2     DEC21  WeekEnd     2        0     0          9      9       1    1\n 3     DEC21  WeekEnd     3        1     0          0      0       1    1\n 4     DEC21  WeekEnd     5        0     9          0      9       1    1\n ...     ...      ...   ...      ...   ...        ...    ...     ...  ...\n 8098  DEC21  WeekEnd  8759        2     1          3      2       1    1\n 8099  DEC21  WeekEnd  8761        0     9          9      9       1    1\n 8100  DEC21  WeekEnd  8762        2     2          2      1       1    1\n 8101  DEC21  WeekEnd  8763        0     1          2      1       1    1\n 8102  DEC21  WeekEnd  8764        0     0          1      9       1    1\n \n [8103 rows x 9 columns],\n      Period        W    ID  morning  noon  afternoon  night  season  day\n 0     JAN22  WeekDay     0        1     1          2      1       1    0\n 1     JAN22  WeekDay     1        4     4          4      2       1    0\n 2     JAN22  WeekDay     2        4     3          2      2       1    0\n 3     JAN22  WeekDay     3        2     2          1      1       1    0\n 4     JAN22  WeekDay     4        1     0          1      9       1    0\n ...     ...      ...   ...      ...   ...        ...    ...     ...  ...\n 8560  JAN22  WeekDay  8760        1     2          1      9       1    0\n 8561  JAN22  WeekDay  8761        0     2          0      9       1    0\n 8562  JAN22  WeekDay  8762        4     4          4      3       1    0\n 8563  JAN22  WeekDay  8763        2     3          3      1       1    0\n 8564  JAN22  WeekDay  8764        3     3          9      2       1    0\n \n [8565 rows x 9 columns],\n      Period        W    ID  morning  noon  afternoon  night  season  day\n 0     JAN22  WeekEnd     0        1     1          0      9       1    1\n 1     JAN22  WeekEnd     1        1     1          1      1       1    1\n 2     JAN22  WeekEnd     2        1     2          0      1       1    1\n 3     JAN22  WeekEnd     3        0     0          3      9       1    1\n 4     JAN22  WeekEnd     4        0     9          0      9       1    1\n ...     ...      ...   ...      ...   ...        ...    ...     ...  ...\n 8114  JAN22  WeekEnd  8760        0     0          9      9       1    1\n 8115  JAN22  WeekEnd  8761        0     0          9      9       1    1\n 8116  JAN22  WeekEnd  8762        3     3          3      3       1    1\n 8117  JAN22  WeekEnd  8763        2     1          2      9       1    1\n 8118  JAN22  WeekEnd  8764        0     3          9      0       1    1\n \n [8119 rows x 9 columns],\n      Period        W    ID  morning  noon  afternoon  night  season  day\n 0     JUL21  WeekDay     0        2     1          4      1       3    0\n 1     JUL21  WeekDay     1        4     4          4      2       3    0\n 2     JUL21  WeekDay     2        4     3          4      3       3    0\n 3     JUL21  WeekDay     3        2     0          3      1       3    0\n 4     JUL21  WeekDay     4        1     2          1      0       3    0\n ...     ...      ...   ...      ...   ...        ...    ...     ...  ...\n 8577  JUL21  WeekDay  8760        0     9          1      0       3    0\n 8578  JUL21  WeekDay  8761        0     0          1      9       3    0\n 8579  JUL21  WeekDay  8762        4     4          4      4       3    0\n 8580  JUL21  WeekDay  8763        4     3          3      2       3    0\n 8581  JUL21  WeekDay  8764        4     4          3      2       3    0\n \n [8582 rows x 9 columns],\n      Period        W    ID  morning  noon  afternoon  night  season  day\n 0     JUL21  WeekEnd     0        0     9          9      0       3    1\n 1     JUL21  WeekEnd     1        3     9          1      1       3    1\n 2     JUL21  WeekEnd     2        1     1          1      0       3    1\n 3     JUL21  WeekEnd     3        2     0          1      9       3    1\n 4     JUL21  WeekEnd     4        0     9          9      0       3    1\n ...     ...      ...   ...      ...   ...        ...    ...     ...  ...\n 7991  JUL21  WeekEnd  8759        0     3          1      0       3    1\n 7992  JUL21  WeekEnd  8761        1     9          9      9       3    1\n 7993  JUL21  WeekEnd  8762        3     2          3      1       3    1\n 7994  JUL21  WeekEnd  8763        1     0          2      0       3    1\n 7995  JUL21  WeekEnd  8764        0     9          9      0       3    1\n \n [7996 rows x 9 columns],\n      Period        W    ID  morning  noon  afternoon  night  season  day\n 0     JUN21  WeekDay     0        1     1          2      1       3    0\n 1     JUN21  WeekDay     1        4     4          4      2       3    0\n 2     JUN21  WeekDay     2        4     3          4      3       3    0\n 3     JUN21  WeekDay     3        3     3          2      1       3    0\n 4     JUN21  WeekDay     4        1     0          1      9       3    0\n ...     ...      ...   ...      ...   ...        ...    ...     ...  ...\n 8578  JUN21  WeekDay  8760        2     0          1      9       3    0\n 8579  JUN21  WeekDay  8761        0     9          0      0       3    0\n 8580  JUN21  WeekDay  8762        4     4          4      2       3    0\n 8581  JUN21  WeekDay  8763        4     3          1      1       3    0\n 8582  JUN21  WeekDay  8764        3     4          3      2       3    0\n \n [8583 rows x 9 columns],\n      Period        W    ID  morning  noon  afternoon  night  season  day\n 0     JUN21  WeekEnd     0        0     0          0      9       3    1\n 1     JUN21  WeekEnd     1        3     1          1      1       3    1\n 2     JUN21  WeekEnd     2        1     1          9      0       3    1\n 3     JUN21  WeekEnd     3        1     1          0      2       3    1\n 4     JUN21  WeekEnd     4        0     9          9      9       3    1\n ...     ...      ...   ...      ...   ...        ...    ...     ...  ...\n 8115  JUN21  WeekEnd  8760        0     9          1      9       3    1\n 8116  JUN21  WeekEnd  8761        0     9          0      9       3    1\n 8117  JUN21  WeekEnd  8762        3     3          3      4       3    1\n 8118  JUN21  WeekEnd  8763        1     0          3      1       3    1\n 8119  JUN21  WeekEnd  8764        0     9          0      0       3    1\n \n [8120 rows x 9 columns],\n      Period        W    ID  morning  noon  afternoon  night  season  day\n 0     MAR21  WeekDay     0        1     2          1      0       2    0\n 1     MAR21  WeekDay     1        4     4          3      2       2    0\n 2     MAR21  WeekDay     2        4     3          4      2       2    0\n 3     MAR21  WeekDay     3        2     0          2      3       2    0\n 4     MAR21  WeekDay     4        1     1          1      0       2    0\n ...     ...      ...   ...      ...   ...        ...    ...     ...  ...\n 8547  MAR21  WeekDay  8759        3     1          3      2       2    0\n 8548  MAR21  WeekDay  8761        0     9          0      0       2    0\n 8549  MAR21  WeekDay  8762        4     4          4      3       2    0\n 8550  MAR21  WeekDay  8763        3     3          3      0       2    0\n 8551  MAR21  WeekDay  8764        3     3          1      9       2    0\n \n [8552 rows x 9 columns],\n      Period        W    ID  morning  noon  afternoon  night  season  day\n 0     MAR21  WeekEnd     0        0     9          9      9       2    1\n 1     MAR21  WeekEnd     1        2     2          1      2       2    1\n 2     MAR21  WeekEnd     2        1     1          0      1       2    1\n 3     MAR21  WeekEnd     3        0     9          9      0       2    1\n 4     MAR21  WeekEnd     4        0     9          1      9       2    1\n ...     ...      ...   ...      ...   ...        ...    ...     ...  ...\n 7965  MAR21  WeekEnd  8758        0     0          9      9       2    1\n 7966  MAR21  WeekEnd  8759        1     4          2      0       2    1\n 7967  MAR21  WeekEnd  8762        3     2          2      1       2    1\n 7968  MAR21  WeekEnd  8763        2     1          2      0       2    1\n 7969  MAR21  WeekEnd  8764        1     0          1      9       2    1\n \n [7970 rows x 9 columns],\n      Period        W    ID  morning  noon  afternoon  night  season  day\n 0     NOV21  WeekDay     0        2     0          1      1       0    0\n 1     NOV21  WeekDay     1        4     4          4      2       0    0\n 2     NOV21  WeekDay     2        4     4          4      3       0    0\n 3     NOV21  WeekDay     3        2     2          2      1       0    0\n 4     NOV21  WeekDay     4        0     1          1      0       0    0\n ...     ...      ...   ...      ...   ...        ...    ...     ...  ...\n 8588  NOV21  WeekDay  8760        1     9          0      9       0    0\n 8589  NOV21  WeekDay  8761        0     0          9      9       0    0\n 8590  NOV21  WeekDay  8762        4     4          4      4       0    0\n 8591  NOV21  WeekDay  8763        4     3          3      2       0    0\n 8592  NOV21  WeekDay  8764        4     4          2      2       0    0\n \n [8593 rows x 9 columns],\n      Period        W    ID  morning  noon  afternoon  night  season  day\n 0     NOV21  WeekEnd     0        1     1          0      9       0    1\n 1     NOV21  WeekEnd     1        2     1          3      1       0    1\n 2     NOV21  WeekEnd     2        3     0          0      0       0    1\n 3     NOV21  WeekEnd     3        1     9          9      9       0    1\n 4     NOV21  WeekEnd     4        1     0          0      0       0    1\n ...     ...      ...   ...      ...   ...        ...    ...     ...  ...\n 8134  NOV21  WeekEnd  8759        2     2          1      2       0    1\n 8135  NOV21  WeekEnd  8760        0     9          9      9       0    1\n 8136  NOV21  WeekEnd  8762        4     2          3      2       0    1\n 8137  NOV21  WeekEnd  8763        1     1          9      1       0    1\n 8138  NOV21  WeekEnd  8764        1     9          0      9       0    1\n \n [8139 rows x 9 columns],\n      Period        W    ID  morning  noon  afternoon  night  season  day\n 0     OCT21  WeekDay     0        3     3          3      2       0    0\n 1     OCT21  WeekDay     1        4     3          4      4       0    0\n 2     OCT21  WeekDay     2        4     3          4      2       0    0\n 3     OCT21  WeekDay     3        3     2          3      1       0    0\n 4     OCT21  WeekDay     4        1     1          2      2       0    0\n ...     ...      ...   ...      ...   ...        ...    ...     ...  ...\n 8590  OCT21  WeekDay  8760        1     9          1      9       0    0\n 8591  OCT21  WeekDay  8761        0     0          9      9       0    0\n 8592  OCT21  WeekDay  8762        4     4          4      3       0    0\n 8593  OCT21  WeekDay  8763        3     2          2      2       0    0\n 8594  OCT21  WeekDay  8764        4     4          4      2       0    0\n \n [8595 rows x 9 columns],\n      Period        W    ID  morning  noon  afternoon  night  season  day\n 0     OCT21  WeekEnd     0        0     0          0      0       0    1\n 1     OCT21  WeekEnd     1        3     2          1      2       0    1\n 2     OCT21  WeekEnd     2        0     2          0      0       0    1\n 3     OCT21  WeekEnd     3        0     1          0      0       0    1\n 4     OCT21  WeekEnd     4        0     9          9      9       0    1\n ...     ...      ...   ...      ...   ...        ...    ...     ...  ...\n 8095  OCT21  WeekEnd  8760        0     0          0      9       0    1\n 8096  OCT21  WeekEnd  8761        0     9          0      9       0    1\n 8097  OCT21  WeekEnd  8762        3     2          1      2       0    1\n 8098  OCT21  WeekEnd  8763        1     1          0      1       0    1\n 8099  OCT21  WeekEnd  8764        0     2          9      0       0    1\n \n [8100 rows x 9 columns]]"
     },
     "execution_count": 10,
     "metadata": {},
     "output_type": "execute_result"
    }
   ],
   "source": [
    "# Calculate season predictor\n",
    "month_name = [x for x in calendar.month_abbr]\n",
    "for moovit_file in moovit_data:\n",
    "    month = month_name.index(moovit_file['Period'][0][:3].lower().capitalize())\n",
    "    if month in [12, 1, 2]:\n",
    "        season = 1\n",
    "    elif month in [3, 4, 5]:\n",
    "        season = 2\n",
    "    elif month in [6, 7, 8]:\n",
    "        season = 3\n",
    "    else:\n",
    "        season = 0\n",
    "    moovit_file['season'] =  season\n",
    "    # Encode W columns\n",
    "    moovit_file['day'] = 0 if moovit_file['W'][0]=='WeekDay'else 1\n",
    "moovit_data"
   ],
   "metadata": {
    "collapsed": false,
    "pycharm": {
     "name": "#%%\n"
    }
   }
  },
  {
   "cell_type": "code",
   "execution_count": 13,
   "outputs": [
    {
     "data": {
      "text/plain": "          ID  day part  season  day  ped_level\n0          0         0       2    0          1\n1          0         1       2    0          0\n2          0         2       2    0          2\n3          0         3       2    0          0\n4          1         0       2    0          4\n...      ...       ...     ...  ...        ...\n474545  8763         2       0    1          0\n474546  8763         3       0    1          1\n474547  8764         0       0    1          0\n474548  8764         1       0    1          2\n474549  8764         3       0    1          0\n\n[474550 rows x 5 columns]",
      "text/html": "<div>\n<style scoped>\n    .dataframe tbody tr th:only-of-type {\n        vertical-align: middle;\n    }\n\n    .dataframe tbody tr th {\n        vertical-align: top;\n    }\n\n    .dataframe thead th {\n        text-align: right;\n    }\n</style>\n<table border=\"1\" class=\"dataframe\">\n  <thead>\n    <tr style=\"text-align: right;\">\n      <th></th>\n      <th>ID</th>\n      <th>day part</th>\n      <th>season</th>\n      <th>day</th>\n      <th>ped_level</th>\n    </tr>\n  </thead>\n  <tbody>\n    <tr>\n      <th>0</th>\n      <td>0</td>\n      <td>0</td>\n      <td>2</td>\n      <td>0</td>\n      <td>1</td>\n    </tr>\n    <tr>\n      <th>1</th>\n      <td>0</td>\n      <td>1</td>\n      <td>2</td>\n      <td>0</td>\n      <td>0</td>\n    </tr>\n    <tr>\n      <th>2</th>\n      <td>0</td>\n      <td>2</td>\n      <td>2</td>\n      <td>0</td>\n      <td>2</td>\n    </tr>\n    <tr>\n      <th>3</th>\n      <td>0</td>\n      <td>3</td>\n      <td>2</td>\n      <td>0</td>\n      <td>0</td>\n    </tr>\n    <tr>\n      <th>4</th>\n      <td>1</td>\n      <td>0</td>\n      <td>2</td>\n      <td>0</td>\n      <td>4</td>\n    </tr>\n    <tr>\n      <th>...</th>\n      <td>...</td>\n      <td>...</td>\n      <td>...</td>\n      <td>...</td>\n      <td>...</td>\n    </tr>\n    <tr>\n      <th>474545</th>\n      <td>8763</td>\n      <td>2</td>\n      <td>0</td>\n      <td>1</td>\n      <td>0</td>\n    </tr>\n    <tr>\n      <th>474546</th>\n      <td>8763</td>\n      <td>3</td>\n      <td>0</td>\n      <td>1</td>\n      <td>1</td>\n    </tr>\n    <tr>\n      <th>474547</th>\n      <td>8764</td>\n      <td>0</td>\n      <td>0</td>\n      <td>1</td>\n      <td>0</td>\n    </tr>\n    <tr>\n      <th>474548</th>\n      <td>8764</td>\n      <td>1</td>\n      <td>0</td>\n      <td>1</td>\n      <td>2</td>\n    </tr>\n    <tr>\n      <th>474549</th>\n      <td>8764</td>\n      <td>3</td>\n      <td>0</td>\n      <td>1</td>\n      <td>0</td>\n    </tr>\n  </tbody>\n</table>\n<p>474550 rows × 5 columns</p>\n</div>"
     },
     "execution_count": 13,
     "metadata": {},
     "output_type": "execute_result"
    }
   ],
   "source": [
    "# flat the data so each ped level would be in a new row\n",
    "def rearrange_data(row):\n",
    "    r\"\"\"\n",
    "    :param row:\n",
    "    :return:\n",
    "    \"\"\"\n",
    "    id= row['ID']\n",
    "    def add_row(day_part,ped_level_val):\n",
    "        r\"\"\"\n",
    "        if the ped level is not 9 add new line to the list with ID, day part and ped level\n",
    "        :param day_part:\n",
    "        :param ped_level:\n",
    "        :return:\n",
    "        \"\"\"\n",
    "        if ped_level!=9:\n",
    "            data_for_ml.append([id,day_part,row['season'],row['day'],ped_level_val])\n",
    "    [add_row(x,row[x+3]) for x in range(4)]\n",
    "\n",
    "data_for_ml = []\n",
    "_ = [moovit_file.apply(rearrange_data,axis=1) for moovit_file in moovit_data]\n",
    "ml_data = DataFrame(data_for_ml,columns=['ID','day part','season','day',ped_level])\n",
    "ml_data"
   ],
   "metadata": {
    "collapsed": false,
    "pycharm": {
     "name": "#%%\n"
    }
   }
  },
  {
   "cell_type": "code",
   "execution_count": 18,
   "outputs": [
    {
     "data": {
      "text/plain": "      day part  season  day  buildings  businesses  educationa  Health_ser  \\\n0            0       2    0  12.580000    0.000000           8           1   \n0            1       2    0  12.580000    0.000000           8           1   \n0            2       2    0  12.580000    0.000000           8           1   \n0            3       2    0  12.580000    0.000000           8           1   \n0            0       2    1  12.580000    0.000000           8           1   \n...        ...     ...  ...        ...         ...         ...         ...   \n8750         3       0    0  16.378889    0.001021           4           2   \n8750         0       0    1  16.378889    0.001021           4           2   \n8750         1       0    1  16.378889    0.001021           4           2   \n8750         2       0    1  16.378889    0.001021           4           2   \n8750         3       0    1  16.378889    0.001021           4           2   \n\n      Leisure_am  Playground  Sport_faci  synagogues  bus_statio  lighting  \\\n0              0           7           3           4    0.030481  0.060961   \n0              0           7           3           4    0.030481  0.060961   \n0              0           7           3           4    0.030481  0.060961   \n0              0           7           3           4    0.030481  0.060961   \n0              0           7           3           4    0.030481  0.060961   \n...          ...         ...         ...         ...         ...       ...   \n8750           0           2           7           0    0.006125  0.042872   \n8750           0           2           7           0    0.006125  0.042872   \n8750           0           2           7           0    0.006125  0.042872   \n8750           0           2           7           0    0.006125  0.042872   \n8750           0           2           7           0    0.006125  0.042872   \n\n         trees  bike_trail  parks  density  ped_level  \n0     0.000000           0     12      3.3          1  \n0     0.000000           0     12      3.3          0  \n0     0.000000           0     12      3.3          2  \n0     0.000000           0     12      3.3          0  \n0     0.000000           0     12      3.3          0  \n...        ...         ...    ...      ...        ...  \n8750  0.103097           1      6      1.4          4  \n8750  0.103097           1      6      1.4          4  \n8750  0.103097           1      6      1.4          4  \n8750  0.103097           1      6      1.4          4  \n8750  0.103097           1      6      1.4          4  \n\n[473800 rows x 18 columns]",
      "text/html": "<div>\n<style scoped>\n    .dataframe tbody tr th:only-of-type {\n        vertical-align: middle;\n    }\n\n    .dataframe tbody tr th {\n        vertical-align: top;\n    }\n\n    .dataframe thead th {\n        text-align: right;\n    }\n</style>\n<table border=\"1\" class=\"dataframe\">\n  <thead>\n    <tr style=\"text-align: right;\">\n      <th></th>\n      <th>day part</th>\n      <th>season</th>\n      <th>day</th>\n      <th>buildings</th>\n      <th>businesses</th>\n      <th>educationa</th>\n      <th>Health_ser</th>\n      <th>Leisure_am</th>\n      <th>Playground</th>\n      <th>Sport_faci</th>\n      <th>synagogues</th>\n      <th>bus_statio</th>\n      <th>lighting</th>\n      <th>trees</th>\n      <th>bike_trail</th>\n      <th>parks</th>\n      <th>density</th>\n      <th>ped_level</th>\n    </tr>\n  </thead>\n  <tbody>\n    <tr>\n      <th>0</th>\n      <td>0</td>\n      <td>2</td>\n      <td>0</td>\n      <td>12.580000</td>\n      <td>0.000000</td>\n      <td>8</td>\n      <td>1</td>\n      <td>0</td>\n      <td>7</td>\n      <td>3</td>\n      <td>4</td>\n      <td>0.030481</td>\n      <td>0.060961</td>\n      <td>0.000000</td>\n      <td>0</td>\n      <td>12</td>\n      <td>3.3</td>\n      <td>1</td>\n    </tr>\n    <tr>\n      <th>0</th>\n      <td>1</td>\n      <td>2</td>\n      <td>0</td>\n      <td>12.580000</td>\n      <td>0.000000</td>\n      <td>8</td>\n      <td>1</td>\n      <td>0</td>\n      <td>7</td>\n      <td>3</td>\n      <td>4</td>\n      <td>0.030481</td>\n      <td>0.060961</td>\n      <td>0.000000</td>\n      <td>0</td>\n      <td>12</td>\n      <td>3.3</td>\n      <td>0</td>\n    </tr>\n    <tr>\n      <th>0</th>\n      <td>2</td>\n      <td>2</td>\n      <td>0</td>\n      <td>12.580000</td>\n      <td>0.000000</td>\n      <td>8</td>\n      <td>1</td>\n      <td>0</td>\n      <td>7</td>\n      <td>3</td>\n      <td>4</td>\n      <td>0.030481</td>\n      <td>0.060961</td>\n      <td>0.000000</td>\n      <td>0</td>\n      <td>12</td>\n      <td>3.3</td>\n      <td>2</td>\n    </tr>\n    <tr>\n      <th>0</th>\n      <td>3</td>\n      <td>2</td>\n      <td>0</td>\n      <td>12.580000</td>\n      <td>0.000000</td>\n      <td>8</td>\n      <td>1</td>\n      <td>0</td>\n      <td>7</td>\n      <td>3</td>\n      <td>4</td>\n      <td>0.030481</td>\n      <td>0.060961</td>\n      <td>0.000000</td>\n      <td>0</td>\n      <td>12</td>\n      <td>3.3</td>\n      <td>0</td>\n    </tr>\n    <tr>\n      <th>0</th>\n      <td>0</td>\n      <td>2</td>\n      <td>1</td>\n      <td>12.580000</td>\n      <td>0.000000</td>\n      <td>8</td>\n      <td>1</td>\n      <td>0</td>\n      <td>7</td>\n      <td>3</td>\n      <td>4</td>\n      <td>0.030481</td>\n      <td>0.060961</td>\n      <td>0.000000</td>\n      <td>0</td>\n      <td>12</td>\n      <td>3.3</td>\n      <td>0</td>\n    </tr>\n    <tr>\n      <th>...</th>\n      <td>...</td>\n      <td>...</td>\n      <td>...</td>\n      <td>...</td>\n      <td>...</td>\n      <td>...</td>\n      <td>...</td>\n      <td>...</td>\n      <td>...</td>\n      <td>...</td>\n      <td>...</td>\n      <td>...</td>\n      <td>...</td>\n      <td>...</td>\n      <td>...</td>\n      <td>...</td>\n      <td>...</td>\n      <td>...</td>\n    </tr>\n    <tr>\n      <th>8750</th>\n      <td>3</td>\n      <td>0</td>\n      <td>0</td>\n      <td>16.378889</td>\n      <td>0.001021</td>\n      <td>4</td>\n      <td>2</td>\n      <td>0</td>\n      <td>2</td>\n      <td>7</td>\n      <td>0</td>\n      <td>0.006125</td>\n      <td>0.042872</td>\n      <td>0.103097</td>\n      <td>1</td>\n      <td>6</td>\n      <td>1.4</td>\n      <td>4</td>\n    </tr>\n    <tr>\n      <th>8750</th>\n      <td>0</td>\n      <td>0</td>\n      <td>1</td>\n      <td>16.378889</td>\n      <td>0.001021</td>\n      <td>4</td>\n      <td>2</td>\n      <td>0</td>\n      <td>2</td>\n      <td>7</td>\n      <td>0</td>\n      <td>0.006125</td>\n      <td>0.042872</td>\n      <td>0.103097</td>\n      <td>1</td>\n      <td>6</td>\n      <td>1.4</td>\n      <td>4</td>\n    </tr>\n    <tr>\n      <th>8750</th>\n      <td>1</td>\n      <td>0</td>\n      <td>1</td>\n      <td>16.378889</td>\n      <td>0.001021</td>\n      <td>4</td>\n      <td>2</td>\n      <td>0</td>\n      <td>2</td>\n      <td>7</td>\n      <td>0</td>\n      <td>0.006125</td>\n      <td>0.042872</td>\n      <td>0.103097</td>\n      <td>1</td>\n      <td>6</td>\n      <td>1.4</td>\n      <td>4</td>\n    </tr>\n    <tr>\n      <th>8750</th>\n      <td>2</td>\n      <td>0</td>\n      <td>1</td>\n      <td>16.378889</td>\n      <td>0.001021</td>\n      <td>4</td>\n      <td>2</td>\n      <td>0</td>\n      <td>2</td>\n      <td>7</td>\n      <td>0</td>\n      <td>0.006125</td>\n      <td>0.042872</td>\n      <td>0.103097</td>\n      <td>1</td>\n      <td>6</td>\n      <td>1.4</td>\n      <td>4</td>\n    </tr>\n    <tr>\n      <th>8750</th>\n      <td>3</td>\n      <td>0</td>\n      <td>1</td>\n      <td>16.378889</td>\n      <td>0.001021</td>\n      <td>4</td>\n      <td>2</td>\n      <td>0</td>\n      <td>2</td>\n      <td>7</td>\n      <td>0</td>\n      <td>0.006125</td>\n      <td>0.042872</td>\n      <td>0.103097</td>\n      <td>1</td>\n      <td>6</td>\n      <td>1.4</td>\n      <td>4</td>\n    </tr>\n  </tbody>\n</table>\n<p>473800 rows × 18 columns</p>\n</div>"
     },
     "execution_count": 18,
     "metadata": {},
     "output_type": "execute_result"
    }
   ],
   "source": [
    "# join street attributes to the rest of the data (lable and time)\n",
    "network_data = gpd.read_file(r'output/streets_elements/streets_elements.shp')\n",
    "\n",
    "result = ml_data.set_index('ID').join(network_data, how='inner')\n",
    "ml_result = result.drop(columns=['oidrechov','length','geometry'])\n",
    "# move column 'B' to the end of the dataframe\n",
    "col_to_move = ml_result.pop(ped_level)\n",
    "ml_df = ml_result.assign(ped_level=col_to_move)\n",
    "ml_df"
   ],
   "metadata": {
    "collapsed": false,
    "pycharm": {
     "name": "#%%\n"
    }
   }
  },
  {
   "cell_type": "code",
   "execution_count": 23,
   "outputs": [],
   "source": [
    "from sklearn import tree\n",
    "import matplotlib.pyplot as plt\n",
    "from matplotlib.pyplot import figure\n",
    "from sklearn.tree import DecisionTreeClassifier\n",
    "from sklearn.ensemble import RandomForestClassifier\n",
    "from sklearn.feature_selection import SelectFromModel\n",
    "\n",
    "clf = DecisionTreeClassifier(random_state=0)\n",
    "x_tree = ml_df.drop(columns=[ped_level]).to_numpy()\n",
    "y_tree = ml_df[ped_level].to_numpy()\n",
    "\n",
    "dt = clf.fit(x_tree, y_tree)\n",
    "model = SelectFromModel(dt, prefit=True)\n",
    "X_new = model.transform(x_tree)\n"
   ],
   "metadata": {
    "collapsed": false,
    "pycharm": {
     "name": "#%%\n"
    }
   }
  },
  {
   "cell_type": "code",
   "execution_count": 24,
   "outputs": [
    {
     "data": {
      "text/plain": "array([[ 0.        ,  2.        , 12.58      ,  0.06096149],\n       [ 1.        ,  2.        , 12.58      ,  0.06096149],\n       [ 2.        ,  2.        , 12.58      ,  0.06096149],\n       ...,\n       [ 1.        ,  0.        , 16.37888889,  0.04287194],\n       [ 2.        ,  0.        , 16.37888889,  0.04287194],\n       [ 3.        ,  0.        , 16.37888889,  0.04287194]])"
     },
     "execution_count": 24,
     "metadata": {},
     "output_type": "execute_result"
    }
   ],
   "source": [
    "X_new"
   ],
   "metadata": {
    "collapsed": false,
    "pycharm": {
     "name": "#%%\n"
    }
   }
  },
  {
   "cell_type": "code",
   "execution_count": 25,
   "outputs": [],
   "source": [
    "# Cross Validation\n",
    "from sklearn.model_selection import train_test_split\n",
    "from sklearn.metrics import confusion_matrix\n",
    "from sklearn.model_selection import cross_val_score\n",
    "from sklearn.model_selection import ShuffleSplit\n",
    "from sklearn import preprocessing\n",
    "from sklearn.experimental import enable_halving_search_cv\n",
    "from sklearn.model_selection import HalvingGridSearchCV"
   ],
   "metadata": {
    "collapsed": false,
    "pycharm": {
     "name": "#%%\n"
    }
   }
  },
  {
   "cell_type": "code",
   "execution_count": null,
   "outputs": [],
   "source": [
    "# Random Forest Tree\n",
    "X_train, X_test, y_train, y_test = train_test_split(x_tree, y_tree, test_size=0.2, random_state=0)\n",
    "cv = ShuffleSplit(n_splits=10, test_size=0.3, random_state=0)\n",
    "param_grid = {\"n_estimators\": [10, 100,1000],\"max_features\": ['sqrt', 'auto'],'max_features':['auto','sqrt','log2',None]}\n",
    "clf = DecisionTreeClassifier(random_state=0)\n",
    "search = HalvingGridSearchCV(clf, param_grid, resource='n_samples',random_state=0).fit(X_train, y_train)\n",
    "\n",
    "# Confusion Matrix\n",
    "y_pred =search.predict(X_test)\n",
    "cm= confusion_matrix(y_test,y_pred)\n",
    "cm"
   ],
   "metadata": {
    "collapsed": false,
    "pycharm": {
     "name": "#%%\n"
    }
   }
  },
  {
   "cell_type": "code",
   "execution_count": 34,
   "outputs": [
    {
     "data": {
      "text/plain": "array([[13501,  5615,  2301,   619,   108],\n       [ 6274,  6305,  4236,  1324,   252],\n       [ 2640,  4616,  6993,  4029,   691],\n       [  773,  1599,  4344,  7181,  3114],\n       [  132,   250,   864,  3390, 13609]], dtype=int64)"
     },
     "execution_count": 34,
     "metadata": {},
     "output_type": "execute_result"
    }
   ],
   "source": [
    "# Decision Tree\n",
    "X_train, X_test, y_train, y_test = train_test_split(x_tree, y_tree, test_size=0.2, random_state=0)\n",
    "cv = ShuffleSplit(n_splits=10, test_size=0.3, random_state=0)\n",
    "param_grid = {\"criterion\": [\"gini\", \"entropy\"],\"splitter\": ['best', 'random'],'max_features':['auto','sqrt','log2',None]}\n",
    "clf = DecisionTreeClassifier(random_state=0)\n",
    "search = HalvingGridSearchCV(clf, param_grid, resource='n_samples',random_state=0).fit(X_train, y_train)\n",
    "\n",
    "# Confusion Matrix\n",
    "y_pred =search.predict(X_test)\n",
    "cm= confusion_matrix(y_test,y_pred)\n",
    "cm"
   ],
   "metadata": {
    "collapsed": false,
    "pycharm": {
     "name": "#%%\n"
    }
   }
  },
  {
   "cell_type": "code",
   "execution_count": 35,
   "outputs": [
    {
     "data": {
      "text/plain": "0.49550305380769577"
     },
     "execution_count": 35,
     "metadata": {},
     "output_type": "execute_result"
    }
   ],
   "source": [
    "search.best_score_"
   ],
   "metadata": {
    "collapsed": false,
    "pycharm": {
     "name": "#%%\n"
    }
   }
  },
  {
   "cell_type": "code",
   "execution_count": 29,
   "outputs": [
    {
     "data": {
      "text/plain": "{'criterion': 'entropy', 'max_features': None, 'splitter': 'best'}"
     },
     "execution_count": 29,
     "metadata": {},
     "output_type": "execute_result"
    }
   ],
   "source": [
    "search.best_params_"
   ],
   "metadata": {
    "collapsed": false,
    "pycharm": {
     "name": "#%%\n"
    }
   }
  },
  {
   "cell_type": "code",
   "execution_count": 30,
   "outputs": [
    {
     "data": {
      "text/plain": "    iter  n_resources  mean_fit_time  std_fit_time  mean_score_time  \\\n22     2       379035       0.761634      0.021469         0.021659   \n23     2       379035       0.656506      0.009340         0.024961   \n\n    std_score_time param_criterion param_max_features param_splitter  \\\n22        0.005667         entropy               None           best   \n23        0.007074            gini               None           best   \n\n                                               params  ...  mean_test_score  \\\n22  {'criterion': 'entropy', 'max_features': None,...  ...         0.333819   \n23  {'criterion': 'gini', 'max_features': None, 's...  ...         0.333492   \n\n    std_test_score  rank_test_score  split0_train_score  split1_train_score  \\\n22        0.001154                1               0.658             0.65829   \n23        0.001020                3               0.658             0.65829   \n\n    split2_train_score  split3_train_score  split4_train_score  \\\n22            0.658627            0.658831            0.658927   \n23            0.658627            0.658831            0.658927   \n\n    mean_train_score  std_train_score  \n22          0.658535         0.000345  \n23          0.658535         0.000345  \n\n[2 rows x 25 columns]",
      "text/html": "<div>\n<style scoped>\n    .dataframe tbody tr th:only-of-type {\n        vertical-align: middle;\n    }\n\n    .dataframe tbody tr th {\n        vertical-align: top;\n    }\n\n    .dataframe thead th {\n        text-align: right;\n    }\n</style>\n<table border=\"1\" class=\"dataframe\">\n  <thead>\n    <tr style=\"text-align: right;\">\n      <th></th>\n      <th>iter</th>\n      <th>n_resources</th>\n      <th>mean_fit_time</th>\n      <th>std_fit_time</th>\n      <th>mean_score_time</th>\n      <th>std_score_time</th>\n      <th>param_criterion</th>\n      <th>param_max_features</th>\n      <th>param_splitter</th>\n      <th>params</th>\n      <th>...</th>\n      <th>mean_test_score</th>\n      <th>std_test_score</th>\n      <th>rank_test_score</th>\n      <th>split0_train_score</th>\n      <th>split1_train_score</th>\n      <th>split2_train_score</th>\n      <th>split3_train_score</th>\n      <th>split4_train_score</th>\n      <th>mean_train_score</th>\n      <th>std_train_score</th>\n    </tr>\n  </thead>\n  <tbody>\n    <tr>\n      <th>22</th>\n      <td>2</td>\n      <td>379035</td>\n      <td>0.761634</td>\n      <td>0.021469</td>\n      <td>0.021659</td>\n      <td>0.005667</td>\n      <td>entropy</td>\n      <td>None</td>\n      <td>best</td>\n      <td>{'criterion': 'entropy', 'max_features': None,...</td>\n      <td>...</td>\n      <td>0.333819</td>\n      <td>0.001154</td>\n      <td>1</td>\n      <td>0.658</td>\n      <td>0.65829</td>\n      <td>0.658627</td>\n      <td>0.658831</td>\n      <td>0.658927</td>\n      <td>0.658535</td>\n      <td>0.000345</td>\n    </tr>\n    <tr>\n      <th>23</th>\n      <td>2</td>\n      <td>379035</td>\n      <td>0.656506</td>\n      <td>0.009340</td>\n      <td>0.024961</td>\n      <td>0.007074</td>\n      <td>gini</td>\n      <td>None</td>\n      <td>best</td>\n      <td>{'criterion': 'gini', 'max_features': None, 's...</td>\n      <td>...</td>\n      <td>0.333492</td>\n      <td>0.001020</td>\n      <td>3</td>\n      <td>0.658</td>\n      <td>0.65829</td>\n      <td>0.658627</td>\n      <td>0.658831</td>\n      <td>0.658927</td>\n      <td>0.658535</td>\n      <td>0.000345</td>\n    </tr>\n  </tbody>\n</table>\n<p>2 rows × 25 columns</p>\n</div>"
     },
     "execution_count": 30,
     "metadata": {},
     "output_type": "execute_result"
    }
   ],
   "source": [
    "DataFrame(search.cv_results_).iloc[-2:]"
   ],
   "metadata": {
    "collapsed": false,
    "pycharm": {
     "name": "#%%\n"
    }
   }
  },
  {
   "cell_type": "code",
   "execution_count": 33,
   "outputs": [
    {
     "data": {
      "text/plain": "array([[12906,  5006,  2687,  1172,   373],\n       [ 7769,  4735,  3087,  1897,   903],\n       [ 5714,  4507,  3851,  2565,  2332],\n       [ 3451,  3757,  3618,  2780,  3405],\n       [ 1294,  2224,  4000,  3938,  6789]], dtype=int64)"
     },
     "execution_count": 33,
     "metadata": {},
     "output_type": "execute_result"
    }
   ],
   "source": [],
   "metadata": {
    "collapsed": false,
    "pycharm": {
     "name": "#%%\n"
    }
   }
  },
  {
   "cell_type": "code",
   "execution_count": null,
   "outputs": [],
   "source": [],
   "metadata": {
    "collapsed": false,
    "pycharm": {
     "name": "#%%\n"
    }
   }
  }
 ],
 "metadata": {
  "kernelspec": {
   "display_name": "Python 3",
   "language": "python",
   "name": "python3"
  },
  "language_info": {
   "codemirror_mode": {
    "name": "ipython",
    "version": 2
   },
   "file_extension": ".py",
   "mimetype": "text/x-python",
   "name": "python",
   "nbconvert_exporter": "python",
   "pygments_lexer": "ipython2",
   "version": "2.7.6"
  }
 },
 "nbformat": 4,
 "nbformat_minor": 0
}