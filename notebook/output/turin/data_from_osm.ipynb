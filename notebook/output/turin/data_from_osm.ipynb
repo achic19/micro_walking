{
 "cells": [
  {
   "cell_type": "code",
   "execution_count": 1,
   "outputs": [],
   "source": [
    "def initiate_path():\n",
    "    path_temp = 'output'\n",
    "    path_round_about_temp = f'{path_temp}/roundabout'\n",
    "    path_network_temp = f'{path_temp}/networks'\n",
    "    return path_temp, path_round_about_temp, path_network_temp"
   ],
   "metadata": {
    "collapsed": false,
    "pycharm": {
     "name": "#%%\n"
    }
   }
  },
  {
   "cell_type": "code",
   "execution_count": 30,
   "outputs": [],
   "source": [
    "import geopandas as gpd\n",
    "import osmnx as ox\n",
    "from geopandas import GeoDataFrame, GeoSeries\n",
    "from osmnx import io\n",
    "\n",
    "path, path_round_about, path_network = initiate_path()\n",
    "project_crs = 'epsg:3857'\n",
    "from sklearn.cluster import DBSCAN\n",
    "from shapely.geometry import Polygon, Point, LineString, MultiPolygon, MultiPoint\n",
    "import math\n",
    "import warnings\n",
    "import pandas as pd\n",
    "\n",
    "warnings.filterwarnings(action='ignore')\n",
    "from momepy import remove_false_nodes,extend_lines"
   ],
   "metadata": {
    "collapsed": false,
    "pycharm": {
     "name": "#%%\n"
    }
   }
  },
  {
   "cell_type": "markdown",
   "source": [
    "### Run only when download for first time"
   ],
   "metadata": {
    "collapsed": false,
    "pycharm": {
     "name": "#%% md\n"
    }
   }
  },
  {
   "cell_type": "code",
   "execution_count": 3,
   "outputs": [],
   "source": [
    "# Create graph from OSM server and project it\n",
    "graph = ox.graph_from_place('Torino', network_type='all')\n",
    "graph = ox.bearing.add_edge_bearings(graph, precision=1)\n",
    "graph_pro = ox.projection.project_graph(graph, to_crs=project_crs)\n",
    "io.save_graph_geopackage(graph_pro, filepath='.', encoding='utf-8', directed=False)"
   ],
   "metadata": {
    "collapsed": false,
    "pycharm": {
     "name": "#%%\n"
    }
   }
  },
  {
   "cell_type": "markdown",
   "source": [
    "### End"
   ],
   "metadata": {
    "collapsed": false,
    "pycharm": {
     "name": "#%% md\n"
    }
   }
  },
  {
   "cell_type": "code",
   "execution_count": 4,
   "outputs": [],
   "source": [
    "# delete segments without names\n",
    "my_gdf = gpd.read_file(f'{path}/edges.shp')\n",
    "not_null = my_gdf.dropna(subset='name')\n",
    "not_null.to_file(f'{path}/not_null.shp')\n",
    "# delete segments present any kind of roundabout or tunnel\n",
    "not_roundaout = not_null[~((not_null['junction'] == 'roundabout') | (not_null['junction'] == 'circular') | (\n",
    "            not_null['tunnel'] == 'building_passage') | (not_null['tunnel'] == 'yes') | (\n",
    "                                       not_null['highway'] == 'cycleway') | (not_null['highway'] == 'path'))]\n",
    "round_about = not_null[not_null['junction'].isin(['roundabout', 'circular'])]\n",
    "not_roundaout.to_file(f'{path}/not_roundabout_tunnel.shp')\n",
    "round_about.to_file(f'{path_round_about}/roundabout.shp')\n",
    "# Project dataframe and calculate angle (0 to 180)\n",
    "df_pro = not_roundaout.to_crs(project_crs)\n",
    "df_pro['angle'] = df_pro['bearing'].apply(lambda x: x if x < 180 else x - 180)\n",
    "df_pro['length'] = df_pro.length\n",
    "df_pro.to_file(f'{path_network}/pro.shp')"
   ],
   "metadata": {
    "collapsed": false,
    "pycharm": {
     "name": "#%%\n"
    }
   }
  },
  {
   "cell_type": "code",
   "execution_count": 5,
   "outputs": [],
   "source": [
    "df_pro = gpd.read_file(f'{path_network}/pro.shp')"
   ],
   "metadata": {
    "collapsed": false,
    "pycharm": {
     "name": "#%%\n"
    }
   }
  },
  {
   "cell_type": "code",
   "execution_count": 6,
   "outputs": [],
   "source": [
    "def length_of_parallel(my_s_join: GeoDataFrame, the_buffer: GeoSeries, geo_field: str) -> int:\n",
    "    my_s_join['geometry'] = my_s_join[geo_field]\n",
    "    new_data_0 = my_s_join.sjoin(GeoDataFrame(geometry=the_buffer, crs=project_crs), how='inner').reset_index()\n",
    "    if len(new_data_0) == 0:\n",
    "        return 0\n",
    "    return len(new_data_0[new_data_0['index'] != new_data_0['index_right']])"
   ],
   "metadata": {
    "collapsed": false,
    "pycharm": {
     "name": "#%%\n"
    }
   }
  },
  {
   "cell_type": "code",
   "execution_count": 7,
   "outputs": [],
   "source": [
    "def check_parallelism(to_translate: GeoDataFrame, is_test_local: bool = False) -> bool:\n",
    "    my_buffer = to_translate['geometry'].buffer(cap_style=2, distance=30, join_style=3)\n",
    "    to_translate['geometry_right'] = to_translate['geometry'].apply(lambda x: x.parallel_offset(35, 'right'))\n",
    "    to_translate['geometry_left'] = to_translate['geometry'].apply(lambda x: x.parallel_offset(35, 'left'))\n",
    "    # Currently is it not working\n",
    "    if is_test_local:\n",
    "        # to_translate.drop(columns= ['geometry', new_geometry[0]]).rename(columns = {new_geometry[1]: 'geometry'}).to_file(f'{path}/test_data/res_translate_{new_geometry[1]}.shp')\n",
    "        # to_translate.drop(columns= ['geometry', new_geometry[1]]).rename(columns = {new_geometry[0]: 'geometry'}).to_file(f'{path}/test_data/res_translate_{new_geometry[0]}.shp')\n",
    "        my_buffer.to_file(f'{path}/test_data/buffers_test.shp')\n",
    "    if length_of_parallel(to_translate, my_buffer, 'geometry_right') > 0 or length_of_parallel(to_translate, my_buffer,                                                                                     'geometry_left') > 0:\n",
    "        return True\n",
    "    else:\n",
    "        return False"
   ],
   "metadata": {
    "collapsed": false,
    "pycharm": {
     "name": "#%%\n"
    }
   }
  },
  {
   "cell_type": "code",
   "execution_count": 8,
   "outputs": [],
   "source": [
    "def simplify(my_polygon: Polygon, x: (int, float)) -> Polygon:\n",
    "    simplify_poly = my_polygon.simplify(x, preserve_topology=False)\n",
    "    if simplify_poly.area < 50:\n",
    "        simplify_poly = simplify(my_polygon, x / 2)\n",
    "    return simplify_poly"
   ],
   "metadata": {
    "collapsed": false,
    "pycharm": {
     "name": "#%%\n"
    }
   }
  },
  {
   "cell_type": "code",
   "execution_count": 9,
   "outputs": [],
   "source": [
    "def create_center_line(one_poly):\n",
    "    \"\"\"\n",
    "    This method calculate new line between the farthest points of the simplified polygon\n",
    "    :param one_poly:\n",
    "    :return:\n",
    "    \"\"\"\n",
    "\n",
    "    pnt_list = one_poly.exterior.coords[:-1]\n",
    "    list_shp = [Point(item) for item in pnt_list]\n",
    "    dis, dis_2, dis_3 = 0, 0, 0\n",
    "    third_dis = (-1, -1)\n",
    "    # The new line will be determined by the second-farthest points\n",
    "    for k, point in enumerate(list_shp):\n",
    "        j = k\n",
    "        for point2 in list_shp[k + 1:]:\n",
    "            j += 1\n",
    "            temp_dis = point.distance(point2)\n",
    "            if temp_dis > dis:\n",
    "                dis = point.distance(point2)\n",
    "            elif temp_dis > dis_2:\n",
    "                dis_2 = point.distance(point2)\n",
    "            elif temp_dis > dis_3:\n",
    "                third_dis = (k, j)\n",
    "                dis_3 = point.distance(point2)\n",
    "    if is_test:\n",
    "        dic_sim = {'index': [0], 'geometry': one_poly}\n",
    "        GeoDataFrame(dic_sim, crs='epsg:3857').to_file(f'{path}/test_data/simplify_poly_{unit[0]}_{id_pol + 2}.shp')\n",
    "    max_dist['name'].extend([id_pol + 2, id_pol + 2])\n",
    "    max_dist['geometry'].extend([list_shp[third_dis[0]], list_shp[third_dis[1]]])"
   ],
   "metadata": {
    "collapsed": false,
    "pycharm": {
     "name": "#%%\n"
    }
   }
  },
  {
   "cell_type": "code",
   "execution_count": 10,
   "outputs": [],
   "source": [
    "def update_df_with_center_line(new_line):\n",
    "    \"\"\"\n",
    "    update our dictionary with new lines\n",
    "    :param new_line:\n",
    "    :return:\n",
    "    \"\"\"\n",
    "    dic_final['name'].append(name)\n",
    "    # dic_final['geometry'].append(LineString(coordinates=(pnt_list[max_dis[0]], pnt_list[max_dis[1]])))\n",
    "    dic_final['geometry'].append(new_line)\n",
    "    dic_final['highway'].append(data.iloc[0]['highway'])\n",
    "    dic_final['bearing'].append(data['angle'].mean())\n",
    "    dic_final['group'].append(unit[0])\n"
   ],
   "metadata": {
    "collapsed": false,
    "pycharm": {
     "name": "#%%\n"
    }
   }
  },
  {
   "cell_type": "code",
   "execution_count": 11,
   "outputs": [],
   "source": [
    "def update_list(line_local):\n",
    "    \"\"\"\n",
    "    add the first start/end point into the list\n",
    "    :param line_local:\n",
    "    :return:\n",
    "    \"\"\"\n",
    "    list_pnts_of_line_group.extend([Point(line_local.coords[0]), Point(line_local.coords[-1])])\n"
   ],
   "metadata": {
    "collapsed": false,
    "pycharm": {
     "name": "#%%\n"
    }
   }
  },
  {
   "cell_type": "code",
   "execution_count": 12,
   "outputs": [],
   "source": [
    "def add_more_pnts_to_new_lines(pnt_f_loc: Point, pnt_l_loc: Point, line_pnts: list) -> list:\n",
    "    \"\"\"\n",
    "    This method checks if more points should be added to the new lines by checking along the new line if the distance to the old network roads are more than 10 meters\n",
    "    :return:\n",
    "    \"\"\"\n",
    "    # Calculate distance and azimuth between the first and last point\n",
    "    dist = pnt_f_loc.distance(pnt_l_loc)\n",
    "    x_0 = pnt_f_loc.coords[0][0]\n",
    "    y_0 = pnt_f_loc.coords[0][1]\n",
    "    bearing = math.atan2(pnt_l_loc.coords[0][0] - x_0, pnt_l_loc.coords[0][1] - y_0)\n",
    "    bearing = bearing + 2 * math.pi if bearing < 0 else bearing\n",
    "    # Calculate the number of  checks going to carry out\n",
    "    loops = int(dist / 100)\n",
    "\n",
    "    # Calculate  the first point over the line\n",
    "    for dis_on_line in range(1, loops):\n",
    "        x_new = x_0 + 100 * dis_on_line * math.sin(bearing)\n",
    "        y_new = y_0 + 100 * dis_on_line * math.cos(bearing)\n",
    "        # S_joins to all the network lines (same name and group)\n",
    "        # if the distance is less than 10 meters continue, else: find the projection point and add it to the correct location and run the function agein\n",
    "        one_pnt_df = GeoDataFrame(geometry=[Point(x_new, y_new)], crs=project_crs)\n",
    "        s_join_loc = one_pnt_df.sjoin_nearest(data, distance_col='dis').iloc[0]\n",
    "        if s_join_loc['dis'] > 10:\n",
    "            pnt_med = s_join_loc['geometry']\n",
    "            line = data.loc[s_join_loc['index_right']]['geometry']\n",
    "            line_pnts.append(line.interpolate(line.project(pnt_med)))\n",
    "            line_pnts = add_more_pnts_to_new_lines(pnt_med, pnt_l_loc, line_pnts)\n",
    "            return line_pnts\n",
    "    return line_pnts"
   ],
   "metadata": {
    "collapsed": false,
    "pycharm": {
     "name": "#%%\n"
    }
   }
  },
  {
   "cell_type": "code",
   "execution_count": 15,
   "outputs": [
    {
     "name": "stdout",
     "output_type": "stream",
     "text": [
      "0.0\t"
     ]
    }
   ],
   "source": [
    "# Main point to start\n",
    "\n",
    "is_test = True\n",
    "my_groupby = df_pro.groupby('name')\n",
    "dic_final = {'name': [], 'geometry': [], 'highway': [], 'bearing': [], 'group': []}\n",
    "\n",
    "for_time = len(my_groupby)\n",
    "for i, street in enumerate(my_groupby):\n",
    "    # Calculate time to run\n",
    "    print(f'{round(i / for_time * 100, 2)}\\t', end=\"\")\n",
    "    res = street[1]\n",
    "    name = street[0]\n",
    "    if is_test:\n",
    "        name = 'Corso Giovanni Agnelli'\n",
    "        res = my_groupby.get_group(name)\n",
    "    # groupby angle\n",
    "    res = res.dropna(subset=['angle'], axis=0)\n",
    "    if len(res) == 0:\n",
    "        continue\n",
    "    res['group'] = DBSCAN(eps=5, min_samples=2).fit(res['angle'].to_numpy().reshape(-1, 1)).labels_\n",
    "    cur_group = res[res['group'] > -1].groupby('group')\n",
    "    is_parallel = False\n",
    "    for group in cur_group:\n",
    "        data = group[1]\n",
    "        if check_parallelism(data, is_test):\n",
    "            # if among of lines with same angles some are parallel,find the center line for each group\n",
    "            is_parallel = True\n",
    "            for unit in cur_group:\n",
    "                data = unit[1]\n",
    "\n",
    "                # new points DataFrame of start/end line of each group\n",
    "                list_pnts_of_line_group = []\n",
    "                data['geometry'].apply(update_list)\n",
    "                df_pnts = GeoDataFrame(geometry=list_pnts_of_line_group, crs='epsg:3857').drop_duplicates()\n",
    "\n",
    "                # unify lines to one polygon\n",
    "                buffers = data.buffer(cap_style=3, distance=30, join_style=3)\n",
    "                one_buffer = buffers.unary_union\n",
    "\n",
    "                max_dist = {'name': [], 'geometry': []}\n",
    "                # simplify polygon with simplify function. If one_buffer is multipolygon object simplify each one them separately\n",
    "                if isinstance(one_buffer, MultiPolygon):\n",
    "                    for id_pol, polygon in enumerate(one_buffer):\n",
    "                        create_center_line(polygon)\n",
    "                else:\n",
    "                    id_pol = -1\n",
    "                    create_center_line(one_buffer)\n",
    "                max_df = GeoDataFrame(max_dist, crs='epsg:3857')\n",
    "                # find for each points the closet point from the oribinal data. the closet points will create the new line\n",
    "                s_join = max_df.sjoin_nearest(df_pnts).groupby('name')\n",
    "                for geo in s_join:\n",
    "                    same_name = geo[1]\n",
    "                    if same_name.iloc[0]['index_right'] == same_name.iloc[1]['index_right']:\n",
    "                        continue\n",
    "                    in_0 = same_name.iloc[0]['index_right']\n",
    "                    in_1 = same_name.iloc[1]['index_right']\n",
    "                    # These points will be served to be initial reference in order to find more points\n",
    "                    pnt_f = df_pnts.loc[in_0]['geometry']\n",
    "                    pnt_l = df_pnts.loc[in_1]['geometry']\n",
    "                    lines_pnt_geo = add_more_pnts_to_new_lines(pnt_f, pnt_l, [pnt_f])\n",
    "                    lines_pnt_geo.append(pnt_l)\n",
    "                    # Updata dic_final\n",
    "                    update_df_with_center_line(LineString(lines_pnt_geo))\n",
    "                    # dic_final['geometry'].append(LineString(lines_pnt_geo))\n",
    "                    # new_lines['name'].append(geo[0])\n",
    "                if is_test:\n",
    "                    buffers.to_file(f'{path}/test_data/buffers_{unit[0]}.shp')\n",
    "                    # dic_one = {'index':[0],'geometry':one_buffer.geoms}\n",
    "                    # GeoDataFrame(dic_one,crs='epsg:3857').to_file(f'{path}/test_data/one_buffer_{unit[0]}.shp')\n",
    "        # if one group is found as parallel all the groups are calculated as parallel so we don't need to check_parallelism\n",
    "        if is_parallel:\n",
    "            break\n",
    "    # # טסט\n",
    "    if is_test:\n",
    "        final = GeoDataFrame(dic_final, crs=project_crs)\n",
    "        final = final[final.length > 20]\n",
    "        final.to_file(f'{path}/test_data/one_line.shp')\n",
    "        res.to_file(f'{path}/test_data/groups.shp')\n",
    "        break\n",
    "\n",
    "if not is_test:\n",
    "    print('create new files')\n",
    "    # remove short lines\n",
    "    final_cols = ['name', 'geometry', 'highway', 'bearing', 'length']\n",
    "    final = GeoDataFrame(dic_final, crs=project_crs)\n",
    "    final['is_simplify'] = 1\n",
    "    final['length'] = final.length\n",
    "    final = final[final.length > 100]\n",
    "    final.to_file(f'{path}/one_line_third.shp')\n",
    "    # create network\n",
    "    new_network = df_pro[~df_pro['name'].isin(dic_final['name'])][final_cols]\n",
    "    new_network['is_simplify'] = 0\n",
    "    new_network.append(final).to_file(f'{path_network}/new_network_third.shp')"
   ],
   "metadata": {
    "collapsed": false,
    "pycharm": {
     "name": "#%%\n"
    }
   }
  },
  {
   "cell_type": "markdown",
   "source": [
    "Intersection"
   ],
   "metadata": {
    "collapsed": false,
    "pycharm": {
     "name": "#%% md\n"
    }
   }
  },
  {
   "cell_type": "markdown",
   "source": [
    "Split in intersection"
   ],
   "metadata": {
    "collapsed": false,
    "pycharm": {
     "name": "#%% md\n"
    }
   }
  },
  {
   "cell_type": "code",
   "execution_count": 66,
   "outputs": [],
   "source": [
    "class Intersection:\n",
    "    def __init__(self,network):\n",
    "        self.my_network = network\n",
    "        self.inter_pnt_dic = {'geometry':[],'name':[]}\n",
    "        self.lines_to_delete =[]\n",
    "    def delete_false_intersection(self):\n",
    "        # First clean all the false node\n",
    "        self.my_network = remove_false_nodes(self.my_network)\n",
    "        # the previous function has changed the topology so the length should be updated\n",
    "        self.my_network['length'] =self.my_network.length\n",
    "        self.my_network.to_file(f'{cur_path}/remove_false_nodes.shp')\n",
    "\n",
    "    def intersection_network(self):\n",
    "        # Create buffer around each element\n",
    "        buffer_around_lines= self.my_network['geometry'].buffer(cap_style=3, distance=1, join_style=3)\n",
    "        buffer_around_lines.to_file(f'{cur_path}/buffer.shp')\n",
    "\n",
    "        # s_join between buffer to lines\n",
    "        s_join_0 =gpd.sjoin(left_df=GeoDataFrame(geometry=buffer_around_lines,crs=project_crs),right_df=self.my_network)\n",
    "\n",
    "        # delete lines belong to the buffer\n",
    "        s_join = s_join_0[s_join_0.index!=s_join_0['index_right']]\n",
    "        s_join.to_file(f'{cur_path}/s_join.shp')\n",
    "\n",
    "        # Find new intersections that are not at the beginning or end of the line\n",
    "\n",
    "        s_join.apply(self.__find_intersection_points, axis=1)\n",
    "        inter_pnt_gdf = GeoDataFrame(self.inter_pnt_dic,crs=project_crs)\n",
    "        inter_pnt_gdf.to_file(f'{cur_path}/inter_pnt.shp')\n",
    "\n",
    "        # Split string line by points\n",
    "        segments = {'geometry':[],'org_id':[]}\n",
    "        # Groupby points name (which is the line they should split)\n",
    "        for group_pnts in inter_pnt_gdf.groupby('name'):\n",
    "            points  = group_pnts[1]\n",
    "            points['is_split'] = True\n",
    "\n",
    "            # get the line to split by comparing the name\n",
    "            row = self.my_network.loc[group_pnts[0]]\n",
    "            current = list(row.geometry.coords)\n",
    "            points_line = [Point(x) for x in current]\n",
    "            points_line_gdf = GeoDataFrame(geometry=points_line,crs=project_crs)\n",
    "            points_line_gdf['is_split'] = False\n",
    "\n",
    "            # append all the points together (line points and split points)\n",
    "            line_all_pnts = points_line_gdf.append(points)\n",
    "\n",
    "            # Find the distance of each point form the begining of the line on the line.\n",
    "            line_all_pnts['dis_from_the_start'] = line_all_pnts['geometry'].apply(lambda x:row.geometry.project(x))\n",
    "            line_all_pnts.sort_values('dis_from_the_start',inplace=True)\n",
    "\n",
    "            # split the line\n",
    "            seg =[]\n",
    "            for point in line_all_pnts.iterrows():\n",
    "                prop = point[1]\n",
    "                seg.append(prop['geometry'])\n",
    "                if prop['is_split']:\n",
    "                    segments['geometry'].append(LineString(seg))\n",
    "                    segments['org_id'].append(row.name)\n",
    "                    seg = [prop['geometry']]\n",
    "            segments['geometry'].append(LineString(seg))\n",
    "            segments['org_id'].append(row.name)\n",
    "        network_split = GeoDataFrame(data=segments,crs=project_crs)\n",
    "        cols_no_geometry = self.my_network.columns[:-1]\n",
    "        network_split_final = network_split.set_index('org_id')\n",
    "        network_split_final[cols_no_geometry] =self.my_network[cols_no_geometry]\n",
    "        network_split_final.to_file(f'{cur_path}/only_split.shp')\n",
    "        # remove old and redundant line from our network and update with new one\n",
    "        network_split =self.my_network.drop(index=network_split_final.index.unique()).append(network_split_final).drop(index= self.lines_to_delete)\n",
    "        network_split['length'] = network_split.length\n",
    "        self.my_network = network_split\n",
    "        self.my_network.reset_index().to_file(f'{cur_path}/split.shp')\n",
    "\n",
    "    def __find_intersection_points(self,row):\n",
    "        r\"\"\"\n",
    "        find the intersection points between the two lines\n",
    "        :param row:\n",
    "        :return:\n",
    "        \"\"\"\n",
    "        try:\n",
    "            line_1 = self.my_network.loc[row.name]\n",
    "            line_2 =  self.my_network.loc[row['index_right']]\n",
    "            pnt = line_1.geometry.intersection(line_2.geometry)\n",
    "            # If there are more than one intersection between two lines, one of the lines should be deleted.\n",
    "            if isinstance(pnt,MultiPoint):\n",
    "                temp_line= line_1.name if line_1.length< line_2.length else line_2.name\n",
    "                if temp_line not in self.lines_to_delete:\n",
    "                    self.lines_to_delete.append(temp_line)\n",
    "                return\n",
    "            # If it is first or end continue OR if there is no intersection between the two lines\n",
    "            if len(pnt.coords)==0 or pnt.coords[0]==line_1.geometry.coords[0] or pnt.coords[0]==line_1.geometry.coords[-1]:\n",
    "                return\n",
    "            self.inter_pnt_dic['geometry'].append(pnt)\n",
    "            self.inter_pnt_dic['name'].append(row.name)\n",
    "        except:\n",
    "            print(f\"{row.name},{row['index_right']}:{pnt}\")\n"
   ],
   "metadata": {
    "collapsed": false,
    "pycharm": {
     "name": "#%%\n"
    }
   }
  },
  {
   "cell_type": "code",
   "execution_count": 71,
   "outputs": [],
   "source": [
    "cur_path = f'{path}/rearrange'\n",
    "new_gpd = gpd.read_file(f'{path_network}/new_network_third.shp')\n",
    "obj_intersection = Intersection(new_gpd)\n",
    "obj_intersection.delete_false_intersection()\n",
    "obj_intersection.intersection_network()"
   ],
   "metadata": {
    "collapsed": false,
    "pycharm": {
     "name": "#%%\n"
    }
   }
  },
  {
   "cell_type": "markdown",
   "source": [
    "Roundabout"
   ],
   "metadata": {
    "collapsed": false,
    "pycharm": {
     "name": "#%% md\n"
    }
   }
  },
  {
   "cell_type": "code",
   "execution_count": 4,
   "outputs": [],
   "source": [
    "class EnvEntity:\n",
    "        def __init__(self,network):\n",
    "           self.pnt_dic = {}\n",
    "           self.first_last_dic = {'geometry': [], 'line_name': [], 'position': []}\n",
    "           self.network = network\n",
    "\n",
    "        def __populate_pnt_dic(self,point: type, name_of_line: str):\n",
    "            \"\"\"\n",
    "            Make \"pnt_dic\" contain a list of all the lines connected to each point.\n",
    "            :param point:\n",
    "            :param name_of_line:\n",
    "            :return:\n",
    "            \"\"\"\n",
    "            if not point in self.pnt_dic:\n",
    "                self.pnt_dic[point] = []\n",
    "            self.pnt_dic[point].append(name_of_line)\n",
    "\n",
    "        def __send_pnts(self,temp_line: GeoSeries):\n",
    "            \"\"\"\n",
    "            # Send the first and the last points to populate_pnt_dic\n",
    "            :return:\n",
    "            \"\"\"\n",
    "            my_geom = temp_line['geometry']\n",
    "            self.__populate_pnt_dic(my_geom.coords[0], temp_line.name)\n",
    "            self.__populate_pnt_dic(my_geom.coords[-1], temp_line.name)\n",
    "\n",
    "        def get_deadend_gdf(self,delete_short:int =0)-> (GeoDataFrame,GeoDataFrame):\n",
    "            self.network.apply(self.__send_pnts, axis=1)\n",
    "\n",
    "            deadend_list = [item[1][0] for item in self.pnt_dic.items() if len(item[1]) == 1]\n",
    "            deadend_list_pnt= [item for item in my_roundabout.pnt_dic.items() if len(item[1]) == 1]\n",
    "            if delete_short>0:\n",
    "                # If it is necessary to eliminate dead-end short segments, it is  important to delete them from the network geodataframe.\n",
    "\n",
    "                deadend_gdf =self.network.loc[deadend_list]\n",
    "                self.network.drop(index=deadend_gdf[deadend_gdf.length<delete_short].index,inplace=True)\n",
    "                return deadend_gdf[deadend_gdf.length>delete_short]\n",
    "            return self.network.loc[deadend_list],deadend_list_pnt\n",
    "\n",
    "        def update_the_current_network(self,temp_network):\n",
    "            r\"\"\"\n",
    "            Update the current network in the new changes\n",
    "            :param temp_network:\n",
    "            :return:\n",
    "            \"\"\"\n",
    "            new_network_temp = self.network.drop(index=temp_network.index)\n",
    "            self.network = new_network_temp.append(temp_network)\n",
    "            self.network['length'] = self.network.length\n",
    "            self.network  = self.network[self.network['length']>1]"
   ],
   "metadata": {
    "collapsed": false,
    "pycharm": {
     "name": "#%%\n"
    }
   }
  },
  {
   "cell_type": "code",
   "execution_count": 5,
   "outputs": [],
   "source": [
    "class Roundabout(EnvEntity):\n",
    "    def __init__(self,network: GeoDataFrame):\n",
    "       EnvEntity.__init__(self,network)\n",
    "       self.pnt_dic ={}\n",
    "       self.centroid =self.__from_roundabout_to_centroid()\n",
    "       self.network.rename(columns={'name': 'str_name'}, inplace=True)\n",
    "    def __from_roundabout_to_centroid(self):\n",
    "        # Find the center of each roundabout\n",
    "        # create polygon around each polygon and union\n",
    "        round_about = gpd.read_file(f'{path_round_about}/roundabout.shp')\n",
    "        round_about_buffer = round_about.to_crs(project_crs)['geometry'].buffer(cap_style=1, distance=10,\n",
    "                                                                                join_style=1).unary_union\n",
    "        dic_data = {'name': [], 'geometry': []}\n",
    "        for ii, xx in enumerate(round_about_buffer):\n",
    "            dic_data['name'].append(ii)\n",
    "            dic_data['geometry'].append(xx.centroid)\n",
    "        centroid =GeoDataFrame(dic_data, crs=project_crs)\n",
    "        centroid.to_file(f'{path_round_about}/centroid.shp')\n",
    "        return centroid\n",
    "        # GeoDataFrame(dic_data,crs=project_crs).to_file(f'{path_round_about}/roundabout_union.shp')\n",
    "\n",
    "    def __first_last_pnt_of_line(self,row: GeoSeries):\n",
    "        r\"\"\"\n",
    "        It get geometry of line and fill the first_last_dic with the first and last point and the name of the line\n",
    "        :return:\n",
    "        \"\"\"\n",
    "        geo = list(row['geometry'].coords)\n",
    "        self.first_last_dic['geometry'].extend([Point(geo[0]), Point(geo[-1])])\n",
    "        self.first_last_dic['line_name'].extend([row.name] * 2)\n",
    "        self.first_last_dic['position'].extend([0, -1])\n",
    "    def deadend(self,path_to_save: str, export_files: bool = False):\n",
    "        r\"\"\"\n",
    "        remove not connected line shorter than 100 meters and then return deadend_list lines and their endpoints (as another file)\n",
    "        :param path_to_save:\n",
    "        :param export_files:\n",
    "        :return:\n",
    "        \"\"\"\n",
    "        # Find the first and last points\n",
    "\n",
    "        # Get deadend_gdf\n",
    "        deadend_gdf = self.get_deadend_gdf()\n",
    "\n",
    "        # Create gdf of line points with the reference to the line they belong\n",
    "        deadend_gdf.apply(self.__first_last_pnt_of_line, axis=1)\n",
    "        first_last_gdf = GeoDataFrame(self.first_last_dic, crs=project_crs)\n",
    "\n",
    "        if export_files:\n",
    "            # Optional - Create new file\n",
    "            temp_list = {}\n",
    "            temp_list ['geometry'] = [Point(x) for x in self.pnt_dic.keys()]\n",
    "            temp_list ['lines']  = [str(x) for x in self.pnt_dic.values()]\n",
    "            GeoDataFrame(temp_list,crs=project_crs).to_file(f'{path_deadend}/line_pnts.shp')\n",
    "            first_last_gdf.to_file(f'{path_to_save}/first_last_pnts.shp')\n",
    "            deadend_gdf.to_file(f'{path_to_save}/deadend_gdf_all.shp')\n",
    "\n",
    "        return deadend_gdf, first_last_gdf\n",
    "    def __update_geometry(self,cur,s_join):\n",
    "        r\"\"\"\n",
    "        :return:\n",
    "        \"\"\"\n",
    "        if cur['highway'] == 'footway':\n",
    "            # Don't snap footway to roundabout\n",
    "            return cur['geometry']\n",
    "        points_lines = s_join[s_join['line_name'] == cur.name]\n",
    "        if len(points_lines) == 0:\n",
    "            # No roundabout nearby\n",
    "            return cur['geometry']\n",
    "        # get the line geometry to change the first and/ or last point\n",
    "        geo_cur = list(cur['geometry'].coords)\n",
    "\n",
    "        if len(points_lines) == 1:\n",
    "            # One line point near roundabout\n",
    "            geo_cur[points_lines['position'].item()] = self.centroid.loc[points_lines['index_right'].item()]['geometry'].coords[\n",
    "                0]\n",
    "        if len(points_lines) == 2:\n",
    "            # two line points near roundabout\n",
    "            for ind in range(2):\n",
    "                points_line = points_lines.iloc[ind]\n",
    "                geo_cur[points_line['position'].item()] =self.centroid.loc[points_line['index_right'].item()]['geometry'].coords[0]\n",
    "        return LineString(geo_cur)\n",
    "    def my_spatial_join(self,deadend_lines, deadend_pnts):\n",
    "        # Spatial join between roundabout centroid to nearby dead end lines\n",
    "        # centroid = gpd.read_file(f'{path_round_about}/centroid.shp')\n",
    "        s_join = gpd.sjoin_nearest(left_df=deadend_pnts, right_df=self.centroid, how='left', max_distance=60,\n",
    "                                   distance_col='dist').dropna(subset='dist')\n",
    "        s_join.to_file(f'{path_deadend}/roundabout_near_pnts.shp')\n",
    "        # Update the geometry so the roundabout will be part of the line geometry\n",
    "        change_geo = deadend_lines.copy()\n",
    "\n",
    "        change_geo['geometry'] = change_geo.apply(lambda x:self.__update_geometry(x,s_join), axis=1)\n",
    "        change_geo.reset_index().to_file(f'{path_deadend}/connect_roundabout.shp')\n",
    "        return change_geo\n"
   ],
   "metadata": {
    "collapsed": false,
    "pycharm": {
     "name": "#%%\n"
    }
   }
  },
  {
   "cell_type": "code",
   "execution_count": 68,
   "outputs": [],
   "source": [
    "# Network Improvement - to roundabout\n",
    "# Find unconnected lines\n",
    "\n",
    "exist_data = gpd.read_file(f'{cur_path}/split.shp')\n",
    "my_roundabout=Roundabout(exist_data)\n",
    "path_deadend = f'{path}/deadend'\n",
    "deadend_lines, deadend_pnts = my_roundabout.deadend(path_to_save=path_deadend,export_files=True)"
   ],
   "metadata": {
    "collapsed": false,
    "pycharm": {
     "name": "#%%\n"
    }
   }
  },
  {
   "cell_type": "code",
   "execution_count": 63,
   "outputs": [
    {
     "data": {
      "text/plain": "                      str_name      highway  bearing       length  is_simplif  \\\n0      Raccordo della Falchera     motorway    231.8    21.570358         0.0   \n1           Lungo Dora Firenze     tertiary    145.6   161.851439         0.0   \n2       Via Don Giovanni Bosco  residential    112.4    85.627516         0.0   \n3       Via Don Giovanni Bosco  residential     93.0   189.806264         0.0   \n4         Via Alfonso Bonafous  residential    209.8   168.972995         0.0   \n...                        ...          ...      ...          ...         ...   \n10535                     None         None      NaN  1047.568054         NaN   \n10536                     None         None      NaN    33.051727         NaN   \n10537                     None         None      NaN   854.594725         NaN   \n10538                     None         None      NaN   160.103017         NaN   \n10539                     None         None      NaN   557.303204         NaN   \n\n       group                                           geometry  \n0        NaN  LINESTRING (858886.756 5642746.612, 858869.813...  \n1        NaN  LINESTRING (855877.423 5634209.580, 855892.184...  \n2        NaN  LINESTRING (852685.815 5634980.859, 852764.985...  \n3        NaN  LINESTRING (852496.271 5634990.839, 852522.175...  \n4        NaN  LINESTRING (856590.513 5631546.140, 856584.658...  \n...      ...                                                ...  \n10535    NaN  LINESTRING (863049.133 5632779.534, 863014.115...  \n10536    NaN  LINESTRING (863079.849 5632664.036, 863085.014...  \n10537    NaN  LINESTRING (863105.027 5632656.512, 863114.035...  \n10538    NaN  LINESTRING (863246.951 5632462.863, 863351.155...  \n10539    NaN  LINESTRING (863377.041 5632371.176, 863421.789...  \n\n[10540 rows x 7 columns]",
      "text/html": "<div>\n<style scoped>\n    .dataframe tbody tr th:only-of-type {\n        vertical-align: middle;\n    }\n\n    .dataframe tbody tr th {\n        vertical-align: top;\n    }\n\n    .dataframe thead th {\n        text-align: right;\n    }\n</style>\n<table border=\"1\" class=\"dataframe\">\n  <thead>\n    <tr style=\"text-align: right;\">\n      <th></th>\n      <th>str_name</th>\n      <th>highway</th>\n      <th>bearing</th>\n      <th>length</th>\n      <th>is_simplif</th>\n      <th>group</th>\n      <th>geometry</th>\n    </tr>\n  </thead>\n  <tbody>\n    <tr>\n      <th>0</th>\n      <td>Raccordo della Falchera</td>\n      <td>motorway</td>\n      <td>231.8</td>\n      <td>21.570358</td>\n      <td>0.0</td>\n      <td>NaN</td>\n      <td>LINESTRING (858886.756 5642746.612, 858869.813...</td>\n    </tr>\n    <tr>\n      <th>1</th>\n      <td>Lungo Dora Firenze</td>\n      <td>tertiary</td>\n      <td>145.6</td>\n      <td>161.851439</td>\n      <td>0.0</td>\n      <td>NaN</td>\n      <td>LINESTRING (855877.423 5634209.580, 855892.184...</td>\n    </tr>\n    <tr>\n      <th>2</th>\n      <td>Via Don Giovanni Bosco</td>\n      <td>residential</td>\n      <td>112.4</td>\n      <td>85.627516</td>\n      <td>0.0</td>\n      <td>NaN</td>\n      <td>LINESTRING (852685.815 5634980.859, 852764.985...</td>\n    </tr>\n    <tr>\n      <th>3</th>\n      <td>Via Don Giovanni Bosco</td>\n      <td>residential</td>\n      <td>93.0</td>\n      <td>189.806264</td>\n      <td>0.0</td>\n      <td>NaN</td>\n      <td>LINESTRING (852496.271 5634990.839, 852522.175...</td>\n    </tr>\n    <tr>\n      <th>4</th>\n      <td>Via Alfonso Bonafous</td>\n      <td>residential</td>\n      <td>209.8</td>\n      <td>168.972995</td>\n      <td>0.0</td>\n      <td>NaN</td>\n      <td>LINESTRING (856590.513 5631546.140, 856584.658...</td>\n    </tr>\n    <tr>\n      <th>...</th>\n      <td>...</td>\n      <td>...</td>\n      <td>...</td>\n      <td>...</td>\n      <td>...</td>\n      <td>...</td>\n      <td>...</td>\n    </tr>\n    <tr>\n      <th>10535</th>\n      <td>None</td>\n      <td>None</td>\n      <td>NaN</td>\n      <td>1047.568054</td>\n      <td>NaN</td>\n      <td>NaN</td>\n      <td>LINESTRING (863049.133 5632779.534, 863014.115...</td>\n    </tr>\n    <tr>\n      <th>10536</th>\n      <td>None</td>\n      <td>None</td>\n      <td>NaN</td>\n      <td>33.051727</td>\n      <td>NaN</td>\n      <td>NaN</td>\n      <td>LINESTRING (863079.849 5632664.036, 863085.014...</td>\n    </tr>\n    <tr>\n      <th>10537</th>\n      <td>None</td>\n      <td>None</td>\n      <td>NaN</td>\n      <td>854.594725</td>\n      <td>NaN</td>\n      <td>NaN</td>\n      <td>LINESTRING (863105.027 5632656.512, 863114.035...</td>\n    </tr>\n    <tr>\n      <th>10538</th>\n      <td>None</td>\n      <td>None</td>\n      <td>NaN</td>\n      <td>160.103017</td>\n      <td>NaN</td>\n      <td>NaN</td>\n      <td>LINESTRING (863246.951 5632462.863, 863351.155...</td>\n    </tr>\n    <tr>\n      <th>10539</th>\n      <td>None</td>\n      <td>None</td>\n      <td>NaN</td>\n      <td>557.303204</td>\n      <td>NaN</td>\n      <td>NaN</td>\n      <td>LINESTRING (863377.041 5632371.176, 863421.789...</td>\n    </tr>\n  </tbody>\n</table>\n<p>10540 rows × 7 columns</p>\n</div>"
     },
     "execution_count": 63,
     "metadata": {},
     "output_type": "execute_result"
    }
   ],
   "source": [
    "exist_data"
   ],
   "metadata": {
    "collapsed": false,
    "pycharm": {
     "name": "#%%\n"
    }
   }
  },
  {
   "cell_type": "code",
   "execution_count": 69,
   "outputs": [
    {
     "data": {
      "text/plain": "     name highway  bearing      length  is_simplif  group  \\\n7335  NaN     NaN      NaN  198.791832         NaN    NaN   \n7335  NaN     NaN      NaN  136.228385         NaN    NaN   \n\n                                               geometry  \n7335  LINESTRING (859101.970 5632926.484, 859044.952...  \n7335  LINESTRING (859043.351 5633116.430, 859042.458...  ",
      "text/html": "<div>\n<style scoped>\n    .dataframe tbody tr th:only-of-type {\n        vertical-align: middle;\n    }\n\n    .dataframe tbody tr th {\n        vertical-align: top;\n    }\n\n    .dataframe thead th {\n        text-align: right;\n    }\n</style>\n<table border=\"1\" class=\"dataframe\">\n  <thead>\n    <tr style=\"text-align: right;\">\n      <th></th>\n      <th>name</th>\n      <th>highway</th>\n      <th>bearing</th>\n      <th>length</th>\n      <th>is_simplif</th>\n      <th>group</th>\n      <th>geometry</th>\n    </tr>\n  </thead>\n  <tbody>\n    <tr>\n      <th>7335</th>\n      <td>NaN</td>\n      <td>NaN</td>\n      <td>NaN</td>\n      <td>198.791832</td>\n      <td>NaN</td>\n      <td>NaN</td>\n      <td>LINESTRING (859101.970 5632926.484, 859044.952...</td>\n    </tr>\n    <tr>\n      <th>7335</th>\n      <td>NaN</td>\n      <td>NaN</td>\n      <td>NaN</td>\n      <td>136.228385</td>\n      <td>NaN</td>\n      <td>NaN</td>\n      <td>LINESTRING (859043.351 5633116.430, 859042.458...</td>\n    </tr>\n  </tbody>\n</table>\n</div>"
     },
     "execution_count": 69,
     "metadata": {},
     "output_type": "execute_result"
    }
   ],
   "source": [
    "obj_intersection.my_network.loc[7335]\n"
   ],
   "metadata": {
    "collapsed": false,
    "pycharm": {
     "name": "#%%\n"
    }
   }
  },
  {
   "cell_type": "code",
   "execution_count": 48,
   "outputs": [],
   "source": [
    "\n",
    "pnt_dead_end = [item for item in my_roundabout.pnt_dic.items() if len(item[1]) == 1]\n",
    "geometry,line_name = 'geometry','line_name'\n",
    "pnt_dead_end_df = GeoDataFrame(data=pnt_dead_end)\n",
    "pnt_dead_end_df[geometry]= pnt_dead_end_df[0].apply(lambda x:Point(x))\n",
    "pnt_dead_end_df[line_name] = pnt_dead_end_df[1].apply(lambda x:x[0])\n",
    "pnt_dead_end_df.crs = project_crs\n",
    "pnt_dead_end_df[[geometry,line_name]].to_file(f'{path_deadend}/deadend_gdf_pnt.shp')"
   ],
   "metadata": {
    "collapsed": false,
    "pycharm": {
     "name": "#%%\n"
    }
   }
  },
  {
   "cell_type": "code",
   "execution_count": 39,
   "outputs": [
    {
     "ename": "KeyError",
     "evalue": "('geometry', 'line_name')",
     "output_type": "error",
     "traceback": [
      "\u001B[1;31m---------------------------------------------------------------------------\u001B[0m",
      "\u001B[1;31mKeyError\u001B[0m                                  Traceback (most recent call last)",
      "File \u001B[1;32m~\\anaconda3\\envs\\momepy_env\\lib\\site-packages\\pandas\\core\\indexes\\base.py:3800\u001B[0m, in \u001B[0;36mIndex.get_loc\u001B[1;34m(self, key, method, tolerance)\u001B[0m\n\u001B[0;32m   3799\u001B[0m \u001B[38;5;28;01mtry\u001B[39;00m:\n\u001B[1;32m-> 3800\u001B[0m     \u001B[38;5;28;01mreturn\u001B[39;00m \u001B[38;5;28;43mself\u001B[39;49m\u001B[38;5;241;43m.\u001B[39;49m\u001B[43m_engine\u001B[49m\u001B[38;5;241;43m.\u001B[39;49m\u001B[43mget_loc\u001B[49m\u001B[43m(\u001B[49m\u001B[43mcasted_key\u001B[49m\u001B[43m)\u001B[49m\n\u001B[0;32m   3801\u001B[0m \u001B[38;5;28;01mexcept\u001B[39;00m \u001B[38;5;167;01mKeyError\u001B[39;00m \u001B[38;5;28;01mas\u001B[39;00m err:\n",
      "File \u001B[1;32m~\\anaconda3\\envs\\momepy_env\\lib\\site-packages\\pandas\\_libs\\index.pyx:138\u001B[0m, in \u001B[0;36mpandas._libs.index.IndexEngine.get_loc\u001B[1;34m()\u001B[0m\n",
      "File \u001B[1;32m~\\anaconda3\\envs\\momepy_env\\lib\\site-packages\\pandas\\_libs\\index.pyx:165\u001B[0m, in \u001B[0;36mpandas._libs.index.IndexEngine.get_loc\u001B[1;34m()\u001B[0m\n",
      "File \u001B[1;32mpandas\\_libs\\hashtable_class_helper.pxi:5745\u001B[0m, in \u001B[0;36mpandas._libs.hashtable.PyObjectHashTable.get_item\u001B[1;34m()\u001B[0m\n",
      "File \u001B[1;32mpandas\\_libs\\hashtable_class_helper.pxi:5753\u001B[0m, in \u001B[0;36mpandas._libs.hashtable.PyObjectHashTable.get_item\u001B[1;34m()\u001B[0m\n",
      "\u001B[1;31mKeyError\u001B[0m: ('geometry', 'line_name')",
      "\nThe above exception was the direct cause of the following exception:\n",
      "\u001B[1;31mKeyError\u001B[0m                                  Traceback (most recent call last)",
      "Cell \u001B[1;32mIn [39], line 1\u001B[0m\n\u001B[1;32m----> 1\u001B[0m \u001B[43mpnt_dead_end_df\u001B[49m\u001B[43m[\u001B[49m\u001B[43mgeometry\u001B[49m\u001B[43m,\u001B[49m\u001B[43mline_name\u001B[49m\u001B[43m]\u001B[49m\n",
      "File \u001B[1;32m~\\anaconda3\\envs\\momepy_env\\lib\\site-packages\\geopandas\\geodataframe.py:1428\u001B[0m, in \u001B[0;36mGeoDataFrame.__getitem__\u001B[1;34m(self, key)\u001B[0m\n\u001B[0;32m   1422\u001B[0m \u001B[38;5;28;01mdef\u001B[39;00m \u001B[38;5;21m__getitem__\u001B[39m(\u001B[38;5;28mself\u001B[39m, key):\n\u001B[0;32m   1423\u001B[0m     \u001B[38;5;124;03m\"\"\"\u001B[39;00m\n\u001B[0;32m   1424\u001B[0m \u001B[38;5;124;03m    If the result is a column containing only 'geometry', return a\u001B[39;00m\n\u001B[0;32m   1425\u001B[0m \u001B[38;5;124;03m    GeoSeries. If it's a DataFrame with any columns of GeometryDtype,\u001B[39;00m\n\u001B[0;32m   1426\u001B[0m \u001B[38;5;124;03m    return a GeoDataFrame.\u001B[39;00m\n\u001B[0;32m   1427\u001B[0m \u001B[38;5;124;03m    \"\"\"\u001B[39;00m\n\u001B[1;32m-> 1428\u001B[0m     result \u001B[38;5;241m=\u001B[39m \u001B[38;5;28;43msuper\u001B[39;49m\u001B[43m(\u001B[49m\u001B[43m)\u001B[49m\u001B[38;5;241;43m.\u001B[39;49m\u001B[38;5;21;43m__getitem__\u001B[39;49m\u001B[43m(\u001B[49m\u001B[43mkey\u001B[49m\u001B[43m)\u001B[49m\n\u001B[0;32m   1429\u001B[0m     geo_col \u001B[38;5;241m=\u001B[39m \u001B[38;5;28mself\u001B[39m\u001B[38;5;241m.\u001B[39m_geometry_column_name\n\u001B[0;32m   1430\u001B[0m     \u001B[38;5;28;01mif\u001B[39;00m \u001B[38;5;28misinstance\u001B[39m(result, Series) \u001B[38;5;129;01mand\u001B[39;00m \u001B[38;5;28misinstance\u001B[39m(result\u001B[38;5;241m.\u001B[39mdtype, GeometryDtype):\n",
      "File \u001B[1;32m~\\anaconda3\\envs\\momepy_env\\lib\\site-packages\\pandas\\core\\frame.py:3805\u001B[0m, in \u001B[0;36mDataFrame.__getitem__\u001B[1;34m(self, key)\u001B[0m\n\u001B[0;32m   3803\u001B[0m \u001B[38;5;28;01mif\u001B[39;00m \u001B[38;5;28mself\u001B[39m\u001B[38;5;241m.\u001B[39mcolumns\u001B[38;5;241m.\u001B[39mnlevels \u001B[38;5;241m>\u001B[39m \u001B[38;5;241m1\u001B[39m:\n\u001B[0;32m   3804\u001B[0m     \u001B[38;5;28;01mreturn\u001B[39;00m \u001B[38;5;28mself\u001B[39m\u001B[38;5;241m.\u001B[39m_getitem_multilevel(key)\n\u001B[1;32m-> 3805\u001B[0m indexer \u001B[38;5;241m=\u001B[39m \u001B[38;5;28;43mself\u001B[39;49m\u001B[38;5;241;43m.\u001B[39;49m\u001B[43mcolumns\u001B[49m\u001B[38;5;241;43m.\u001B[39;49m\u001B[43mget_loc\u001B[49m\u001B[43m(\u001B[49m\u001B[43mkey\u001B[49m\u001B[43m)\u001B[49m\n\u001B[0;32m   3806\u001B[0m \u001B[38;5;28;01mif\u001B[39;00m is_integer(indexer):\n\u001B[0;32m   3807\u001B[0m     indexer \u001B[38;5;241m=\u001B[39m [indexer]\n",
      "File \u001B[1;32m~\\anaconda3\\envs\\momepy_env\\lib\\site-packages\\pandas\\core\\indexes\\base.py:3802\u001B[0m, in \u001B[0;36mIndex.get_loc\u001B[1;34m(self, key, method, tolerance)\u001B[0m\n\u001B[0;32m   3800\u001B[0m     \u001B[38;5;28;01mreturn\u001B[39;00m \u001B[38;5;28mself\u001B[39m\u001B[38;5;241m.\u001B[39m_engine\u001B[38;5;241m.\u001B[39mget_loc(casted_key)\n\u001B[0;32m   3801\u001B[0m \u001B[38;5;28;01mexcept\u001B[39;00m \u001B[38;5;167;01mKeyError\u001B[39;00m \u001B[38;5;28;01mas\u001B[39;00m err:\n\u001B[1;32m-> 3802\u001B[0m     \u001B[38;5;28;01mraise\u001B[39;00m \u001B[38;5;167;01mKeyError\u001B[39;00m(key) \u001B[38;5;28;01mfrom\u001B[39;00m \u001B[38;5;21;01merr\u001B[39;00m\n\u001B[0;32m   3803\u001B[0m \u001B[38;5;28;01mexcept\u001B[39;00m \u001B[38;5;167;01mTypeError\u001B[39;00m:\n\u001B[0;32m   3804\u001B[0m     \u001B[38;5;66;03m# If we have a listlike key, _check_indexing_error will raise\u001B[39;00m\n\u001B[0;32m   3805\u001B[0m     \u001B[38;5;66;03m#  InvalidIndexError. Otherwise we fall through and re-raise\u001B[39;00m\n\u001B[0;32m   3806\u001B[0m     \u001B[38;5;66;03m#  the TypeError.\u001B[39;00m\n\u001B[0;32m   3807\u001B[0m     \u001B[38;5;28mself\u001B[39m\u001B[38;5;241m.\u001B[39m_check_indexing_error(key)\n",
      "\u001B[1;31mKeyError\u001B[0m: ('geometry', 'line_name')"
     ]
    }
   ],
   "source": [
    "pnt_dead_end_df[geometry,line_name]"
   ],
   "metadata": {
    "collapsed": false,
    "pycharm": {
     "name": "#%%\n"
    }
   }
  },
  {
   "cell_type": "code",
   "execution_count": 57,
   "outputs": [],
   "source": [
    "\n",
    "# update the current network\n",
    "change_geo = my_roundabout.my_spatial_join(deadend_lines, deadend_pnts)\n",
    "my_roundabout.update_the_current_network(change_geo)\n",
    "my_roundabout.network.to_file(f'{path_network}/network_ra.shp')"
   ],
   "metadata": {
    "collapsed": false,
    "pycharm": {
     "name": "#%%\n"
    }
   }
  },
  {
   "cell_type": "markdown",
   "source": [
    "## TEST AREA"
   ],
   "metadata": {
    "collapsed": false,
    "pycharm": {
     "name": "#%% md\n"
    }
   }
  },
  {
   "cell_type": "code",
   "execution_count": 17,
   "outputs": [],
   "source": [
    "\n",
    "s_join_test = gpd.sjoin_nearest(left_df=deadend_pnts, right_df=my_roundabout.centroid, how='left', max_distance=60,\n",
    "                           distance_col='dist').dropna(subset='dist')"
   ],
   "metadata": {
    "collapsed": false,
    "pycharm": {
     "name": "#%%\n"
    }
   }
  },
  {
   "cell_type": "code",
   "execution_count": 21,
   "outputs": [
    {
     "data": {
      "text/plain": "                            geometry  line_name  position  index_right  name  \\\n4524  POINT (851804.098 5634581.046)      10860         0         37.0  37.0   \n4525  POINT (851783.704 5634623.298)      10860        -1         37.0  37.0   \n\n           dist  \n4524  58.478351  \n4525  44.368053  ",
      "text/html": "<div>\n<style scoped>\n    .dataframe tbody tr th:only-of-type {\n        vertical-align: middle;\n    }\n\n    .dataframe tbody tr th {\n        vertical-align: top;\n    }\n\n    .dataframe thead th {\n        text-align: right;\n    }\n</style>\n<table border=\"1\" class=\"dataframe\">\n  <thead>\n    <tr style=\"text-align: right;\">\n      <th></th>\n      <th>geometry</th>\n      <th>line_name</th>\n      <th>position</th>\n      <th>index_right</th>\n      <th>name</th>\n      <th>dist</th>\n    </tr>\n  </thead>\n  <tbody>\n    <tr>\n      <th>4524</th>\n      <td>POINT (851804.098 5634581.046)</td>\n      <td>10860</td>\n      <td>0</td>\n      <td>37.0</td>\n      <td>37.0</td>\n      <td>58.478351</td>\n    </tr>\n    <tr>\n      <th>4525</th>\n      <td>POINT (851783.704 5634623.298)</td>\n      <td>10860</td>\n      <td>-1</td>\n      <td>37.0</td>\n      <td>37.0</td>\n      <td>44.368053</td>\n    </tr>\n  </tbody>\n</table>\n</div>"
     },
     "execution_count": 21,
     "metadata": {},
     "output_type": "execute_result"
    }
   ],
   "source": [
    "cur = deadend_lines.iloc[2262]\n",
    "points_lines = s_join_test[s_join_test['line_name'] == cur.name]\n",
    "geo_cur = list(cur['geometry'].coords)\n",
    "points_lines"
   ],
   "metadata": {
    "collapsed": false,
    "pycharm": {
     "name": "#%%\n"
    }
   }
  },
  {
   "cell_type": "code",
   "execution_count": null,
   "outputs": [],
   "source": [
    "\n",
    "\n",
    "if cur['highway'] == 'footway':\n",
    "    # Don't snap footway to roundabout\n",
    "    print('footway')\n",
    "points_lines = s_join_test[s_join_test['line_name'] == cur.name]\n",
    "if len(points_lines) == 0:\n",
    "    # No roundabout nearby\n",
    "    print(cur['geometry'])\n",
    "# get the line geometry to change the first and/ or last point\n",
    "geo_cur = list(cur['geometry'].coords)\n",
    "\n",
    "if len(points_lines) == 1:\n",
    "    # One line point near roundabout\n",
    "    geo_cur[points_lines['position'].item()] = my_roundabout.centroid.loc[points_lines['index_right'].item()]['geometry'].coords[\n",
    "        0]\n",
    "if len(points_lines) == 2:\n",
    "    # two line points near roundabout\n",
    "    for ind in range(2):\n",
    "        points_line = points_lines.iloc[ind]\n",
    "        geo_cur[points_line['position'].item()] =my_roundabout.centroid.loc[points_line['index_right'].item()]['geometry'].coords[0]\n"
   ],
   "metadata": {
    "collapsed": false,
    "pycharm": {
     "name": "#%%\n"
    }
   }
  },
  {
   "cell_type": "markdown",
   "source": [
    "## TEST AREA\n"
   ],
   "metadata": {
    "collapsed": false,
    "pycharm": {
     "name": "#%% md\n"
    }
   }
  },
  {
   "cell_type": "code",
   "execution_count": 29,
   "outputs": [],
   "source": [],
   "metadata": {
    "collapsed": false,
    "pycharm": {
     "name": "#%%\n"
    }
   }
  },
  {
   "cell_type": "markdown",
   "source": [
    "## things to improve the code - Roundabout :\n",
    "1. Snap all lines near roundabout to the roundabout\n",
    "2. Replace the nearest points on the line with the roundabout (and not the end points)\n",
    "3. Till 50 meters - connect. 50-100 meters - only if it is not cross nay other line"
   ],
   "metadata": {
    "collapsed": false,
    "pycharm": {
     "name": "#%% md\n"
    }
   }
  },
  {
   "cell_type": "code",
   "execution_count": 15,
   "outputs": [],
   "source": [
    "# Extend\n",
    "new_network2 =gpd.read_file(f'{path_network}/network_ra.shp')\n",
    "extend_lines_f= extend_lines(new_network2,100)\n",
    "extend_lines_f['length'] = extend_lines_f.length\n",
    "extend_lines_f.to_file(f'{cur_path}/extend_lines.shp')"
   ],
   "metadata": {
    "collapsed": false,
    "pycharm": {
     "name": "#%%\n"
    }
   }
  },
  {
   "cell_type": "markdown",
   "source": [
    "things to do:\n",
    "1. there are some bugs\n",
    "2. more efforts to connect unconnected lines"
   ],
   "metadata": {
    "collapsed": false,
    "pycharm": {
     "name": "#%% md\n"
    }
   }
  },
  {
   "cell_type": "code",
   "execution_count": 16,
   "outputs": [
    {
     "ename": "ValueError",
     "evalue": "LineStrings must have at least 2 coordinate tuples",
     "output_type": "error",
     "traceback": [
      "\u001B[1;31m---------------------------------------------------------------------------\u001B[0m",
      "\u001B[1;31mAttributeError\u001B[0m                            Traceback (most recent call last)",
      "File \u001B[1;32m~\\anaconda3\\envs\\momepy_env\\lib\\site-packages\\shapely\\speedups\\_speedups.pyx:90\u001B[0m, in \u001B[0;36mshapely.speedups._speedups.geos_linestring_from_py\u001B[1;34m()\u001B[0m\n",
      "\u001B[1;31mAttributeError\u001B[0m: 'list' object has no attribute '__array_interface__'",
      "\nDuring handling of the above exception, another exception occurred:\n",
      "\u001B[1;31mValueError\u001B[0m                                Traceback (most recent call last)",
      "Cell \u001B[1;32mIn [16], line 4\u001B[0m\n\u001B[0;32m      2\u001B[0m obj_intersection2 \u001B[38;5;241m=\u001B[39m Intersection(extend_lines_f)\n\u001B[0;32m      3\u001B[0m obj_intersection2\u001B[38;5;241m.\u001B[39mdelete_false_intersection()\n\u001B[1;32m----> 4\u001B[0m \u001B[43mobj_intersection2\u001B[49m\u001B[38;5;241;43m.\u001B[39;49m\u001B[43mintersection_network\u001B[49m\u001B[43m(\u001B[49m\u001B[43m)\u001B[49m\n",
      "Cell \u001B[1;32mIn [3], line 61\u001B[0m, in \u001B[0;36mIntersection.intersection_network\u001B[1;34m(self)\u001B[0m\n\u001B[0;32m     59\u001B[0m             segments[\u001B[38;5;124m'\u001B[39m\u001B[38;5;124morg_id\u001B[39m\u001B[38;5;124m'\u001B[39m]\u001B[38;5;241m.\u001B[39mappend(row\u001B[38;5;241m.\u001B[39mname)\n\u001B[0;32m     60\u001B[0m             seg \u001B[38;5;241m=\u001B[39m [prop[\u001B[38;5;124m'\u001B[39m\u001B[38;5;124mgeometry\u001B[39m\u001B[38;5;124m'\u001B[39m]]\n\u001B[1;32m---> 61\u001B[0m     segments[\u001B[38;5;124m'\u001B[39m\u001B[38;5;124mgeometry\u001B[39m\u001B[38;5;124m'\u001B[39m]\u001B[38;5;241m.\u001B[39mappend(\u001B[43mLineString\u001B[49m\u001B[43m(\u001B[49m\u001B[43mseg\u001B[49m\u001B[43m)\u001B[49m)\n\u001B[0;32m     62\u001B[0m     segments[\u001B[38;5;124m'\u001B[39m\u001B[38;5;124morg_id\u001B[39m\u001B[38;5;124m'\u001B[39m]\u001B[38;5;241m.\u001B[39mappend(row\u001B[38;5;241m.\u001B[39mname)\n\u001B[0;32m     63\u001B[0m network_split \u001B[38;5;241m=\u001B[39m GeoDataFrame(data\u001B[38;5;241m=\u001B[39msegments,crs\u001B[38;5;241m=\u001B[39mproject_crs)\n",
      "File \u001B[1;32m~\\anaconda3\\envs\\momepy_env\\lib\\site-packages\\shapely\\geometry\\linestring.py:46\u001B[0m, in \u001B[0;36mLineString.__init__\u001B[1;34m(self, coordinates)\u001B[0m\n\u001B[0;32m     44\u001B[0m BaseGeometry\u001B[38;5;241m.\u001B[39m\u001B[38;5;21m__init__\u001B[39m(\u001B[38;5;28mself\u001B[39m)\n\u001B[0;32m     45\u001B[0m \u001B[38;5;28;01mif\u001B[39;00m coordinates \u001B[38;5;129;01mis\u001B[39;00m \u001B[38;5;129;01mnot\u001B[39;00m \u001B[38;5;28;01mNone\u001B[39;00m:\n\u001B[1;32m---> 46\u001B[0m     ret \u001B[38;5;241m=\u001B[39m \u001B[43mgeos_linestring_from_py\u001B[49m\u001B[43m(\u001B[49m\u001B[43mcoordinates\u001B[49m\u001B[43m)\u001B[49m\n\u001B[0;32m     47\u001B[0m     \u001B[38;5;28;01mif\u001B[39;00m ret \u001B[38;5;129;01mis\u001B[39;00m \u001B[38;5;129;01mnot\u001B[39;00m \u001B[38;5;28;01mNone\u001B[39;00m:\n\u001B[0;32m     48\u001B[0m         geom, n \u001B[38;5;241m=\u001B[39m ret\n",
      "File \u001B[1;32m~\\anaconda3\\envs\\momepy_env\\lib\\site-packages\\shapely\\speedups\\_speedups.pyx:156\u001B[0m, in \u001B[0;36mshapely.speedups._speedups.geos_linestring_from_py\u001B[1;34m()\u001B[0m\n",
      "\u001B[1;31mValueError\u001B[0m: LineStrings must have at least 2 coordinate tuples"
     ]
    }
   ],
   "source": [
    "cur_path = f'{path}/finals'\n",
    "obj_intersection2 = Intersection(extend_lines_f)\n",
    "obj_intersection2.delete_false_intersection()\n",
    "obj_intersection2.intersection_network()\n"
   ],
   "metadata": {
    "collapsed": false,
    "pycharm": {
     "name": "#%%\n"
    }
   }
  },
  {
   "cell_type": "code",
   "execution_count": null,
   "outputs": [],
   "source": [
    "# Clear short segments\n",
    "final = EnvEntity(obj_intersection2.my_network.reset_index())\n",
    "final.update_the_current_network(final.get_deadend_gdf(delete_short=30))\n",
    "final.network.to_file(f'{path_network}/final.shp')"
   ],
   "metadata": {
    "collapsed": false,
    "pycharm": {
     "name": "#%%\n"
    }
   }
  },
  {
   "cell_type": "code",
   "execution_count": null,
   "outputs": [],
   "source": [],
   "metadata": {
    "collapsed": false,
    "pycharm": {
     "name": "#%%\n"
    }
   }
  }
 ],
 "metadata": {
  "kernelspec": {
   "display_name": "Python 3",
   "language": "python",
   "name": "python3"
  },
  "language_info": {
   "codemirror_mode": {
    "name": "ipython",
    "version": 2
   },
   "file_extension": ".py",
   "mimetype": "text/x-python",
   "name": "python",
   "nbconvert_exporter": "python",
   "pygments_lexer": "ipython2",
   "version": "2.7.6"
  }
 },
 "nbformat": 4,
 "nbformat_minor": 0
}