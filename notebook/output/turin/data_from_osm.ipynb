{
 "cells": [
  {
   "cell_type": "code",
   "execution_count": 2,
   "outputs": [],
   "source": [
    "import osmnx as ox\n",
    "import momepy\n",
    "import geopandas as gpd\n",
    "import networkx\n",
    "from osmnx import io\n",
    "from geopandas import GeoDataFrame, GeoSeries\n",
    "from centerline.geometry import Centerline\n",
    "path ='output'\n",
    "project_crs = 'epsg:3857'\n",
    "import pandas as pd\n",
    "import ast\n",
    "from sklearn.cluster import DBSCAN\n",
    "from shapely.geometry import Polygon,Point,LineString,MultiPolygon"
   ],
   "metadata": {
    "collapsed": false,
    "pycharm": {
     "name": "#%%\n"
    }
   }
  },
  {
   "cell_type": "code",
   "execution_count": 35,
   "outputs": [],
   "source": [],
   "metadata": {
    "collapsed": false,
    "pycharm": {
     "name": "#%%\n"
    }
   }
  },
  {
   "cell_type": "markdown",
   "source": [
    "### Run only when download for first time"
   ],
   "metadata": {
    "collapsed": false,
    "pycharm": {
     "name": "#%% md\n"
    }
   }
  },
  {
   "cell_type": "code",
   "execution_count": 7,
   "outputs": [],
   "source": [
    "# Create graph from OSM server and project it\n",
    "graph = ox.graph_from_place('Torino', network_type='all')\n",
    "graph  = ox.bearing.add_edge_bearings(graph, precision=1)\n",
    "graph_pro = ox.projection.project_graph(graph, to_crs=project_crs)\n",
    "io.save_graph_geopackage(graph_pro, filepath='.', encoding='utf-8', directed=False)"
   ],
   "metadata": {
    "collapsed": false,
    "pycharm": {
     "name": "#%%\n"
    }
   }
  },
  {
   "cell_type": "markdown",
   "source": [
    "### End"
   ],
   "metadata": {
    "collapsed": false,
    "pycharm": {
     "name": "#%% md\n"
    }
   }
  },
  {
   "cell_type": "code",
   "execution_count": 1,
   "outputs": [
    {
     "ename": "NameError",
     "evalue": "name 'gpd' is not defined",
     "output_type": "error",
     "traceback": [
      "\u001B[1;31m---------------------------------------------------------------------------\u001B[0m",
      "\u001B[1;31mNameError\u001B[0m                                 Traceback (most recent call last)",
      "Cell \u001B[1;32mIn [1], line 2\u001B[0m\n\u001B[0;32m      1\u001B[0m \u001B[38;5;66;03m# delete segments without names\u001B[39;00m\n\u001B[1;32m----> 2\u001B[0m my_gdf \u001B[38;5;241m=\u001B[39m \u001B[43mgpd\u001B[49m\u001B[38;5;241m.\u001B[39mread_file(\u001B[38;5;124mf\u001B[39m\u001B[38;5;124m'\u001B[39m\u001B[38;5;132;01m{\u001B[39;00mpath\u001B[38;5;132;01m}\u001B[39;00m\u001B[38;5;124m/edges.shp\u001B[39m\u001B[38;5;124m'\u001B[39m)\n\u001B[0;32m      3\u001B[0m not_null\u001B[38;5;241m=\u001B[39m my_gdf\u001B[38;5;241m.\u001B[39mdropna(subset\u001B[38;5;241m=\u001B[39m\u001B[38;5;124m'\u001B[39m\u001B[38;5;124mname\u001B[39m\u001B[38;5;124m'\u001B[39m)\n\u001B[0;32m      4\u001B[0m not_null\u001B[38;5;241m.\u001B[39mto_file(\u001B[38;5;124mf\u001B[39m\u001B[38;5;124m'\u001B[39m\u001B[38;5;132;01m{\u001B[39;00mpath\u001B[38;5;132;01m}\u001B[39;00m\u001B[38;5;124m/not_null.shp\u001B[39m\u001B[38;5;124m'\u001B[39m)\n",
      "\u001B[1;31mNameError\u001B[0m: name 'gpd' is not defined"
     ]
    }
   ],
   "source": [
    "# delete segments without names\n",
    "my_gdf = gpd.read_file(f'{path}/edges.shp')\n",
    "not_null= my_gdf.dropna(subset='name')\n",
    "not_null.to_file(f'{path}/not_null.shp')"
   ],
   "metadata": {
    "collapsed": false,
    "pycharm": {
     "name": "#%%\n"
    }
   }
  },
  {
   "cell_type": "code",
   "execution_count": 73,
   "outputs": [],
   "source": [
    "# delete segments present any kind of roundabout or tunnel\n",
    "not_roundaout = not_null[~((not_null['junction']=='roundabout')|(not_null['junction']=='circular')|(not_null['tunnel']=='building_passage')|(not_null['tunnel']=='yes')| (not_null['highway']=='cycleway')| (not_null['highway']=='path'))]\n",
    "not_roundaout.to_file(f'{path}/not_roundabout_tunnel.shp')"
   ],
   "metadata": {
    "collapsed": false,
    "pycharm": {
     "name": "#%%\n"
    }
   }
  },
  {
   "cell_type": "code",
   "execution_count": 75,
   "outputs": [],
   "source": [
    "# Project dataframe and calculate angle (0 to 180)\n",
    "df_pro = not_roundaout.to_crs(project_crs)\n",
    "df_pro['angle'] = df_pro['bearing'].apply(lambda x:x if x<180 else x-180)\n",
    "df_pro.to_file(f'{path}/pro.shp')"
   ],
   "metadata": {
    "collapsed": false,
    "pycharm": {
     "name": "#%%\n"
    }
   }
  },
  {
   "cell_type": "code",
   "execution_count": null,
   "outputs": [],
   "source": [
    "# only the first value will be saed highway with more than 1 value"
   ],
   "metadata": {
    "collapsed": false,
    "pycharm": {
     "name": "#%%\n"
    }
   }
  },
  {
   "cell_type": "code",
   "execution_count": 4,
   "outputs": [],
   "source": [
    "def length_of_parallel(my_s_join: GeoDataFrame, the_buffer:GeoSeries, geo_field:str)-> int:\n",
    "    my_s_join['geometry'] =my_s_join[geo_field]\n",
    "    new_data_0 = my_s_join.sjoin(GeoDataFrame(geometry=the_buffer, crs= project_crs), how='inner').reset_index()\n",
    "    if len(new_data_0)==0:\n",
    "        return 0\n",
    "    return len(new_data_0[new_data_0['index']!= new_data_0['index_right']])"
   ],
   "metadata": {
    "collapsed": false,
    "pycharm": {
     "name": "#%%\n"
    }
   }
  },
  {
   "cell_type": "code",
   "execution_count": 5,
   "outputs": [],
   "source": [
    "def check_parallelism(to_translate: GeoDataFrame, is_test:bool=False)->bool:\n",
    "    my_buffer = to_translate['geometry'].buffer(cap_style=2, distance=30, join_style=3)\n",
    "    to_translate['geometry_right'] = to_translate['geometry'].apply(lambda x:x.parallel_offset(35, 'right'))\n",
    "    to_translate['geometry_left'] = to_translate['geometry'].apply(lambda x:x.parallel_offset(35, 'left'))\n",
    "    if is_test:\n",
    "        to_translate.drop(columns= ['geometry', new_geometry[0]]).rename(columns = {new_geometry[1]: 'geometry'}).to_file(f'{path}/res_translate_{new_geometry[1]}.shp')\n",
    "        to_translate.drop(columns= ['geometry', new_geometry[1]]).rename(columns = {new_geometry[0]: 'geometry'}).to_file(f'{path}/res_translate_{new_geometry[0]}.shp')\n",
    "        my_buffer.to_file(f'{path}/buffers_test.shp')\n",
    "    if length_of_parallel(to_translate, my_buffer, 'geometry_right') >0 or length_of_parallel(to_translate, my_buffer, 'geometry_left') >0:\n",
    "        return True\n",
    "    else:\n",
    "        return False"
   ],
   "metadata": {
    "collapsed": false,
    "pycharm": {
     "name": "#%%\n"
    }
   }
  },
  {
   "cell_type": "code",
   "execution_count": 6,
   "outputs": [],
   "source": [
    "def simplify(x):\n",
    "    simplify_poly = one_buffer.simplify(x, preserve_topology=False)\n",
    "    if simplify_poly.area==0:\n",
    "        simplify_poly= simplify(x/2)\n",
    "    return simplify_poly\n",
    "\n"
   ],
   "metadata": {
    "collapsed": false,
    "pycharm": {
     "name": "#%%\n"
    }
   }
  },
  {
   "cell_type": "code",
   "execution_count": 7,
   "outputs": [],
   "source": [
    "df_pro = gpd.read_file((f'{path}/pro.shp'))"
   ],
   "metadata": {
    "collapsed": false,
    "pycharm": {
     "name": "#%%\n"
    }
   }
  },
  {
   "cell_type": "code",
   "execution_count": 8,
   "outputs": [
    {
     "name": "stdout",
     "output_type": "stream",
     "text": [
      "0.0\n",
      "0.04\n",
      "0.08\n",
      "0.12\n"
     ]
    },
    {
     "name": "stderr",
     "output_type": "stream",
     "text": [
      "C:\\Users\\Achituv\\AppData\\Local\\Temp\\ipykernel_20092\\3007926787.py:31: ShapelyDeprecationWarning: Iteration over multi-part geometries is deprecated and will be removed in Shapely 2.0. Use the `geoms` property to access the constituent parts of a multi-part geometry.\n",
      "  for polygon in simplify_poly:\n",
      "C:\\Users\\Achituv\\AppData\\Local\\Temp\\ipykernel_20092\\3007926787.py:31: ShapelyDeprecationWarning: Iteration over multi-part geometries is deprecated and will be removed in Shapely 2.0. Use the `geoms` property to access the constituent parts of a multi-part geometry.\n",
      "  for polygon in simplify_poly:\n",
      "C:\\Users\\Achituv\\AppData\\Local\\Temp\\ipykernel_20092\\3007926787.py:31: ShapelyDeprecationWarning: Iteration over multi-part geometries is deprecated and will be removed in Shapely 2.0. Use the `geoms` property to access the constituent parts of a multi-part geometry.\n",
      "  for polygon in simplify_poly:\n",
      "C:\\Users\\Achituv\\AppData\\Local\\Temp\\ipykernel_20092\\3007926787.py:31: ShapelyDeprecationWarning: Iteration over multi-part geometries is deprecated and will be removed in Shapely 2.0. Use the `geoms` property to access the constituent parts of a multi-part geometry.\n",
      "  for polygon in simplify_poly:\n"
     ]
    },
    {
     "name": "stdout",
     "output_type": "stream",
     "text": [
      "0.16\n",
      "0.2\n",
      "0.24\n",
      "0.28\n"
     ]
    },
    {
     "name": "stderr",
     "output_type": "stream",
     "text": [
      "C:\\Users\\Achituv\\AppData\\Local\\Temp\\ipykernel_20092\\3007926787.py:31: ShapelyDeprecationWarning: Iteration over multi-part geometries is deprecated and will be removed in Shapely 2.0. Use the `geoms` property to access the constituent parts of a multi-part geometry.\n",
      "  for polygon in simplify_poly:\n",
      "C:\\Users\\Achituv\\AppData\\Local\\Temp\\ipykernel_20092\\3007926787.py:31: ShapelyDeprecationWarning: Iteration over multi-part geometries is deprecated and will be removed in Shapely 2.0. Use the `geoms` property to access the constituent parts of a multi-part geometry.\n",
      "  for polygon in simplify_poly:\n",
      "C:\\Users\\Achituv\\AppData\\Local\\Temp\\ipykernel_20092\\3007926787.py:31: ShapelyDeprecationWarning: Iteration over multi-part geometries is deprecated and will be removed in Shapely 2.0. Use the `geoms` property to access the constituent parts of a multi-part geometry.\n",
      "  for polygon in simplify_poly:\n",
      "C:\\Users\\Achituv\\AppData\\Local\\Temp\\ipykernel_20092\\3007926787.py:31: ShapelyDeprecationWarning: Iteration over multi-part geometries is deprecated and will be removed in Shapely 2.0. Use the `geoms` property to access the constituent parts of a multi-part geometry.\n",
      "  for polygon in simplify_poly:\n",
      "C:\\Users\\Achituv\\AppData\\Local\\Temp\\ipykernel_20092\\3007926787.py:31: ShapelyDeprecationWarning: Iteration over multi-part geometries is deprecated and will be removed in Shapely 2.0. Use the `geoms` property to access the constituent parts of a multi-part geometry.\n",
      "  for polygon in simplify_poly:\n"
     ]
    },
    {
     "name": "stdout",
     "output_type": "stream",
     "text": [
      "0.32\n",
      "0.37\n"
     ]
    },
    {
     "name": "stderr",
     "output_type": "stream",
     "text": [
      "C:\\Users\\Achituv\\AppData\\Local\\Temp\\ipykernel_20092\\3007926787.py:31: ShapelyDeprecationWarning: Iteration over multi-part geometries is deprecated and will be removed in Shapely 2.0. Use the `geoms` property to access the constituent parts of a multi-part geometry.\n",
      "  for polygon in simplify_poly:\n",
      "C:\\Users\\Achituv\\AppData\\Local\\Temp\\ipykernel_20092\\3007926787.py:31: ShapelyDeprecationWarning: Iteration over multi-part geometries is deprecated and will be removed in Shapely 2.0. Use the `geoms` property to access the constituent parts of a multi-part geometry.\n",
      "  for polygon in simplify_poly:\n",
      "C:\\Users\\Achituv\\AppData\\Local\\Temp\\ipykernel_20092\\3007926787.py:31: ShapelyDeprecationWarning: Iteration over multi-part geometries is deprecated and will be removed in Shapely 2.0. Use the `geoms` property to access the constituent parts of a multi-part geometry.\n",
      "  for polygon in simplify_poly:\n",
      "C:\\Users\\Achituv\\AppData\\Local\\Temp\\ipykernel_20092\\3007926787.py:31: ShapelyDeprecationWarning: Iteration over multi-part geometries is deprecated and will be removed in Shapely 2.0. Use the `geoms` property to access the constituent parts of a multi-part geometry.\n",
      "  for polygon in simplify_poly:\n",
      "C:\\Users\\Achituv\\AppData\\Local\\Temp\\ipykernel_20092\\3007926787.py:31: ShapelyDeprecationWarning: Iteration over multi-part geometries is deprecated and will be removed in Shapely 2.0. Use the `geoms` property to access the constituent parts of a multi-part geometry.\n",
      "  for polygon in simplify_poly:\n"
     ]
    },
    {
     "name": "stdout",
     "output_type": "stream",
     "text": [
      "0.41\n",
      "0.45\n",
      "0.49\n"
     ]
    },
    {
     "name": "stderr",
     "output_type": "stream",
     "text": [
      "C:\\Users\\Achituv\\AppData\\Local\\Temp\\ipykernel_20092\\3007926787.py:31: ShapelyDeprecationWarning: Iteration over multi-part geometries is deprecated and will be removed in Shapely 2.0. Use the `geoms` property to access the constituent parts of a multi-part geometry.\n",
      "  for polygon in simplify_poly:\n",
      "C:\\Users\\Achituv\\AppData\\Local\\Temp\\ipykernel_20092\\3007926787.py:31: ShapelyDeprecationWarning: Iteration over multi-part geometries is deprecated and will be removed in Shapely 2.0. Use the `geoms` property to access the constituent parts of a multi-part geometry.\n",
      "  for polygon in simplify_poly:\n"
     ]
    },
    {
     "name": "stdout",
     "output_type": "stream",
     "text": [
      "0.53\n",
      "0.57\n"
     ]
    },
    {
     "name": "stderr",
     "output_type": "stream",
     "text": [
      "C:\\Users\\Achituv\\AppData\\Local\\Temp\\ipykernel_20092\\3007926787.py:31: ShapelyDeprecationWarning: Iteration over multi-part geometries is deprecated and will be removed in Shapely 2.0. Use the `geoms` property to access the constituent parts of a multi-part geometry.\n",
      "  for polygon in simplify_poly:\n",
      "C:\\Users\\Achituv\\AppData\\Local\\Temp\\ipykernel_20092\\3007926787.py:31: ShapelyDeprecationWarning: Iteration over multi-part geometries is deprecated and will be removed in Shapely 2.0. Use the `geoms` property to access the constituent parts of a multi-part geometry.\n",
      "  for polygon in simplify_poly:\n",
      "C:\\Users\\Achituv\\AppData\\Local\\Temp\\ipykernel_20092\\3007926787.py:31: ShapelyDeprecationWarning: Iteration over multi-part geometries is deprecated and will be removed in Shapely 2.0. Use the `geoms` property to access the constituent parts of a multi-part geometry.\n",
      "  for polygon in simplify_poly:\n",
      "C:\\Users\\Achituv\\AppData\\Local\\Temp\\ipykernel_20092\\3007926787.py:31: ShapelyDeprecationWarning: Iteration over multi-part geometries is deprecated and will be removed in Shapely 2.0. Use the `geoms` property to access the constituent parts of a multi-part geometry.\n",
      "  for polygon in simplify_poly:\n"
     ]
    },
    {
     "name": "stdout",
     "output_type": "stream",
     "text": [
      "0.61\n",
      "0.65\n",
      "0.69\n"
     ]
    },
    {
     "name": "stderr",
     "output_type": "stream",
     "text": [
      "C:\\Users\\Achituv\\AppData\\Local\\Temp\\ipykernel_20092\\3007926787.py:31: ShapelyDeprecationWarning: Iteration over multi-part geometries is deprecated and will be removed in Shapely 2.0. Use the `geoms` property to access the constituent parts of a multi-part geometry.\n",
      "  for polygon in simplify_poly:\n"
     ]
    },
    {
     "name": "stdout",
     "output_type": "stream",
     "text": [
      "0.73\n",
      "0.77\n",
      "0.81\n",
      "0.85\n",
      "0.89\n",
      "0.93\n"
     ]
    },
    {
     "name": "stderr",
     "output_type": "stream",
     "text": [
      "C:\\Users\\Achituv\\AppData\\Local\\Temp\\ipykernel_20092\\3007926787.py:31: ShapelyDeprecationWarning: Iteration over multi-part geometries is deprecated and will be removed in Shapely 2.0. Use the `geoms` property to access the constituent parts of a multi-part geometry.\n",
      "  for polygon in simplify_poly:\n",
      "C:\\Users\\Achituv\\AppData\\Local\\Temp\\ipykernel_20092\\3007926787.py:31: ShapelyDeprecationWarning: Iteration over multi-part geometries is deprecated and will be removed in Shapely 2.0. Use the `geoms` property to access the constituent parts of a multi-part geometry.\n",
      "  for polygon in simplify_poly:\n",
      "C:\\Users\\Achituv\\AppData\\Local\\Temp\\ipykernel_20092\\3007926787.py:31: ShapelyDeprecationWarning: Iteration over multi-part geometries is deprecated and will be removed in Shapely 2.0. Use the `geoms` property to access the constituent parts of a multi-part geometry.\n",
      "  for polygon in simplify_poly:\n",
      "C:\\Users\\Achituv\\AppData\\Local\\Temp\\ipykernel_20092\\3007926787.py:31: ShapelyDeprecationWarning: Iteration over multi-part geometries is deprecated and will be removed in Shapely 2.0. Use the `geoms` property to access the constituent parts of a multi-part geometry.\n",
      "  for polygon in simplify_poly:\n",
      "C:\\Users\\Achituv\\AppData\\Local\\Temp\\ipykernel_20092\\3007926787.py:31: ShapelyDeprecationWarning: Iteration over multi-part geometries is deprecated and will be removed in Shapely 2.0. Use the `geoms` property to access the constituent parts of a multi-part geometry.\n",
      "  for polygon in simplify_poly:\n",
      "C:\\Users\\Achituv\\AppData\\Local\\Temp\\ipykernel_20092\\3007926787.py:31: ShapelyDeprecationWarning: Iteration over multi-part geometries is deprecated and will be removed in Shapely 2.0. Use the `geoms` property to access the constituent parts of a multi-part geometry.\n",
      "  for polygon in simplify_poly:\n",
      "C:\\Users\\Achituv\\AppData\\Local\\Temp\\ipykernel_20092\\3007926787.py:31: ShapelyDeprecationWarning: Iteration over multi-part geometries is deprecated and will be removed in Shapely 2.0. Use the `geoms` property to access the constituent parts of a multi-part geometry.\n",
      "  for polygon in simplify_poly:\n",
      "C:\\Users\\Achituv\\AppData\\Local\\Temp\\ipykernel_20092\\3007926787.py:31: ShapelyDeprecationWarning: Iteration over multi-part geometries is deprecated and will be removed in Shapely 2.0. Use the `geoms` property to access the constituent parts of a multi-part geometry.\n",
      "  for polygon in simplify_poly:\n"
     ]
    },
    {
     "name": "stdout",
     "output_type": "stream",
     "text": [
      "0.97\n",
      "1.01\n",
      "1.06\n",
      "1.1\n",
      "1.14\n"
     ]
    },
    {
     "name": "stderr",
     "output_type": "stream",
     "text": [
      "C:\\Users\\Achituv\\AppData\\Local\\Temp\\ipykernel_20092\\3007926787.py:31: ShapelyDeprecationWarning: Iteration over multi-part geometries is deprecated and will be removed in Shapely 2.0. Use the `geoms` property to access the constituent parts of a multi-part geometry.\n",
      "  for polygon in simplify_poly:\n",
      "C:\\Users\\Achituv\\AppData\\Local\\Temp\\ipykernel_20092\\3007926787.py:31: ShapelyDeprecationWarning: Iteration over multi-part geometries is deprecated and will be removed in Shapely 2.0. Use the `geoms` property to access the constituent parts of a multi-part geometry.\n",
      "  for polygon in simplify_poly:\n",
      "C:\\Users\\Achituv\\AppData\\Local\\Temp\\ipykernel_20092\\3007926787.py:31: ShapelyDeprecationWarning: Iteration over multi-part geometries is deprecated and will be removed in Shapely 2.0. Use the `geoms` property to access the constituent parts of a multi-part geometry.\n",
      "  for polygon in simplify_poly:\n"
     ]
    },
    {
     "name": "stdout",
     "output_type": "stream",
     "text": [
      "1.18\n",
      "1.22\n",
      "1.26\n",
      "1.3\n",
      "1.34\n",
      "1.38\n",
      "1.42\n",
      "1.46\n",
      "1.5\n"
     ]
    },
    {
     "name": "stderr",
     "output_type": "stream",
     "text": [
      "C:\\Users\\Achituv\\AppData\\Local\\Temp\\ipykernel_20092\\3007926787.py:31: ShapelyDeprecationWarning: Iteration over multi-part geometries is deprecated and will be removed in Shapely 2.0. Use the `geoms` property to access the constituent parts of a multi-part geometry.\n",
      "  for polygon in simplify_poly:\n",
      "C:\\Users\\Achituv\\AppData\\Local\\Temp\\ipykernel_20092\\3007926787.py:31: ShapelyDeprecationWarning: Iteration over multi-part geometries is deprecated and will be removed in Shapely 2.0. Use the `geoms` property to access the constituent parts of a multi-part geometry.\n",
      "  for polygon in simplify_poly:\n"
     ]
    },
    {
     "name": "stdout",
     "output_type": "stream",
     "text": [
      "1.54\n",
      "1.58\n",
      "1.62\n",
      "1.66\n"
     ]
    },
    {
     "name": "stderr",
     "output_type": "stream",
     "text": [
      "C:\\Users\\Achituv\\AppData\\Local\\Temp\\ipykernel_20092\\3007926787.py:31: ShapelyDeprecationWarning: Iteration over multi-part geometries is deprecated and will be removed in Shapely 2.0. Use the `geoms` property to access the constituent parts of a multi-part geometry.\n",
      "  for polygon in simplify_poly:\n",
      "C:\\Users\\Achituv\\AppData\\Local\\Temp\\ipykernel_20092\\3007926787.py:31: ShapelyDeprecationWarning: Iteration over multi-part geometries is deprecated and will be removed in Shapely 2.0. Use the `geoms` property to access the constituent parts of a multi-part geometry.\n",
      "  for polygon in simplify_poly:\n",
      "C:\\Users\\Achituv\\AppData\\Local\\Temp\\ipykernel_20092\\3007926787.py:31: ShapelyDeprecationWarning: Iteration over multi-part geometries is deprecated and will be removed in Shapely 2.0. Use the `geoms` property to access the constituent parts of a multi-part geometry.\n",
      "  for polygon in simplify_poly:\n",
      "C:\\Users\\Achituv\\AppData\\Local\\Temp\\ipykernel_20092\\3007926787.py:31: ShapelyDeprecationWarning: Iteration over multi-part geometries is deprecated and will be removed in Shapely 2.0. Use the `geoms` property to access the constituent parts of a multi-part geometry.\n",
      "  for polygon in simplify_poly:\n",
      "C:\\Users\\Achituv\\AppData\\Local\\Temp\\ipykernel_20092\\3007926787.py:31: ShapelyDeprecationWarning: Iteration over multi-part geometries is deprecated and will be removed in Shapely 2.0. Use the `geoms` property to access the constituent parts of a multi-part geometry.\n",
      "  for polygon in simplify_poly:\n",
      "C:\\Users\\Achituv\\AppData\\Local\\Temp\\ipykernel_20092\\3007926787.py:31: ShapelyDeprecationWarning: Iteration over multi-part geometries is deprecated and will be removed in Shapely 2.0. Use the `geoms` property to access the constituent parts of a multi-part geometry.\n",
      "  for polygon in simplify_poly:\n",
      "C:\\Users\\Achituv\\AppData\\Local\\Temp\\ipykernel_20092\\3007926787.py:31: ShapelyDeprecationWarning: Iteration over multi-part geometries is deprecated and will be removed in Shapely 2.0. Use the `geoms` property to access the constituent parts of a multi-part geometry.\n",
      "  for polygon in simplify_poly:\n",
      "C:\\Users\\Achituv\\AppData\\Local\\Temp\\ipykernel_20092\\3007926787.py:31: ShapelyDeprecationWarning: Iteration over multi-part geometries is deprecated and will be removed in Shapely 2.0. Use the `geoms` property to access the constituent parts of a multi-part geometry.\n",
      "  for polygon in simplify_poly:\n"
     ]
    },
    {
     "name": "stdout",
     "output_type": "stream",
     "text": [
      "1.7\n",
      "1.75\n",
      "1.79\n",
      "1.83\n"
     ]
    },
    {
     "name": "stderr",
     "output_type": "stream",
     "text": [
      "C:\\Users\\Achituv\\AppData\\Local\\Temp\\ipykernel_20092\\3007926787.py:31: ShapelyDeprecationWarning: Iteration over multi-part geometries is deprecated and will be removed in Shapely 2.0. Use the `geoms` property to access the constituent parts of a multi-part geometry.\n",
      "  for polygon in simplify_poly:\n",
      "C:\\Users\\Achituv\\AppData\\Local\\Temp\\ipykernel_20092\\3007926787.py:31: ShapelyDeprecationWarning: Iteration over multi-part geometries is deprecated and will be removed in Shapely 2.0. Use the `geoms` property to access the constituent parts of a multi-part geometry.\n",
      "  for polygon in simplify_poly:\n",
      "C:\\Users\\Achituv\\AppData\\Local\\Temp\\ipykernel_20092\\3007926787.py:31: ShapelyDeprecationWarning: Iteration over multi-part geometries is deprecated and will be removed in Shapely 2.0. Use the `geoms` property to access the constituent parts of a multi-part geometry.\n",
      "  for polygon in simplify_poly:\n",
      "C:\\Users\\Achituv\\AppData\\Local\\Temp\\ipykernel_20092\\3007926787.py:31: ShapelyDeprecationWarning: Iteration over multi-part geometries is deprecated and will be removed in Shapely 2.0. Use the `geoms` property to access the constituent parts of a multi-part geometry.\n",
      "  for polygon in simplify_poly:\n",
      "C:\\Users\\Achituv\\AppData\\Local\\Temp\\ipykernel_20092\\3007926787.py:31: ShapelyDeprecationWarning: Iteration over multi-part geometries is deprecated and will be removed in Shapely 2.0. Use the `geoms` property to access the constituent parts of a multi-part geometry.\n",
      "  for polygon in simplify_poly:\n",
      "C:\\Users\\Achituv\\AppData\\Local\\Temp\\ipykernel_20092\\3007926787.py:31: ShapelyDeprecationWarning: Iteration over multi-part geometries is deprecated and will be removed in Shapely 2.0. Use the `geoms` property to access the constituent parts of a multi-part geometry.\n",
      "  for polygon in simplify_poly:\n",
      "C:\\Users\\Achituv\\AppData\\Local\\Temp\\ipykernel_20092\\3007926787.py:31: ShapelyDeprecationWarning: Iteration over multi-part geometries is deprecated and will be removed in Shapely 2.0. Use the `geoms` property to access the constituent parts of a multi-part geometry.\n",
      "  for polygon in simplify_poly:\n",
      "C:\\Users\\Achituv\\AppData\\Local\\Temp\\ipykernel_20092\\3007926787.py:31: ShapelyDeprecationWarning: Iteration over multi-part geometries is deprecated and will be removed in Shapely 2.0. Use the `geoms` property to access the constituent parts of a multi-part geometry.\n",
      "  for polygon in simplify_poly:\n",
      "C:\\Users\\Achituv\\AppData\\Local\\Temp\\ipykernel_20092\\3007926787.py:31: ShapelyDeprecationWarning: Iteration over multi-part geometries is deprecated and will be removed in Shapely 2.0. Use the `geoms` property to access the constituent parts of a multi-part geometry.\n",
      "  for polygon in simplify_poly:\n",
      "C:\\Users\\Achituv\\AppData\\Local\\Temp\\ipykernel_20092\\3007926787.py:31: ShapelyDeprecationWarning: Iteration over multi-part geometries is deprecated and will be removed in Shapely 2.0. Use the `geoms` property to access the constituent parts of a multi-part geometry.\n",
      "  for polygon in simplify_poly:\n",
      "C:\\Users\\Achituv\\AppData\\Local\\Temp\\ipykernel_20092\\3007926787.py:31: ShapelyDeprecationWarning: Iteration over multi-part geometries is deprecated and will be removed in Shapely 2.0. Use the `geoms` property to access the constituent parts of a multi-part geometry.\n",
      "  for polygon in simplify_poly:\n",
      "C:\\Users\\Achituv\\AppData\\Local\\Temp\\ipykernel_20092\\3007926787.py:31: ShapelyDeprecationWarning: Iteration over multi-part geometries is deprecated and will be removed in Shapely 2.0. Use the `geoms` property to access the constituent parts of a multi-part geometry.\n",
      "  for polygon in simplify_poly:\n"
     ]
    },
    {
     "name": "stdout",
     "output_type": "stream",
     "text": [
      "1.87\n",
      "1.91\n",
      "1.95\n",
      "1.99\n",
      "2.03\n",
      "2.07\n"
     ]
    },
    {
     "name": "stderr",
     "output_type": "stream",
     "text": [
      "C:\\Users\\Achituv\\AppData\\Local\\Temp\\ipykernel_20092\\3007926787.py:31: ShapelyDeprecationWarning: Iteration over multi-part geometries is deprecated and will be removed in Shapely 2.0. Use the `geoms` property to access the constituent parts of a multi-part geometry.\n",
      "  for polygon in simplify_poly:\n",
      "C:\\Users\\Achituv\\AppData\\Local\\Temp\\ipykernel_20092\\3007926787.py:31: ShapelyDeprecationWarning: Iteration over multi-part geometries is deprecated and will be removed in Shapely 2.0. Use the `geoms` property to access the constituent parts of a multi-part geometry.\n",
      "  for polygon in simplify_poly:\n",
      "C:\\Users\\Achituv\\AppData\\Local\\Temp\\ipykernel_20092\\3007926787.py:31: ShapelyDeprecationWarning: Iteration over multi-part geometries is deprecated and will be removed in Shapely 2.0. Use the `geoms` property to access the constituent parts of a multi-part geometry.\n",
      "  for polygon in simplify_poly:\n",
      "C:\\Users\\Achituv\\AppData\\Local\\Temp\\ipykernel_20092\\3007926787.py:31: ShapelyDeprecationWarning: Iteration over multi-part geometries is deprecated and will be removed in Shapely 2.0. Use the `geoms` property to access the constituent parts of a multi-part geometry.\n",
      "  for polygon in simplify_poly:\n",
      "C:\\Users\\Achituv\\AppData\\Local\\Temp\\ipykernel_20092\\3007926787.py:31: ShapelyDeprecationWarning: Iteration over multi-part geometries is deprecated and will be removed in Shapely 2.0. Use the `geoms` property to access the constituent parts of a multi-part geometry.\n",
      "  for polygon in simplify_poly:\n",
      "C:\\Users\\Achituv\\AppData\\Local\\Temp\\ipykernel_20092\\3007926787.py:31: ShapelyDeprecationWarning: Iteration over multi-part geometries is deprecated and will be removed in Shapely 2.0. Use the `geoms` property to access the constituent parts of a multi-part geometry.\n",
      "  for polygon in simplify_poly:\n",
      "C:\\Users\\Achituv\\AppData\\Local\\Temp\\ipykernel_20092\\3007926787.py:31: ShapelyDeprecationWarning: Iteration over multi-part geometries is deprecated and will be removed in Shapely 2.0. Use the `geoms` property to access the constituent parts of a multi-part geometry.\n",
      "  for polygon in simplify_poly:\n",
      "C:\\Users\\Achituv\\AppData\\Local\\Temp\\ipykernel_20092\\3007926787.py:31: ShapelyDeprecationWarning: Iteration over multi-part geometries is deprecated and will be removed in Shapely 2.0. Use the `geoms` property to access the constituent parts of a multi-part geometry.\n",
      "  for polygon in simplify_poly:\n",
      "C:\\Users\\Achituv\\AppData\\Local\\Temp\\ipykernel_20092\\3007926787.py:31: ShapelyDeprecationWarning: Iteration over multi-part geometries is deprecated and will be removed in Shapely 2.0. Use the `geoms` property to access the constituent parts of a multi-part geometry.\n",
      "  for polygon in simplify_poly:\n",
      "C:\\Users\\Achituv\\AppData\\Local\\Temp\\ipykernel_20092\\3007926787.py:31: ShapelyDeprecationWarning: Iteration over multi-part geometries is deprecated and will be removed in Shapely 2.0. Use the `geoms` property to access the constituent parts of a multi-part geometry.\n",
      "  for polygon in simplify_poly:\n",
      "C:\\Users\\Achituv\\AppData\\Local\\Temp\\ipykernel_20092\\3007926787.py:31: ShapelyDeprecationWarning: Iteration over multi-part geometries is deprecated and will be removed in Shapely 2.0. Use the `geoms` property to access the constituent parts of a multi-part geometry.\n",
      "  for polygon in simplify_poly:\n",
      "C:\\Users\\Achituv\\AppData\\Local\\Temp\\ipykernel_20092\\3007926787.py:31: ShapelyDeprecationWarning: Iteration over multi-part geometries is deprecated and will be removed in Shapely 2.0. Use the `geoms` property to access the constituent parts of a multi-part geometry.\n",
      "  for polygon in simplify_poly:\n"
     ]
    },
    {
     "name": "stdout",
     "output_type": "stream",
     "text": [
      "2.11\n",
      "2.15\n",
      "2.19\n"
     ]
    },
    {
     "name": "stderr",
     "output_type": "stream",
     "text": [
      "C:\\Users\\Achituv\\AppData\\Local\\Temp\\ipykernel_20092\\3007926787.py:31: ShapelyDeprecationWarning: Iteration over multi-part geometries is deprecated and will be removed in Shapely 2.0. Use the `geoms` property to access the constituent parts of a multi-part geometry.\n",
      "  for polygon in simplify_poly:\n",
      "C:\\Users\\Achituv\\AppData\\Local\\Temp\\ipykernel_20092\\3007926787.py:31: ShapelyDeprecationWarning: Iteration over multi-part geometries is deprecated and will be removed in Shapely 2.0. Use the `geoms` property to access the constituent parts of a multi-part geometry.\n",
      "  for polygon in simplify_poly:\n",
      "C:\\Users\\Achituv\\AppData\\Local\\Temp\\ipykernel_20092\\3007926787.py:31: ShapelyDeprecationWarning: Iteration over multi-part geometries is deprecated and will be removed in Shapely 2.0. Use the `geoms` property to access the constituent parts of a multi-part geometry.\n",
      "  for polygon in simplify_poly:\n",
      "C:\\Users\\Achituv\\AppData\\Local\\Temp\\ipykernel_20092\\3007926787.py:31: ShapelyDeprecationWarning: Iteration over multi-part geometries is deprecated and will be removed in Shapely 2.0. Use the `geoms` property to access the constituent parts of a multi-part geometry.\n",
      "  for polygon in simplify_poly:\n",
      "C:\\Users\\Achituv\\AppData\\Local\\Temp\\ipykernel_20092\\3007926787.py:31: ShapelyDeprecationWarning: Iteration over multi-part geometries is deprecated and will be removed in Shapely 2.0. Use the `geoms` property to access the constituent parts of a multi-part geometry.\n",
      "  for polygon in simplify_poly:\n",
      "C:\\Users\\Achituv\\AppData\\Local\\Temp\\ipykernel_20092\\3007926787.py:31: ShapelyDeprecationWarning: Iteration over multi-part geometries is deprecated and will be removed in Shapely 2.0. Use the `geoms` property to access the constituent parts of a multi-part geometry.\n",
      "  for polygon in simplify_poly:\n"
     ]
    },
    {
     "ename": "KeyboardInterrupt",
     "evalue": "",
     "output_type": "error",
     "traceback": [
      "\u001B[1;31m---------------------------------------------------------------------------\u001B[0m",
      "\u001B[1;31mKeyboardInterrupt\u001B[0m                         Traceback (most recent call last)",
      "Cell \u001B[1;32mIn [8], line 21\u001B[0m\n\u001B[0;32m     19\u001B[0m \u001B[38;5;28;01mfor\u001B[39;00m group \u001B[38;5;129;01min\u001B[39;00m cur_group:\n\u001B[0;32m     20\u001B[0m     data \u001B[38;5;241m=\u001B[39m group[\u001B[38;5;241m1\u001B[39m]\n\u001B[1;32m---> 21\u001B[0m     \u001B[38;5;28;01mif\u001B[39;00m \u001B[43mcheck_parallelism\u001B[49m\u001B[43m(\u001B[49m\u001B[43mdata\u001B[49m\u001B[43m,\u001B[49m\u001B[43m \u001B[49m\u001B[43mis_test\u001B[49m\u001B[38;5;241;43m=\u001B[39;49m\u001B[38;5;28;43;01mFalse\u001B[39;49;00m\u001B[43m)\u001B[49m:\n\u001B[0;32m     22\u001B[0m         \u001B[38;5;66;03m# if among of lines with same angles some are parallel,find the center line for each group\u001B[39;00m\n\u001B[0;32m     23\u001B[0m         \u001B[38;5;28;01mfor\u001B[39;00m group \u001B[38;5;129;01min\u001B[39;00m cur_group:\n\u001B[0;32m     24\u001B[0m             data \u001B[38;5;241m=\u001B[39m group[\u001B[38;5;241m1\u001B[39m]\n",
      "Cell \u001B[1;32mIn [5], line 9\u001B[0m, in \u001B[0;36mcheck_parallelism\u001B[1;34m(to_translate, is_test)\u001B[0m\n\u001B[0;32m      7\u001B[0m     to_translate\u001B[38;5;241m.\u001B[39mdrop(columns\u001B[38;5;241m=\u001B[39m [\u001B[38;5;124m'\u001B[39m\u001B[38;5;124mgeometry\u001B[39m\u001B[38;5;124m'\u001B[39m, new_geometry[\u001B[38;5;241m1\u001B[39m]])\u001B[38;5;241m.\u001B[39mrename(columns \u001B[38;5;241m=\u001B[39m {new_geometry[\u001B[38;5;241m0\u001B[39m]: \u001B[38;5;124m'\u001B[39m\u001B[38;5;124mgeometry\u001B[39m\u001B[38;5;124m'\u001B[39m})\u001B[38;5;241m.\u001B[39mto_file(\u001B[38;5;124mf\u001B[39m\u001B[38;5;124m'\u001B[39m\u001B[38;5;132;01m{\u001B[39;00mpath\u001B[38;5;132;01m}\u001B[39;00m\u001B[38;5;124m/res_translate_\u001B[39m\u001B[38;5;132;01m{\u001B[39;00mnew_geometry[\u001B[38;5;241m0\u001B[39m]\u001B[38;5;132;01m}\u001B[39;00m\u001B[38;5;124m.shp\u001B[39m\u001B[38;5;124m'\u001B[39m)\n\u001B[0;32m      8\u001B[0m     my_buffer\u001B[38;5;241m.\u001B[39mto_file(\u001B[38;5;124mf\u001B[39m\u001B[38;5;124m'\u001B[39m\u001B[38;5;132;01m{\u001B[39;00mpath\u001B[38;5;132;01m}\u001B[39;00m\u001B[38;5;124m/buffers_test.shp\u001B[39m\u001B[38;5;124m'\u001B[39m)\n\u001B[1;32m----> 9\u001B[0m \u001B[38;5;28;01mif\u001B[39;00m length_of_parallel(to_translate, my_buffer, \u001B[38;5;124m'\u001B[39m\u001B[38;5;124mgeometry_right\u001B[39m\u001B[38;5;124m'\u001B[39m) \u001B[38;5;241m>\u001B[39m\u001B[38;5;241m0\u001B[39m \u001B[38;5;129;01mor\u001B[39;00m \u001B[43mlength_of_parallel\u001B[49m\u001B[43m(\u001B[49m\u001B[43mto_translate\u001B[49m\u001B[43m,\u001B[49m\u001B[43m \u001B[49m\u001B[43mmy_buffer\u001B[49m\u001B[43m,\u001B[49m\u001B[43m \u001B[49m\u001B[38;5;124;43m'\u001B[39;49m\u001B[38;5;124;43mgeometry_left\u001B[39;49m\u001B[38;5;124;43m'\u001B[39;49m\u001B[43m)\u001B[49m \u001B[38;5;241m>\u001B[39m\u001B[38;5;241m0\u001B[39m:\n\u001B[0;32m     10\u001B[0m     \u001B[38;5;28;01mreturn\u001B[39;00m \u001B[38;5;28;01mTrue\u001B[39;00m\n\u001B[0;32m     11\u001B[0m \u001B[38;5;28;01melse\u001B[39;00m:\n",
      "Cell \u001B[1;32mIn [4], line 3\u001B[0m, in \u001B[0;36mlength_of_parallel\u001B[1;34m(my_s_join, the_buffer, geo_field)\u001B[0m\n\u001B[0;32m      1\u001B[0m \u001B[38;5;28;01mdef\u001B[39;00m \u001B[38;5;21mlength_of_parallel\u001B[39m(my_s_join: GeoDataFrame, the_buffer:GeoSeries, geo_field:\u001B[38;5;28mstr\u001B[39m)\u001B[38;5;241m-\u001B[39m\u001B[38;5;241m>\u001B[39m \u001B[38;5;28mint\u001B[39m:\n\u001B[0;32m      2\u001B[0m     my_s_join[\u001B[38;5;124m'\u001B[39m\u001B[38;5;124mgeometry\u001B[39m\u001B[38;5;124m'\u001B[39m] \u001B[38;5;241m=\u001B[39mmy_s_join[geo_field]\n\u001B[1;32m----> 3\u001B[0m     new_data_0 \u001B[38;5;241m=\u001B[39m \u001B[43mmy_s_join\u001B[49m\u001B[38;5;241;43m.\u001B[39;49m\u001B[43msjoin\u001B[49m\u001B[43m(\u001B[49m\u001B[43mGeoDataFrame\u001B[49m\u001B[43m(\u001B[49m\u001B[43mgeometry\u001B[49m\u001B[38;5;241;43m=\u001B[39;49m\u001B[43mthe_buffer\u001B[49m\u001B[43m,\u001B[49m\u001B[43m \u001B[49m\u001B[43mcrs\u001B[49m\u001B[38;5;241;43m=\u001B[39;49m\u001B[43m \u001B[49m\u001B[43mproject_crs\u001B[49m\u001B[43m)\u001B[49m\u001B[43m,\u001B[49m\u001B[43m \u001B[49m\u001B[43mhow\u001B[49m\u001B[38;5;241;43m=\u001B[39;49m\u001B[38;5;124;43m'\u001B[39;49m\u001B[38;5;124;43minner\u001B[39;49m\u001B[38;5;124;43m'\u001B[39;49m\u001B[43m)\u001B[49m\u001B[38;5;241m.\u001B[39mreset_index()\n\u001B[0;32m      4\u001B[0m     \u001B[38;5;28;01mif\u001B[39;00m \u001B[38;5;28mlen\u001B[39m(new_data_0)\u001B[38;5;241m==\u001B[39m\u001B[38;5;241m0\u001B[39m:\n\u001B[0;32m      5\u001B[0m         \u001B[38;5;28;01mreturn\u001B[39;00m \u001B[38;5;241m0\u001B[39m\n",
      "File \u001B[1;32m~\\anaconda3\\envs\\momepy_env\\lib\\site-packages\\geopandas\\geodataframe.py:2090\u001B[0m, in \u001B[0;36mGeoDataFrame.sjoin\u001B[1;34m(self, df, *args, **kwargs)\u001B[0m\n\u001B[0;32m   2012\u001B[0m \u001B[38;5;28;01mdef\u001B[39;00m \u001B[38;5;21msjoin\u001B[39m(\u001B[38;5;28mself\u001B[39m, df, \u001B[38;5;241m*\u001B[39margs, \u001B[38;5;241m*\u001B[39m\u001B[38;5;241m*\u001B[39mkwargs):\n\u001B[0;32m   2013\u001B[0m     \u001B[38;5;124;03m\"\"\"Spatial join of two GeoDataFrames.\u001B[39;00m\n\u001B[0;32m   2014\u001B[0m \n\u001B[0;32m   2015\u001B[0m \u001B[38;5;124;03m    See the User Guide page :doc:`../../user_guide/mergingdata` for details.\u001B[39;00m\n\u001B[1;32m   (...)\u001B[0m\n\u001B[0;32m   2088\u001B[0m \u001B[38;5;124;03m    sjoin : equivalent top-level function\u001B[39;00m\n\u001B[0;32m   2089\u001B[0m \u001B[38;5;124;03m    \"\"\"\u001B[39;00m\n\u001B[1;32m-> 2090\u001B[0m     \u001B[38;5;28;01mreturn\u001B[39;00m geopandas\u001B[38;5;241m.\u001B[39msjoin(left_df\u001B[38;5;241m=\u001B[39m\u001B[38;5;28mself\u001B[39m, right_df\u001B[38;5;241m=\u001B[39mdf, \u001B[38;5;241m*\u001B[39margs, \u001B[38;5;241m*\u001B[39m\u001B[38;5;241m*\u001B[39mkwargs)\n",
      "File \u001B[1;32m~\\anaconda3\\envs\\momepy_env\\lib\\site-packages\\geopandas\\tools\\sjoin.py:124\u001B[0m, in \u001B[0;36msjoin\u001B[1;34m(left_df, right_df, how, predicate, lsuffix, rsuffix, **kwargs)\u001B[0m\n\u001B[0;32m    120\u001B[0m     \u001B[38;5;28;01mraise\u001B[39;00m \u001B[38;5;167;01mTypeError\u001B[39;00m(\u001B[38;5;124mf\u001B[39m\u001B[38;5;124m\"\u001B[39m\u001B[38;5;124msjoin() got an unexpected keyword argument \u001B[39m\u001B[38;5;124m'\u001B[39m\u001B[38;5;132;01m{\u001B[39;00mfirst\u001B[38;5;132;01m}\u001B[39;00m\u001B[38;5;124m'\u001B[39m\u001B[38;5;124m\"\u001B[39m)\n\u001B[0;32m    122\u001B[0m _basic_checks(left_df, right_df, how, lsuffix, rsuffix)\n\u001B[1;32m--> 124\u001B[0m indices \u001B[38;5;241m=\u001B[39m \u001B[43m_geom_predicate_query\u001B[49m\u001B[43m(\u001B[49m\u001B[43mleft_df\u001B[49m\u001B[43m,\u001B[49m\u001B[43m \u001B[49m\u001B[43mright_df\u001B[49m\u001B[43m,\u001B[49m\u001B[43m \u001B[49m\u001B[43mpredicate\u001B[49m\u001B[43m)\u001B[49m\n\u001B[0;32m    126\u001B[0m joined \u001B[38;5;241m=\u001B[39m _frame_join(indices, left_df, right_df, how, lsuffix, rsuffix)\n\u001B[0;32m    128\u001B[0m \u001B[38;5;28;01mreturn\u001B[39;00m joined\n",
      "File \u001B[1;32m~\\anaconda3\\envs\\momepy_env\\lib\\site-packages\\geopandas\\tools\\sjoin.py:216\u001B[0m, in \u001B[0;36m_geom_predicate_query\u001B[1;34m(left_df, right_df, predicate)\u001B[0m\n\u001B[0;32m    212\u001B[0m         input_geoms \u001B[38;5;241m=\u001B[39m right_df\u001B[38;5;241m.\u001B[39mgeometry\n\u001B[0;32m    213\u001B[0m     \u001B[38;5;28;01melse\u001B[39;00m:\n\u001B[0;32m    214\u001B[0m         \u001B[38;5;66;03m# all other predicates are symmetric\u001B[39;00m\n\u001B[0;32m    215\u001B[0m         \u001B[38;5;66;03m# keep them the same\u001B[39;00m\n\u001B[1;32m--> 216\u001B[0m         sindex \u001B[38;5;241m=\u001B[39m \u001B[43mright_df\u001B[49m\u001B[38;5;241;43m.\u001B[39;49m\u001B[43msindex\u001B[49m\n\u001B[0;32m    217\u001B[0m         input_geoms \u001B[38;5;241m=\u001B[39m left_df\u001B[38;5;241m.\u001B[39mgeometry\n\u001B[0;32m    219\u001B[0m \u001B[38;5;28;01mif\u001B[39;00m sindex:\n",
      "File \u001B[1;32m~\\anaconda3\\envs\\momepy_env\\lib\\site-packages\\geopandas\\base.py:2706\u001B[0m, in \u001B[0;36mGeoPandasBase.sindex\u001B[1;34m(self)\u001B[0m\n\u001B[0;32m   2655\u001B[0m \u001B[38;5;129m@property\u001B[39m\n\u001B[0;32m   2656\u001B[0m \u001B[38;5;28;01mdef\u001B[39;00m \u001B[38;5;21msindex\u001B[39m(\u001B[38;5;28mself\u001B[39m):\n\u001B[0;32m   2657\u001B[0m     \u001B[38;5;124;03m\"\"\"Generate the spatial index\u001B[39;00m\n\u001B[0;32m   2658\u001B[0m \n\u001B[0;32m   2659\u001B[0m \u001B[38;5;124;03m    Creates R-tree spatial index based on ``pygeos.STRtree`` or\u001B[39;00m\n\u001B[1;32m   (...)\u001B[0m\n\u001B[0;32m   2704\u001B[0m \u001B[38;5;124;03m           [2]])\u001B[39;00m\n\u001B[0;32m   2705\u001B[0m \u001B[38;5;124;03m    \"\"\"\u001B[39;00m\n\u001B[1;32m-> 2706\u001B[0m     \u001B[38;5;28;01mreturn\u001B[39;00m \u001B[38;5;28;43mself\u001B[39;49m\u001B[38;5;241;43m.\u001B[39;49m\u001B[43mgeometry\u001B[49m\u001B[38;5;241;43m.\u001B[39;49m\u001B[43mvalues\u001B[49m\u001B[38;5;241;43m.\u001B[39;49m\u001B[43msindex\u001B[49m\n",
      "File \u001B[1;32m~\\anaconda3\\envs\\momepy_env\\lib\\site-packages\\geopandas\\array.py:291\u001B[0m, in \u001B[0;36mGeometryArray.sindex\u001B[1;34m(self)\u001B[0m\n\u001B[0;32m    288\u001B[0m \u001B[38;5;129m@property\u001B[39m\n\u001B[0;32m    289\u001B[0m \u001B[38;5;28;01mdef\u001B[39;00m \u001B[38;5;21msindex\u001B[39m(\u001B[38;5;28mself\u001B[39m):\n\u001B[0;32m    290\u001B[0m     \u001B[38;5;28;01mif\u001B[39;00m \u001B[38;5;28mself\u001B[39m\u001B[38;5;241m.\u001B[39m_sindex \u001B[38;5;129;01mis\u001B[39;00m \u001B[38;5;28;01mNone\u001B[39;00m:\n\u001B[1;32m--> 291\u001B[0m         \u001B[38;5;28mself\u001B[39m\u001B[38;5;241m.\u001B[39m_sindex \u001B[38;5;241m=\u001B[39m \u001B[43m_get_sindex_class\u001B[49m\u001B[43m(\u001B[49m\u001B[43m)\u001B[49m\u001B[43m(\u001B[49m\u001B[38;5;28;43mself\u001B[39;49m\u001B[38;5;241;43m.\u001B[39;49m\u001B[43mdata\u001B[49m\u001B[43m)\u001B[49m\n\u001B[0;32m    292\u001B[0m     \u001B[38;5;28;01mreturn\u001B[39;00m \u001B[38;5;28mself\u001B[39m\u001B[38;5;241m.\u001B[39m_sindex\n",
      "File \u001B[1;32m~\\anaconda3\\envs\\momepy_env\\lib\\site-packages\\geopandas\\sindex.py:652\u001B[0m, in \u001B[0;36mPyGEOSSTRTreeIndex.__init__\u001B[1;34m(self, geometry)\u001B[0m\n\u001B[0;32m    646\u001B[0m \u001B[38;5;28;01mdef\u001B[39;00m \u001B[38;5;21m__init__\u001B[39m(\u001B[38;5;28mself\u001B[39m, geometry):\n\u001B[0;32m    647\u001B[0m     \u001B[38;5;66;03m# set empty geometries to None to avoid segfault on GEOS <= 3.6\u001B[39;00m\n\u001B[0;32m    648\u001B[0m     \u001B[38;5;66;03m# see:\u001B[39;00m\n\u001B[0;32m    649\u001B[0m     \u001B[38;5;66;03m# https://github.com/pygeos/pygeos/issues/146\u001B[39;00m\n\u001B[0;32m    650\u001B[0m     \u001B[38;5;66;03m# https://github.com/pygeos/pygeos/issues/147\u001B[39;00m\n\u001B[0;32m    651\u001B[0m     non_empty \u001B[38;5;241m=\u001B[39m geometry\u001B[38;5;241m.\u001B[39mcopy()\n\u001B[1;32m--> 652\u001B[0m     non_empty[\u001B[43mpygeos\u001B[49m\u001B[38;5;241;43m.\u001B[39;49m\u001B[43mis_empty\u001B[49m\u001B[43m(\u001B[49m\u001B[43mnon_empty\u001B[49m\u001B[43m)\u001B[49m] \u001B[38;5;241m=\u001B[39m \u001B[38;5;28;01mNone\u001B[39;00m\n\u001B[0;32m    653\u001B[0m     \u001B[38;5;66;03m# set empty geometries to None to maintain indexing\u001B[39;00m\n\u001B[0;32m    654\u001B[0m     \u001B[38;5;28mself\u001B[39m\u001B[38;5;241m.\u001B[39m_tree \u001B[38;5;241m=\u001B[39m pygeos\u001B[38;5;241m.\u001B[39mSTRtree(non_empty)\n",
      "File \u001B[1;32m~\\anaconda3\\envs\\momepy_env\\lib\\site-packages\\pygeos\\decorators.py:80\u001B[0m, in \u001B[0;36mmultithreading_enabled.<locals>.wrapped\u001B[1;34m(*args, **kwargs)\u001B[0m\n\u001B[0;32m     78\u001B[0m     \u001B[38;5;28;01mfor\u001B[39;00m arr \u001B[38;5;129;01min\u001B[39;00m array_args:\n\u001B[0;32m     79\u001B[0m         arr\u001B[38;5;241m.\u001B[39mflags\u001B[38;5;241m.\u001B[39mwriteable \u001B[38;5;241m=\u001B[39m \u001B[38;5;28;01mFalse\u001B[39;00m\n\u001B[1;32m---> 80\u001B[0m     \u001B[38;5;28;01mreturn\u001B[39;00m func(\u001B[38;5;241m*\u001B[39margs, \u001B[38;5;241m*\u001B[39m\u001B[38;5;241m*\u001B[39mkwargs)\n\u001B[0;32m     81\u001B[0m \u001B[38;5;28;01mfinally\u001B[39;00m:\n\u001B[0;32m     82\u001B[0m     \u001B[38;5;28;01mfor\u001B[39;00m arr, old_flag \u001B[38;5;129;01min\u001B[39;00m \u001B[38;5;28mzip\u001B[39m(array_args, old_flags):\n",
      "File \u001B[1;32m~\\anaconda3\\envs\\momepy_env\\lib\\site-packages\\pygeos\\predicates.py:159\u001B[0m, in \u001B[0;36mis_empty\u001B[1;34m(geometry, **kwargs)\u001B[0m\n\u001B[0;32m    134\u001B[0m \u001B[38;5;129m@multithreading_enabled\u001B[39m\n\u001B[0;32m    135\u001B[0m \u001B[38;5;28;01mdef\u001B[39;00m \u001B[38;5;21mis_empty\u001B[39m(geometry, \u001B[38;5;241m*\u001B[39m\u001B[38;5;241m*\u001B[39mkwargs):\n\u001B[0;32m    136\u001B[0m     \u001B[38;5;124;03m\"\"\"Returns True if a geometry is an empty point, polygon, etc.\u001B[39;00m\n\u001B[0;32m    137\u001B[0m \n\u001B[0;32m    138\u001B[0m \u001B[38;5;124;03m    Parameters\u001B[39;00m\n\u001B[1;32m   (...)\u001B[0m\n\u001B[0;32m    157\u001B[0m \u001B[38;5;124;03m    False\u001B[39;00m\n\u001B[0;32m    158\u001B[0m \u001B[38;5;124;03m    \"\"\"\u001B[39;00m\n\u001B[1;32m--> 159\u001B[0m     \u001B[38;5;28;01mreturn\u001B[39;00m lib\u001B[38;5;241m.\u001B[39mis_empty(geometry, \u001B[38;5;241m*\u001B[39m\u001B[38;5;241m*\u001B[39mkwargs)\n",
      "\u001B[1;31mKeyboardInterrupt\u001B[0m: "
     ]
    }
   ],
   "source": [
    "# Main point to start\n",
    "\n",
    "\n",
    "\n",
    "my_groupby = df_pro.groupby('name')\n",
    "dic_final = {'name': [], 'geometry': [], 'highway': [], 'bearing': []}\n",
    "for_time = len(my_groupby)\n",
    "for i, street in enumerate(my_groupby):\n",
    "    # Calculate time to run\n",
    "    print(round(i / for_time * 100, 2))\n",
    "    res = street[1]\n",
    "    name = street[0]\n",
    "    # groupby angle\n",
    "    res =  res.dropna(subset= ['angle'],axis=0)\n",
    "    if len(res)==0:\n",
    "        continue\n",
    "    res['group'] = DBSCAN(eps=5, min_samples=2).fit(res['angle'].to_numpy().reshape(-1, 1)).labels_\n",
    "    cur_group = res[res['group'] > -1].groupby('group')\n",
    "    for group in cur_group:\n",
    "        data = group[1]\n",
    "        if check_parallelism(data, is_test=False):\n",
    "            # if among of lines with same angles some are parallel,find the center line for each group\n",
    "            for group in cur_group:\n",
    "                data = group[1]\n",
    "                buffers = data.buffer(cap_style=3, distance=30, join_style=3)\n",
    "                # buffers.to_file(f'{path}/buffers.shp')\n",
    "                one_buffer = buffers.unary_union\n",
    "                simplify_poly = simplify(100)\n",
    "                if isinstance(simplify_poly, MultiPolygon):\n",
    "                    pnt_list = []\n",
    "                    for polygon in simplify_poly:\n",
    "                        pnt_list.extend(polygon.exterior.coords[:-1])\n",
    "                else:\n",
    "                    pnt_list = simplify_poly.exterior.coords[:-1]\n",
    "                list_shp = [Point(item) for item in pnt_list]\n",
    "                dis = 0\n",
    "                for i, point in enumerate(list_shp):\n",
    "                    j = i\n",
    "                    for point2 in list_shp[i + 1:]:\n",
    "                        j += 1\n",
    "                        if point.distance(point2) > dis:\n",
    "                            max_dis = (i, j)\n",
    "                            dis = point.distance(point2)\n",
    "                dic_final['name'].append(name)\n",
    "                dic_final['geometry'].append(LineString(coordinates=(pnt_list[max_dis[0]], pnt_list[max_dis[1]])))\n",
    "                dic_final['highway'].append(data.iloc[0]['highway'])\n",
    "                dic_final['bearing'].append(data['angle'].mean())\n",
    "GeoDataFrame(dic_final, crs='epsg:3857').to_file(f'{path}/one_line.shp')"
   ],
   "metadata": {
    "collapsed": false,
    "pycharm": {
     "name": "#%%\n"
    }
   }
  },
  {
   "cell_type": "code",
   "execution_count": 32,
   "outputs": [
    {
     "data": {
      "text/plain": "['name', 'geometry', 'highway', 'bearing']"
     },
     "execution_count": 32,
     "metadata": {},
     "output_type": "execute_result"
    }
   ],
   "source": [
    "list(dic_final.keys())\n",
    "\n"
   ],
   "metadata": {
    "collapsed": false,
    "pycharm": {
     "name": "#%%\n"
    }
   }
  },
  {
   "cell_type": "code",
   "execution_count": 37,
   "outputs": [
    {
     "name": "stderr",
     "output_type": "stream",
     "text": [
      "C:\\Users\\Achituv\\AppData\\Local\\Temp\\ipykernel_22516\\3334121598.py:6: FutureWarning: The frame.append method is deprecated and will be removed from pandas in a future version. Use pandas.concat instead.\n",
      "  new_network.append(simplify).to_file(f'{path}/new_network.shp')\n",
      "C:\\Users\\Achituv\\AppData\\Local\\Temp\\ipykernel_22516\\3334121598.py:6: UserWarning: Column names longer than 10 characters will be truncated when saved to ESRI Shapefile.\n",
      "  new_network.append(simplify).to_file(f'{path}/new_network.shp')\n"
     ]
    }
   ],
   "source": [
    "# create netwrok\n",
    "new_network = df_pro[~df_pro['name'].isin(dic_final['name'])][list(dic_final.keys())]\n",
    "new_network['is_simplify'] = 0\n",
    "simplify = GeoDataFrame(dic_final, crs='epsg:3857')\n",
    "simplify['is_simplify'] = 1\n",
    "new_network.append(simplify).to_file(f'{path}/new_network.shp')"
   ],
   "metadata": {
    "collapsed": false,
    "pycharm": {
     "name": "#%%\n"
    }
   }
  },
  {
   "cell_type": "code",
   "execution_count": null,
   "outputs": [],
   "source": [],
   "metadata": {
    "collapsed": false,
    "pycharm": {
     "name": "#%%\n"
    }
   }
  },
  {
   "cell_type": "code",
   "execution_count": null,
   "outputs": [],
   "source": [
    "dic_final = {'name':[],'geometry':[], 'highway':[],'bearing':[]}\n",
    "for_time = len(my_groupby)\n",
    "for i,street in enumerate(my_groupby):\n",
    "    # Calculate time to run\n",
    "    print(round(i/for_time*100,2))\n",
    "    res= street[1]\n",
    "    name = street[0]\n",
    "    # groupby highway and angle\n",
    "    groupbyhighway = res.groupby('highway')\n",
    "    the_largest_street = res.groupby('highway').sum()['length'].sort_values(ascending=False).index[0]\n",
    "    for_bearing_0 = groupbyhighway.get_group(the_largest_street).reset_index()\n",
    "    for_bearing= for_bearing_0.dropna(subset= ['angle'],axis=0)\n",
    "    if len(for_bearing)==0:\n",
    "        continue\n",
    "    for_bearing['group']= DBSCAN(eps=5, min_samples=2).fit(for_bearing['angle'].to_numpy().reshape(-1,1)).labels_\n",
    "    cur_group = for_bearing[for_bearing['group']>-1].groupby('group')\n",
    "    for group in cur_group:\n",
    "        data = group[1]\n",
    "        if check_parallelism(data,is_test=False):\n",
    "            buffers =data.buffer(cap_style=3,distance=30,join_style=3)\n",
    "            # buffers.to_file(f'{path}/buffers.shp')\n",
    "            one_buffer = buffers.unary_union\n",
    "            simplify_poly =simplify(100)\n",
    "            if isinstance(simplify_poly,MultiPolygon):\n",
    "                pnt_list=[]\n",
    "                for polygon in simplify_poly:\n",
    "                    pnt_list.extend(polygon.exterior.coords[:-1])\n",
    "            else:\n",
    "                pnt_list = simplify_poly.exterior.coords[:-1]\n",
    "            list_shp = [Point(item) for item in pnt_list]\n",
    "            dis = 0\n",
    "            for i, point in enumerate(list_shp):\n",
    "                j =i\n",
    "                for point2 in list_shp[i+1:]:\n",
    "                    j+=1\n",
    "                    if point.distance(point2)>dis:\n",
    "                        max_dis=(i,j)\n",
    "                        dis = point.distance(point2)\n",
    "            dic_final['name'].append(name)\n",
    "            dic_final['geometry'].append(LineString(coordinates=(pnt_list[max_dis[0]],pnt_list[max_dis[1]])))\n",
    "            dic_final['highway'].append(the_largest_street)\n",
    "            dic_final['bearing'].append(data['angle'].mean())\n",
    "GeoDataFrame(dic_final,crs='epsg:3857').to_file(f'{path}/one_line.shp')"
   ],
   "metadata": {
    "collapsed": false,
    "pycharm": {
     "name": "#%%\n"
    }
   }
  },
  {
   "cell_type": "code",
   "execution_count": null,
   "outputs": [],
   "source": [
    "dic_final = {'name':[],'geometry':[], 'highway':[],'bearing':[]}\n",
    "for_time = len(my_groupby)\n",
    "for i,street in enumerate(my_groupby):\n",
    "    # Calculate time to run\n",
    "    print(round(i/for_time*100,2))\n",
    "    res= street[1]\n",
    "    name = street[0]\n",
    "    # groupby highway and angle\n",
    "    groupbyhighway = res.groupby('highway')\n",
    "    the_largest_street = res.groupby('highway').sum()['length'].sort_values(ascending=False).index[0]\n",
    "    for_bearing_0 = groupbyhighway.get_group(the_largest_street).reset_index()\n",
    "    for_bearing= for_bearing_0.dropna(subset= ['angle'],axis=0)\n",
    "    if len(for_bearing)==0:\n",
    "        continue\n",
    "    for_bearing['group']= DBSCAN(eps=5, min_samples=2).fit(for_bearing['angle'].to_numpy().reshape(-1,1)).labels_\n",
    "    cur_group = for_bearing[for_bearing['group']>-1].groupby('group')\n",
    "    for group in cur_group:\n",
    "        data = group[1]\n",
    "        if check_parallelism(data,is_test=False):\n",
    "            buffers =data.buffer(cap_style=3,distance=30,join_style=3)\n",
    "            # buffers.to_file(f'{path}/buffers.shp')\n",
    "            one_buffer = buffers.unary_union\n",
    "            simplify_poly =simplify(100)\n",
    "            if isinstance(simplify_poly,MultiPolygon):\n",
    "                pnt_list=[]\n",
    "                for polygon in simplify_poly:\n",
    "                    pnt_list.extend(polygon.exterior.coords[:-1])\n",
    "            else:\n",
    "                pnt_list = simplify_poly.exterior.coords[:-1]\n",
    "            list_shp = [Point(item) for item in pnt_list]\n",
    "            dis = 0\n",
    "            for i, point in enumerate(list_shp):\n",
    "                j =i\n",
    "                for point2 in list_shp[i+1:]:\n",
    "                    j+=1\n",
    "                    if point.distance(point2)>dis:\n",
    "                        max_dis=(i,j)\n",
    "                        dis = point.distance(point2)\n",
    "            dic_final['name'].append(name)\n",
    "            dic_final['geometry'].append(LineString(coordinates=(pnt_list[max_dis[0]],pnt_list[max_dis[1]])))\n",
    "            dic_final['highway'].append(the_largest_street)\n",
    "            dic_final['bearing'].append(data['angle'].mean())\n",
    "GeoDataFrame(dic_final,crs='epsg:3857').to_file(f'{path}/one_line.shp')"
   ],
   "metadata": {
    "collapsed": false,
    "pycharm": {
     "name": "#%%\n",
     "is_executing": true
    }
   }
  },
  {
   "cell_type": "code",
   "execution_count": 7,
   "outputs": [],
   "source": [
    "name = 'Corso Regina Margherita'\n",
    "new_geometry =['geometry_right','geometry_left']\n",
    "\n",
    "res =my_groupby.get_group(name)\n",
    "res.to_file(f'{path}/by_name.shp')\n",
    "# groupby highway and angle\n",
    "groupbyhighway = res.groupby('highway')\n",
    "the_largest_street = res.groupby('highway').sum()['length'].sort_values(ascending=False).index[0]\n",
    "for_bearing = groupbyhighway.get_group(the_largest_street).reset_index()\n",
    "for_bearing['group']= DBSCAN(eps=5, min_samples=2).fit(for_bearing['angle'].to_numpy().reshape(-1,1)).labels_\n",
    "cur_group = for_bearing[for_bearing['group']>-1].groupby('group')\n"
   ],
   "metadata": {
    "collapsed": false,
    "pycharm": {
     "name": "#%%\n"
    }
   }
  },
  {
   "cell_type": "code",
   "execution_count": 10,
   "outputs": [],
   "source": [
    "for_bearing = groupbyhighway.get_group(the_largest_street).reset_index()\n",
    "for_bearing['group']= DBSCAN(eps=5, min_samples=2).fit(for_bearing['angle'].to_numpy().reshape(-1,1)).labels_\n",
    "cur_group = for_bearing[for_bearing['group']>-1].groupby('group')"
   ],
   "metadata": {
    "collapsed": false,
    "pycharm": {
     "name": "#%%\n"
    }
   }
  },
  {
   "cell_type": "code",
   "execution_count": 62,
   "outputs": [
    {
     "name": "stderr",
     "output_type": "stream",
     "text": [
      "C:\\Users\\Achituv\\AppData\\Local\\Temp\\ipykernel_17720\\2792904332.py:15: ShapelyDeprecationWarning: Iteration over multi-part geometries is deprecated and will be removed in Shapely 2.0. Use the `geoms` property to access the constituent parts of a multi-part geometry.\n",
      "  for polygon in simplify_poly:\n"
     ]
    }
   ],
   "source": [
    "dic_final = {'name':[],'geometry':[], 'highway':[],'bearing':[]}\n",
    "for group in cur_group:\n",
    "    data = group[1]\n",
    "    if check_parallelism(data,is_test=True):\n",
    "        buffers =data.buffer(cap_style=3,distance=30,join_style=3)\n",
    "        buffers.to_file(f'{path}/buffers.shp')\n",
    "        one_buffer = buffers.unary_union\n",
    "        simplify_poly = one_buffer.simplify(100, preserve_topology=False)\n",
    "        # dic = {'index':[0],'geometry':simplify_poly}\n",
    "        # GeoDataFrame(dic,crs='epsg:3857').to_file(f'{path}/simplify_poly.shp')\n",
    "        # dic = {'index':[0],'geometry':one_buffer}\n",
    "        # GeoDataFrame(dic,crs='epsg:3857').to_file(f'{path}/one_buffer.shp')\n",
    "        if isinstance(simplify_poly,MultiPolygon):\n",
    "            pnt_list=[]\n",
    "            for polygon in simplify_poly:\n",
    "                pnt_list.extend(polygon.exterior.coords[:-1])\n",
    "        else:\n",
    "            pnt_list = simplify_poly.exterior.coords[:-1]\n",
    "        list_shp = [Point(item) for item in pnt_list]\n",
    "        dis = 0\n",
    "        for i, point in enumerate(list_shp):\n",
    "            j =i\n",
    "            for point2 in list_shp[i+1:]:\n",
    "                j+=1\n",
    "                if point.distance(point2)>dis:\n",
    "                    max_dis=(i,j)\n",
    "                    dis = point.distance(point2)\n",
    "        dic_final['name'].append(name)\n",
    "        dic_final['geometry'].append(LineString(coordinates=(pnt_list[max_dis[0]],pnt_list[max_dis[1]])))\n",
    "        dic_final['highway'].append(the_largest_street)\n",
    "        dic_final['bearing'].append(data['angle'].mean())\n",
    "GeoDataFrame(dic_final,crs='epsg:3857').to_file(f'{path}/one_line.shp')\n",
    "        # if isinstance(one_buffer,Polygon):\n",
    "        #     dic = {'index':[0],'geometry':one_buffer}\n",
    "        #     GeoDataFrame(dic,crs='epsg:3857').to_file(f'{path}/one_buffer.shp')\n",
    "        #     # my_centerline = Centerline(one_buffer)\n",
    "        #     # dic = {'index':[0],'geometry':my_centerline}\n",
    "        #     # GeoDataFrame(dic,crs='epsg:3857').to_file('new_line.shp')\n",
    "        # else:\n",
    "        #     GeoDataFrame(geometry=list(one_buffer.geoms),crs='epsg:3857').to_file(f'{path}/one_buffer.shp')\n",
    "        # my_centerline = Centerline(one_buffer)\n",
    "        # GeoDataFrame(geometry=list(my_centerline.geoms),crs='epsg:3857').to_file(f'{path}/new_line.shp')\n",
    "        # break\n"
   ],
   "metadata": {
    "collapsed": false,
    "pycharm": {
     "name": "#%%\n"
    }
   }
  },
  {
   "cell_type": "code",
   "execution_count": 65,
   "outputs": [
    {
     "data": {
      "text/plain": "96.625"
     },
     "execution_count": 65,
     "metadata": {},
     "output_type": "execute_result"
    }
   ],
   "source": [
    "data['angle'].mean()"
   ],
   "metadata": {
    "collapsed": false,
    "pycharm": {
     "name": "#%%\n"
    }
   }
  },
  {
   "cell_type": "code",
   "execution_count": 60,
   "outputs": [
    {
     "name": "stderr",
     "output_type": "stream",
     "text": [
      "C:\\Users\\Achituv\\AppData\\Local\\Temp\\ipykernel_17720\\616000580.py:2: ShapelyDeprecationWarning: Iteration over multi-part geometries is deprecated and will be removed in Shapely 2.0. Use the `geoms` property to access the constituent parts of a multi-part geometry.\n",
      "  for polygon in simplify_poly:\n"
     ]
    }
   ],
   "source": [
    "if isinstance(simplify_poly,MultiPolygon):\n",
    "    for polygon in simplify_poly:\n",
    "        points = polygon.exterior.coords[:-1]\n",
    "        break\n",
    "        # pnt_list.append(polygon.boundary.coords)"
   ],
   "metadata": {
    "collapsed": false,
    "pycharm": {
     "name": "#%%\n"
    }
   }
  },
  {
   "cell_type": "code",
   "execution_count": 61,
   "outputs": [
    {
     "data": {
      "text/plain": "[(857374.4367344987, 5632581.625295284),\n (857320.6824619013, 5632671.44128537),\n (857658.5255342015, 5632511.8748241)]"
     },
     "execution_count": 61,
     "metadata": {},
     "output_type": "execute_result"
    }
   ],
   "source": [
    "points"
   ],
   "metadata": {
    "collapsed": false,
    "pycharm": {
     "name": "#%%\n"
    }
   }
  },
  {
   "cell_type": "code",
   "execution_count": 160,
   "outputs": [],
   "source": [
    "simplify_poly = one_buffer.simplify(100, preserve_topology=False)\n",
    "dic = {'index':[0],'geometry':simplify_poly}\n",
    "GeoDataFrame(dic,crs='epsg:3857').to_file(f'{path}/simplify_poly.shp')\n"
   ],
   "metadata": {
    "collapsed": false,
    "pycharm": {
     "name": "#%%\n"
    }
   }
  },
  {
   "cell_type": "code",
   "execution_count": 182,
   "outputs": [],
   "source": [
    "pnt_list = list(simplify_poly.boundary.coords)\n",
    "list_shp = [Point(item) for item in pnt_list]\n",
    "dis = 0\n",
    "max_dis = ()"
   ],
   "metadata": {
    "collapsed": false,
    "pycharm": {
     "name": "#%%\n"
    }
   }
  },
  {
   "cell_type": "code",
   "execution_count": 199,
   "outputs": [
    {
     "data": {
      "text/plain": "[(848644.9687901939, 5629471.667221865),\n (848227.1217331432, 5629554.891152071),\n (849375.5342342065, 5629478.00315337),\n (848644.9687901939, 5629471.667221865)]"
     },
     "execution_count": 199,
     "metadata": {},
     "output_type": "execute_result"
    }
   ],
   "source": [
    "pnt_list"
   ],
   "metadata": {
    "collapsed": false,
    "pycharm": {
     "name": "#%%\n"
    }
   }
  },
  {
   "cell_type": "code",
   "execution_count": 195,
   "outputs": [
    {
     "data": {
      "text/plain": "[<shapely.geometry.point.Point at 0x1a16242de40>,\n <shapely.geometry.point.Point at 0x1a162f0eb60>,\n <shapely.geometry.point.Point at 0x1a17935dde0>,\n <shapely.geometry.point.Point at 0x1a17935d9c0>]"
     },
     "execution_count": 195,
     "metadata": {},
     "output_type": "execute_result"
    }
   ],
   "source": [
    "list_shp"
   ],
   "metadata": {
    "collapsed": false,
    "pycharm": {
     "name": "#%%\n"
    }
   }
  },
  {
   "cell_type": "code",
   "execution_count": 209,
   "outputs": [],
   "source": [
    "for i, point in enumerate(list_shp):\n",
    "    j =i\n",
    "    for point2 in list_shp[i+1:]:\n",
    "        j+=1\n",
    "        if point.distance(point2)>dis:\n",
    "            max_dis=(i,j)\n",
    "            dis = point.distance(point2)\n",
    "one_line = LineString(coordinates=(pnt_list[max_dis[0]],pnt_list[max_dis[1]]))\n",
    "dic = {'index':[0],'geometry':one_line}\n",
    "GeoDataFrame(dic,crs='epsg:3857').to_file(f'{path}/one_line.shp')"
   ],
   "metadata": {
    "collapsed": false,
    "pycharm": {
     "name": "#%%\n"
    }
   }
  },
  {
   "cell_type": "code",
   "execution_count": 44,
   "outputs": [
    {
     "name": "stdout",
     "output_type": "stream",
     "text": [
      "18 has parallel segmetmts\n",
      "Area pedonale Vittime dell'Immigrazione has parallel segmetmts\n",
      "Autostrada Serenissima has parallel segmetmts\n",
      "Ciclabile Carducci - Biglieri has parallel segmetmts\n",
      "Corso Achille Mario Dogliotti has parallel segmetmts\n",
      "Corso Adriatico has parallel segmetmts\n",
      "Corso Alberto Picco has parallel segmetmts\n",
      "Corso Alcide De Gasperi has parallel segmetmts\n",
      "Corso Alessandro Tassoni has parallel segmetmts\n",
      "Corso Appio Claudio has parallel segmetmts\n",
      "Corso Belgio has parallel segmetmts\n",
      "Corso Benedetto Brin has parallel segmetmts\n",
      "Corso Benedetto Croce has parallel segmetmts\n",
      "Corso Bernardino Telesio has parallel segmetmts\n",
      "Corso Bolzano has parallel segmetmts\n",
      "Corso Bramante has parallel segmetmts\n",
      "Corso Brianza has parallel segmetmts\n",
      "Corso Cadore has parallel segmetmts\n",
      "Corso Caduti sul lavoro has parallel segmetmts\n",
      "Corso Caio Plinio has parallel segmetmts\n",
      "Corso Cairoli has parallel segmetmts\n",
      "Corso Carlo Luigi Farini has parallel segmetmts\n",
      "Corso Carlo e Nello Rosselli has parallel segmetmts\n",
      "Corso Casale has parallel segmetmts\n",
      "Corso Castelfidardo has parallel segmetmts\n",
      "Corso Cesare Correnti has parallel segmetmts\n",
      "Corso Chieri has parallel segmetmts\n",
      "Corso Chieti has parallel segmetmts\n",
      "Corso CiriÃ¨ has parallel segmetmts\n",
      "Corso Corsica has parallel segmetmts\n",
      "Corso Cosenza has parallel segmetmts\n",
      "Corso Dante Alighieri has parallel segmetmts\n",
      "Corso Don Luigi Sturzo has parallel segmetmts\n",
      "Corso Duca d'Aosta has parallel segmetmts\n",
      "Corso Duca degli Abruzzi has parallel segmetmts\n",
      "Corso Enrico De Nicola has parallel segmetmts\n",
      "Corso Enrico Gamba has parallel segmetmts\n",
      "Corso Enrico Tazzoli has parallel segmetmts\n",
      "Corso Eusebio Giambone has parallel segmetmts\n",
      "Corso Federico Sclopis has parallel segmetmts\n",
      "Corso Ferrara has parallel segmetmts\n",
      "Corso Filippo Brunelleschi has parallel segmetmts\n",
      "Corso Filippo Turati has parallel segmetmts\n",
      "Corso Fiume has parallel segmetmts\n",
      "Corso Francesco Ferrucci has parallel segmetmts\n",
      "Corso Francia has parallel segmetmts\n",
      "Corso Gaetano Salvemini has parallel segmetmts\n",
      "Corso Gaetano Scirea has parallel segmetmts\n",
      "Corso Galileo Ferraris has parallel segmetmts\n",
      "Corso Galileo Galilei has parallel segmetmts\n",
      "Corso Giacomo Matteotti has parallel segmetmts\n",
      "Corso Giambattista Beccaria has parallel segmetmts\n",
      "Corso Giovanni Agnelli has parallel segmetmts\n",
      "Corso Giovanni Lanza has parallel segmetmts\n",
      "Corso Giovanni Pascoli has parallel segmetmts\n",
      "Corso Giulio Cesare has parallel segmetmts\n",
      "Corso Giuseppe Gabetti has parallel segmetmts\n",
      "Corso Giuseppe Siccardi has parallel segmetmts\n",
      "Corso Grosseto has parallel segmetmts\n",
      "Corso Guglielmo Marconi has parallel segmetmts\n",
      "Corso Inghilterra has parallel segmetmts\n",
      "Corso Lecce has parallel segmetmts\n",
      "Corso Lepanto has parallel segmetmts\n",
      "Corso Lione has parallel segmetmts\n",
      "Corso Lombardia has parallel segmetmts\n",
      "Corso Lucio Quinzio Cincinnato has parallel segmetmts\n",
      "Corso Luigi Einaudi has parallel segmetmts\n",
      "Corso Luigi Kossuth has parallel segmetmts\n",
      "Corso Luigi Settembrini has parallel segmetmts\n",
      "Corso Marche has parallel segmetmts\n",
      "Corso Massimo D'Azeglio has parallel segmetmts\n",
      "Corso Mediterraneo has parallel segmetmts\n",
      "Corso Molise has parallel segmetmts\n",
      "Corso Moncalieri has parallel segmetmts\n",
      "Corso Monte Cucco has parallel segmetmts\n",
      "Corso Monte Grappa has parallel segmetmts\n",
      "Corso Monte Lungo has parallel segmetmts\n",
      "Corso Monterotondo has parallel segmetmts\n",
      "Corso Mortara has parallel segmetmts\n",
      "Corso Novara has parallel segmetmts\n",
      "Corso Orbassano has parallel segmetmts\n",
      "Corso Ottone Rosai has parallel segmetmts\n",
      "Corso Palermo has parallel segmetmts\n",
      "Corso Palestro has parallel segmetmts\n",
      "Corso Peschiera has parallel segmetmts\n",
      "Corso Piero Maroncelli has parallel segmetmts\n",
      "Corso Potenza has parallel segmetmts\n",
      "Corso Principe Eugenio has parallel segmetmts\n",
      "Corso Principe Oddone has parallel segmetmts\n",
      "Corso Quattro Novembre has parallel segmetmts\n",
      "Corso Quintino Sella has parallel segmetmts\n",
      "Corso Racconigi has parallel segmetmts\n",
      "Corso Raffaello has parallel segmetmts\n",
      "Corso Re Umberto has parallel segmetmts\n",
      "Corso Regina Margherita has parallel segmetmts\n",
      "Corso Regio Parco has parallel segmetmts\n",
      "Corso Rodolfo Montevecchio has parallel segmetmts\n",
      "Corso Romania has parallel segmetmts\n",
      "Corso Sacco e Vanzetti has parallel segmetmts\n",
      "Corso San Martino has parallel segmetmts\n",
      "Corso San Maurizio has parallel segmetmts\n",
      "Corso Sebastopoli has parallel segmetmts\n",
      "Corso Sicilia has parallel segmetmts\n",
      "Corso Siracusa has parallel segmetmts\n",
      "Corso Spezia has parallel segmetmts\n",
      "Corso Stati Uniti has parallel segmetmts\n",
      "Corso Svizzera has parallel segmetmts\n",
      "Corso Taranto has parallel segmetmts\n",
      "Corso Tortona has parallel segmetmts\n",
      "Corso Toscana has parallel segmetmts\n",
      "Corso Traiano has parallel segmetmts\n",
      "Corso Trapani has parallel segmetmts\n",
      "Corso Trattati di Roma has parallel segmetmts\n",
      "Corso Trieste has parallel segmetmts\n",
      "Corso Umbria has parallel segmetmts\n",
      "Corso Undici Febbraio has parallel segmetmts\n",
      "Corso Unione Sovietica has parallel segmetmts\n",
      "Corso Unione Sovietica 612 has parallel segmetmts\n",
      "Corso UnitÃ  d'Italia has parallel segmetmts\n",
      "Corso Valdocco has parallel segmetmts\n",
      "Corso Venezia has parallel segmetmts\n",
      "Corso Vercelli has parallel segmetmts\n",
      "Corso Verona has parallel segmetmts\n",
      "Corso Vigevano has parallel segmetmts\n",
      "Corso Vinzaglio has parallel segmetmts\n",
      "Corso Vittorio Emanuele II has parallel segmetmts\n",
      "Corso canonico Giuseppe Allamano has parallel segmetmts\n",
      "Cortile del Maglio has parallel segmetmts\n",
      "Galleria San Federico has parallel segmetmts\n",
      "Galleria dell'Industria Subalpina has parallel segmetmts\n",
      "Giardino Nella Colombo has parallel segmetmts\n",
      "Largo Bardonecchia has parallel segmetmts\n",
      "Largo Bologna has parallel segmetmts\n",
      "Largo Borgaro has parallel segmetmts\n",
      "Largo Casale has parallel segmetmts\n",
      "Largo Damiano Chiesa has parallel segmetmts\n",
      "Largo Errico Giachino has parallel segmetmts\n",
      "Largo Filippo Turati has parallel segmetmts\n",
      "Largo Francesco Cigna has parallel segmetmts\n",
      "Largo Francia has parallel segmetmts\n",
      "Largo Giovanni Migliara has parallel segmetmts\n",
      "Largo Giulio Cesare has parallel segmetmts\n",
      "Largo Grosseto has parallel segmetmts\n",
      "Largo Luca Della Robbia has parallel segmetmts\n",
      "Largo Luigi Cibrario has parallel segmetmts\n",
      "Largo Maresciallo Rosario Berardi has parallel segmetmts\n",
      "Largo Maurizio Vitale has parallel segmetmts\n",
      "Largo Mentana has parallel segmetmts\n",
      "Largo Montebello has parallel segmetmts\n",
      "Largo Nicola Fabrizi has parallel segmetmts\n",
      "Largo Odoardo Tabacchi has parallel segmetmts\n",
      "Largo Orbassano has parallel segmetmts\n",
      "Largo Racconigi has parallel segmetmts\n",
      "Largo Re Umberto has parallel segmetmts\n",
      "Largo Regio Parco has parallel segmetmts\n",
      "Largo Saluzzo has parallel segmetmts\n",
      "Largo San Paolo has parallel segmetmts\n",
      "Largo Stradella has parallel segmetmts\n",
      "Largo Tirreno has parallel segmetmts\n",
      "Lungo Dora Agrigento has parallel segmetmts\n",
      "Lungo Dora Pietro Colletta has parallel segmetmts\n",
      "Lungo Dora Siena has parallel segmetmts\n",
      "Lungo Dora Voghera has parallel segmetmts\n",
      "Lungo Po Alessandro Antonelli has parallel segmetmts\n",
      "Lungo Po Antonelli has parallel segmetmts\n",
      "Lungo Stura Istria has parallel segmetmts\n",
      "Lungo Stura Lazio has parallel segmetmts\n",
      "Parco Ignazio Michelotti has parallel segmetmts\n",
      "Parco Pietro Mennea has parallel segmetmts\n",
      "Passerella Franco Mellano has parallel segmetmts\n",
      "Piazza Alberto Pasini has parallel segmetmts\n",
      "Piazza Amedeo Peyron has parallel segmetmts\n",
      "Piazza Antonio Fontanesi has parallel segmetmts\n",
      "Piazza Bengasi has parallel segmetmts\n",
      "Piazza Bruno Caccia has parallel segmetmts\n",
      "Piazza C.L.N. has parallel segmetmts\n",
      "Piazza Camillo Benso Conte di Cavour has parallel segmetmts\n",
      "Piazza Camillo Bozzolo has parallel segmetmts\n",
      "Piazza Carlo Emanuele Secondo has parallel segmetmts\n",
      "Piazza Castello has parallel segmetmts\n",
      "Piazza Cesare Augusto has parallel segmetmts\n",
      "Piazza Cirene has parallel segmetmts\n",
      "Piazza Conti di Rebaudengo has parallel segmetmts\n",
      "Piazza Coriolano has parallel segmetmts\n",
      "Piazza Crimea has parallel segmetmts\n",
      "Piazza Derna has parallel segmetmts\n",
      "Piazza Desiderato Chiaves has parallel segmetmts\n",
      "Piazza Diciotto Dicembre has parallel segmetmts\n",
      "Piazza Edmondo De Amicis has parallel segmetmts\n",
      "Piazza Enrico Toti has parallel segmetmts\n",
      "Piazza Fabio Filzi has parallel segmetmts\n",
      "Piazza Francesco Borromini has parallel segmetmts\n",
      "Piazza Francesco Carrara has parallel segmetmts\n",
      "Piazza Francesco Crispi has parallel segmetmts\n",
      "Piazza Gian Lorenzo Bernini has parallel segmetmts\n",
      "Piazza GiosuÃ¨ Carducci has parallel segmetmts\n",
      "Piazza Giovanni Bottesini has parallel segmetmts\n",
      "Piazza Giovanni Toselli has parallel segmetmts\n",
      "Piazza Giovanni Ventitreesimo has parallel segmetmts\n",
      "Piazza Giovanni dalle Bande Nere has parallel segmetmts\n",
      "Piazza Giuseppe Luigi Lagrange has parallel segmetmts\n",
      "Piazza Giuseppe Manno has parallel segmetmts\n",
      "Piazza Giuseppe Perotti has parallel segmetmts\n",
      "Piazza Gran Madre di Dio has parallel segmetmts\n",
      "Piazza Guido Gozzano has parallel segmetmts\n",
      "Piazza Guido Secreto has parallel segmetmts\n",
      "Piazza Gustavo Modena has parallel segmetmts\n",
      "Piazza Hermada has parallel segmetmts\n",
      "Piazza Jacopo Foroni has parallel segmetmts\n",
      "Piazza Luigi Mattirolo has parallel segmetmts\n",
      "Piazza Marco Aurelio has parallel segmetmts\n",
      "Piazza Maria Ausiliatrice has parallel segmetmts\n",
      "Piazza Maria Teresa has parallel segmetmts\n",
      "Piazza Marmolada has parallel segmetmts\n",
      "Piazza Massaua has parallel segmetmts\n",
      "Piazza Moncenisio has parallel segmetmts\n",
      "Piazza Monte Tabor has parallel segmetmts\n",
      "Piazza Muzio Scevola has parallel segmetmts\n",
      "Piazza Nazario Sauro has parallel segmetmts\n",
      "Piazza Nizza has parallel segmetmts\n",
      "Piazza Omero has parallel segmetmts\n",
      "Piazza Palazzo di CittÃ  has parallel segmetmts\n",
      "Piazza Pasquale Villari has parallel segmetmts\n",
      "Piazza Piero della Francesca has parallel segmetmts\n",
      "Piazza Pietro Francesco Guala has parallel segmetmts\n",
      "Piazza Pietro Paleocapa has parallel segmetmts\n",
      "Piazza Pitagora has parallel segmetmts\n",
      "Piazza Polonia has parallel segmetmts\n",
      "Piazza Risorgimento has parallel segmetmts\n",
      "Piazza Rivoli has parallel segmetmts\n",
      "Piazza Sabotino has parallel segmetmts\n",
      "Piazza San Carlo has parallel segmetmts\n",
      "Piazza Santa Giulia has parallel segmetmts\n",
      "Piazza Santa Rita da Cascia has parallel segmetmts\n",
      "Piazza Savoia has parallel segmetmts\n",
      "Piazza Sofia has parallel segmetmts\n",
      "Piazza Solferino has parallel segmetmts\n",
      "Piazza Stampalia has parallel segmetmts\n",
      "Piazza Statuto has parallel segmetmts\n",
      "Piazza Tancredi Galimberti has parallel segmetmts\n",
      "Piazza Teresa Confalonieri has parallel segmetmts\n",
      "Piazza Teresa Noce has parallel segmetmts\n",
      "Piazza Tommaso Campanella has parallel segmetmts\n",
      "Piazza Vetta d'Italia has parallel segmetmts\n",
      "Piazza Vincenzo Arbarello has parallel segmetmts\n",
      "Piazza Vittorio Veneto has parallel segmetmts\n",
      "Piazza Zara has parallel segmetmts\n",
      "Piazza del Donatore di Sangue has parallel segmetmts\n",
      "Piazza del Monastero has parallel segmetmts\n",
      "Piazza della Repubblica has parallel segmetmts\n",
      "Piazza della Vittoria has parallel segmetmts\n",
      "Piazza don Paolo Albera has parallel segmetmts\n",
      "Piazzale Adua has parallel segmetmts\n",
      "Piazzale Aldo Moro has parallel segmetmts\n",
      "Piazzale Caio Mario has parallel segmetmts\n",
      "Piazzale Carlo Tancredi Falletti Di Barolo has parallel segmetmts\n",
      "Piazzale Cornelio Tacito has parallel segmetmts\n",
      "Piazzale Costantino Il Grande has parallel segmetmts\n",
      "Piazzale Croce Rossa Italiana has parallel segmetmts\n",
      "Piazzale Duca d'Aosta has parallel segmetmts\n",
      "Piazzale Fratelli Ceirano has parallel segmetmts\n",
      "Piazzale Gian Maria VolontÃ¨ has parallel segmetmts\n",
      "Piazzale Pola has parallel segmetmts\n",
      "Piazzale Regina Margherita has parallel segmetmts\n",
      "Piazzale Riccardo Valla has parallel segmetmts\n",
      "Piazzale San Gabriele di Gorizia has parallel segmetmts\n",
      "Piazzale Valdo Fusi has parallel segmetmts\n",
      "Piazzale Vallette has parallel segmetmts\n",
      "Piazzale Villa della Regina has parallel segmetmts\n",
      "Piazzale Volgograd has parallel segmetmts\n",
      "Piazzetta Cerignola has parallel segmetmts\n",
      "Piazzetta Don Giuseppe Puglisi has parallel segmetmts\n",
      "Piazzetta Giorgio Perlasca has parallel segmetmts\n",
      "Piazzetta Luciano Jona has parallel segmetmts\n",
      "Piazzetta Umberto Terracini has parallel segmetmts\n",
      "Piazzetta Vittime dello Stadio Heysel has parallel segmetmts\n",
      "Piazzetta della Chiesa has parallel segmetmts\n",
      "Piazzola Leone Sinigaglia has parallel segmetmts\n",
      "Pista ciclabile di Corso Giulio Cesare has parallel segmetmts\n",
      "Pista ciclabile di Corso Romania has parallel segmetmts\n",
      "Pista ciclabile di Corso Taranto has parallel segmetmts\n",
      "Pista ciclabile di Lungo Po Antonelli has parallel segmetmts\n",
      "Pista ciclabile di Piazza Derna has parallel segmetmts\n",
      "Ponte George Washington has parallel segmetmts\n",
      "Ponte Regina Margherita has parallel segmetmts\n",
      "Ponte Sassi has parallel segmetmts\n",
      "Ponte Umberto Primo has parallel segmetmts\n",
      "Ponte Unione Europea has parallel segmetmts\n",
      "Quadrivio Raby has parallel segmetmts\n",
      "Salita Isonzo has parallel segmetmts\n",
      "Salita Michelangelo Garove has parallel segmetmts\n",
      "Salita al CAI Torino has parallel segmetmts\n",
      "Sottopasso Carlo Donat Cattin has parallel segmetmts\n",
      "Spina Reale has parallel segmetmts\n",
      "Strada Antica della Venaria has parallel segmetmts\n",
      "Strada Antica di Collegno has parallel segmetmts\n",
      "Strada Antica di Revigliasco has parallel segmetmts\n",
      "Strada Antica di San Vito has parallel segmetmts\n",
      "Strada Basse di Dora has parallel segmetmts\n",
      "Strada Basse di Stura has parallel segmetmts\n",
      "Strada Bellacomba has parallel segmetmts\n",
      "Strada Castello di Mirafiori has parallel segmetmts\n",
      "Strada Cesare Meano has parallel segmetmts\n",
      "Strada Cimitero di Cavoretto has parallel segmetmts\n",
      "Strada Comunale del Portone has parallel segmetmts\n",
      "Strada Comunale del Villaretto has parallel segmetmts\n",
      "Strada Comunale di Cavoretto has parallel segmetmts\n",
      "Strada Comunale di Mirafiori has parallel segmetmts\n",
      "Strada CuorgnÃ¨ has parallel segmetmts\n",
      "Strada G. Scarafiotti has parallel segmetmts\n",
      "Strada Guido Volante has parallel segmetmts\n",
      "Strada Lanzo has parallel segmetmts\n",
      "Strada Mongreno has parallel segmetmts\n",
      "Strada Pianezza has parallel segmetmts\n",
      "Strada Provinciale della Reggia di Venaria has parallel segmetmts\n",
      "Strada Provinciale di CuorgnÃ¨ has parallel segmetmts\n",
      "Strada Provinciale di Lanzo has parallel segmetmts\n",
      "Strada San Mauro has parallel segmetmts\n",
      "Strada San Vincenzo has parallel segmetmts\n",
      "Strada San Vito Revigliasco has parallel segmetmts\n",
      "Strada Sant'Anna has parallel segmetmts\n",
      "Strada Santa Margherita has parallel segmetmts\n",
      "Strada Settimo has parallel segmetmts\n",
      "Strada Val Pattonera has parallel segmetmts\n",
      "Strada Val Salice has parallel segmetmts\n",
      "Strada Val San Martino has parallel segmetmts\n",
      "Strada Val San Martino Superiore has parallel segmetmts\n",
      "Strada Venaria has parallel segmetmts\n",
      "Strada Vigne di San Vito has parallel segmetmts\n",
      "Strada Villar Dora has parallel segmetmts\n",
      "Strada ai Tetti Gariglio has parallel segmetmts\n",
      "Strada al Traforo di Pino has parallel segmetmts\n",
      "Strada alla Manifattura Tabacchi has parallel segmetmts\n",
      "Strada alla Parrocchia di Superga has parallel segmetmts\n",
      "Strada comunale alla Basilica di Superga has parallel segmetmts\n",
      "Strada comunale del Cartman has parallel segmetmts\n",
      "Strada comunale di Bertolla has parallel segmetmts\n",
      "Strada d'Harcourt has parallel segmetmts\n",
      "Strada da Bertolla all'Abbadia di Stura has parallel segmetmts\n",
      "Strada da Villaretto a Borgaro has parallel segmetmts\n",
      "Strada dai Ronchi ai Cunioli Alti has parallel segmetmts\n",
      "Strada dal Ponte Isabella a San Vito has parallel segmetmts\n",
      "Strada degli Alberoni has parallel segmetmts\n",
      "Strada dei Biasoni has parallel segmetmts\n",
      "Strada dei Boschi has parallel segmetmts\n",
      "Strada dei Falconieri has parallel segmetmts\n",
      "Strada dei Forni has parallel segmetmts\n",
      "Strada dei Forni e Goffi has parallel segmetmts\n",
      "Strada dei Ronchi has parallel segmetmts\n",
      "Strada dei Tadini has parallel segmetmts\n",
      "Strada dei Tetti Bertoglio has parallel segmetmts\n",
      "Strada dei Tetti Rubino has parallel segmetmts\n",
      "Strada del Bellardo has parallel segmetmts\n",
      "Strada del Bramafame has parallel segmetmts\n",
      "Strada del Campagnino has parallel segmetmts\n",
      "Strada del Cantello has parallel segmetmts\n",
      "Strada del Cartman has parallel segmetmts\n",
      "Strada del Cascinotto has parallel segmetmts\n",
      "Strada del Cresto has parallel segmetmts\n",
      "Strada del Drosso has parallel segmetmts\n",
      "Strada del Fioccardo has parallel segmetmts\n",
      "Strada del Fortino has parallel segmetmts\n",
      "Strada del Francese has parallel segmetmts\n",
      "Strada del Lauro has parallel segmetmts\n",
      "Strada del Mainero has parallel segmetmts\n",
      "Strada del Meisino has parallel segmetmts\n",
      "Strada del Molino del Villaretto has parallel segmetmts\n",
      "Strada del Morozzo has parallel segmetmts\n",
      "Strada del Nobile has parallel segmetmts\n",
      "Strada del Pascolo has parallel segmetmts\n",
      "Strada del Ponte Verde has parallel segmetmts\n",
      "Strada del Villaretto has parallel segmetmts\n",
      "Strada del cimitero di Sassi has parallel segmetmts\n",
      "Strada dell'Aeroporto has parallel segmetmts\n",
      "Strada dell'Antioca has parallel segmetmts\n",
      "Strada della Barberina has parallel segmetmts\n",
      "Strada della Cebrosa has parallel segmetmts\n",
      "Strada della Continassa has parallel segmetmts\n",
      "Strada della Creusa has parallel segmetmts\n",
      "Strada della Lauretta has parallel segmetmts\n",
      "Strada della Magra has parallel segmetmts\n",
      "Strada della Pellerina has parallel segmetmts\n",
      "Strada della Pronda has parallel segmetmts\n",
      "Strada della Verna has parallel segmetmts\n",
      "Strada della Viassa has parallel segmetmts\n",
      "Strada della Viola has parallel segmetmts\n",
      "Strada delle Cacce has parallel segmetmts\n",
      "Strada delle Terrazze has parallel segmetmts\n",
      "Strada delle Traverse has parallel segmetmts\n",
      "Strada di Altessano has parallel segmetmts\n",
      "Strada di Fenestrelle has parallel segmetmts\n",
      "Strada di Pecetto has parallel segmetmts\n",
      "Strada di Revigliasco has parallel segmetmts\n",
      "Strada di Sassi has parallel segmetmts\n",
      "Strada di Superga has parallel segmetmts\n",
      "Strada di Valpiana has parallel segmetmts\n",
      "Strada vicinale delle Cascinette has parallel segmetmts\n",
      "Tangenziale Nord has parallel segmetmts\n",
      "Via Achille Loria has parallel segmetmts\n",
      "Via Adamello has parallel segmetmts\n",
      "Via Adolphe DaubrÃ©e has parallel segmetmts\n",
      "Via Agostino Bertani has parallel segmetmts\n",
      "Via Ala di Stura has parallel segmetmts\n",
      "Via Albenga has parallel segmetmts\n",
      "Via Albugnano has parallel segmetmts\n",
      "Via Alessandro Cruto has parallel segmetmts\n",
      "Via Alessandro Fleming has parallel segmetmts\n",
      "Via Alfonso Balzico has parallel segmetmts\n",
      "Via Alfonso Varano has parallel segmetmts\n",
      "Via Alpignano has parallel segmetmts\n",
      "Via Amalia Guglielminetti has parallel segmetmts\n",
      "Via Amedeo Modigliani has parallel segmetmts\n",
      "Via Amedeo Peyron has parallel segmetmts\n",
      "Via Amilcare Ponchielli has parallel segmetmts\n",
      "Via Andrea Cesalpino has parallel segmetmts\n",
      "Via Andrea Palladio has parallel segmetmts\n",
      "Via Andrea Pisano has parallel segmetmts\n",
      "Via Andrea Sansovino has parallel segmetmts\n",
      "Via Angelo Fortunato Formiggini has parallel segmetmts\n",
      "Via Angelo Sismonda has parallel segmetmts\n",
      "Via Angiolino has parallel segmetmts\n",
      "Via Annie Vivanti has parallel segmetmts\n",
      "Via Antonio Cecchi has parallel segmetmts\n",
      "Via Antonio Fabro has parallel segmetmts\n",
      "Via Antonio Giuseppe Bertola has parallel segmetmts\n",
      "Via Antonio Meucci has parallel segmetmts\n",
      "Via Antonio Sant'Elia has parallel segmetmts\n",
      "Via Antonio e Vittorio Scialoja has parallel segmetmts\n",
      "Via Aosta has parallel segmetmts\n",
      "Via Arcangelo Corelli has parallel segmetmts\n",
      "Via Aristide Faccioli has parallel segmetmts\n",
      "Via Arrigo Olivetti has parallel segmetmts\n",
      "Via Arturo Farinelli has parallel segmetmts\n",
      "Via Asiago has parallel segmetmts\n",
      "Via Asigliano Vercellese has parallel segmetmts\n",
      "Via Assietta has parallel segmetmts\n",
      "Via Assisi has parallel segmetmts\n",
      "Via Asuncion has parallel segmetmts\n",
      "Via Augusto Abegg has parallel segmetmts\n",
      "Via Avigliana has parallel segmetmts\n",
      "Via Baltimora has parallel segmetmts\n",
      "Via Bardonecchia has parallel segmetmts\n",
      "Via Barletta has parallel segmetmts\n",
      "Via Barnaba Panizza has parallel segmetmts\n",
      "Via Battista Bena has parallel segmetmts\n",
      "Via Benevento has parallel segmetmts\n",
      "Via Bernardino Luini has parallel segmetmts\n",
      "Via Bernardo De Canal has parallel segmetmts\n",
      "Via Bezzecca has parallel segmetmts\n",
      "Via Bionaz has parallel segmetmts\n",
      "Via Bobbio has parallel segmetmts\n",
      "Via Bologna has parallel segmetmts\n",
      "Via Bonzo has parallel segmetmts\n",
      "Via Borgaro has parallel segmetmts\n",
      "Via Borgo Dora has parallel segmetmts\n",
      "Via Borgofranco has parallel segmetmts\n",
      "Via Bossolasco has parallel segmetmts\n",
      "Via Boston has parallel segmetmts\n",
      "Via Breglio has parallel segmetmts\n",
      "Via Buenos Aires has parallel segmetmts\n",
      "Via Buriasco has parallel segmetmts\n",
      "Via Calabria has parallel segmetmts\n",
      "Via Campobasso has parallel segmetmts\n",
      "Via Candido Viberti has parallel segmetmts\n",
      "Via Candiolo has parallel segmetmts\n",
      "Via Caprera has parallel segmetmts\n",
      "Via Caraglio has parallel segmetmts\n",
      "Via Cardinale Guglielmo Massaia has parallel segmetmts\n",
      "Via Cardinale Maurilio Fossati has parallel segmetmts\n",
      "Via Carlo Alberto has parallel segmetmts\n",
      "Via Carlo Alfonso Nallino has parallel segmetmts\n",
      "Via Carlo Bianco has parallel segmetmts\n",
      "Via Carlo Casalegno has parallel segmetmts\n",
      "Via Carlo Del Prete has parallel segmetmts\n",
      "Via Carlo Ignazio Giulio has parallel segmetmts\n",
      "Via Carlo Martinotti has parallel segmetmts\n",
      "Via Carlo Pinchia has parallel segmetmts\n",
      "Via Carlo Pisacane has parallel segmetmts\n",
      "Via Caserta has parallel segmetmts\n",
      "Via Casteldelfino has parallel segmetmts\n",
      "Via Castelgomberto has parallel segmetmts\n",
      "Via Catania has parallel segmetmts\n",
      "Via Cavagnolo has parallel segmetmts\n",
      "Via Celeste Negarville has parallel segmetmts\n",
      "Via Centallo has parallel segmetmts\n",
      "Via Cercenasco has parallel segmetmts\n",
      "Via Cernaia has parallel segmetmts\n",
      "Via Cerrione has parallel segmetmts\n",
      "Via Cervino has parallel segmetmts\n",
      "Via Cesare Pavese has parallel segmetmts\n",
      "Via Chaberton has parallel segmetmts\n",
      "Via Challant has parallel segmetmts\n",
      "Via Chambery has parallel segmetmts\n",
      "Via Chiesa della Salute has parallel segmetmts\n",
      "Via Chivasso has parallel segmetmts\n",
      "Via Ciamarella has parallel segmetmts\n",
      "Via Cigliano has parallel segmetmts\n",
      "Via Cirenaica has parallel segmetmts\n",
      "Via Clemente Damiano Priocca has parallel segmetmts\n",
      "Via Coni Zugna has parallel segmetmts\n",
      "Via Conte Secondo Frola has parallel segmetmts\n",
      "Via Conte Verde has parallel segmetmts\n",
      "Via Corneliano d'Alba has parallel segmetmts\n",
      "Via Corrado Corradino has parallel segmetmts\n",
      "Via Costantino e Maria Brighenti has parallel segmetmts\n",
      "Via Crevacuore has parallel segmetmts\n",
      "Via Cristoforo Colombo has parallel segmetmts\n",
      "Via CuorgnÃ¨ has parallel segmetmts\n",
      "Via Damiano Chiesa has parallel segmetmts\n",
      "Via Davide Bertolotti has parallel segmetmts\n",
      "Via Defendente de Ferrari has parallel segmetmts\n",
      "Via Domenico Cimarosa has parallel segmetmts\n",
      "Via Domenico Coggiola has parallel segmetmts\n",
      "Via Domenico Guidobono has parallel segmetmts\n",
      "Via Domenico e Gerolamo Induno has parallel segmetmts\n",
      "Via Domodossola has parallel segmetmts\n",
      "Via Don Bartolomeo Grazioli has parallel segmetmts\n",
      "Via Don Giovanni Bosco has parallel segmetmts\n",
      "Via Don Michele Rua has parallel segmetmts\n",
      "Via Dronero has parallel segmetmts\n",
      "Via Druento has parallel segmetmts\n",
      "Via Duchessa Jolanda has parallel segmetmts\n",
      "Via Edoardo Daneo has parallel segmetmts\n",
      "Via Edoardo Rubino has parallel segmetmts\n",
      "Via Egeo has parallel segmetmts\n",
      "Via Eleonora d'Arborea has parallel segmetmts\n",
      "Via Elvo has parallel segmetmts\n",
      "Via Emanuele Artom has parallel segmetmts\n",
      "Via Emilio Salgari has parallel segmetmts\n",
      "Via Enrico Fermi has parallel segmetmts\n",
      "Via Erasmo da Rotterdam has parallel segmetmts\n",
      "Via Ercole Ricotti has parallel segmetmts\n",
      "Via Ermanno Fenoglietti has parallel segmetmts\n",
      "Via Errico Giachino has parallel segmetmts\n",
      "Via Errico Petrella has parallel segmetmts\n",
      "Via Ettore Stampini has parallel segmetmts\n",
      "Via Federico Patetta has parallel segmetmts\n",
      "Via Feletto has parallel segmetmts\n",
      "Via Fidia has parallel segmetmts\n",
      "Via Fiesole has parallel segmetmts\n",
      "Via Filadelfia has parallel segmetmts\n",
      "Via Filippo Acciarini has parallel segmetmts\n",
      "Via Filippo Juvarra has parallel segmetmts\n",
      "Via Foglizzo has parallel segmetmts\n",
      "Via ForlÃ¬ has parallel segmetmts\n",
      "Via Fossata has parallel segmetmts\n",
      "Via Francesco Cigna has parallel segmetmts\n",
      "Via Francesco Cilea has parallel segmetmts\n",
      "Via Francesco De Sanctis has parallel segmetmts\n",
      "Via Francesco Rismondo has parallel segmetmts\n",
      "Via Francesco Saverio Nitti has parallel segmetmts\n",
      "Via Franco Bonelli has parallel segmetmts\n",
      "Via Frassineto has parallel segmetmts\n",
      "Via Fratelli Bandiera has parallel segmetmts\n",
      "Via Fratelli Carando has parallel segmetmts\n",
      "Via Fratelli Garrone has parallel segmetmts\n",
      "Via Fratelli Ruffini has parallel segmetmts\n",
      "Via Fratelli Vasco has parallel segmetmts\n",
      "Via Friedrich Nietzsche has parallel segmetmts\n",
      "Via Fulvio Testi has parallel segmetmts\n",
      "Via Gabriele D'Annunzio has parallel segmetmts\n",
      "Via Gaetano Mosca has parallel segmetmts\n",
      "Via Gambasca has parallel segmetmts\n",
      "Via Garessio has parallel segmetmts\n",
      "Via Gaspero Barbera has parallel segmetmts\n",
      "Via Genova has parallel segmetmts\n",
      "Via Germagnano has parallel segmetmts\n",
      "Via Giacinto Pacchiotti has parallel segmetmts\n",
      "Via Giacomo Balla has parallel segmetmts\n",
      "Via Giacomo Dina has parallel segmetmts\n",
      "Via Giacomo MattÃ¨ Trucco has parallel segmetmts\n",
      "Via Giacomo Medici has parallel segmetmts\n",
      "Via Giambattista Gropello has parallel segmetmts\n",
      "Via Giambattista Lulli has parallel segmetmts\n",
      "Via Giambattista Pergolesi has parallel segmetmts\n",
      "Via Giambattista Pergolesi 105 has parallel segmetmts\n",
      "Via Gian Domenico Cassini has parallel segmetmts\n",
      "Via Gian Francesco Bellezia has parallel segmetmts\n",
      "Via Gianfrancesco Re has parallel segmetmts\n",
      "Via Giaveno has parallel segmetmts\n",
      "Via Giorgio Ghedini has parallel segmetmts\n",
      "Via GiosuÃ¨ Borsi has parallel segmetmts\n",
      "Via Giovanni Antonio Bazzi has parallel segmetmts\n",
      "Via Giovanni Battista Gandino has parallel segmetmts\n",
      "Via Giovanni Battista e Carlo Felice Biscarra has parallel segmetmts\n",
      "Via Giovanni Boccaccio has parallel segmetmts\n",
      "Via Giovanni Bovetti has parallel segmetmts\n",
      "Via Giovanni Carlo Cavalli has parallel segmetmts\n",
      "Via Giovanni Chevalley has parallel segmetmts\n",
      "Via Giovanni Cravero has parallel segmetmts\n",
      "Via Giovanni Destefanis has parallel segmetmts\n",
      "Via Giovanni Martina has parallel segmetmts\n",
      "Via Giovanni Paisiello has parallel segmetmts\n",
      "Via Giovanni Ribet has parallel segmetmts\n",
      "Via Giovanni Roveda has parallel segmetmts\n",
      "Via Giovanni Servais has parallel segmetmts\n",
      "Via Giovanni Spano has parallel segmetmts\n",
      "Via Giovanni Virginio has parallel segmetmts\n",
      "Via Giovanni Zambelli has parallel segmetmts\n",
      "Via Giulio Carcano has parallel segmetmts\n",
      "Via Giuseppe Fagnano has parallel segmetmts\n",
      "Via Giuseppe Galliano has parallel segmetmts\n",
      "Via Giuseppe GenÃ¨ has parallel segmetmts\n",
      "Via Giuseppe Grosso has parallel segmetmts\n",
      "Via Giuseppe Massari has parallel segmetmts\n",
      "Via Giuseppe Regaldi has parallel segmetmts\n",
      "Via Giuseppe Rigola has parallel segmetmts\n",
      "Via Giuseppe Romita has parallel segmetmts\n",
      "Via Giuseppe Tartini has parallel segmetmts\n",
      "Via Giuseppe Vicarelli has parallel segmetmts\n",
      "Via Goffredo Mameli has parallel segmetmts\n",
      "Via Gorizia has parallel segmetmts\n",
      "Via Gottardo has parallel segmetmts\n",
      "Via Gradisca has parallel segmetmts\n",
      "Via Gran Paradiso has parallel segmetmts\n",
      "Via Grazia Deledda has parallel segmetmts\n",
      "Via Gubbio has parallel segmetmts\n",
      "Via Guglielmo Reiss Romoli has parallel segmetmts\n",
      "Via Guido Fubini has parallel segmetmts\n",
      "Via Guido Guinicelli has parallel segmetmts\n",
      "Via Guido Reni has parallel segmetmts\n",
      "Via Isernia has parallel segmetmts\n",
      "Via Isolabella has parallel segmetmts\n",
      "Via Isonzo has parallel segmetmts\n",
      "Via Italo Pizzi has parallel segmetmts\n",
      "Via Ivrea has parallel segmetmts\n",
      "Via Jacopo Foroni has parallel segmetmts\n",
      "Via La Loggia has parallel segmetmts\n",
      "Via Lanzo has parallel segmetmts\n",
      "Via Lauro Rossi has parallel segmetmts\n",
      "Via Legnano has parallel segmetmts\n",
      "Via Leonardo Fea has parallel segmetmts\n",
      "Via Leopoldo Lanfranco has parallel segmetmts\n",
      "Via Lessolo has parallel segmetmts\n",
      "Via Lima has parallel segmetmts\n",
      "Via Livorno has parallel segmetmts\n",
      "Via Lomellina has parallel segmetmts\n",
      "Via Lucento has parallel segmetmts\n",
      "Via Luigi Ambrosini has parallel segmetmts\n",
      "Via Luigi Boccherini has parallel segmetmts\n",
      "Via Luigi Capriolo has parallel segmetmts\n",
      "Via Luigi Capuana has parallel segmetmts\n",
      "Via Luigi Cibrario has parallel segmetmts\n",
      "Via Luigi Ferdinando Marsigli has parallel segmetmts\n",
      "Via Luigi Lavazza has parallel segmetmts\n",
      "Via Luigi Ornato has parallel segmetmts\n",
      "Via Luigi Palma di Cesnola has parallel segmetmts\n",
      "Via Luigi Pasteur has parallel segmetmts\n",
      "Via Luigi Santagata has parallel segmetmts\n",
      "Via Luisa del Carretto has parallel segmetmts\n",
      "Via Lurisia has parallel segmetmts\n",
      "Via Macrino d'Alba has parallel segmetmts\n",
      "Via Madama Cristina has parallel segmetmts\n",
      "Via Maddalene has parallel segmetmts\n",
      "Via Madonna della Salette has parallel segmetmts\n",
      "Via Magnano has parallel segmetmts\n",
      "Via Malta has parallel segmetmts\n",
      "Via Maresciallo Gaetano Giardino has parallel segmetmts\n",
      "Via Maria Adelaide Aglietta has parallel segmetmts\n",
      "Via Maria Teresa has parallel segmetmts\n",
      "Via Mario Pannunzio has parallel segmetmts\n",
      "Via Martinetto has parallel segmetmts\n",
      "Via Martiniana has parallel segmetmts\n",
      "Via Martino Anglesio has parallel segmetmts\n",
      "Via Masserano has parallel segmetmts\n",
      "Via Matilde Serao has parallel segmetmts\n",
      "Via Matteo Bartoli has parallel segmetmts\n",
      "Via Michelangelo Tonello has parallel segmetmts\n",
      "Via Michele Berrino has parallel segmetmts\n",
      "Via Michele Coppino has parallel segmetmts\n",
      "Via Michele Lessona has parallel segmetmts\n",
      "Via Mirabello has parallel segmetmts\n",
      "Via Modesto Panetti has parallel segmetmts\n",
      "Via Mombarcaro has parallel segmetmts\n",
      "Via Monastir has parallel segmetmts\n",
      "Via Monginevro has parallel segmetmts\n",
      "Via Montalenghe has parallel segmetmts\n",
      "Via Monte Asolone has parallel segmetmts\n",
      "Via Monte Rosa has parallel segmetmts\n",
      "Via Monte Tabor has parallel segmetmts\n",
      "Via Monte di PietÃ  has parallel segmetmts\n",
      "Via Montiglio has parallel segmetmts\n",
      "Via Morghen has parallel segmetmts\n",
      "Via Murazzi del Po Giuseppe Farassino has parallel segmetmts\n",
      "Via Muzzano has parallel segmetmts\n",
      "Via NiccolÃ² Paganini has parallel segmetmts\n",
      "Via Nichelino has parallel segmetmts\n",
      "Via Nicola Porpora has parallel segmetmts\n",
      "Via Nicomede Bianchi has parallel segmetmts\n",
      "Via Nino Bixio has parallel segmetmts\n",
      "Via Nizza has parallel segmetmts\n",
      "Via Nole has parallel segmetmts\n",
      "Via Oddino Morgari has parallel segmetmts\n",
      "Via Onorato Vigliani has parallel segmetmts\n",
      "Via Orbetello has parallel segmetmts\n",
      "Via Oropa has parallel segmetmts\n",
      "Via Orvieto has parallel segmetmts\n",
      "Via Padova has parallel segmetmts\n",
      "Via Palmiro Togliatti has parallel segmetmts\n",
      "Via Pancalieri has parallel segmetmts\n",
      "Via Paolo Borsellino has parallel segmetmts\n",
      "Via Paolo Boselli has parallel segmetmts\n",
      "Via Paolo Braccini has parallel segmetmts\n",
      "Via Paolo Gaidano has parallel segmetmts\n",
      "Via Paolo Gorini has parallel segmetmts\n",
      "Via Paolo Sacchi has parallel segmetmts\n",
      "Via Paolo Solaroli di Briona has parallel segmetmts\n",
      "Via Paolo Veronese has parallel segmetmts\n",
      "Via Parma has parallel segmetmts\n",
      "Via Pasquale Galluppi has parallel segmetmts\n",
      "Via Passo Buole has parallel segmetmts\n",
      "Via Pianezza has parallel segmetmts\n",
      "Via Piedicavallo has parallel segmetmts\n",
      "Via Pier Carlo Boggio has parallel segmetmts\n",
      "Via Pier Luigi Nervi has parallel segmetmts\n",
      "Via Pietrino Belli has parallel segmetmts\n",
      "Via Pietro Bonfante has parallel segmetmts\n",
      "Via Pietro Cavezzale has parallel segmetmts\n",
      "Via Pietro Chanoux has parallel segmetmts\n",
      "Via Pietro Cossa has parallel segmetmts\n",
      "Via Pietro Egidi has parallel segmetmts\n",
      "Via Pio VII has parallel segmetmts\n",
      "Via Piobesi has parallel segmetmts\n",
      "Via Pisa has parallel segmetmts\n",
      "Via Plava has parallel segmetmts\n",
      "Via Po has parallel segmetmts\n",
      "Via Poliziano has parallel segmetmts\n",
      "Via Pollenzo has parallel segmetmts\n",
      "Via Porta Palatina has parallel segmetmts\n",
      "Via Portofino has parallel segmetmts\n",
      "Via Postumia has parallel segmetmts\n",
      "Via Pramollo has parallel segmetmts\n",
      "Via Principessa Felicita di Savoia has parallel segmetmts\n",
      "Via Puglia has parallel segmetmts\n",
      "Via Quinto Bevilacqua has parallel segmetmts\n",
      "Via Rapallo has parallel segmetmts\n",
      "Via Refrancore has parallel segmetmts\n",
      "Via Ribordone has parallel segmetmts\n",
      "Via Rieti has parallel segmetmts\n",
      "Via Roberto Biscaretti di Ruffia has parallel segmetmts\n",
      "Via Rocca de' Baldi has parallel segmetmts\n",
      "Via Rocco Scotellaro has parallel segmetmts\n",
      "Via Rodolfo Morandi has parallel segmetmts\n",
      "Via Rodolfo Renier has parallel segmetmts\n",
      "Via Romolo Gessi has parallel segmetmts\n",
      "Via Rosario Santa FÃ¨ has parallel segmetmts\n",
      "Via Rovereto has parallel segmetmts\n",
      "Via Rubens Fattorelli has parallel segmetmts\n",
      "Via Ruggero Leoncavallo has parallel segmetmts\n",
      "Via Sabaudia has parallel segmetmts\n",
      "Via Saint Bon has parallel segmetmts\n",
      "Via Salbertrand has parallel segmetmts\n",
      "Via San Domenico has parallel segmetmts\n",
      "Via San Donato has parallel segmetmts\n",
      "Via San Fermo has parallel segmetmts\n",
      "Via San Gaetano da Thiene has parallel segmetmts\n",
      "Via San Giuseppe Benedetto Cottolengo has parallel segmetmts\n",
      "Via San Marino has parallel segmetmts\n",
      "Via San Paolo has parallel segmetmts\n",
      "Via San Rocco has parallel segmetmts\n",
      "Via Sandro Botticelli has parallel segmetmts\n",
      "Via Sanfront has parallel segmetmts\n",
      "Via Sant'Agostino has parallel segmetmts\n",
      "Via Sant'Antonino has parallel segmetmts\n",
      "Via Sant'Ottavio has parallel segmetmts\n",
      "Via Santa Chiara has parallel segmetmts\n",
      "Via Santa Giulia has parallel segmetmts\n",
      "Via Santa Maria Mazzarello has parallel segmetmts\n",
      "Via Saorgio has parallel segmetmts\n",
      "Via Sapri has parallel segmetmts\n",
      "Via Saverio Mercadante has parallel segmetmts\n",
      "Via Somalia has parallel segmetmts\n",
      "Via Sommacampagna has parallel segmetmts\n",
      "Via Sospello has parallel segmetmts\n",
      "Via Sostegno has parallel segmetmts\n",
      "Via Spalato has parallel segmetmts\n",
      "Via Stelvio has parallel segmetmts\n",
      "Via Stradella has parallel segmetmts\n",
      "Via Tancredi Pozzi has parallel segmetmts\n",
      "Via Tempio Pausania has parallel segmetmts\n",
      "Via Tepice has parallel segmetmts\n",
      "Via Terni has parallel segmetmts\n",
      "Via Tintoretto has parallel segmetmts\n",
      "Via Tirreno has parallel segmetmts\n",
      "Via Toce has parallel segmetmts\n",
      "Via Tofane has parallel segmetmts\n",
      "Via Tolmino has parallel segmetmts\n",
      "Via Tommaso Agudio has parallel segmetmts\n",
      "Via Tommaso Salvini has parallel segmetmts\n",
      "Via Torre Pellice has parallel segmetmts\n",
      "Via Traves has parallel segmetmts\n",
      "Via Treviso has parallel segmetmts\n",
      "Via Tripoli has parallel segmetmts\n",
      "Via Tunisi has parallel segmetmts\n",
      "Via Ugo Ceresero has parallel segmetmts\n",
      "Via Val Lagarina has parallel segmetmts\n",
      "Via Val della Torre has parallel segmetmts\n",
      "Via Valentino Carrera has parallel segmetmts\n",
      "Via Valfenera has parallel segmetmts\n",
      "Via Valprato has parallel segmetmts\n",
      "Via Vandalino has parallel segmetmts\n",
      "Via Veglia has parallel segmetmts\n",
      "Via Venaria has parallel segmetmts\n",
      "Via Venti Settembre has parallel segmetmts\n",
      "Via Ventimiglia has parallel segmetmts\n",
      "Via Verolengo has parallel segmetmts\n",
      "Via Verres has parallel segmetmts\n",
      "Via Vicoforte has parallel segmetmts\n",
      "Via Villa Glori has parallel segmetmts\n",
      "Via Villa della Regina has parallel segmetmts\n",
      "Via Villar has parallel segmetmts\n",
      "Via Vincenzo Lancia has parallel segmetmts\n",
      "Via Vincenzo Vela has parallel segmetmts\n",
      "Via Viterbo has parallel segmetmts\n",
      "Via Vittoria has parallel segmetmts\n",
      "Via Vittorio Actis has parallel segmetmts\n",
      "Via Vittorio Andreis has parallel segmetmts\n",
      "Via Vittorio Asinari di Bernezzo has parallel segmetmts\n",
      "Via Vittorio Cuniberti has parallel segmetmts\n",
      "Via Zino Giacomo Zini has parallel segmetmts\n",
      "Via all'Asilo has parallel segmetmts\n",
      "Via alla Chiesa has parallel segmetmts\n",
      "Via alla Villa Quiete has parallel segmetmts\n",
      "Via degli Abeti has parallel segmetmts\n",
      "Via degli Aceri has parallel segmetmts\n",
      "Via degli Olmi has parallel segmetmts\n",
      "Via degli Ulivi has parallel segmetmts\n",
      "Via dei Faggi has parallel segmetmts\n",
      "Via dei Frassini has parallel segmetmts\n",
      "Via dei Gelsi has parallel segmetmts\n",
      "Via dei Gladioli has parallel segmetmts\n",
      "Via dei Lavandai has parallel segmetmts\n",
      "Via dei Pioppi has parallel segmetmts\n",
      "Via dei Tigli has parallel segmetmts\n",
      "Via della BrusÃ  has parallel segmetmts\n",
      "Via della Consolata has parallel segmetmts\n",
      "Via delle Betulle has parallel segmetmts\n",
      "Via delle Magnolie has parallel segmetmts\n",
      "Via delle Pervinche has parallel segmetmts\n",
      "Via delle Primule has parallel segmetmts\n",
      "Via delle Querce has parallel segmetmts\n",
      "Via delle Robinie has parallel segmetmts\n",
      "Via delle Verbene has parallel segmetmts\n",
      "Viale Caduti Dispersi in Guerra has parallel segmetmts\n",
      "Viale Chemin des Dames has parallel segmetmts\n",
      "Viale Dogali has parallel segmetmts\n",
      "Viale Enrico Thovez has parallel segmetmts\n",
      "Viale Falchera has parallel segmetmts\n",
      "Viale Giacomo Curreno has parallel segmetmts\n",
      "Viale Innocenzo Contini has parallel segmetmts\n",
      "Viale Leonardo Bistolfi has parallel segmetmts\n",
      "Viale Madonna di Campagna has parallel segmetmts\n",
      "Viale Maestri del Lavoro has parallel segmetmts\n",
      "Viale Magnaboschi has parallel segmetmts\n",
      "Viale Piave has parallel segmetmts\n",
      "Viale Pier Andrea Mattioli has parallel segmetmts\n",
      "Viale Primo Maggio has parallel segmetmts\n",
      "Viale Santa Lucia di Tolmino has parallel segmetmts\n",
      "Viale Stretta D'Auzza has parallel segmetmts\n",
      "Viale Suor Giovanna Francesca Michelotti has parallel segmetmts\n",
      "Viale Umberto Cagni has parallel segmetmts\n",
      "Viale Venticinque Aprile has parallel segmetmts\n",
      "Viale Virgilio has parallel segmetmts\n",
      "Viale dei Mughetti has parallel segmetmts\n",
      "Viale dei Partigiani has parallel segmetmts\n",
      "['Corso Moncalieri', 'Piazza Gran Madre di Dio'] has parallel segmetmts\n",
      "['Corso Toscana', 'Largo Toscana'] has parallel segmetmts\n",
      "['Ponte Carlo Emanuele Primo', 'Corso Novara'] has parallel segmetmts\n",
      "['Ponte Ferdinando di Savoia', 'Corso Giulio Cesare'] has parallel segmetmts\n",
      "['Ponte Sassi', 'Corso Belgio'] has parallel segmetmts\n",
      "['Ponte Vittorio Emanuele II', 'Corso Vercelli'] has parallel segmetmts\n",
      "['Ponte delle Benne', 'Corso Regio Parco'] has parallel segmetmts\n",
      "['Strada Mongreno', 'Largo Casale'] has parallel segmetmts\n",
      "['Via Guido Reni', 'Via Santa Maria Mazzarello'] has parallel segmetmts\n",
      "['Via Pietro Cossa', 'Ponte Pietro II'] has parallel segmetmts\n"
     ]
    }
   ],
   "source": [
    "streets_to_clear_segment = []\n",
    "new_geometry =['geometry_right','geometry_left']\n",
    "for group in df_pro.groupby('name'):\n",
    "    res =group[1]\n",
    "    res_translate = res.copy()\n",
    "    buffer_test = res['geometry'].buffer(cap_style=2,distance=30,join_style=3)\n",
    "    res_translate['geometry_right'] = res_translate['geometry'].apply(lambda x:x.parallel_offset(35, 'right'))\n",
    "    res_translate['geometry_left'] = res_translate['geometry'].apply(lambda x:x.parallel_offset(35, 'left'))\n",
    "\n",
    "    if length_of_parallel(res_translate,'geometry_right') >0 or length_of_parallel(res_translate,'geometry_left') >0:\n",
    "        print(f'{group[0]} has parallel segmetmts')\n",
    "        streets_to_clear_segment.append(res)\n",
    "\n",
    "streets_to_clear_segment_pd = pd.concat(streets_to_clear_segment)\n",
    "streets_to_clear_segment_pd.to_file(f'{path}/streets_to_clear_segment.shp')"
   ],
   "metadata": {
    "collapsed": false,
    "pycharm": {
     "name": "#%%\n"
    }
   }
  },
  {
   "cell_type": "code",
   "execution_count": 59,
   "outputs": [
    {
     "name": "stdout",
     "output_type": "stream",
     "text": [
      "no parallel lines\n"
     ]
    }
   ],
   "source": [],
   "metadata": {
    "collapsed": false,
    "pycharm": {
     "name": "#%%\n"
    }
   }
  },
  {
   "cell_type": "code",
   "execution_count": 53,
   "outputs": [
    {
     "data": {
      "text/plain": "                                                geometry  index_right\n15436  LINESTRING (857674.331 5626595.994, 857654.026...        15436",
      "text/html": "<div>\n<style scoped>\n    .dataframe tbody tr th:only-of-type {\n        vertical-align: middle;\n    }\n\n    .dataframe tbody tr th {\n        vertical-align: top;\n    }\n\n    .dataframe thead th {\n        text-align: right;\n    }\n</style>\n<table border=\"1\" class=\"dataframe\">\n  <thead>\n    <tr style=\"text-align: right;\">\n      <th></th>\n      <th>geometry</th>\n      <th>index_right</th>\n    </tr>\n  </thead>\n  <tbody>\n    <tr>\n      <th>15436</th>\n      <td>LINESTRING (857674.331 5626595.994, 857654.026...</td>\n      <td>15436</td>\n    </tr>\n  </tbody>\n</table>\n</div>"
     },
     "execution_count": 53,
     "metadata": {},
     "output_type": "execute_result"
    }
   ],
   "source": [
    "new_data"
   ],
   "metadata": {
    "collapsed": false,
    "pycharm": {
     "name": "#%%\n"
    }
   }
  },
  {
   "cell_type": "code",
   "execution_count": 61,
   "outputs": [
    {
     "name": "stderr",
     "output_type": "stream",
     "text": [
      "C:\\Users\\Achituv\\anaconda3\\envs\\momepy_env\\lib\\site-packages\\centerline\\geometry.py:34: ShapelyDeprecationWarning: Setting custom attributes on geometry objects is deprecated, and will raise an AttributeError in Shapely 2.0\n",
      "  self._input_geometry = input_geometry\n",
      "C:\\Users\\Achituv\\anaconda3\\envs\\momepy_env\\lib\\site-packages\\centerline\\geometry.py:35: ShapelyDeprecationWarning: Setting custom attributes on geometry objects is deprecated, and will raise an AttributeError in Shapely 2.0\n",
      "  self._interpolation_distance = abs(interpolation_distance)\n",
      "C:\\Users\\Achituv\\anaconda3\\envs\\momepy_env\\lib\\site-packages\\centerline\\geometry.py:40: ShapelyDeprecationWarning: Setting custom attributes on geometry objects is deprecated, and will raise an AttributeError in Shapely 2.0\n",
      "  self._min_x, self._min_y = self._get_reduced_coordinates()\n"
     ]
    }
   ],
   "source": [],
   "metadata": {
    "collapsed": false,
    "pycharm": {
     "name": "#%%\n"
    }
   }
  },
  {
   "cell_type": "code",
   "execution_count": 60,
   "outputs": [
    {
     "name": "stderr",
     "output_type": "stream",
     "text": [
      "C:\\Users\\Achituv\\anaconda3\\envs\\momepy_env\\lib\\site-packages\\centerline\\geometry.py:34: ShapelyDeprecationWarning: Setting custom attributes on geometry objects is deprecated, and will raise an AttributeError in Shapely 2.0\n",
      "  self._input_geometry = input_geometry\n",
      "C:\\Users\\Achituv\\anaconda3\\envs\\momepy_env\\lib\\site-packages\\centerline\\geometry.py:35: ShapelyDeprecationWarning: Setting custom attributes on geometry objects is deprecated, and will raise an AttributeError in Shapely 2.0\n",
      "  self._interpolation_distance = abs(interpolation_distance)\n",
      "C:\\Users\\Achituv\\anaconda3\\envs\\momepy_env\\lib\\site-packages\\centerline\\geometry.py:40: ShapelyDeprecationWarning: Setting custom attributes on geometry objects is deprecated, and will raise an AttributeError in Shapely 2.0\n",
      "  self._min_x, self._min_y = self._get_reduced_coordinates()\n"
     ]
    }
   ],
   "source": [],
   "metadata": {
    "collapsed": false,
    "pycharm": {
     "name": "#%%\n"
    }
   }
  },
  {
   "cell_type": "code",
   "execution_count": 14,
   "outputs": [],
   "source": [
    "res.to_file('test.shp')"
   ],
   "metadata": {
    "collapsed": false,
    "pycharm": {
     "name": "#%%\n"
    }
   }
  },
  {
   "cell_type": "code",
   "execution_count": 9,
   "outputs": [],
   "source": [],
   "metadata": {
    "collapsed": false,
    "pycharm": {
     "name": "#%%\n"
    }
   }
  }
 ],
 "metadata": {
  "kernelspec": {
   "display_name": "Python 3",
   "language": "python",
   "name": "python3"
  },
  "language_info": {
   "codemirror_mode": {
    "name": "ipython",
    "version": 2
   },
   "file_extension": ".py",
   "mimetype": "text/x-python",
   "name": "python",
   "nbconvert_exporter": "python",
   "pygments_lexer": "ipython2",
   "version": "2.7.6"
  }
 },
 "nbformat": 4,
 "nbformat_minor": 0
}