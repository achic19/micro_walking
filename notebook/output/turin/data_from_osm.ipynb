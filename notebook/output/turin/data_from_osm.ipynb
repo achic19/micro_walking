{
 "cells": [
  {
   "cell_type": "code",
   "execution_count": 3,
   "outputs": [],
   "source": [
    "def initiate_path():\n",
    "    path_temp = 'output'\n",
    "    path_round_about_temp = f'{path_temp}/roundabout'\n",
    "    path_network_temp = f'{path_temp}/networks'\n",
    "    return path_temp, path_round_about_temp, path_network_temp"
   ],
   "metadata": {
    "collapsed": false,
    "pycharm": {
     "name": "#%%\n"
    }
   }
  },
  {
   "cell_type": "code",
   "execution_count": 4,
   "outputs": [],
   "source": [
    "import geopandas as gpd\n",
    "import osmnx as ox\n",
    "from geopandas import GeoDataFrame, GeoSeries\n",
    "from osmnx import io\n",
    "\n",
    "path, path_round_about, path_network = initiate_path()\n",
    "project_crs = 'epsg:3857'\n",
    "from sklearn.cluster import DBSCAN\n",
    "from shapely.geometry import Polygon, Point, LineString, MultiPolygon, MultiPoint\n",
    "import math\n",
    "import warnings\n",
    "\n",
    "warnings.filterwarnings(action='ignore')"
   ],
   "metadata": {
    "collapsed": false,
    "pycharm": {
     "name": "#%%\n"
    }
   }
  },
  {
   "cell_type": "markdown",
   "source": [
    "### Run only when download for first time"
   ],
   "metadata": {
    "collapsed": false,
    "pycharm": {
     "name": "#%% md\n"
    }
   }
  },
  {
   "cell_type": "code",
   "execution_count": 2,
   "outputs": [
    {
     "ename": "KeyboardInterrupt",
     "evalue": "",
     "output_type": "error",
     "traceback": [
      "\u001B[1;31m---------------------------------------------------------------------------\u001B[0m",
      "\u001B[1;31mKeyboardInterrupt\u001B[0m                         Traceback (most recent call last)",
      "Cell \u001B[1;32mIn [2], line 2\u001B[0m\n\u001B[0;32m      1\u001B[0m \u001B[38;5;66;03m# Create graph from OSM server and project it\u001B[39;00m\n\u001B[1;32m----> 2\u001B[0m graph \u001B[38;5;241m=\u001B[39m \u001B[43mox\u001B[49m\u001B[38;5;241;43m.\u001B[39;49m\u001B[43mgraph_from_place\u001B[49m\u001B[43m(\u001B[49m\u001B[38;5;124;43m'\u001B[39;49m\u001B[38;5;124;43mTorino\u001B[39;49m\u001B[38;5;124;43m'\u001B[39;49m\u001B[43m,\u001B[49m\u001B[43m \u001B[49m\u001B[43mnetwork_type\u001B[49m\u001B[38;5;241;43m=\u001B[39;49m\u001B[38;5;124;43m'\u001B[39;49m\u001B[38;5;124;43mall\u001B[39;49m\u001B[38;5;124;43m'\u001B[39;49m\u001B[43m)\u001B[49m\n\u001B[0;32m      3\u001B[0m graph  \u001B[38;5;241m=\u001B[39m ox\u001B[38;5;241m.\u001B[39mbearing\u001B[38;5;241m.\u001B[39madd_edge_bearings(graph, precision\u001B[38;5;241m=\u001B[39m\u001B[38;5;241m1\u001B[39m)\n\u001B[0;32m      4\u001B[0m graph_pro \u001B[38;5;241m=\u001B[39m ox\u001B[38;5;241m.\u001B[39mprojection\u001B[38;5;241m.\u001B[39mproject_graph(graph, to_crs\u001B[38;5;241m=\u001B[39mproject_crs)\n",
      "File \u001B[1;32m~\\anaconda3\\envs\\momepy_env\\lib\\site-packages\\osmnx\\graph.py:351\u001B[0m, in \u001B[0;36mgraph_from_place\u001B[1;34m(query, network_type, simplify, retain_all, truncate_by_edge, which_result, buffer_dist, clean_periphery, custom_filter)\u001B[0m\n\u001B[0;32m    348\u001B[0m utils\u001B[38;5;241m.\u001B[39mlog(\u001B[38;5;124m\"\u001B[39m\u001B[38;5;124mConstructed place geometry polygon(s) to query API\u001B[39m\u001B[38;5;124m\"\u001B[39m)\n\u001B[0;32m    350\u001B[0m \u001B[38;5;66;03m# create graph using this polygon(s) geometry\u001B[39;00m\n\u001B[1;32m--> 351\u001B[0m G \u001B[38;5;241m=\u001B[39m \u001B[43mgraph_from_polygon\u001B[49m\u001B[43m(\u001B[49m\n\u001B[0;32m    352\u001B[0m \u001B[43m    \u001B[49m\u001B[43mpolygon\u001B[49m\u001B[43m,\u001B[49m\n\u001B[0;32m    353\u001B[0m \u001B[43m    \u001B[49m\u001B[43mnetwork_type\u001B[49m\u001B[38;5;241;43m=\u001B[39;49m\u001B[43mnetwork_type\u001B[49m\u001B[43m,\u001B[49m\n\u001B[0;32m    354\u001B[0m \u001B[43m    \u001B[49m\u001B[43msimplify\u001B[49m\u001B[38;5;241;43m=\u001B[39;49m\u001B[43msimplify\u001B[49m\u001B[43m,\u001B[49m\n\u001B[0;32m    355\u001B[0m \u001B[43m    \u001B[49m\u001B[43mretain_all\u001B[49m\u001B[38;5;241;43m=\u001B[39;49m\u001B[43mretain_all\u001B[49m\u001B[43m,\u001B[49m\n\u001B[0;32m    356\u001B[0m \u001B[43m    \u001B[49m\u001B[43mtruncate_by_edge\u001B[49m\u001B[38;5;241;43m=\u001B[39;49m\u001B[43mtruncate_by_edge\u001B[49m\u001B[43m,\u001B[49m\n\u001B[0;32m    357\u001B[0m \u001B[43m    \u001B[49m\u001B[43mclean_periphery\u001B[49m\u001B[38;5;241;43m=\u001B[39;49m\u001B[43mclean_periphery\u001B[49m\u001B[43m,\u001B[49m\n\u001B[0;32m    358\u001B[0m \u001B[43m    \u001B[49m\u001B[43mcustom_filter\u001B[49m\u001B[38;5;241;43m=\u001B[39;49m\u001B[43mcustom_filter\u001B[49m\u001B[43m,\u001B[49m\n\u001B[0;32m    359\u001B[0m \u001B[43m\u001B[49m\u001B[43m)\u001B[49m\n\u001B[0;32m    361\u001B[0m utils\u001B[38;5;241m.\u001B[39mlog(\u001B[38;5;124mf\u001B[39m\u001B[38;5;124m\"\u001B[39m\u001B[38;5;124mgraph_from_place returned graph with \u001B[39m\u001B[38;5;132;01m{\u001B[39;00m\u001B[38;5;28mlen\u001B[39m(G)\u001B[38;5;132;01m}\u001B[39;00m\u001B[38;5;124m nodes and \u001B[39m\u001B[38;5;132;01m{\u001B[39;00m\u001B[38;5;28mlen\u001B[39m(G\u001B[38;5;241m.\u001B[39medges)\u001B[38;5;132;01m}\u001B[39;00m\u001B[38;5;124m edges\u001B[39m\u001B[38;5;124m\"\u001B[39m)\n\u001B[0;32m    362\u001B[0m \u001B[38;5;28;01mreturn\u001B[39;00m G\n",
      "File \u001B[1;32m~\\anaconda3\\envs\\momepy_env\\lib\\site-packages\\osmnx\\graph.py:442\u001B[0m, in \u001B[0;36mgraph_from_polygon\u001B[1;34m(polygon, network_type, simplify, retain_all, truncate_by_edge, clean_periphery, custom_filter)\u001B[0m\n\u001B[0;32m    436\u001B[0m G_buff \u001B[38;5;241m=\u001B[39m _create_graph(response_jsons, retain_all\u001B[38;5;241m=\u001B[39m\u001B[38;5;28;01mTrue\u001B[39;00m, bidirectional\u001B[38;5;241m=\u001B[39mbidirectional)\n\u001B[0;32m    438\u001B[0m \u001B[38;5;66;03m# truncate buffered graph to the buffered polygon and retain_all for\u001B[39;00m\n\u001B[0;32m    439\u001B[0m \u001B[38;5;66;03m# now. needed because overpass returns entire ways that also include\u001B[39;00m\n\u001B[0;32m    440\u001B[0m \u001B[38;5;66;03m# nodes outside the poly if the way (that is, a way with a single OSM\u001B[39;00m\n\u001B[0;32m    441\u001B[0m \u001B[38;5;66;03m# ID) has a node inside the poly at some point.\u001B[39;00m\n\u001B[1;32m--> 442\u001B[0m G_buff \u001B[38;5;241m=\u001B[39m \u001B[43mtruncate\u001B[49m\u001B[38;5;241;43m.\u001B[39;49m\u001B[43mtruncate_graph_polygon\u001B[49m\u001B[43m(\u001B[49m\u001B[43mG_buff\u001B[49m\u001B[43m,\u001B[49m\u001B[43m \u001B[49m\u001B[43mpoly_buff\u001B[49m\u001B[43m,\u001B[49m\u001B[43m \u001B[49m\u001B[38;5;28;43;01mTrue\u001B[39;49;00m\u001B[43m,\u001B[49m\u001B[43m \u001B[49m\u001B[43mtruncate_by_edge\u001B[49m\u001B[43m)\u001B[49m\n\u001B[0;32m    444\u001B[0m \u001B[38;5;66;03m# simplify the graph topology\u001B[39;00m\n\u001B[0;32m    445\u001B[0m \u001B[38;5;28;01mif\u001B[39;00m simplify:\n",
      "File \u001B[1;32m~\\anaconda3\\envs\\momepy_env\\lib\\site-packages\\osmnx\\truncate.py:156\u001B[0m, in \u001B[0;36mtruncate_graph_polygon\u001B[1;34m(G, polygon, retain_all, truncate_by_edge, quadrat_width, min_num)\u001B[0m\n\u001B[0;32m    153\u001B[0m utils\u001B[38;5;241m.\u001B[39mlog(\u001B[38;5;124m\"\u001B[39m\u001B[38;5;124mIdentifying all nodes that lie outside the polygon...\u001B[39m\u001B[38;5;124m\"\u001B[39m)\n\u001B[0;32m    155\u001B[0m \u001B[38;5;66;03m# first identify all nodes whose point geometries lie within the polygon\u001B[39;00m\n\u001B[1;32m--> 156\u001B[0m gs_nodes \u001B[38;5;241m=\u001B[39m \u001B[43mutils_graph\u001B[49m\u001B[38;5;241;43m.\u001B[39;49m\u001B[43mgraph_to_gdfs\u001B[49m\u001B[43m(\u001B[49m\u001B[43mG\u001B[49m\u001B[43m,\u001B[49m\u001B[43m \u001B[49m\u001B[43medges\u001B[49m\u001B[38;5;241;43m=\u001B[39;49m\u001B[38;5;28;43;01mFalse\u001B[39;49;00m\u001B[43m)\u001B[49m[[\u001B[38;5;124m\"\u001B[39m\u001B[38;5;124mgeometry\u001B[39m\u001B[38;5;124m\"\u001B[39m]]\n\u001B[0;32m    157\u001B[0m to_keep \u001B[38;5;241m=\u001B[39m utils_geo\u001B[38;5;241m.\u001B[39m_intersect_index_quadrats(gs_nodes, polygon, quadrat_width, min_num)\n\u001B[0;32m    159\u001B[0m \u001B[38;5;28;01mif\u001B[39;00m \u001B[38;5;129;01mnot\u001B[39;00m to_keep:\n\u001B[0;32m    160\u001B[0m     \u001B[38;5;66;03m# no graph nodes within the polygon: can't create a graph from that\u001B[39;00m\n",
      "File \u001B[1;32m~\\anaconda3\\envs\\momepy_env\\lib\\site-packages\\osmnx\\utils_graph.py:54\u001B[0m, in \u001B[0;36mgraph_to_gdfs\u001B[1;34m(G, nodes, edges, node_geometry, fill_edge_geometry)\u001B[0m\n\u001B[0;32m     51\u001B[0m \u001B[38;5;28;01mif\u001B[39;00m node_geometry:\n\u001B[0;32m     52\u001B[0m     \u001B[38;5;66;03m# convert node x/y attributes to Points for geometry column\u001B[39;00m\n\u001B[0;32m     53\u001B[0m     geom \u001B[38;5;241m=\u001B[39m (Point(d[\u001B[38;5;124m\"\u001B[39m\u001B[38;5;124mx\u001B[39m\u001B[38;5;124m\"\u001B[39m], d[\u001B[38;5;124m\"\u001B[39m\u001B[38;5;124my\u001B[39m\u001B[38;5;124m\"\u001B[39m]) \u001B[38;5;28;01mfor\u001B[39;00m d \u001B[38;5;129;01min\u001B[39;00m data)\n\u001B[1;32m---> 54\u001B[0m     gdf_nodes \u001B[38;5;241m=\u001B[39m gpd\u001B[38;5;241m.\u001B[39mGeoDataFrame(data, index\u001B[38;5;241m=\u001B[39mnodes, crs\u001B[38;5;241m=\u001B[39mcrs, geometry\u001B[38;5;241m=\u001B[39m\u001B[38;5;28;43mlist\u001B[39;49m\u001B[43m(\u001B[49m\u001B[43mgeom\u001B[49m\u001B[43m)\u001B[49m)\n\u001B[0;32m     55\u001B[0m \u001B[38;5;28;01melse\u001B[39;00m:\n\u001B[0;32m     56\u001B[0m     gdf_nodes \u001B[38;5;241m=\u001B[39m gpd\u001B[38;5;241m.\u001B[39mGeoDataFrame(data, index\u001B[38;5;241m=\u001B[39mnodes)\n",
      "File \u001B[1;32m~\\anaconda3\\envs\\momepy_env\\lib\\site-packages\\osmnx\\utils_graph.py:53\u001B[0m, in \u001B[0;36m<genexpr>\u001B[1;34m(.0)\u001B[0m\n\u001B[0;32m     49\u001B[0m nodes, data \u001B[38;5;241m=\u001B[39m \u001B[38;5;28mzip\u001B[39m(\u001B[38;5;241m*\u001B[39mG\u001B[38;5;241m.\u001B[39mnodes(data\u001B[38;5;241m=\u001B[39m\u001B[38;5;28;01mTrue\u001B[39;00m))\n\u001B[0;32m     51\u001B[0m \u001B[38;5;28;01mif\u001B[39;00m node_geometry:\n\u001B[0;32m     52\u001B[0m     \u001B[38;5;66;03m# convert node x/y attributes to Points for geometry column\u001B[39;00m\n\u001B[1;32m---> 53\u001B[0m     geom \u001B[38;5;241m=\u001B[39m (\u001B[43mPoint\u001B[49m\u001B[43m(\u001B[49m\u001B[43md\u001B[49m\u001B[43m[\u001B[49m\u001B[38;5;124;43m\"\u001B[39;49m\u001B[38;5;124;43mx\u001B[39;49m\u001B[38;5;124;43m\"\u001B[39;49m\u001B[43m]\u001B[49m\u001B[43m,\u001B[49m\u001B[43m \u001B[49m\u001B[43md\u001B[49m\u001B[43m[\u001B[49m\u001B[38;5;124;43m\"\u001B[39;49m\u001B[38;5;124;43my\u001B[39;49m\u001B[38;5;124;43m\"\u001B[39;49m\u001B[43m]\u001B[49m\u001B[43m)\u001B[49m \u001B[38;5;28;01mfor\u001B[39;00m d \u001B[38;5;129;01min\u001B[39;00m data)\n\u001B[0;32m     54\u001B[0m     gdf_nodes \u001B[38;5;241m=\u001B[39m gpd\u001B[38;5;241m.\u001B[39mGeoDataFrame(data, index\u001B[38;5;241m=\u001B[39mnodes, crs\u001B[38;5;241m=\u001B[39mcrs, geometry\u001B[38;5;241m=\u001B[39m\u001B[38;5;28mlist\u001B[39m(geom))\n\u001B[0;32m     55\u001B[0m \u001B[38;5;28;01melse\u001B[39;00m:\n",
      "File \u001B[1;32m~\\anaconda3\\envs\\momepy_env\\lib\\site-packages\\shapely\\geometry\\point.py:57\u001B[0m, in \u001B[0;36mPoint.__init__\u001B[1;34m(self, *args)\u001B[0m\n\u001B[0;32m     53\u001B[0m     \u001B[38;5;28;01mraise\u001B[39;00m \u001B[38;5;167;01mTypeError\u001B[39;00m(\n\u001B[0;32m     54\u001B[0m         \u001B[38;5;124m\"\u001B[39m\u001B[38;5;124mPoint() takes at most 3 arguments (\u001B[39m\u001B[38;5;132;01m{}\u001B[39;00m\u001B[38;5;124m given)\u001B[39m\u001B[38;5;124m\"\u001B[39m\u001B[38;5;241m.\u001B[39mformat(\u001B[38;5;28mlen\u001B[39m(args))\n\u001B[0;32m     55\u001B[0m     )\n\u001B[0;32m     56\u001B[0m \u001B[38;5;28;01melse\u001B[39;00m:\n\u001B[1;32m---> 57\u001B[0m     geom, n \u001B[38;5;241m=\u001B[39m \u001B[43mgeos_point_from_py\u001B[49m\u001B[43m(\u001B[49m\u001B[38;5;28;43mtuple\u001B[39;49m\u001B[43m(\u001B[49m\u001B[43margs\u001B[49m\u001B[43m)\u001B[49m\u001B[43m)\u001B[49m\n\u001B[0;32m     58\u001B[0m \u001B[38;5;28mself\u001B[39m\u001B[38;5;241m.\u001B[39m_set_geom(geom)\n\u001B[0;32m     59\u001B[0m \u001B[38;5;28mself\u001B[39m\u001B[38;5;241m.\u001B[39m_ndim \u001B[38;5;241m=\u001B[39m n\n",
      "File \u001B[1;32m~\\anaconda3\\envs\\momepy_env\\lib\\site-packages\\shapely\\geometry\\point.py:279\u001B[0m, in \u001B[0;36mgeos_point_from_py\u001B[1;34m(ob, update_geom, update_ndim)\u001B[0m\n\u001B[0;32m    277\u001B[0m \u001B[38;5;66;03m# Because of a bug in the GEOS C API, always set X before Y\u001B[39;00m\n\u001B[0;32m    278\u001B[0m lgeos\u001B[38;5;241m.\u001B[39mGEOSCoordSeq_setX(cs, \u001B[38;5;241m0\u001B[39m, dx)\n\u001B[1;32m--> 279\u001B[0m \u001B[43mlgeos\u001B[49m\u001B[38;5;241;43m.\u001B[39;49m\u001B[43mGEOSCoordSeq_setY\u001B[49m\u001B[43m(\u001B[49m\u001B[43mcs\u001B[49m\u001B[43m,\u001B[49m\u001B[43m \u001B[49m\u001B[38;5;241;43m0\u001B[39;49m\u001B[43m,\u001B[49m\u001B[43m \u001B[49m\u001B[43mdy\u001B[49m\u001B[43m)\u001B[49m\n\u001B[0;32m    280\u001B[0m \u001B[38;5;28;01mif\u001B[39;00m n \u001B[38;5;241m==\u001B[39m \u001B[38;5;241m3\u001B[39m:\n\u001B[0;32m    281\u001B[0m     lgeos\u001B[38;5;241m.\u001B[39mGEOSCoordSeq_setZ(cs, \u001B[38;5;241m0\u001B[39m, dz)\n",
      "\u001B[1;31mKeyboardInterrupt\u001B[0m: "
     ]
    }
   ],
   "source": [
    "# Create graph from OSM server and project it\n",
    "graph = ox.graph_from_place('Torino', network_type='all')\n",
    "graph = ox.bearing.add_edge_bearings(graph, precision=1)\n",
    "graph_pro = ox.projection.project_graph(graph, to_crs=project_crs)\n",
    "io.save_graph_geopackage(graph_pro, filepath='.', encoding='utf-8', directed=False)"
   ],
   "metadata": {
    "collapsed": false,
    "pycharm": {
     "name": "#%%\n"
    }
   }
  },
  {
   "cell_type": "markdown",
   "source": [
    "### End"
   ],
   "metadata": {
    "collapsed": false,
    "pycharm": {
     "name": "#%% md\n"
    }
   }
  },
  {
   "cell_type": "code",
   "execution_count": 4,
   "outputs": [],
   "source": [
    "# delete segments without names\n",
    "my_gdf = gpd.read_file(f'{path}/edges.shp')\n",
    "not_null = my_gdf.dropna(subset='name')\n",
    "not_null.to_file(f'{path}/not_null.shp')\n",
    "# delete segments present any kind of roundabout or tunnel\n",
    "not_roundaout = not_null[~((not_null['junction'] == 'roundabout') | (not_null['junction'] == 'circular') | (\n",
    "            not_null['tunnel'] == 'building_passage') | (not_null['tunnel'] == 'yes') | (\n",
    "                                       not_null['highway'] == 'cycleway') | (not_null['highway'] == 'path'))]\n",
    "round_about = not_null[not_null['junction'].isin(['roundabout', 'circular'])]\n",
    "not_roundaout.to_file(f'{path}/not_roundabout_tunnel.shp')\n",
    "round_about.to_file(f'{path_round_about}/roundabout.shp')\n",
    "# Project dataframe and calculate angle (0 to 180)\n",
    "df_pro = not_roundaout.to_crs(project_crs)\n",
    "df_pro['angle'] = df_pro['bearing'].apply(lambda x: x if x < 180 else x - 180)\n",
    "df_pro['length'] = df_pro.length\n",
    "df_pro.to_file(f'{path}/pro.shp')"
   ],
   "metadata": {
    "collapsed": false,
    "pycharm": {
     "name": "#%%\n"
    }
   }
  },
  {
   "cell_type": "code",
   "execution_count": 4,
   "outputs": [],
   "source": [
    "df_pro = gpd.read_file(f'{path}/pro.shp')"
   ],
   "metadata": {
    "collapsed": false,
    "pycharm": {
     "name": "#%%\n"
    }
   }
  },
  {
   "cell_type": "code",
   "execution_count": 5,
   "outputs": [],
   "source": [
    "def length_of_parallel(my_s_join: GeoDataFrame, the_buffer: GeoSeries, geo_field: str) -> int:\n",
    "    my_s_join['geometry'] = my_s_join[geo_field]\n",
    "    new_data_0 = my_s_join.sjoin(GeoDataFrame(geometry=the_buffer, crs=project_crs), how='inner').reset_index()\n",
    "    if len(new_data_0) == 0:\n",
    "        return 0\n",
    "    return len(new_data_0[new_data_0['index'] != new_data_0['index_right']])"
   ],
   "metadata": {
    "collapsed": false,
    "pycharm": {
     "name": "#%%\n"
    }
   }
  },
  {
   "cell_type": "code",
   "execution_count": 6,
   "outputs": [],
   "source": [
    "def check_parallelism(to_translate: GeoDataFrame, is_test_local: bool = False) -> bool:\n",
    "    my_buffer = to_translate['geometry'].buffer(cap_style=2, distance=30, join_style=3)\n",
    "    to_translate['geometry_right'] = to_translate['geometry'].apply(lambda x: x.parallel_offset(35, 'right'))\n",
    "    to_translate['geometry_left'] = to_translate['geometry'].apply(lambda x: x.parallel_offset(35, 'left'))\n",
    "    # Currently is it not working\n",
    "    if is_test_local:\n",
    "        # to_translate.drop(columns= ['geometry', new_geometry[0]]).rename(columns = {new_geometry[1]: 'geometry'}).to_file(f'{path}/test_data/res_translate_{new_geometry[1]}.shp')\n",
    "        # to_translate.drop(columns= ['geometry', new_geometry[1]]).rename(columns = {new_geometry[0]: 'geometry'}).to_file(f'{path}/test_data/res_translate_{new_geometry[0]}.shp')\n",
    "        my_buffer.to_file(f'{path}/test_data/buffers_test.shp')\n",
    "    if length_of_parallel(to_translate, my_buffer, 'geometry_right') > 0 or length_of_parallel(to_translate, my_buffer,\n",
    "                                                                                               'geometry_left') > 0:\n",
    "        return True\n",
    "    else:\n",
    "        return False"
   ],
   "metadata": {
    "collapsed": false,
    "pycharm": {
     "name": "#%%\n"
    }
   }
  },
  {
   "cell_type": "code",
   "execution_count": 40,
   "outputs": [],
   "source": [
    "def simplify(my_polygon: Polygon, x: (int, float)) -> Polygon:\n",
    "    simplify_poly = my_polygon.simplify(x, preserve_topology=False)\n",
    "    if simplify_poly.area < 50:\n",
    "        simplify_poly = simplify(my_polygon, x / 2)\n",
    "    return simplify_poly"
   ],
   "metadata": {
    "collapsed": false,
    "pycharm": {
     "name": "#%%\n"
    }
   }
  },
  {
   "cell_type": "code",
   "execution_count": 45,
   "outputs": [],
   "source": [
    "def create_center_line(one_poly):\n",
    "    \"\"\"\n",
    "    This method calculate new line between the farthest points of the simplified polygon\n",
    "    :param one_poly:\n",
    "    :return:\n",
    "    \"\"\"\n",
    "\n",
    "    pnt_list = one_poly.exterior.coords[:-1]\n",
    "    list_shp = [Point(item) for item in pnt_list]\n",
    "    dis, dis_2, dis_3 = 0, 0, 0\n",
    "    third_dis = (-1, -1)\n",
    "    # The new line will be determined by the second-farthest points\n",
    "    for k, point in enumerate(list_shp):\n",
    "        j = k\n",
    "        for point2 in list_shp[k + 1:]:\n",
    "            j += 1\n",
    "            temp_dis = point.distance(point2)\n",
    "            if temp_dis > dis:\n",
    "                dis = point.distance(point2)\n",
    "            elif temp_dis > dis_2:\n",
    "                dis_2 = point.distance(point2)\n",
    "            elif temp_dis > dis_3:\n",
    "                third_dis = (k, j)\n",
    "                dis_3 = point.distance(point2)\n",
    "    if is_test:\n",
    "        dic_sim = {'index': [0], 'geometry': one_poly}\n",
    "        GeoDataFrame(dic_sim, crs='epsg:3857').to_file(f'{path}/test_data/simplify_poly_{unit[0]}_{id_pol + 2}.shp')\n",
    "    max_dist['name'].extend([id_pol + 2, id_pol + 2])\n",
    "    max_dist['geometry'].extend([list_shp[third_dis[0]], list_shp[third_dis[1]]])"
   ],
   "metadata": {
    "collapsed": false,
    "pycharm": {
     "name": "#%%\n"
    }
   }
  },
  {
   "cell_type": "code",
   "execution_count": 12,
   "outputs": [],
   "source": [
    "def update_df_with_center_line(new_line):\n",
    "    \"\"\"\n",
    "    update our dictionary with new lines\n",
    "    :param new_line:\n",
    "    :return:\n",
    "    \"\"\"\n",
    "    dic_final['name'].append(name)\n",
    "    # dic_final['geometry'].append(LineString(coordinates=(pnt_list[max_dis[0]], pnt_list[max_dis[1]])))\n",
    "    dic_final['geometry'].append(new_line)\n",
    "    dic_final['highway'].append(data.iloc[0]['highway'])\n",
    "    dic_final['bearing'].append(data['angle'].mean())\n",
    "    dic_final['group'].append(unit[0])\n"
   ],
   "metadata": {
    "collapsed": false,
    "pycharm": {
     "name": "#%%\n"
    }
   }
  },
  {
   "cell_type": "code",
   "execution_count": 13,
   "outputs": [],
   "source": [
    "def update_list(line_local):\n",
    "    \"\"\"\n",
    "    add the first start/end point into the list\n",
    "    :param line_local:\n",
    "    :return:\n",
    "    \"\"\"\n",
    "    list_pnts_of_line_group.extend([Point(line_local.coords[0]), Point(line_local.coords[-1])])\n"
   ],
   "metadata": {
    "collapsed": false,
    "pycharm": {
     "name": "#%%\n"
    }
   }
  },
  {
   "cell_type": "code",
   "execution_count": 14,
   "outputs": [],
   "source": [
    "def add_more_pnts_to_new_lines(pnt_f_loc: Point, pnt_l_loc: Point, line_pnts: list) -> list:\n",
    "    \"\"\"\n",
    "    This method checks if more points should be added to the new lines by checking along the new line if the distance to the old network roads are more than 10 meters\n",
    "    :return:\n",
    "    \"\"\"\n",
    "    # Calculate distance and azimuth between the first and last point\n",
    "    dist = pnt_f_loc.distance(pnt_l_loc)\n",
    "    x_0 = pnt_f_loc.coords[0][0]\n",
    "    y_0 = pnt_f_loc.coords[0][1]\n",
    "    bearing = math.atan2(pnt_l_loc.coords[0][0] - x_0, pnt_l_loc.coords[0][1] - y_0)\n",
    "    bearing = bearing + 2 * math.pi if bearing < 0 else bearing\n",
    "    # Calculate the number of  checks going to carry out\n",
    "    loops = int(dist / 100)\n",
    "\n",
    "    # Calculate  the first point over the line\n",
    "    for dis_on_line in range(1, loops):\n",
    "        x_new = x_0 + 100 * dis_on_line * math.sin(bearing)\n",
    "        y_new = y_0 + 100 * dis_on_line * math.cos(bearing)\n",
    "        # S_joins to all the network lines (same name and group)\n",
    "        # if the distance is less than 10 meters continue, else: find the projection point and add it to the correct location and run the function agein\n",
    "        one_pnt_df = GeoDataFrame(geometry=[Point(x_new, y_new)], crs=project_crs)\n",
    "        s_join_loc = one_pnt_df.sjoin_nearest(data, distance_col='dis').iloc[0]\n",
    "        if s_join_loc['dis'] > 10:\n",
    "            pnt_med = s_join_loc['geometry']\n",
    "            line = data.loc[s_join_loc['index_right']]['geometry']\n",
    "            line_pnts.append(line.interpolate(line.project(pnt_med)))\n",
    "            line_pnts = add_more_pnts_to_new_lines(pnt_med, pnt_l_loc, line_pnts)\n",
    "            return line_pnts\n",
    "    return line_pnts"
   ],
   "metadata": {
    "collapsed": false,
    "pycharm": {
     "name": "#%%\n"
    }
   }
  },
  {
   "cell_type": "code",
   "execution_count": 46,
   "outputs": [
    {
     "name": "stdout",
     "output_type": "stream",
     "text": [
      "0.0\t0.04\t0.08\t0.12\t0.16\t0.2\t0.24\t0.28\t0.32\t0.37\t0.41\t0.45\t0.49\t0.53\t0.57\t0.61\t0.65\t0.69\t0.73\t0.77\t0.81\t0.85\t0.89\t0.93\t0.97\t1.01\t1.06\t1.1\t1.14\t1.18\t1.22\t1.26\t1.3\t1.34\t1.38\t1.42\t1.46\t1.5\t1.54\t1.58\t1.62\t1.66\t1.7\t1.75\t1.79\t1.83\t1.87\t1.91\t1.95\t1.99\t2.03\t2.07\t2.11\t2.15\t2.19\t2.23\t2.27\t2.31\t2.35\t2.39\t2.44\t2.48\t2.52\t2.56\t2.6\t2.64\t2.68\t2.72\t2.76\t2.8\t2.84\t2.88\t2.92\t2.96\t3.0\t3.04\t3.08\t3.12\t3.17\t3.21\t3.25\t3.29\t3.33\t3.37\t3.41\t3.45\t3.49\t3.53\t3.57\t3.61\t3.65\t3.69\t3.73\t3.77\t3.81\t3.86\t3.9\t3.94\t3.98\t4.02\t4.06\t4.1\t4.14\t4.18\t4.22\t4.26\t4.3\t4.34\t4.38\t4.42\t4.46\t4.5\t4.55\t4.59\t4.63\t4.67\t4.71\t4.75\t4.79\t4.83\t4.87\t4.91\t4.95\t4.99\t5.03\t5.07\t5.11\t5.15\t5.19\t5.24\t5.28\t5.32\t5.36\t5.4\t5.44\t5.48\t5.52\t5.56\t5.6\t5.64\t5.68\t5.72\t5.76\t5.8\t5.84\t5.88\t5.93\t5.97\t6.01\t6.05\t6.09\t6.13\t6.17\t6.21\t6.25\t6.29\t6.33\t6.37\t6.41\t6.45\t6.49\t6.53\t6.57\t6.62\t6.66\t6.7\t6.74\t6.78\t6.82\t6.86\t6.9\t6.94\t6.98\t7.02\t7.06\t7.1\t7.14\t7.18\t7.22\t7.26\t7.31\t7.35\t7.39\t7.43\t7.47\t7.51\t7.55\t7.59\t7.63\t7.67\t7.71\t7.75\t7.79\t7.83\t7.87\t7.91\t7.95\t8.0\t8.04\t8.08\t8.12\t8.16\t8.2\t8.24\t8.28\t8.32\t8.36\t8.4\t8.44\t8.48\t8.52\t8.56\t8.6\t8.64\t8.69\t8.73\t8.77\t8.81\t8.85\t8.89\t8.93\t8.97\t9.01\t9.05\t9.09\t9.13\t9.17\t9.21\t9.25\t9.29\t9.33\t9.38\t9.42\t9.46\t9.5\t9.54\t9.58\t9.62\t9.66\t9.7\t9.74\t9.78\t9.82\t9.86\t9.9\t9.94\t9.98\t10.02\t10.06\t10.11\t10.15\t10.19\t10.23\t10.27\t10.31\t10.35\t10.39\t10.43\t10.47\t10.51\t10.55\t10.59\t10.63\t10.67\t10.71\t10.75\t10.8\t10.84\t10.88\t10.92\t10.96\t11.0\t11.04\t11.08\t11.12\t11.16\t11.2\t11.24\t11.28\t11.32\t11.36\t11.4\t11.44\t11.49\t11.53\t11.57\t11.61\t11.65\t11.69\t11.73\t11.77\t11.81\t11.85\t11.89\t11.93\t11.97\t12.01\t12.05\t12.09\t12.13\t12.18\t12.22\t12.26\t12.3\t12.34\t12.38\t12.42\t12.46\t12.5\t12.54\t12.58\t12.62\t12.66\t12.7\t12.74\t12.78\t12.82\t12.87\t12.91\t12.95\t12.99\t13.03\t13.07\t13.11\t13.15\t13.19\t13.23\t13.27\t13.31\t13.35\t13.39\t13.43\t13.47\t13.51\t13.56\t13.6\t13.64\t13.68\t13.72\t13.76\t13.8\t13.84\t13.88\t13.92\t13.96\t14.0\t14.04\t14.08\t14.12\t14.16\t14.2\t14.25\t14.29\t14.33\t14.37\t14.41\t14.45\t14.49\t14.53\t14.57\t14.61\t14.65\t14.69\t14.73\t14.77\t14.81\t14.85\t14.89\t14.94\t14.98\t15.02\t15.06\t15.1\t15.14\t15.18\t15.22\t15.26\t15.3\t15.34\t15.38\t15.42\t15.46\t15.5\t15.54\t15.58\t15.62\t15.67\t15.71\t15.75\t15.79\t15.83\t15.87\t15.91\t15.95\t15.99\t16.03\t16.07\t16.11\t16.15\t16.19\t16.23\t16.27\t16.31\t16.36\t16.4\t16.44\t16.48\t16.52\t16.56\t16.6\t16.64\t16.68\t16.72\t16.76\t16.8\t16.84\t16.88\t16.92\t16.96\t17.0\t17.05\t17.09\t17.13\t17.17\t17.21\t17.25\t17.29\t17.33\t17.37\t17.41\t17.45\t17.49\t17.53\t17.57\t17.61\t17.65\t17.69\t17.74\t17.78\t17.82\t17.86\t17.9\t17.94\t17.98\t18.02\t18.06\t18.1\t18.14\t18.18\t18.22\t18.26\t18.3\t18.34\t18.38\t18.43\t18.47\t18.51\t18.55\t18.59\t18.63\t18.67\t18.71\t18.75\t18.79\t18.83\t18.87\t18.91\t18.95\t18.99\t19.03\t19.07\t19.12\t19.16\t19.2\t19.24\t19.28\t19.32\t19.36\t19.4\t19.44\t19.48\t19.52\t19.56\t19.6\t19.64\t19.68\t19.72\t19.76\t19.81\t19.85\t19.89\t19.93\t19.97\t20.01\t20.05\t20.09\t20.13\t20.17\t20.21\t20.25\t20.29\t20.33\t20.37\t20.41\t20.45\t20.5\t20.54\t20.58\t20.62\t20.66\t20.7\t20.74\t20.78\t20.82\t20.86\t20.9\t20.94\t20.98\t21.02\t21.06\t21.1\t21.14\t21.19\t21.23\t21.27\t21.31\t21.35\t21.39\t21.43\t21.47\t21.51\t21.55\t21.59\t21.63\t21.67\t21.71\t21.75\t21.79\t21.83\t21.88\t21.92\t21.96\t22.0\t22.04\t22.08\t22.12\t22.16\t22.2\t22.24\t22.28\t22.32\t22.36\t22.4\t22.44\t22.48\t22.52\t22.56\t22.61\t22.65\t22.69\t22.73\t22.77\t22.81\t22.85\t22.89\t22.93\t22.97\t23.01\t23.05\t23.09\t23.13\t23.17\t23.21\t23.25\t23.3\t23.34\t23.38\t23.42\t23.46\t23.5\t23.54\t23.58\t23.62\t23.66\t23.7\t23.74\t23.78\t23.82\t23.86\t23.9\t23.94\t23.99\t24.03\t24.07\t24.11\t24.15\t24.19\t24.23\t24.27\t24.31\t24.35\t24.39\t24.43\t24.47\t24.51\t24.55\t24.59\t24.63\t24.68\t24.72\t24.76\t24.8\t24.84\t24.88\t24.92\t24.96\t25.0\t25.04\t25.08\t25.12\t25.16\t25.2\t25.24\t25.28\t25.32\t25.37\t25.41\t25.45\t25.49\t25.53\t25.57\t25.61\t25.65\t25.69\t25.73\t25.77\t25.81\t25.85\t25.89\t25.93\t25.97\t26.01\t26.06\t26.1\t26.14\t26.18\t26.22\t26.26\t26.3\t26.34\t26.38\t26.42\t26.46\t26.5\t26.54\t26.58\t26.62\t26.66\t26.7\t26.75\t26.79\t26.83\t26.87\t26.91\t26.95\t26.99\t27.03\t27.07\t27.11\t27.15\t27.19\t27.23\t27.27\t27.31\t27.35\t27.39\t27.44\t27.48\t27.52\t27.56\t27.6\t27.64\t27.68\t27.72\t27.76\t27.8\t27.84\t27.88\t27.92\t27.96\t28.0\t28.04\t28.08\t28.12\t28.17\t28.21\t28.25\t28.29\t28.33\t28.37\t28.41\t28.45\t28.49\t28.53\t28.57\t28.61\t28.65\t28.69\t28.73\t28.77\t28.81\t28.86\t28.9\t28.94\t28.98\t29.02\t29.06\t29.1\t29.14\t29.18\t29.22\t29.26\t29.3\t29.34\t29.38\t29.42\t29.46\t29.5\t29.55\t29.59\t29.63\t29.67\t29.71\t29.75\t29.79\t29.83\t29.87\t29.91\t29.95\t29.99\t30.03\t30.07\t30.11\t30.15\t30.19\t30.24\t30.28\t30.32\t30.36\t30.4\t30.44\t30.48\t30.52\t30.56\t30.6\t30.64\t30.68\t30.72\t30.76\t30.8\t30.84\t30.88\t30.93\t30.97\t31.01\t31.05\t31.09\t31.13\t31.17\t31.21\t31.25\t31.29\t31.33\t31.37\t31.41\t31.45\t31.49\t31.53\t31.57\t31.62\t31.66\t31.7\t31.74\t31.78\t31.82\t31.86\t31.9\t31.94\t31.98\t32.02\t32.06\t32.1\t32.14\t32.18\t32.22\t32.26\t32.31\t32.35\t32.39\t32.43\t32.47\t32.51\t32.55\t32.59\t32.63\t32.67\t32.71\t32.75\t32.79\t32.83\t32.87\t32.91\t32.95\t33.0\t33.04\t33.08\t33.12\t33.16\t33.2\t33.24\t33.28\t33.32\t33.36\t33.4\t33.44\t33.48\t33.52\t33.56\t33.6\t33.64\t33.69\t33.73\t33.77\t33.81\t33.85\t33.89\t33.93\t33.97\t34.01\t34.05\t34.09\t34.13\t34.17\t34.21\t34.25\t34.29\t34.33\t34.38\t34.42\t34.46\t34.5\t34.54\t34.58\t34.62\t34.66\t34.7\t34.74\t34.78\t34.82\t34.86\t34.9\t34.94\t34.98\t35.02\t35.06\t35.11\t35.15\t35.19\t35.23\t35.27\t35.31\t35.35\t35.39\t35.43\t35.47\t35.51\t35.55\t35.59\t35.63\t35.67\t35.71\t35.75\t35.8\t35.84\t35.88\t35.92\t35.96\t36.0\t36.04\t36.08\t36.12\t36.16\t36.2\t36.24\t36.28\t36.32\t36.36\t36.4\t36.44\t36.49\t36.53\t36.57\t36.61\t36.65\t36.69\t36.73\t36.77\t36.81\t36.85\t36.89\t36.93\t36.97\t37.01\t37.05\t37.09\t37.13\t37.18\t37.22\t37.26\t37.3\t37.34\t37.38\t37.42\t37.46\t37.5\t37.54\t37.58\t37.62\t37.66\t37.7\t37.74\t37.78\t37.82\t37.87\t37.91\t37.95\t37.99\t38.03\t38.07\t38.11\t38.15\t38.19\t38.23\t38.27\t38.31\t38.35\t38.39\t38.43\t38.47\t38.51\t38.56\t38.6\t38.64\t38.68\t38.72\t38.76\t38.8\t38.84\t38.88\t38.92\t38.96\t39.0\t39.04\t39.08\t39.12\t39.16\t39.2\t39.25\t39.29\t39.33\t39.37\t39.41\t39.45\t39.49\t39.53\t39.57\t39.61\t39.65\t39.69\t39.73\t39.77\t39.81\t39.85\t39.89\t39.94\t39.98\t40.02\t40.06\t40.1\t40.14\t40.18\t40.22\t40.26\t40.3\t40.34\t40.38\t40.42\t40.46\t40.5\t40.54\t40.58\t40.62\t40.67\t40.71\t40.75\t40.79\t40.83\t40.87\t40.91\t40.95\t40.99\t41.03\t41.07\t41.11\t41.15\t41.19\t41.23\t41.27\t41.31\t41.36\t41.4\t41.44\t41.48\t41.52\t41.56\t41.6\t41.64\t41.68\t41.72\t41.76\t41.8\t41.84\t41.88\t41.92\t41.96\t42.0\t42.05\t42.09\t42.13\t42.17\t42.21\t42.25\t42.29\t42.33\t42.37\t42.41\t42.45\t42.49\t42.53\t42.57\t42.61\t42.65\t42.69\t42.74\t42.78\t42.82\t42.86\t42.9\t42.94\t42.98\t43.02\t43.06\t43.1\t43.14\t43.18\t43.22\t43.26\t43.3\t43.34\t43.38\t43.43\t43.47\t43.51\t43.55\t43.59\t43.63\t43.67\t43.71\t43.75\t43.79\t43.83\t43.87\t43.91\t43.95\t43.99\t44.03\t44.07\t44.12\t44.16\t44.2\t44.24\t44.28\t44.32\t44.36\t44.4\t44.44\t44.48\t44.52\t44.56\t44.6\t44.64\t44.68\t44.72\t44.76\t44.81\t44.85\t44.89\t44.93\t44.97\t45.01\t45.05\t45.09\t45.13\t45.17\t45.21\t45.25\t45.29\t45.33\t45.37\t45.41\t45.45\t45.5\t45.54\t45.58\t45.62\t45.66\t45.7\t45.74\t45.78\t45.82\t45.86\t45.9\t45.94\t45.98\t46.02\t46.06\t46.1\t46.14\t46.19\t46.23\t46.27\t46.31\t46.35\t46.39\t46.43\t46.47\t46.51\t46.55\t46.59\t46.63\t46.67\t46.71\t46.75\t46.79\t46.83\t46.88\t46.92\t46.96\t47.0\t47.04\t47.08\t47.12\t47.16\t47.2\t47.24\t47.28\t47.32\t47.36\t47.4\t47.44\t47.48\t47.52\t47.56\t47.61\t47.65\t47.69\t47.73\t47.77\t47.81\t47.85\t47.89\t47.93\t47.97\t48.01\t48.05\t48.09\t48.13\t48.17\t48.21\t48.25\t48.3\t48.34\t48.38\t48.42\t48.46\t48.5\t48.54\t48.58\t48.62\t48.66\t48.7\t48.74\t48.78\t48.82\t48.86\t48.9\t48.94\t48.99\t49.03\t49.07\t49.11\t49.15\t49.19\t49.23\t49.27\t49.31\t49.35\t49.39\t49.43\t49.47\t49.51\t49.55\t49.59\t49.63\t49.68\t49.72\t49.76\t49.8\t49.84\t49.88\t49.92\t49.96\t50.0\t50.04\t50.08\t50.12\t50.16\t50.2\t50.24\t50.28\t50.32\t50.37\t50.41\t50.45\t50.49\t50.53\t50.57\t50.61\t50.65\t50.69\t50.73\t50.77\t50.81\t50.85\t50.89\t50.93\t50.97\t51.01\t51.06\t51.1\t51.14\t51.18\t51.22\t51.26\t51.3\t51.34\t51.38\t51.42\t51.46\t51.5\t51.54\t51.58\t51.62\t51.66\t51.7\t51.75\t51.79\t51.83\t51.87\t51.91\t51.95\t51.99\t52.03\t52.07\t52.11\t52.15\t52.19\t52.23\t52.27\t52.31\t52.35\t52.39\t52.44\t52.48\t52.52\t52.56\t52.6\t52.64\t52.68\t52.72\t52.76\t52.8\t52.84\t52.88\t52.92\t52.96\t53.0\t53.04\t53.08\t53.12\t53.17\t53.21\t53.25\t53.29\t53.33\t53.37\t53.41\t53.45\t53.49\t53.53\t53.57\t53.61\t53.65\t53.69\t53.73\t53.77\t53.81\t53.86\t53.9\t53.94\t53.98\t54.02\t54.06\t54.1\t54.14\t54.18\t54.22\t54.26\t54.3\t54.34\t54.38\t54.42\t54.46\t54.5\t54.55\t54.59\t54.63\t54.67\t54.71\t54.75\t54.79\t54.83\t54.87\t54.91\t54.95\t54.99\t55.03\t55.07\t55.11\t55.15\t55.19\t55.24\t55.28\t55.32\t55.36\t55.4\t55.44\t55.48\t55.52\t55.56\t55.6\t55.64\t55.68\t55.72\t55.76\t55.8\t55.84\t55.88\t55.93\t55.97\t56.01\t56.05\t56.09\t56.13\t56.17\t56.21\t56.25\t56.29\t56.33\t56.37\t56.41\t56.45\t56.49\t56.53\t56.57\t56.62\t56.66\t56.7\t56.74\t56.78\t56.82\t56.86\t56.9\t56.94\t56.98\t57.02\t57.06\t57.1\t57.14\t57.18\t57.22\t57.26\t57.31\t57.35\t57.39\t57.43\t57.47\t57.51\t57.55\t57.59\t57.63\t57.67\t57.71\t57.75\t57.79\t57.83\t57.87\t57.91\t57.95\t58.0\t58.04\t58.08\t58.12\t58.16\t58.2\t58.24\t58.28\t58.32\t58.36\t58.4\t58.44\t58.48\t58.52\t58.56\t58.6\t58.64\t58.69\t58.73\t58.77\t58.81\t58.85\t58.89\t58.93\t58.97\t59.01\t59.05\t59.09\t59.13\t59.17\t59.21\t59.25\t59.29\t59.33\t59.38\t59.42\t59.46\t59.5\t59.54\t59.58\t59.62\t59.66\t59.7\t59.74\t59.78\t59.82\t59.86\t59.9\t59.94\t59.98\t60.02\t60.06\t60.11\t60.15\t60.19\t60.23\t60.27\t60.31\t60.35\t60.39\t60.43\t60.47\t60.51\t60.55\t60.59\t60.63\t60.67\t60.71\t60.75\t60.8\t60.84\t60.88\t60.92\t60.96\t61.0\t61.04\t61.08\t61.12\t61.16\t61.2\t61.24\t61.28\t61.32\t61.36\t61.4\t61.44\t61.49\t61.53\t61.57\t61.61\t61.65\t61.69\t61.73\t61.77\t61.81\t61.85\t61.89\t61.93\t61.97\t62.01\t62.05\t62.09\t62.13\t62.18\t62.22\t62.26\t62.3\t62.34\t62.38\t62.42\t62.46\t62.5\t62.54\t62.58\t62.62\t62.66\t62.7\t62.74\t62.78\t62.82\t62.87\t62.91\t62.95\t62.99\t63.03\t63.07\t63.11\t63.15\t63.19\t63.23\t63.27\t63.31\t63.35\t63.39\t63.43\t63.47\t63.51\t63.56\t63.6\t63.64\t63.68\t63.72\t63.76\t63.8\t63.84\t63.88\t63.92\t63.96\t64.0\t64.04\t64.08\t64.12\t64.16\t64.2\t64.25\t64.29\t64.33\t64.37\t64.41\t64.45\t64.49\t64.53\t64.57\t64.61\t64.65\t64.69\t64.73\t64.77\t64.81\t64.85\t64.89\t64.94\t64.98\t65.02\t65.06\t65.1\t65.14\t65.18\t65.22\t65.26\t65.3\t65.34\t65.38\t65.42\t65.46\t65.5\t65.54\t65.58\t65.62\t65.67\t65.71\t65.75\t65.79\t65.83\t65.87\t65.91\t65.95\t65.99\t66.03\t66.07\t66.11\t66.15\t66.19\t66.23\t66.27\t66.31\t66.36\t66.4\t66.44\t66.48\t66.52\t66.56\t66.6\t66.64\t66.68\t66.72\t66.76\t66.8\t66.84\t66.88\t66.92\t66.96\t67.0\t67.05\t67.09\t67.13\t67.17\t67.21\t67.25\t67.29\t67.33\t67.37\t67.41\t67.45\t67.49\t67.53\t67.57\t67.61\t67.65\t67.69\t67.74\t67.78\t67.82\t67.86\t67.9\t67.94\t67.98\t68.02\t68.06\t68.1\t68.14\t68.18\t68.22\t68.26\t68.3\t68.34\t68.38\t68.43\t68.47\t68.51\t68.55\t68.59\t68.63\t68.67\t68.71\t68.75\t68.79\t68.83\t68.87\t68.91\t68.95\t68.99\t69.03\t69.07\t69.12\t69.16\t69.2\t69.24\t69.28\t69.32\t69.36\t69.4\t69.44\t69.48\t69.52\t69.56\t69.6\t69.64\t69.68\t69.72\t69.76\t69.81\t69.85\t69.89\t69.93\t69.97\t70.01\t70.05\t70.09\t70.13\t70.17\t70.21\t70.25\t70.29\t70.33\t70.37\t70.41\t70.45\t70.5\t70.54\t70.58\t70.62\t70.66\t70.7\t70.74\t70.78\t70.82\t70.86\t70.9\t70.94\t70.98\t71.02\t71.06\t71.1\t71.14\t71.19\t71.23\t71.27\t71.31\t71.35\t71.39\t71.43\t71.47\t71.51\t71.55\t71.59\t71.63\t71.67\t71.71\t71.75\t71.79\t71.83\t71.88\t71.92\t71.96\t72.0\t72.04\t72.08\t72.12\t72.16\t72.2\t72.24\t72.28\t72.32\t72.36\t72.4\t72.44\t72.48\t72.52\t72.56\t72.61\t72.65\t72.69\t72.73\t72.77\t72.81\t72.85\t72.89\t72.93\t72.97\t73.01\t73.05\t73.09\t73.13\t73.17\t73.21\t73.25\t73.3\t73.34\t73.38\t73.42\t73.46\t73.5\t73.54\t73.58\t73.62\t73.66\t73.7\t73.74\t73.78\t73.82\t73.86\t73.9\t73.94\t73.99\t74.03\t74.07\t74.11\t74.15\t74.19\t74.23\t74.27\t74.31\t74.35\t74.39\t74.43\t74.47\t74.51\t74.55\t74.59\t74.63\t74.68\t74.72\t74.76\t74.8\t74.84\t74.88\t74.92\t74.96\t75.0\t75.04\t75.08\t75.12\t75.16\t75.2\t75.24\t75.28\t75.32\t75.37\t75.41\t75.45\t75.49\t75.53\t75.57\t75.61\t75.65\t75.69\t75.73\t75.77\t75.81\t75.85\t75.89\t75.93\t75.97\t76.01\t76.06\t76.1\t76.14\t76.18\t76.22\t76.26\t76.3\t76.34\t76.38\t76.42\t76.46\t76.5\t76.54\t76.58\t76.62\t76.66\t76.7\t76.75\t76.79\t76.83\t76.87\t76.91\t76.95\t76.99\t77.03\t77.07\t77.11\t77.15\t77.19\t77.23\t77.27\t77.31\t77.35\t77.39\t77.44\t77.48\t77.52\t77.56\t77.6\t77.64\t77.68\t77.72\t77.76\t77.8\t77.84\t77.88\t77.92\t77.96\t78.0\t78.04\t78.08\t78.12\t78.17\t78.21\t78.25\t78.29\t78.33\t78.37\t78.41\t78.45\t78.49\t78.53\t78.57\t78.61\t78.65\t78.69\t78.73\t78.77\t78.81\t78.86\t78.9\t78.94\t78.98\t79.02\t79.06\t79.1\t79.14\t79.18\t79.22\t79.26\t79.3\t79.34\t79.38\t79.42\t79.46\t79.5\t79.55\t79.59\t79.63\t79.67\t79.71\t79.75\t79.79\t79.83\t79.87\t79.91\t79.95\t79.99\t80.03\t80.07\t80.11\t80.15\t80.19\t80.24\t80.28\t80.32\t80.36\t80.4\t80.44\t80.48\t80.52\t80.56\t80.6\t80.64\t80.68\t80.72\t80.76\t80.8\t80.84\t80.88\t80.93\t80.97\t81.01\t81.05\t81.09\t81.13\t81.17\t81.21\t81.25\t81.29\t81.33\t81.37\t81.41\t81.45\t81.49\t81.53\t81.57\t81.62\t81.66\t81.7\t81.74\t81.78\t81.82\t81.86\t81.9\t81.94\t81.98\t82.02\t82.06\t82.1\t82.14\t82.18\t82.22\t82.26\t82.31\t82.35\t82.39\t82.43\t82.47\t82.51\t82.55\t82.59\t82.63\t82.67\t82.71\t82.75\t82.79\t82.83\t82.87\t82.91\t82.95\t83.0\t83.04\t83.08\t83.12\t83.16\t83.2\t83.24\t83.28\t83.32\t83.36\t83.4\t83.44\t83.48\t83.52\t83.56\t83.6\t83.64\t83.69\t83.73\t83.77\t83.81\t83.85\t83.89\t83.93\t83.97\t84.01\t84.05\t84.09\t84.13\t84.17\t84.21\t84.25\t84.29\t84.33\t84.38\t84.42\t84.46\t84.5\t84.54\t84.58\t84.62\t84.66\t84.7\t84.74\t84.78\t84.82\t84.86\t84.9\t84.94\t84.98\t85.02\t85.06\t85.11\t85.15\t85.19\t85.23\t85.27\t85.31\t85.35\t85.39\t85.43\t85.47\t85.51\t85.55\t85.59\t85.63\t85.67\t85.71\t85.75\t85.8\t85.84\t85.88\t85.92\t85.96\t86.0\t86.04\t86.08\t86.12\t86.16\t86.2\t86.24\t86.28\t86.32\t86.36\t86.4\t86.44\t86.49\t86.53\t86.57\t86.61\t86.65\t86.69\t86.73\t86.77\t86.81\t86.85\t86.89\t86.93\t86.97\t87.01\t87.05\t87.09\t87.13\t87.18\t87.22\t87.26\t87.3\t87.34\t87.38\t87.42\t87.46\t87.5\t87.54\t87.58\t87.62\t87.66\t87.7\t87.74\t87.78\t87.82\t87.87\t87.91\t87.95\t87.99\t88.03\t88.07\t88.11\t88.15\t88.19\t88.23\t88.27\t88.31\t88.35\t88.39\t88.43\t88.47\t88.51\t88.56\t88.6\t88.64\t88.68\t88.72\t88.76\t88.8\t88.84\t88.88\t88.92\t88.96\t89.0\t89.04\t89.08\t89.12\t89.16\t89.2\t89.25\t89.29\t89.33\t89.37\t89.41\t89.45\t89.49\t89.53\t89.57\t89.61\t89.65\t89.69\t89.73\t89.77\t89.81\t89.85\t89.89\t89.94\t89.98\t90.02\t90.06\t90.1\t90.14\t90.18\t90.22\t90.26\t90.3\t90.34\t90.38\t90.42\t90.46\t90.5\t90.54\t90.58\t90.62\t90.67\t90.71\t90.75\t90.79\t90.83\t90.87\t90.91\t90.95\t90.99\t91.03\t91.07\t91.11\t91.15\t91.19\t91.23\t91.27\t91.31\t91.36\t91.4\t91.44\t91.48\t91.52\t91.56\t91.6\t91.64\t91.68\t91.72\t91.76\t91.8\t91.84\t91.88\t91.92\t91.96\t92.0\t92.05\t92.09\t92.13\t92.17\t92.21\t92.25\t92.29\t92.33\t92.37\t92.41\t92.45\t92.49\t92.53\t92.57\t92.61\t92.65\t92.69\t92.74\t92.78\t92.82\t92.86\t92.9\t92.94\t92.98\t93.02\t93.06\t93.1\t93.14\t93.18\t93.22\t93.26\t93.3\t93.34\t93.38\t93.43\t93.47\t93.51\t93.55\t93.59\t93.63\t93.67\t93.71\t93.75\t93.79\t93.83\t93.87\t93.91\t93.95\t93.99\t94.03\t94.07\t94.12\t94.16\t94.2\t94.24\t94.28\t94.32\t94.36\t94.4\t94.44\t94.48\t94.52\t94.56\t94.6\t94.64\t94.68\t94.72\t94.76\t94.81\t94.85\t94.89\t94.93\t94.97\t95.01\t95.05\t95.09\t95.13\t95.17\t95.21\t95.25\t95.29\t95.33\t95.37\t95.41\t95.45\t95.5\t95.54\t95.58\t95.62\t95.66\t95.7\t95.74\t95.78\t95.82\t95.86\t95.9\t95.94\t95.98\t96.02\t96.06\t96.1\t96.14\t96.19\t96.23\t96.27\t96.31\t96.35\t96.39\t96.43\t96.47\t96.51\t96.55\t96.59\t96.63\t96.67\t96.71\t96.75\t96.79\t96.83\t96.88\t96.92\t96.96\t97.0\t97.04\t97.08\t97.12\t97.16\t97.2\t97.24\t97.28\t97.32\t97.36\t97.4\t97.44\t97.48\t97.52\t97.56\t97.61\t97.65\t97.69\t97.73\t97.77\t97.81\t97.85\t97.89\t97.93\t97.97\t98.01\t98.05\t98.09\t98.13\t98.17\t98.21\t98.25\t98.3\t98.34\t98.38\t98.42\t98.46\t98.5\t98.54\t98.58\t98.62\t98.66\t98.7\t98.74\t98.78\t98.82\t98.86\t98.9\t98.94\t98.99\t99.03\t99.07\t99.11\t99.15\t99.19\t99.23\t99.27\t99.31\t99.35\t99.39\t99.43\t99.47\t99.51\t99.55\t99.59\t99.63\t99.68\t99.72\t99.76\t99.8\t99.84\t99.88\t99.92\t99.96\tcreate new files\n"
     ]
    }
   ],
   "source": [
    "# Main point to start\n",
    "\n",
    "is_test = False\n",
    "my_groupby = df_pro.groupby('name')\n",
    "dic_final = {'name': [], 'geometry': [], 'highway': [], 'bearing': [], 'group': []}\n",
    "\n",
    "for_time = len(my_groupby)\n",
    "for i, street in enumerate(my_groupby):\n",
    "    # Calculate time to run\n",
    "    print(f'{round(i / for_time * 100, 2)}\\t', end=\"\")\n",
    "    res = street[1]\n",
    "    name = street[0]\n",
    "    if is_test:\n",
    "        name = 'Corso Giovanni Agnelli'\n",
    "        res = my_groupby.get_group(name)\n",
    "    # groupby angle\n",
    "    res = res.dropna(subset=['angle'], axis=0)\n",
    "    if len(res) == 0:\n",
    "        continue\n",
    "    res['group'] = DBSCAN(eps=5, min_samples=2).fit(res['angle'].to_numpy().reshape(-1, 1)).labels_\n",
    "    cur_group = res[res['group'] > -1].groupby('group')\n",
    "    is_parallel = False\n",
    "    for group in cur_group:\n",
    "        data = group[1]\n",
    "        if check_parallelism(data):\n",
    "            # if among of lines with same angles some are parallel,find the center line for each group\n",
    "            is_parallel = True\n",
    "            for unit in cur_group:\n",
    "                data = unit[1]\n",
    "\n",
    "                # new points DataFrame of start/end line of each group\n",
    "                list_pnts_of_line_group = []\n",
    "                data['geometry'].apply(update_list)\n",
    "                df_pnts = GeoDataFrame(geometry=list_pnts_of_line_group, crs='epsg:3857').drop_duplicates()\n",
    "\n",
    "                # unify lines to one polygon\n",
    "                buffers = data.buffer(cap_style=3, distance=30, join_style=3)\n",
    "                one_buffer = buffers.unary_union\n",
    "\n",
    "                max_dist = {'name': [], 'geometry': []}\n",
    "                # simplify polygon with simplify function. If one_buffer is multipolygon object simplify each one them separately\n",
    "                if isinstance(one_buffer, MultiPolygon):\n",
    "                    for id_pol, polygon in enumerate(one_buffer):\n",
    "                        create_center_line(polygon)\n",
    "                else:\n",
    "                    id_pol = -1\n",
    "                    create_center_line(one_buffer)\n",
    "                max_df = GeoDataFrame(max_dist, crs='epsg:3857')\n",
    "                # find for each points the closet point from the oribinal data. the closet points will create the new line\n",
    "                s_join = max_df.sjoin_nearest(df_pnts).groupby('name')\n",
    "                for geo in s_join:\n",
    "                    same_name = geo[1]\n",
    "                    if same_name.iloc[0]['index_right'] == same_name.iloc[1]['index_right']:\n",
    "                        continue\n",
    "                    in_0 = same_name.iloc[0]['index_right']\n",
    "                    in_1 = same_name.iloc[1]['index_right']\n",
    "                    # These points will be served to be initial reference in order to find more points\n",
    "                    pnt_f = df_pnts.loc[in_0]['geometry']\n",
    "                    pnt_l = df_pnts.loc[in_1]['geometry']\n",
    "                    lines_pnt_geo = add_more_pnts_to_new_lines(pnt_f, pnt_l, [pnt_f])\n",
    "                    lines_pnt_geo.append(pnt_l)\n",
    "                    # Updata dic_final\n",
    "                    update_df_with_center_line(LineString(lines_pnt_geo))\n",
    "                    # dic_final['geometry'].append(LineString(lines_pnt_geo))\n",
    "                    # new_lines['name'].append(geo[0])\n",
    "                if is_test:\n",
    "                    buffers.to_file(f'{path}/test_data/buffers_{unit[0]}.shp')\n",
    "                    # dic_one = {'index':[0],'geometry':one_buffer.geoms}\n",
    "                    # GeoDataFrame(dic_one,crs='epsg:3857').to_file(f'{path}/test_data/one_buffer_{unit[0]}.shp')\n",
    "        # if one group is found as parallel all the groups are calculated as parallel so we don't need to check_parallelism\n",
    "        if is_parallel:\n",
    "            break\n",
    "    # # טסט\n",
    "    if is_test:\n",
    "        final = GeoDataFrame(dic_final, crs=project_crs)\n",
    "        final = final[final.length > 20]\n",
    "        final.to_file(f'{path}/test_data/one_line.shp')\n",
    "        res.to_file(f'{path}/test_data/groups.shp')\n",
    "        break\n",
    "\n",
    "if not is_test:\n",
    "    print('create new files')\n",
    "    # remove short lines\n",
    "    final_cols = ['name', 'geometry', 'highway', 'bearing', 'length']\n",
    "    final = GeoDataFrame(dic_final, crs=project_crs)\n",
    "    final['is_simplify'] = 1\n",
    "    final['length'] = final.length\n",
    "    final = final[final.length > 100]\n",
    "    final.to_file(f'{path}/one_line_third.shp')\n",
    "    # create network\n",
    "    new_network = df_pro[~df_pro['name'].isin(dic_final['name'])][final_cols]\n",
    "    new_network['is_simplify'] = 0\n",
    "    new_network.append(final).to_file(f'{path_network}/new_network_third.shp')"
   ],
   "metadata": {
    "collapsed": false,
    "pycharm": {
     "name": "#%%\n"
    }
   }
  },
  {
   "cell_type": "markdown",
   "source": [
    "1. Delete false intersection\n",
    "2. Split in intersection\n",
    "3. Remove short\n",
    "4. Roundabout\n",
    "5. Extend\n",
    "6. Split in intersection\n",
    "7. Remove short\n",
    "8. Update roundabout\n",
    "9. consolidate intersections\n"
   ],
   "metadata": {
    "collapsed": false,
    "pycharm": {
     "name": "#%% md\n"
    }
   }
  },
  {
   "cell_type": "code",
   "execution_count": 6,
   "outputs": [],
   "source": [
    "# Fix topology\n",
    "from momepy import remove_false_nodes,extend_lines\n",
    "cur_path = f'{path}/rearrange'"
   ],
   "metadata": {
    "collapsed": false,
    "pycharm": {
     "name": "#%%\n"
    }
   }
  },
  {
   "cell_type": "markdown",
   "source": [
    "Delete false intersection"
   ],
   "metadata": {
    "collapsed": false,
    "pycharm": {
     "name": "#%% md\n"
    }
   }
  },
  {
   "cell_type": "code",
   "execution_count": 39,
   "outputs": [],
   "source": [
    "new_gpd = gpd.read_file(f'{path_network}/new_network_third.shp')\n",
    "\n",
    "# First clean all the false node\n",
    "remove_false_f= remove_false_nodes(new_gpd)\n",
    "# the previous function has changed the topology so the length should be updated\n",
    "remove_false_f['length'] =remove_false_f.length\n",
    "remove_false_f.to_file(f'{cur_path}/remove_false_nodes.shp')"
   ],
   "metadata": {
    "collapsed": false,
    "pycharm": {
     "name": "#%%\n"
    }
   }
  },
  {
   "cell_type": "markdown",
   "source": [
    "Split in intersection"
   ],
   "metadata": {
    "collapsed": false,
    "pycharm": {
     "name": "#%% md\n"
    }
   }
  },
  {
   "cell_type": "code",
   "execution_count": 61,
   "outputs": [],
   "source": [
    "def find_intersection_points(row):\n",
    "    r\"\"\"\n",
    "    find the intersection points between the two lines\n",
    "    :param row:\n",
    "    :return:\n",
    "    \"\"\"\n",
    "    try:\n",
    "        line_1 = remove_false_f.loc[row['FID']]\n",
    "        line_2 =  remove_false_f.loc[row['index_right']]\n",
    "        pnt = line_1.geometry.intersection(line_2.geometry)\n",
    "        # If there are more than one intersection between two lines, one of the lines should be deleted.\n",
    "        if isinstance(pnt,MultiPoint):\n",
    "            temp_line= line_1.name if line_1.length< line_2.length else line_2.name\n",
    "            if temp_line not in lines_to_delete:\n",
    "                lines_to_delete.append(temp_line)\n",
    "            return\n",
    "        # If it is first or end continue OR if there is no intersection between the two lines\n",
    "        if len(pnt.coords)==0 or pnt.coords[0]==line_1.geometry.coords[0] or pnt.coords[0]==line_1.geometry.coords[-1]:\n",
    "            return\n",
    "        inter_pnt_dic['geometry'].append(pnt)\n",
    "        inter_pnt_dic['name'].append(row['FID'])\n",
    "    except:\n",
    "        print(f\"{row['FID']},{row['index_right']}:{pnt}\")\n"
   ],
   "metadata": {
    "collapsed": false,
    "pycharm": {
     "name": "#%%\n"
    }
   }
  },
  {
   "cell_type": "code",
   "execution_count": 24,
   "outputs": [],
   "source": [
    "# Create buffer around each element\n",
    "buffer_around_lines= remove_false_f['geometry'].buffer(cap_style=3, distance=1, join_style=3)\n",
    "buffer_around_lines.to_file(f'{cur_path}/buffer.shp')\n",
    "\n",
    "# s_join between buffer to lines\n",
    "s_join_0 =gpd.sjoin(left_df=buffer_around_lines,right_df=remove_false_f)\n",
    "\n",
    "# delete lines belong to the buffer\n",
    "s_join = s_join_0[s_join_0['FID']!=s_join_0['index_right']]\n",
    "s_join.to_file(f'{cur_path}/s_join.shp')\n",
    "\n",
    "# Find new intersections that are not at the beginning or end of the line\n",
    "lines_to_delete =[]\n",
    "inter_pnt_dic = {'geometry':[],'name':[]}\n",
    "s_join.apply(find_intersection_points, axis=1)\n",
    "inter_pnt_gdf = GeoDataFrame(inter_pnt_dic,crs=project_crs)\n",
    "inter_pnt_gdf.to_file(f'{cur_path}/inter_pnt.shp')\n",
    "\n"
   ],
   "metadata": {
    "collapsed": false,
    "pycharm": {
     "name": "#%%\n"
    }
   }
  },
  {
   "cell_type": "code",
   "execution_count": null,
   "outputs": [],
   "source": [
    "# Split string line by points\n",
    "segments = {'geometry':[],'org_id':[]}\n",
    "# Groupby points name (which is the line they should split)\n",
    "for group_pnts in inter_pnt_gdf.groupby('name'):\n",
    "    points  = group_pnts[1]\n",
    "    points['is_split'] = True\n",
    "\n",
    "    # get the line to split by comparing the name\n",
    "    row = remove_false_f.loc[group_pnts[0]]\n",
    "    current = list(row.geometry.coords)\n",
    "    points_line = [Point(x) for x in current]\n",
    "    points_line_gdf = GeoDataFrame(geometry=points_line,crs=project_crs)\n",
    "    points_line_gdf['is_split'] = False\n",
    "\n",
    "    # append all the points together (line points and split points)\n",
    "    line_all_pnts = points_line_gdf.append(points)\n",
    "\n",
    "    # Find the distance of each point form the begining of the line on the line.\n",
    "    line_all_pnts['dis_from_the_start'] = line_all_pnts['geometry'].apply(lambda x:row.geometry.project(x))\n",
    "    line_all_pnts.sort_values('dis_from_the_start',inplace=True)\n",
    "\n",
    "    # split the line\n",
    "    seg =[]\n",
    "    for point in line_all_pnts.iterrows():\n",
    "        prop = point[1]\n",
    "        seg.append(prop['geometry'])\n",
    "        if prop['is_split']:\n",
    "            segments['geometry'].append(LineString(seg))\n",
    "            segments['org_id'].append(row.name)\n",
    "            seg = [prop['geometry']]\n",
    "    segments['geometry'].append(LineString(seg))\n",
    "    segments['org_id'].append(row.name)\n",
    "network_split = GeoDataFrame(data=segments,crs=project_crs)\n",
    "cols_no_geometry = remove_false_f.columns[:-1]\n",
    "network_split_final = network_split.set_index('org_id')\n",
    "network_split_final[cols_no_geometry] =remove_false_f[cols_no_geometry]\n",
    "network_split_final.to_file(f'{cur_path}/only_split.shp')\n",
    "# remove old and redundant line from our network and update with new one\n",
    "network_split = remove_false_f.drop(index=network_split_final.index.unique()).append(network_split_final).drop(index= lines_to_delete)"
   ],
   "metadata": {
    "collapsed": false,
    "pycharm": {
     "name": "#%%\n"
    }
   }
  },
  {
   "cell_type": "code",
   "execution_count": 220,
   "outputs": [],
   "source": [
    "network_split['length'] = network_split.length\n",
    "network_split.to_file(f'{cur_path}/split.shp')"
   ],
   "metadata": {
    "collapsed": false,
    "pycharm": {
     "name": "#%%\n"
    }
   }
  },
  {
   "cell_type": "code",
   "execution_count": 20,
   "outputs": [],
   "source": [
    "# This is not part of the process. It allows us to start at the middle\n",
    "buffer_around_lines  =gpd.read_file(f'{cur_path}/buffer.shp')\n",
    "remove_false_f =gpd.read_file(f'{cur_path}/remove_false_nodes.shp')\n",
    "s_join =gpd.read_file(f'{cur_path}/s_join.shp')\n",
    "s_join.rename(columns = {'index_righ':'index_right'}, inplace = True)\n",
    "network_split =  gpd.read_file(f'{cur_path}/split.shp')"
   ],
   "metadata": {
    "collapsed": false,
    "pycharm": {
     "name": "#%%\n"
    }
   }
  },
  {
   "cell_type": "markdown",
   "source": [
    "Roundabout"
   ],
   "metadata": {
    "collapsed": false,
    "pycharm": {
     "name": "#%% md\n"
    }
   }
  },
  {
   "cell_type": "code",
   "execution_count": 21,
   "outputs": [],
   "source": [
    "# Find the center of each roundabout\n",
    "# create polygon around each polygon and union\n",
    "round_about = gpd.read_file(f'{path_round_about}/roundabout.shp')\n",
    "round_about_buffer = round_about.to_crs(project_crs)['geometry'].buffer(cap_style=1, distance=10,\n",
    "                                                                        join_style=1).unary_union\n",
    "dic_data = {'name': [], 'geometry': []}\n",
    "for ii, xx in enumerate(round_about_buffer):\n",
    "    dic_data['name'].append(ii)\n",
    "    dic_data['geometry'].append(xx.centroid)\n",
    "GeoDataFrame(dic_data, crs=project_crs).to_file(f'{path_round_about}/centroid.shp')\n",
    "# GeoDataFrame(dic_data,crs=project_crs).to_file(f'{path_round_about}/roundabout_union.shp')"
   ],
   "metadata": {
    "collapsed": false,
    "pycharm": {
     "name": "#%%\n"
    }
   }
  },
  {
   "cell_type": "code",
   "execution_count": 18,
   "outputs": [],
   "source": [
    "def populate_pnt_dic(point: type, name_of_line: str):\n",
    "    \"\"\"\n",
    "    Make \"pnt_dic\" contain a list of all the lines connected to each point.\n",
    "    :param point:\n",
    "    :param name_of_line:\n",
    "    :return:\n",
    "    \"\"\"\n",
    "    if not point in pnt_dic:\n",
    "        pnt_dic[point] = []\n",
    "    pnt_dic[point].append(name_of_line)"
   ],
   "metadata": {
    "collapsed": false,
    "pycharm": {
     "name": "#%%\n"
    }
   }
  },
  {
   "cell_type": "code",
   "execution_count": 16,
   "outputs": [],
   "source": [
    "def send_pnts(temp_line: GeoSeries):\n",
    "    \"\"\"\n",
    "    # Send the first and the last points to populate_pnt_dic\n",
    "    :return:\n",
    "    \"\"\"\n",
    "    my_geom = temp_line['geometry']\n",
    "    populate_pnt_dic(my_geom.coords[0], temp_line.name)\n",
    "    populate_pnt_dic(my_geom.coords[-1], temp_line.name)"
   ],
   "metadata": {
    "collapsed": false,
    "pycharm": {
     "name": "#%%\n"
    }
   }
  },
  {
   "cell_type": "code",
   "execution_count": 24,
   "outputs": [],
   "source": [
    "def first_last_pnt_of_line(row: GeoSeries):\n",
    "    r\"\"\"\n",
    "    It get geometry of line and fill the first_last_dic with the first and last point and the name of the line\n",
    "    :return:\n",
    "    \"\"\"\n",
    "    geo = list(row['geometry'].coords)\n",
    "    first_last_dic['geometry'].extend([Point(geo[0]), Point(geo[-1])])\n",
    "    first_last_dic['line_name'].extend([row.name] * 2)\n",
    "    first_last_dic['position'].extend([0, -1])"
   ],
   "metadata": {
    "collapsed": false,
    "pycharm": {
     "name": "#%%\n"
    }
   }
  },
  {
   "cell_type": "code",
   "execution_count": 25,
   "outputs": [],
   "source": [
    "def deadend(path_to_save: str, network: GeoDataFrame, export_files: bool = False):\n",
    "    r\"\"\"\n",
    "    remove not connected line shorter than 100 meters and then return deadend_list lines and their endpoints (as another file)\n",
    "    :param network:\n",
    "    :param path_to_save:\n",
    "    :param export_files:\n",
    "    :return:\n",
    "    \"\"\"\n",
    "\n",
    "    network.apply(send_pnts, axis=1)\n",
    "    deadend_list = [item[0] for item in pnt_dic.values() if len(item) == 1]\n",
    "\n",
    "    # save all the deadend_list points\n",
    "    deadend_pnts_list = [item[0] for item in pnt_dic.items() if len(item[1]) == 1]\n",
    "\n",
    "    # Create two files one with all not connected lines and second after removing shorter then 200 meters\n",
    "    not_connected_lines = [j for p, j in enumerate(deadend_list) if deadend_list[:p].count(j) == 1]\n",
    "    not_connected_gdf = network.loc[not_connected_lines]\n",
    "    delete_short = not_connected_gdf[not_connected_gdf.length > 100]\n",
    "\n",
    "    # Get deadend_list and remove short unconnected\n",
    "    deadend_list = [j for v, j in enumerate(deadend_list) if deadend_list[:v].count(j) == 0]\n",
    "    deadend_gdf = network.loc[deadend_list]\n",
    "    short = not_connected_gdf[not_connected_gdf.length < 100]\n",
    "    drop_short = deadend_gdf.drop(index=short.index)\n",
    "\n",
    "    # Create gdf of line points with the reference to the line they belong\n",
    "    drop_short.apply(first_last_pnt_of_line, axis=1)\n",
    "    first_last_gdf = GeoDataFrame(first_last_dic, crs=project_crs)\n",
    "\n",
    "    # Make sure the points are dead end\n",
    "    point_as_tuple = 'point_as_tuple'\n",
    "    first_last_gdf[point_as_tuple] = first_last_gdf.geometry.apply(lambda x: x.coords[0])\n",
    "    first_last_gdf = first_last_gdf[first_last_gdf[point_as_tuple].isin(deadend_pnts_list)].drop(point_as_tuple, axis=1)\n",
    "\n",
    "    if export_files:\n",
    "        # Optional - Create new files\n",
    "        first_last_gdf.to_file(f'{path_to_save}/first_last_pnts.shp')\n",
    "        not_connected_gdf.to_file(f'{path_to_save}/not_connected.shp')\n",
    "        delete_short.to_file(f'{path_to_save}/not_connected_delete_short.shp')\n",
    "        deadend_gdf.to_file(f'{path_to_save}/deadend_gdf_all.shp')\n",
    "        drop_short.reset_index().to_file(f'{path_to_save}/deadend_lines.shp')\n",
    "    return drop_short, first_last_gdf"
   ],
   "metadata": {
    "collapsed": false,
    "pycharm": {
     "name": "#%%\n"
    }
   }
  },
  {
   "cell_type": "code",
   "execution_count": 26,
   "outputs": [],
   "source": [
    "def update_geometry(cur):\n",
    "    r\"\"\"\n",
    "    :return:\n",
    "    \"\"\"\n",
    "    if cur['highway'] == 'footway':\n",
    "        # Don't snap footway to roundabout\n",
    "        return cur['geometry']\n",
    "    points_lines = s_join[s_join['line_name'] == cur.name]\n",
    "    if len(points_lines) == 0:\n",
    "        # No roundabout nearby\n",
    "        return cur['geometry']\n",
    "    # get the line geometry to change the first and/ or last point\n",
    "    geo_cur = list(cur['geometry'].coords)\n",
    "\n",
    "    if len(points_lines) == 1:\n",
    "        # One line point near roundabout\n",
    "        geo_cur[points_lines['position'].item()] = centroid.loc[points_lines['index_right'].item()]['geometry'].coords[\n",
    "            0]\n",
    "    if len(points_lines) == 2:\n",
    "        # teo line point near roundabout\n",
    "        for ind in range(2):\n",
    "            points_line = points_lines.iloc[ind]\n",
    "            geo_cur[points_line['position'].item()] =centroid.loc[points_line['index_right'].item()]['geometry'].coords[0]\n",
    "    return LineString(geo_cur)"
   ],
   "metadata": {
    "collapsed": false,
    "pycharm": {
     "name": "#%%\n"
    }
   }
  },
  {
   "cell_type": "code",
   "execution_count": null,
   "outputs": [],
   "source": [
    "# Network Improvement - to roundabout\n",
    "# Find unconnected lines\n",
    "path_deadend = f'{path}/deadend'\n",
    "new_gpd = gpd.read_file(f'{path_network}/split.shp')"
   ],
   "metadata": {
    "collapsed": false,
    "pycharm": {
     "name": "#%%\n"
    }
   }
  },
  {
   "cell_type": "code",
   "execution_count": 27,
   "outputs": [],
   "source": [
    "new_gpd.rename(columns={'name': 'str_name'}, inplace=True)\n",
    "pnt_dic = {}\n",
    "first_last_dic = {'geometry': [], 'line_name': [], 'position': []}\n",
    "deadend_lines, deadend_pnts = deadend(path_to_save=path_deadend, network=new_gpd)\n",
    "\n",
    "# Spatial join between roundabout centroid to nearby dead end lines\n",
    "centroid = gpd.read_file(f'{path_round_about}/centroid.shp')\n",
    "s_join = gpd.sjoin_nearest(left_df=deadend_pnts, right_df=centroid, how='left', max_distance=60,\n",
    "                           distance_col='dist').dropna(subset='dist')\n",
    "s_join.to_file(f'{path_deadend}/roundabout_near_pnts.shp')\n",
    "# Update the geometry so the roundabout will be part of the line geometry\n",
    "change_geo = deadend_lines.copy()\n",
    "\n",
    "change_geo['geometry'] = change_geo.apply(update_geometry, axis=1)\n",
    "change_geo.reset_index().to_file(f'{path_deadend}/connect_roundabout.shp')\n",
    "\n",
    "# update the current network\n",
    "new_network_temp = new_gpd.drop(index=change_geo.index)\n",
    "new_network2 = new_network_temp.append(change_geo)\n",
    "new_network2.to_file(f'{path_network}/network_ra.shp')"
   ],
   "metadata": {
    "collapsed": false,
    "pycharm": {
     "name": "#%%\n"
    }
   }
  },
  {
   "cell_type": "markdown",
   "source": [
    "Remove line short then 20 meters"
   ],
   "metadata": {
    "collapsed": false,
    "pycharm": {
     "name": "#%% md\n"
    }
   }
  },
  {
   "cell_type": "markdown",
   "source": [
    "Roundabout"
   ],
   "metadata": {
    "collapsed": false,
    "pycharm": {
     "name": "#%% md\n"
    }
   }
  },
  {
   "cell_type": "markdown",
   "source": [
    "## things to improve the code - Roundabout :\n",
    "1. Snap all lines near roundabout to the roundabout\n",
    "2. Replace the nearest points on the line with the roundabout (and not the end points)\n",
    "3. Till 50 meters - connect. 50-100 meters - only if it is not cross nay other line"
   ],
   "metadata": {
    "collapsed": false,
    "pycharm": {
     "name": "#%% md\n"
    }
   }
  },
  {
   "cell_type": "code",
   "execution_count": 10,
   "outputs": [],
   "source": [
    "# Extend\n",
    "new_network2 =gpd.read_file(f'{path_network}/network_ra.shp')\n",
    "extend_lines_f= extend_lines(new_network2,100)\n",
    "\n",
    "extend_lines_f.to_file(f'{cur_path}/extend_lines.shp')"
   ],
   "metadata": {
    "collapsed": false,
    "pycharm": {
     "name": "#%%\n"
    }
   }
  },
  {
   "cell_type": "code",
   "execution_count": 11,
   "outputs": [],
   "source": [
    "def find_intersection_points2(row):\n",
    "    r\"\"\"\n",
    "    find the intersection points between the two lines\n",
    "    :param row:\n",
    "    :return:\n",
    "    \"\"\"\n",
    "    try:\n",
    "        line_1 = extend_lines_f.loc[row['index']]\n",
    "        line_2 = extend_lines_f.loc[row['index_right']]\n",
    "        pnt = line_1.geometry.intersection(line_2.geometry)\n",
    "        # If there are more than one intersection between two lines, one of the lines should be deleted.\n",
    "        if isinstance(pnt,MultiPoint):\n",
    "            temp_line= line_1.name if line_1.length< line_2.length else line_2.name\n",
    "            if temp_line not in lines_to_delete:\n",
    "                lines_to_delete.append(temp_line)\n",
    "            return\n",
    "        # If it is first or end continue OR if there is no intersection between the two lines\n",
    "        if len(pnt.coords)==0 or pnt.coords[0]==line_1.geometry.coords[0] or pnt.coords[0]==line_1.geometry.coords[-1]:\n",
    "            return\n",
    "        inter_pnt_dic['geometry'].append(pnt)\n",
    "        inter_pnt_dic['name'].append(row['index'])\n",
    "    except:\n",
    "        print(f\"{row['index']},{row['index_right']}:{pnt}\")"
   ],
   "metadata": {
    "collapsed": false,
    "pycharm": {
     "name": "#%%\n"
    }
   }
  },
  {
   "cell_type": "code",
   "execution_count": 37,
   "outputs": [
    {
     "data": {
      "text/plain": "       index                                           geometry  index_right  \\\n0          0  POLYGON ((855892.982 5634190.602, 855893.013 5...         3851   \n1       3851  POLYGON ((855971.235 5634074.050, 855979.628 5...         3851   \n2       3860  POLYGON ((856062.887 5633908.136, 856125.848 5...         3851   \n3       6860  POLYGON ((856155.187 5633991.352, 856155.182 5...         3851   \n4       6900  POLYGON ((856042.930 5634124.152, 856043.775 5...         3851   \n...      ...                                                ...          ...   \n54753   9489  POLYGON ((850058.502 5637761.047, 850058.540 5...         9488   \n54754   9476  POLYGON ((849982.873 5637753.108, 849982.570 5...         9477   \n54755   9477  POLYGON ((850044.319 5637952.719, 850044.622 5...         9477   \n54756   9488  POLYGON ((849966.391 5637791.094, 849966.005 5...         9477   \n54757   9489  POLYGON ((850058.502 5637761.047, 850058.540 5...         9477   \n\n                  str_name      highway     bearing      length  is_simplif  \\\n0                     None         None         NaN  169.671342         NaN   \n1                     None         None         NaN  169.671342         NaN   \n2                     None         None         NaN  169.671342         NaN   \n3                     None         None         NaN  169.671342         NaN   \n4                     None         None         NaN  169.671342         NaN   \n...                    ...          ...         ...         ...         ...   \n54753   Viale dei Mughetti     tertiary  109.473333  137.972382         1.0   \n54754  Via delle Pervinche  residential   10.107143  177.377032         1.0   \n54755  Via delle Pervinche  residential   10.107143  177.377032         1.0   \n54756  Via delle Pervinche  residential   10.107143  177.377032         1.0   \n54757  Via delle Pervinche  residential   10.107143  177.377032         1.0   \n\n       group  \n0        NaN  \n1        NaN  \n2        NaN  \n3        NaN  \n4        NaN  \n...      ...  \n54753    0.0  \n54754    1.0  \n54755    1.0  \n54756    1.0  \n54757    1.0  \n\n[54758 rows x 9 columns]",
      "text/html": "<div>\n<style scoped>\n    .dataframe tbody tr th:only-of-type {\n        vertical-align: middle;\n    }\n\n    .dataframe tbody tr th {\n        vertical-align: top;\n    }\n\n    .dataframe thead th {\n        text-align: right;\n    }\n</style>\n<table border=\"1\" class=\"dataframe\">\n  <thead>\n    <tr style=\"text-align: right;\">\n      <th></th>\n      <th>index</th>\n      <th>geometry</th>\n      <th>index_right</th>\n      <th>str_name</th>\n      <th>highway</th>\n      <th>bearing</th>\n      <th>length</th>\n      <th>is_simplif</th>\n      <th>group</th>\n    </tr>\n  </thead>\n  <tbody>\n    <tr>\n      <th>0</th>\n      <td>0</td>\n      <td>POLYGON ((855892.982 5634190.602, 855893.013 5...</td>\n      <td>3851</td>\n      <td>None</td>\n      <td>None</td>\n      <td>NaN</td>\n      <td>169.671342</td>\n      <td>NaN</td>\n      <td>NaN</td>\n    </tr>\n    <tr>\n      <th>1</th>\n      <td>3851</td>\n      <td>POLYGON ((855971.235 5634074.050, 855979.628 5...</td>\n      <td>3851</td>\n      <td>None</td>\n      <td>None</td>\n      <td>NaN</td>\n      <td>169.671342</td>\n      <td>NaN</td>\n      <td>NaN</td>\n    </tr>\n    <tr>\n      <th>2</th>\n      <td>3860</td>\n      <td>POLYGON ((856062.887 5633908.136, 856125.848 5...</td>\n      <td>3851</td>\n      <td>None</td>\n      <td>None</td>\n      <td>NaN</td>\n      <td>169.671342</td>\n      <td>NaN</td>\n      <td>NaN</td>\n    </tr>\n    <tr>\n      <th>3</th>\n      <td>6860</td>\n      <td>POLYGON ((856155.187 5633991.352, 856155.182 5...</td>\n      <td>3851</td>\n      <td>None</td>\n      <td>None</td>\n      <td>NaN</td>\n      <td>169.671342</td>\n      <td>NaN</td>\n      <td>NaN</td>\n    </tr>\n    <tr>\n      <th>4</th>\n      <td>6900</td>\n      <td>POLYGON ((856042.930 5634124.152, 856043.775 5...</td>\n      <td>3851</td>\n      <td>None</td>\n      <td>None</td>\n      <td>NaN</td>\n      <td>169.671342</td>\n      <td>NaN</td>\n      <td>NaN</td>\n    </tr>\n    <tr>\n      <th>...</th>\n      <td>...</td>\n      <td>...</td>\n      <td>...</td>\n      <td>...</td>\n      <td>...</td>\n      <td>...</td>\n      <td>...</td>\n      <td>...</td>\n      <td>...</td>\n    </tr>\n    <tr>\n      <th>54753</th>\n      <td>9489</td>\n      <td>POLYGON ((850058.502 5637761.047, 850058.540 5...</td>\n      <td>9488</td>\n      <td>Viale dei Mughetti</td>\n      <td>tertiary</td>\n      <td>109.473333</td>\n      <td>137.972382</td>\n      <td>1.0</td>\n      <td>0.0</td>\n    </tr>\n    <tr>\n      <th>54754</th>\n      <td>9476</td>\n      <td>POLYGON ((849982.873 5637753.108, 849982.570 5...</td>\n      <td>9477</td>\n      <td>Via delle Pervinche</td>\n      <td>residential</td>\n      <td>10.107143</td>\n      <td>177.377032</td>\n      <td>1.0</td>\n      <td>1.0</td>\n    </tr>\n    <tr>\n      <th>54755</th>\n      <td>9477</td>\n      <td>POLYGON ((850044.319 5637952.719, 850044.622 5...</td>\n      <td>9477</td>\n      <td>Via delle Pervinche</td>\n      <td>residential</td>\n      <td>10.107143</td>\n      <td>177.377032</td>\n      <td>1.0</td>\n      <td>1.0</td>\n    </tr>\n    <tr>\n      <th>54756</th>\n      <td>9488</td>\n      <td>POLYGON ((849966.391 5637791.094, 849966.005 5...</td>\n      <td>9477</td>\n      <td>Via delle Pervinche</td>\n      <td>residential</td>\n      <td>10.107143</td>\n      <td>177.377032</td>\n      <td>1.0</td>\n      <td>1.0</td>\n    </tr>\n    <tr>\n      <th>54757</th>\n      <td>9489</td>\n      <td>POLYGON ((850058.502 5637761.047, 850058.540 5...</td>\n      <td>9477</td>\n      <td>Via delle Pervinche</td>\n      <td>residential</td>\n      <td>10.107143</td>\n      <td>177.377032</td>\n      <td>1.0</td>\n      <td>1.0</td>\n    </tr>\n  </tbody>\n</table>\n<p>54758 rows × 9 columns</p>\n</div>"
     },
     "execution_count": 37,
     "metadata": {},
     "output_type": "execute_result"
    }
   ],
   "source": [
    "s_join_0"
   ],
   "metadata": {
    "collapsed": false,
    "pycharm": {
     "name": "#%%\n"
    }
   }
  },
  {
   "cell_type": "code",
   "execution_count": 12,
   "outputs": [],
   "source": [
    "# Create buffer around each element\n",
    "buffer_around_lines= extend_lines_f['geometry'].buffer(cap_style=3, distance=1, join_style=3)\n",
    "buffer_around_lines.to_file(f'{cur_path}/buffer2.shp')\n",
    "\n",
    "# s_join between buffer to lines\n",
    "s_join_0 =gpd.sjoin(left_df=GeoDataFrame(geometry=buffer_around_lines,crs=project_crs),right_df=extend_lines_f).reset_index()\n",
    "\n",
    "# delete lines belong to the buffer\n",
    "s_join = s_join_0[s_join_0['index']!=s_join_0['index_right']]\n",
    "s_join.to_file(f'{cur_path}/s_join2.shp')\n",
    "\n",
    "# Find new intersections that are not at the beginning or end of the line\n",
    "lines_to_delete =[]\n",
    "inter_pnt_dic = {'geometry':[],'name':[]}\n",
    "s_join.apply(find_intersection_points2, axis=1)\n",
    "inter_pnt_gdf = GeoDataFrame(inter_pnt_dic,crs=project_crs)\n",
    "inter_pnt_gdf.to_file(f'{cur_path}/inter_pnt2.shp')\n",
    "\n"
   ],
   "metadata": {
    "collapsed": false,
    "pycharm": {
     "name": "#%%\n"
    }
   }
  },
  {
   "cell_type": "code",
   "execution_count": 13,
   "outputs": [],
   "source": [
    "# Split string line by points\n",
    "segments = {'geometry':[],'org_id':[]}\n",
    "# Groupby points name (which is the line they should split)\n",
    "for group_pnts in inter_pnt_gdf.groupby('name'):\n",
    "    points  = group_pnts[1]\n",
    "    points['is_split'] = True\n",
    "\n",
    "    # get the line to split by comparing the name\n",
    "    row = extend_lines_f.loc[group_pnts[0]]\n",
    "    current = list(row.geometry.coords)\n",
    "    points_line = [Point(x) for x in current]\n",
    "    points_line_gdf = GeoDataFrame(geometry=points_line,crs=project_crs)\n",
    "    points_line_gdf['is_split'] = False\n",
    "\n",
    "    # append all the points together (line points and split points)\n",
    "    line_all_pnts = points_line_gdf.append(points)\n",
    "\n",
    "    # Find the distance of each point form the begining of the line on the line.\n",
    "    line_all_pnts['dis_from_the_start'] = line_all_pnts['geometry'].apply(lambda x:row.geometry.project(x))\n",
    "    line_all_pnts.sort_values('dis_from_the_start',inplace=True)\n",
    "\n",
    "    # split the line\n",
    "    seg =[]\n",
    "    for point in line_all_pnts.iterrows():\n",
    "        prop = point[1]\n",
    "        seg.append(prop['geometry'])\n",
    "        if prop['is_split']:\n",
    "            segments['geometry'].append(LineString(seg))\n",
    "            segments['org_id'].append(row.name)\n",
    "            seg = [prop['geometry']]\n",
    "    segments['geometry'].append(LineString(seg))\n",
    "    segments['org_id'].append(row.name)\n",
    "network_split = GeoDataFrame(data=segments,crs=project_crs)\n",
    "cols_no_geometry = extend_lines_f.columns[:-1]\n",
    "network_split_final = network_split.set_index('org_id')\n",
    "network_split_final[cols_no_geometry] =extend_lines_f[cols_no_geometry]\n",
    "network_split_final.to_file(f'{cur_path}/only_split.shp')\n",
    "# remove old and redundant line from our network and update with new one\n",
    "network_split = extend_lines_f.drop(index=network_split_final.index.unique()).append(network_split_final).drop(index= lines_to_delete)"
   ],
   "metadata": {
    "collapsed": false,
    "pycharm": {
     "name": "#%%\n"
    }
   }
  },
  {
   "cell_type": "code",
   "execution_count": 14,
   "outputs": [],
   "source": [
    "network_split['length'] = network_split.length"
   ],
   "metadata": {
    "collapsed": false,
    "pycharm": {
     "name": "#%%\n"
    }
   }
  },
  {
   "cell_type": "code",
   "execution_count": 22,
   "outputs": [],
   "source": [
    "pnt_dic = {}\n",
    "first_last_dic = {'geometry': [], 'line_name': [], 'position': []}\n",
    "network_split.apply(send_pnts, axis=1)\n",
    "dangel_line = [item[0] for item in pnt_dic.values() if len(item) == 1]\n",
    "\n",
    "# save all the deadend_list points\n",
    "deadend_pnts_list = [item[0] for item in pnt_dic.items() if len(item[1]) == 1]"
   ],
   "metadata": {
    "collapsed": false,
    "pycharm": {
     "name": "#%%\n"
    }
   }
  },
  {
   "cell_type": "code",
   "execution_count": 23,
   "outputs": [],
   "source": [
    "not_connected_lines = [j for p, j in enumerate(dangel_line) if dangel_line[:p].count(j) == 1]\n",
    "only_connected_gdf = network_split.drop(index= not_connected_lines)\n"
   ],
   "metadata": {
    "collapsed": false,
    "pycharm": {
     "name": "#%%\n"
    }
   }
  },
  {
   "cell_type": "code",
   "execution_count": 41,
   "outputs": [],
   "source": [
    "deadend_list = [j for v, j in enumerate(dangel_line) if dangel_line[:v].count(j) == 0]\n",
    "only_deadend = [item for item in deadend_list  if item not in not_connected_lines]"
   ],
   "metadata": {
    "collapsed": false,
    "pycharm": {
     "name": "#%%\n"
    }
   }
  },
  {
   "cell_type": "code",
   "execution_count": 45,
   "outputs": [],
   "source": [
    "connected_gdf = only_connected_gdf.loc[only_deadend]"
   ],
   "metadata": {
    "collapsed": false,
    "pycharm": {
     "name": "#%%\n"
    }
   }
  },
  {
   "cell_type": "code",
   "execution_count": 48,
   "outputs": [
    {
     "data": {
      "text/plain": "                               str_name      highway  bearing        length  \\\n7365                    Via Moncrivello  residential    148.4  1.164153e-10   \n7367                   Via Eusebio Bava  residential    221.8  1.164153e-10   \n7377               Viale dei Partigiani     tertiary     69.2  4.656613e-10   \n7391                   Via Sant'Anselmo  residential     16.6  1.164153e-10   \n7395  Via Camillo Benso Conte di Cavour  residential    115.9  1.164153e-10   \n...                                 ...          ...      ...           ...   \n9777                               None         None      NaN  2.328306e-10   \n9779                               None         None      NaN  1.304782e+01   \n9789                               None         None      NaN  1.164153e-10   \n9803                               None         None      NaN  1.164153e-10   \n9804                               None         None      NaN  1.164153e-10   \n\n      is_simplif  group                                           geometry  \n7365         0.0    NaN  LINESTRING (858009.888 5635710.978, 858009.888...  \n7367         0.0    NaN  LINESTRING (857544.788 5632598.408, 857544.788...  \n7377         0.0    NaN  LINESTRING (856053.585 5632867.735, 856053.585...  \n7391         0.0    NaN  LINESTRING (854926.525 5630385.842, 854926.525...  \n7395         0.0    NaN  LINESTRING (856059.631 5631391.756, 856059.631...  \n...          ...    ...                                                ...  \n9777         NaN    NaN  LINESTRING (858884.620 5636319.984, 858884.620...  \n9779         NaN    NaN  LINESTRING (859143.298 5633403.582, 859151.930...  \n9789         NaN    NaN  LINESTRING (859662.215 5637120.473, 859662.215...  \n9803         NaN    NaN  LINESTRING (861250.085 5632519.354, 861250.085...  \n9804         NaN    NaN  LINESTRING (860748.123 5635501.700, 860748.123...  \n\n[408 rows x 7 columns]",
      "text/html": "<div>\n<style scoped>\n    .dataframe tbody tr th:only-of-type {\n        vertical-align: middle;\n    }\n\n    .dataframe tbody tr th {\n        vertical-align: top;\n    }\n\n    .dataframe thead th {\n        text-align: right;\n    }\n</style>\n<table border=\"1\" class=\"dataframe\">\n  <thead>\n    <tr style=\"text-align: right;\">\n      <th></th>\n      <th>str_name</th>\n      <th>highway</th>\n      <th>bearing</th>\n      <th>length</th>\n      <th>is_simplif</th>\n      <th>group</th>\n      <th>geometry</th>\n    </tr>\n  </thead>\n  <tbody>\n    <tr>\n      <th>7365</th>\n      <td>Via Moncrivello</td>\n      <td>residential</td>\n      <td>148.4</td>\n      <td>1.164153e-10</td>\n      <td>0.0</td>\n      <td>NaN</td>\n      <td>LINESTRING (858009.888 5635710.978, 858009.888...</td>\n    </tr>\n    <tr>\n      <th>7367</th>\n      <td>Via Eusebio Bava</td>\n      <td>residential</td>\n      <td>221.8</td>\n      <td>1.164153e-10</td>\n      <td>0.0</td>\n      <td>NaN</td>\n      <td>LINESTRING (857544.788 5632598.408, 857544.788...</td>\n    </tr>\n    <tr>\n      <th>7377</th>\n      <td>Viale dei Partigiani</td>\n      <td>tertiary</td>\n      <td>69.2</td>\n      <td>4.656613e-10</td>\n      <td>0.0</td>\n      <td>NaN</td>\n      <td>LINESTRING (856053.585 5632867.735, 856053.585...</td>\n    </tr>\n    <tr>\n      <th>7391</th>\n      <td>Via Sant'Anselmo</td>\n      <td>residential</td>\n      <td>16.6</td>\n      <td>1.164153e-10</td>\n      <td>0.0</td>\n      <td>NaN</td>\n      <td>LINESTRING (854926.525 5630385.842, 854926.525...</td>\n    </tr>\n    <tr>\n      <th>7395</th>\n      <td>Via Camillo Benso Conte di Cavour</td>\n      <td>residential</td>\n      <td>115.9</td>\n      <td>1.164153e-10</td>\n      <td>0.0</td>\n      <td>NaN</td>\n      <td>LINESTRING (856059.631 5631391.756, 856059.631...</td>\n    </tr>\n    <tr>\n      <th>...</th>\n      <td>...</td>\n      <td>...</td>\n      <td>...</td>\n      <td>...</td>\n      <td>...</td>\n      <td>...</td>\n      <td>...</td>\n    </tr>\n    <tr>\n      <th>9777</th>\n      <td>None</td>\n      <td>None</td>\n      <td>NaN</td>\n      <td>2.328306e-10</td>\n      <td>NaN</td>\n      <td>NaN</td>\n      <td>LINESTRING (858884.620 5636319.984, 858884.620...</td>\n    </tr>\n    <tr>\n      <th>9779</th>\n      <td>None</td>\n      <td>None</td>\n      <td>NaN</td>\n      <td>1.304782e+01</td>\n      <td>NaN</td>\n      <td>NaN</td>\n      <td>LINESTRING (859143.298 5633403.582, 859151.930...</td>\n    </tr>\n    <tr>\n      <th>9789</th>\n      <td>None</td>\n      <td>None</td>\n      <td>NaN</td>\n      <td>1.164153e-10</td>\n      <td>NaN</td>\n      <td>NaN</td>\n      <td>LINESTRING (859662.215 5637120.473, 859662.215...</td>\n    </tr>\n    <tr>\n      <th>9803</th>\n      <td>None</td>\n      <td>None</td>\n      <td>NaN</td>\n      <td>1.164153e-10</td>\n      <td>NaN</td>\n      <td>NaN</td>\n      <td>LINESTRING (861250.085 5632519.354, 861250.085...</td>\n    </tr>\n    <tr>\n      <th>9804</th>\n      <td>None</td>\n      <td>None</td>\n      <td>NaN</td>\n      <td>1.164153e-10</td>\n      <td>NaN</td>\n      <td>NaN</td>\n      <td>LINESTRING (860748.123 5635501.700, 860748.123...</td>\n    </tr>\n  </tbody>\n</table>\n<p>408 rows × 7 columns</p>\n</div>"
     },
     "execution_count": 48,
     "metadata": {},
     "output_type": "execute_result"
    }
   ],
   "source": [
    "delete_short =connected_gdf[connected_gdf.length < 30]\n",
    "delete_short"
   ],
   "metadata": {
    "collapsed": false,
    "pycharm": {
     "name": "#%%\n"
    }
   }
  },
  {
   "cell_type": "code",
   "execution_count": 52,
   "outputs": [
    {
     "data": {
      "text/plain": "                           str_name      highway  bearing      length  \\\n1            Via Don Giovanni Bosco  residential    112.4   85.627516   \n2            Via Don Giovanni Bosco  residential     93.0  189.806264   \n3              Via Alfonso Bonafous  residential    209.8  168.972995   \n4             Viale Giacomo Curreno     tertiary    107.8   15.787604   \n5     Via Vittorio Amedeo Gioanetti  residential    355.3  152.543606   \n...                             ...          ...      ...         ...   \n9792                           None         None      NaN   44.958939   \n9796                           None         None      NaN  227.167126   \n9796                           None         None      NaN   35.718850   \n9801                           None         None      NaN  935.420676   \n9801                           None         None      NaN  121.967987   \n\n      is_simplif  group                                           geometry  \n1            0.0    NaN  LINESTRING (852685.815 5634980.859, 852764.985...  \n2            0.0    NaN  LINESTRING (852496.271 5634990.839, 852522.175...  \n3            0.0    NaN  LINESTRING (856590.513 5631546.140, 856584.658...  \n4            0.0    NaN  LINESTRING (856683.420 5630199.603, 856698.448...  \n5            0.0    NaN  LINESTRING (857039.119 5630823.110, 857048.938...  \n...          ...    ...                                                ...  \n9792         NaN    NaN  LINESTRING (859433.402 5632316.637, 859425.998...  \n9796         NaN    NaN  LINESTRING (860185.722 5633386.276, 860212.983...  \n9796         NaN    NaN  LINESTRING (860412.062 5633398.254, 860425.458...  \n9801         NaN    NaN  LINESTRING (861298.250 5631401.281, 861242.646...  \n9801         NaN    NaN  LINESTRING (860653.710 5632048.827, 860536.132...  \n\n[9939 rows x 7 columns]",
      "text/html": "<div>\n<style scoped>\n    .dataframe tbody tr th:only-of-type {\n        vertical-align: middle;\n    }\n\n    .dataframe tbody tr th {\n        vertical-align: top;\n    }\n\n    .dataframe thead th {\n        text-align: right;\n    }\n</style>\n<table border=\"1\" class=\"dataframe\">\n  <thead>\n    <tr style=\"text-align: right;\">\n      <th></th>\n      <th>str_name</th>\n      <th>highway</th>\n      <th>bearing</th>\n      <th>length</th>\n      <th>is_simplif</th>\n      <th>group</th>\n      <th>geometry</th>\n    </tr>\n  </thead>\n  <tbody>\n    <tr>\n      <th>1</th>\n      <td>Via Don Giovanni Bosco</td>\n      <td>residential</td>\n      <td>112.4</td>\n      <td>85.627516</td>\n      <td>0.0</td>\n      <td>NaN</td>\n      <td>LINESTRING (852685.815 5634980.859, 852764.985...</td>\n    </tr>\n    <tr>\n      <th>2</th>\n      <td>Via Don Giovanni Bosco</td>\n      <td>residential</td>\n      <td>93.0</td>\n      <td>189.806264</td>\n      <td>0.0</td>\n      <td>NaN</td>\n      <td>LINESTRING (852496.271 5634990.839, 852522.175...</td>\n    </tr>\n    <tr>\n      <th>3</th>\n      <td>Via Alfonso Bonafous</td>\n      <td>residential</td>\n      <td>209.8</td>\n      <td>168.972995</td>\n      <td>0.0</td>\n      <td>NaN</td>\n      <td>LINESTRING (856590.513 5631546.140, 856584.658...</td>\n    </tr>\n    <tr>\n      <th>4</th>\n      <td>Viale Giacomo Curreno</td>\n      <td>tertiary</td>\n      <td>107.8</td>\n      <td>15.787604</td>\n      <td>0.0</td>\n      <td>NaN</td>\n      <td>LINESTRING (856683.420 5630199.603, 856698.448...</td>\n    </tr>\n    <tr>\n      <th>5</th>\n      <td>Via Vittorio Amedeo Gioanetti</td>\n      <td>residential</td>\n      <td>355.3</td>\n      <td>152.543606</td>\n      <td>0.0</td>\n      <td>NaN</td>\n      <td>LINESTRING (857039.119 5630823.110, 857048.938...</td>\n    </tr>\n    <tr>\n      <th>...</th>\n      <td>...</td>\n      <td>...</td>\n      <td>...</td>\n      <td>...</td>\n      <td>...</td>\n      <td>...</td>\n      <td>...</td>\n    </tr>\n    <tr>\n      <th>9792</th>\n      <td>None</td>\n      <td>None</td>\n      <td>NaN</td>\n      <td>44.958939</td>\n      <td>NaN</td>\n      <td>NaN</td>\n      <td>LINESTRING (859433.402 5632316.637, 859425.998...</td>\n    </tr>\n    <tr>\n      <th>9796</th>\n      <td>None</td>\n      <td>None</td>\n      <td>NaN</td>\n      <td>227.167126</td>\n      <td>NaN</td>\n      <td>NaN</td>\n      <td>LINESTRING (860185.722 5633386.276, 860212.983...</td>\n    </tr>\n    <tr>\n      <th>9796</th>\n      <td>None</td>\n      <td>None</td>\n      <td>NaN</td>\n      <td>35.718850</td>\n      <td>NaN</td>\n      <td>NaN</td>\n      <td>LINESTRING (860412.062 5633398.254, 860425.458...</td>\n    </tr>\n    <tr>\n      <th>9801</th>\n      <td>None</td>\n      <td>None</td>\n      <td>NaN</td>\n      <td>935.420676</td>\n      <td>NaN</td>\n      <td>NaN</td>\n      <td>LINESTRING (861298.250 5631401.281, 861242.646...</td>\n    </tr>\n    <tr>\n      <th>9801</th>\n      <td>None</td>\n      <td>None</td>\n      <td>NaN</td>\n      <td>121.967987</td>\n      <td>NaN</td>\n      <td>NaN</td>\n      <td>LINESTRING (860653.710 5632048.827, 860536.132...</td>\n    </tr>\n  </tbody>\n</table>\n<p>9939 rows × 7 columns</p>\n</div>"
     },
     "execution_count": 52,
     "metadata": {},
     "output_type": "execute_result"
    }
   ],
   "source": [
    "final = only_connected_gdf.drop(index= delete_short.index)\n",
    "final"
   ],
   "metadata": {
    "collapsed": false,
    "pycharm": {
     "name": "#%%\n"
    }
   }
  },
  {
   "cell_type": "code",
   "execution_count": null,
   "outputs": [],
   "source": [],
   "metadata": {
    "collapsed": false,
    "pycharm": {
     "name": "#%%\n"
    }
   }
  },
  {
   "cell_type": "code",
   "execution_count": 51,
   "outputs": [
    {
     "data": {
      "text/plain": "                               str_name      highway  bearing        length  \\\n7365                    Via Moncrivello  residential    148.4  1.164153e-10   \n7367                   Via Eusebio Bava  residential    221.8  1.164153e-10   \n7377               Viale dei Partigiani     tertiary     69.2  4.656613e-10   \n7391                   Via Sant'Anselmo  residential     16.6  1.164153e-10   \n7395  Via Camillo Benso Conte di Cavour  residential    115.9  1.164153e-10   \n...                                 ...          ...      ...           ...   \n9777                               None         None      NaN  2.328306e-10   \n9779                               None         None      NaN  1.304782e+01   \n9789                               None         None      NaN  1.164153e-10   \n9803                               None         None      NaN  1.164153e-10   \n9804                               None         None      NaN  1.164153e-10   \n\n      is_simplif  group                                           geometry  \n7365         0.0    NaN  LINESTRING (858009.888 5635710.978, 858009.888...  \n7367         0.0    NaN  LINESTRING (857544.788 5632598.408, 857544.788...  \n7377         0.0    NaN  LINESTRING (856053.585 5632867.735, 856053.585...  \n7391         0.0    NaN  LINESTRING (854926.525 5630385.842, 854926.525...  \n7395         0.0    NaN  LINESTRING (856059.631 5631391.756, 856059.631...  \n...          ...    ...                                                ...  \n9777         NaN    NaN  LINESTRING (858884.620 5636319.984, 858884.620...  \n9779         NaN    NaN  LINESTRING (859143.298 5633403.582, 859151.930...  \n9789         NaN    NaN  LINESTRING (859662.215 5637120.473, 859662.215...  \n9803         NaN    NaN  LINESTRING (861250.085 5632519.354, 861250.085...  \n9804         NaN    NaN  LINESTRING (860748.123 5635501.700, 860748.123...  \n\n[408 rows x 7 columns]",
      "text/html": "<div>\n<style scoped>\n    .dataframe tbody tr th:only-of-type {\n        vertical-align: middle;\n    }\n\n    .dataframe tbody tr th {\n        vertical-align: top;\n    }\n\n    .dataframe thead th {\n        text-align: right;\n    }\n</style>\n<table border=\"1\" class=\"dataframe\">\n  <thead>\n    <tr style=\"text-align: right;\">\n      <th></th>\n      <th>str_name</th>\n      <th>highway</th>\n      <th>bearing</th>\n      <th>length</th>\n      <th>is_simplif</th>\n      <th>group</th>\n      <th>geometry</th>\n    </tr>\n  </thead>\n  <tbody>\n    <tr>\n      <th>7365</th>\n      <td>Via Moncrivello</td>\n      <td>residential</td>\n      <td>148.4</td>\n      <td>1.164153e-10</td>\n      <td>0.0</td>\n      <td>NaN</td>\n      <td>LINESTRING (858009.888 5635710.978, 858009.888...</td>\n    </tr>\n    <tr>\n      <th>7367</th>\n      <td>Via Eusebio Bava</td>\n      <td>residential</td>\n      <td>221.8</td>\n      <td>1.164153e-10</td>\n      <td>0.0</td>\n      <td>NaN</td>\n      <td>LINESTRING (857544.788 5632598.408, 857544.788...</td>\n    </tr>\n    <tr>\n      <th>7377</th>\n      <td>Viale dei Partigiani</td>\n      <td>tertiary</td>\n      <td>69.2</td>\n      <td>4.656613e-10</td>\n      <td>0.0</td>\n      <td>NaN</td>\n      <td>LINESTRING (856053.585 5632867.735, 856053.585...</td>\n    </tr>\n    <tr>\n      <th>7391</th>\n      <td>Via Sant'Anselmo</td>\n      <td>residential</td>\n      <td>16.6</td>\n      <td>1.164153e-10</td>\n      <td>0.0</td>\n      <td>NaN</td>\n      <td>LINESTRING (854926.525 5630385.842, 854926.525...</td>\n    </tr>\n    <tr>\n      <th>7395</th>\n      <td>Via Camillo Benso Conte di Cavour</td>\n      <td>residential</td>\n      <td>115.9</td>\n      <td>1.164153e-10</td>\n      <td>0.0</td>\n      <td>NaN</td>\n      <td>LINESTRING (856059.631 5631391.756, 856059.631...</td>\n    </tr>\n    <tr>\n      <th>...</th>\n      <td>...</td>\n      <td>...</td>\n      <td>...</td>\n      <td>...</td>\n      <td>...</td>\n      <td>...</td>\n      <td>...</td>\n    </tr>\n    <tr>\n      <th>9777</th>\n      <td>None</td>\n      <td>None</td>\n      <td>NaN</td>\n      <td>2.328306e-10</td>\n      <td>NaN</td>\n      <td>NaN</td>\n      <td>LINESTRING (858884.620 5636319.984, 858884.620...</td>\n    </tr>\n    <tr>\n      <th>9779</th>\n      <td>None</td>\n      <td>None</td>\n      <td>NaN</td>\n      <td>1.304782e+01</td>\n      <td>NaN</td>\n      <td>NaN</td>\n      <td>LINESTRING (859143.298 5633403.582, 859151.930...</td>\n    </tr>\n    <tr>\n      <th>9789</th>\n      <td>None</td>\n      <td>None</td>\n      <td>NaN</td>\n      <td>1.164153e-10</td>\n      <td>NaN</td>\n      <td>NaN</td>\n      <td>LINESTRING (859662.215 5637120.473, 859662.215...</td>\n    </tr>\n    <tr>\n      <th>9803</th>\n      <td>None</td>\n      <td>None</td>\n      <td>NaN</td>\n      <td>1.164153e-10</td>\n      <td>NaN</td>\n      <td>NaN</td>\n      <td>LINESTRING (861250.085 5632519.354, 861250.085...</td>\n    </tr>\n    <tr>\n      <th>9804</th>\n      <td>None</td>\n      <td>None</td>\n      <td>NaN</td>\n      <td>1.164153e-10</td>\n      <td>NaN</td>\n      <td>NaN</td>\n      <td>LINESTRING (860748.123 5635501.700, 860748.123...</td>\n    </tr>\n  </tbody>\n</table>\n<p>408 rows × 7 columns</p>\n</div>"
     },
     "execution_count": 51,
     "metadata": {},
     "output_type": "execute_result"
    }
   ],
   "source": [
    "delete_short"
   ],
   "metadata": {
    "collapsed": false,
    "pycharm": {
     "name": "#%%\n"
    }
   }
  },
  {
   "cell_type": "code",
   "execution_count": 50,
   "outputs": [
    {
     "data": {
      "text/plain": "                           str_name      highway  bearing        length  \\\n1            Via Don Giovanni Bosco  residential    112.4  8.562752e+01   \n2            Via Don Giovanni Bosco  residential     93.0  1.898063e+02   \n3              Via Alfonso Bonafous  residential    209.8  1.689730e+02   \n4             Viale Giacomo Curreno     tertiary    107.8  1.578760e+01   \n5     Via Vittorio Amedeo Gioanetti  residential    355.3  1.525436e+02   \n...                             ...          ...      ...           ...   \n9801                           None         None      NaN  1.219680e+02   \n9803                           None         None      NaN  1.501916e+02   \n9803                           None         None      NaN  1.164153e-10   \n9804                           None         None      NaN  1.243722e+02   \n9804                           None         None      NaN  1.164153e-10   \n\n      is_simplif  group                                           geometry  \n1            0.0    NaN  LINESTRING (852685.815 5634980.859, 852764.985...  \n2            0.0    NaN  LINESTRING (852496.271 5634990.839, 852522.175...  \n3            0.0    NaN  LINESTRING (856590.513 5631546.140, 856584.658...  \n4            0.0    NaN  LINESTRING (856683.420 5630199.603, 856698.448...  \n5            0.0    NaN  LINESTRING (857039.119 5630823.110, 857048.938...  \n...          ...    ...                                                ...  \n9801         NaN    NaN  LINESTRING (860653.710 5632048.827, 860536.132...  \n9803         NaN    NaN  LINESTRING (861131.119 5632427.677, 861234.929...  \n9803         NaN    NaN  LINESTRING (861250.085 5632519.354, 861250.085...  \n9804         NaN    NaN  LINESTRING (860825.484 5635404.316, 860775.113...  \n9804         NaN    NaN  LINESTRING (860748.123 5635501.700, 860748.123...  \n\n[10779 rows x 7 columns]",
      "text/html": "<div>\n<style scoped>\n    .dataframe tbody tr th:only-of-type {\n        vertical-align: middle;\n    }\n\n    .dataframe tbody tr th {\n        vertical-align: top;\n    }\n\n    .dataframe thead th {\n        text-align: right;\n    }\n</style>\n<table border=\"1\" class=\"dataframe\">\n  <thead>\n    <tr style=\"text-align: right;\">\n      <th></th>\n      <th>str_name</th>\n      <th>highway</th>\n      <th>bearing</th>\n      <th>length</th>\n      <th>is_simplif</th>\n      <th>group</th>\n      <th>geometry</th>\n    </tr>\n  </thead>\n  <tbody>\n    <tr>\n      <th>1</th>\n      <td>Via Don Giovanni Bosco</td>\n      <td>residential</td>\n      <td>112.4</td>\n      <td>8.562752e+01</td>\n      <td>0.0</td>\n      <td>NaN</td>\n      <td>LINESTRING (852685.815 5634980.859, 852764.985...</td>\n    </tr>\n    <tr>\n      <th>2</th>\n      <td>Via Don Giovanni Bosco</td>\n      <td>residential</td>\n      <td>93.0</td>\n      <td>1.898063e+02</td>\n      <td>0.0</td>\n      <td>NaN</td>\n      <td>LINESTRING (852496.271 5634990.839, 852522.175...</td>\n    </tr>\n    <tr>\n      <th>3</th>\n      <td>Via Alfonso Bonafous</td>\n      <td>residential</td>\n      <td>209.8</td>\n      <td>1.689730e+02</td>\n      <td>0.0</td>\n      <td>NaN</td>\n      <td>LINESTRING (856590.513 5631546.140, 856584.658...</td>\n    </tr>\n    <tr>\n      <th>4</th>\n      <td>Viale Giacomo Curreno</td>\n      <td>tertiary</td>\n      <td>107.8</td>\n      <td>1.578760e+01</td>\n      <td>0.0</td>\n      <td>NaN</td>\n      <td>LINESTRING (856683.420 5630199.603, 856698.448...</td>\n    </tr>\n    <tr>\n      <th>5</th>\n      <td>Via Vittorio Amedeo Gioanetti</td>\n      <td>residential</td>\n      <td>355.3</td>\n      <td>1.525436e+02</td>\n      <td>0.0</td>\n      <td>NaN</td>\n      <td>LINESTRING (857039.119 5630823.110, 857048.938...</td>\n    </tr>\n    <tr>\n      <th>...</th>\n      <td>...</td>\n      <td>...</td>\n      <td>...</td>\n      <td>...</td>\n      <td>...</td>\n      <td>...</td>\n      <td>...</td>\n    </tr>\n    <tr>\n      <th>9801</th>\n      <td>None</td>\n      <td>None</td>\n      <td>NaN</td>\n      <td>1.219680e+02</td>\n      <td>NaN</td>\n      <td>NaN</td>\n      <td>LINESTRING (860653.710 5632048.827, 860536.132...</td>\n    </tr>\n    <tr>\n      <th>9803</th>\n      <td>None</td>\n      <td>None</td>\n      <td>NaN</td>\n      <td>1.501916e+02</td>\n      <td>NaN</td>\n      <td>NaN</td>\n      <td>LINESTRING (861131.119 5632427.677, 861234.929...</td>\n    </tr>\n    <tr>\n      <th>9803</th>\n      <td>None</td>\n      <td>None</td>\n      <td>NaN</td>\n      <td>1.164153e-10</td>\n      <td>NaN</td>\n      <td>NaN</td>\n      <td>LINESTRING (861250.085 5632519.354, 861250.085...</td>\n    </tr>\n    <tr>\n      <th>9804</th>\n      <td>None</td>\n      <td>None</td>\n      <td>NaN</td>\n      <td>1.243722e+02</td>\n      <td>NaN</td>\n      <td>NaN</td>\n      <td>LINESTRING (860825.484 5635404.316, 860775.113...</td>\n    </tr>\n    <tr>\n      <th>9804</th>\n      <td>None</td>\n      <td>None</td>\n      <td>NaN</td>\n      <td>1.164153e-10</td>\n      <td>NaN</td>\n      <td>NaN</td>\n      <td>LINESTRING (860748.123 5635501.700, 860748.123...</td>\n    </tr>\n  </tbody>\n</table>\n<p>10779 rows × 7 columns</p>\n</div>"
     },
     "execution_count": 50,
     "metadata": {},
     "output_type": "execute_result"
    }
   ],
   "source": [
    "only_connected_gdf"
   ],
   "metadata": {
    "collapsed": false,
    "pycharm": {
     "name": "#%%\n"
    }
   }
  },
  {
   "cell_type": "code",
   "execution_count": 53,
   "outputs": [],
   "source": [
    "final.to_file(f'{cur_path}/final.shp')"
   ],
   "metadata": {
    "collapsed": false,
    "pycharm": {
     "name": "#%%\n"
    }
   }
  },
  {
   "cell_type": "code",
   "execution_count": null,
   "outputs": [],
   "source": [],
   "metadata": {
    "collapsed": false,
    "pycharm": {
     "name": "#%%\n"
    }
   }
  }
 ],
 "metadata": {
  "kernelspec": {
   "display_name": "Python 3",
   "language": "python",
   "name": "python3"
  },
  "language_info": {
   "codemirror_mode": {
    "name": "ipython",
    "version": 2
   },
   "file_extension": ".py",
   "mimetype": "text/x-python",
   "name": "python",
   "nbconvert_exporter": "python",
   "pygments_lexer": "ipython2",
   "version": "2.7.6"
  }
 },
 "nbformat": 4,
 "nbformat_minor": 0
}