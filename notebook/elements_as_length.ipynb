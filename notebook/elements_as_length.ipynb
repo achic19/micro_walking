{
 "cells": [
  {
   "cell_type": "code",
   "execution_count": 2,
   "outputs": [],
   "source": [
    "import geopandas as gpd\n",
    "from geopandas import GeoDataFrame\n",
    "import os\n",
    "import zipfile\n",
    "import pandas as pd\n",
    "import glob\n",
    "import zipfile\n",
    "from pandas import DataFrame\n",
    "layer_crs= 'epsg:2039'\n",
    "project_folder = os.path.dirname(os.getcwd())"
   ],
   "metadata": {
    "collapsed": false,
    "pycharm": {
     "name": "#%%\n"
    }
   }
  },
  {
   "cell_type": "code",
   "execution_count": 2,
   "outputs": [],
   "source": [
    "# The required files' paths\n",
    "trees = glob.glob(project_folder + r'\\TelAvivLayers\\elements_as_length\\Trees\\*[!.zip]\\*.shp')\n",
    "lighting = glob.glob(project_folder + r'\\TelAvivLayers\\elements_as_length\\lighting\\*[!.zip]\\*.shp')\n",
    "bus_stations = glob.glob(project_folder + r'\\TelAvivLayers\\elements_as_length\\bus_stations\\*.shp')"
   ],
   "metadata": {
    "collapsed": false,
    "pycharm": {
     "name": "#%%\n"
    }
   }
  },
  {
   "cell_type": "code",
   "execution_count": 11,
   "outputs": [],
   "source": [
    "\n",
    "# Organize all paths and names in one dictionary and save more information if necessary (for example, the heights of the building)\n",
    "data_dic = {'trees':trees,'lighting':lighting,'bus_stations':bus_stations}"
   ],
   "metadata": {
    "collapsed": false,
    "pycharm": {
     "name": "#%%\n"
    }
   }
  },
  {
   "cell_type": "code",
   "execution_count": 12,
   "outputs": [
    {
     "name": "stdout",
     "output_type": "stream",
     "text": [
      "run on synagogues\n",
      "in synagogues has 481 synagogues \n",
      "there is  481 synagogues\n",
      "there is  443 synagogues after dropping duplicate\n"
     ]
    }
   ],
   "source": [
    "# Upload and then merge all files for each item in the dictionary\n",
    "for files in data_dic.items():\n",
    "    data_list = []\n",
    "    name = files[0]\n",
    "    print('run on {}'.format(name))\n",
    "    # In the new file, which data should be retained?\n",
    "    cols = ['geometry']\n",
    "    files_path =  files[1]\n",
    "    for file_path in files_path:\n",
    "        file =  gpd.read_file(file_path)[cols].reset_index()\n",
    "        # Make sure the file is in the correct CRS and if not, transform it to the right one\n",
    "        if file .crs.srs !=layer_crs:\n",
    "            print('different crs')\n",
    "            file.to_crs(layer_crs)\n",
    "        file_name =  file_path.split('\\\\')[-2]\n",
    "        print('in {} has {} {} '.format(file_name ,len(file),name))\n",
    "        file['name'] = file_name\n",
    "        data_list.append(file)\n",
    "    # Combine all and leave only one among those  with the same geometry\n",
    "    one_file = pd.concat(data_list)\n",
    "    print('there is  {} {}'.format(len(one_file),name))\n",
    "    clean_file  = one_file.drop_duplicates(subset='geometry')\n",
    "    print('there is  {} {} after dropping duplicate'.format(len(clean_file),name))\n",
    "    clean_file.to_file('output/streets_elements/elements/elements_as_length/{}.shp'.format(name))"
   ],
   "metadata": {
    "collapsed": false,
    "pycharm": {
     "name": "#%%\n"
    }
   }
  },
  {
   "cell_type": "markdown",
   "source": [
    "## Add streets' elements as attributes to the street"
   ],
   "metadata": {
    "collapsed": false,
    "pycharm": {
     "name": "#%% md\n"
    }
   }
  },
  {
   "cell_type": "code",
   "execution_count": 4,
   "outputs": [],
   "source": [
    "res_path = 'output/streets_elements'\n",
    "clean_network = gpd.read_file(r'{}/clean_network.shp'.format(res_path))\n",
    "col_to_leave = ['length','geometry','oidrechov']\n",
    "clean_network['length'] = clean_network.length"
   ],
   "metadata": {
    "collapsed": false,
    "pycharm": {
     "name": "#%%\n"
    }
   }
  },
  {
   "cell_type": "code",
   "execution_count": 5,
   "outputs": [
    {
     "data": {
      "text/plain": "['output/streets_elements//elements/elements_as_length\\\\bus_stations.shp',\n 'output/streets_elements//elements/elements_as_length\\\\lighting.shp',\n 'output/streets_elements//elements/elements_as_length\\\\trees.shp']"
     },
     "execution_count": 5,
     "metadata": {},
     "output_type": "execute_result"
    }
   ],
   "source": [
    "objects_folder = glob.glob('output/streets_elements//elements/elements_as_length/*.shp')\n",
    "objects_folder"
   ],
   "metadata": {
    "collapsed": false,
    "pycharm": {
     "name": "#%%\n"
    }
   }
  },
  {
   "cell_type": "markdown",
   "source": [
    "### Relative Count"
   ],
   "metadata": {
    "collapsed": false,
    "pycharm": {
     "name": "#%% md\n"
    }
   }
  },
  {
   "cell_type": "code",
   "execution_count": 6,
   "outputs": [
    {
     "name": "stdout",
     "output_type": "stream",
     "text": [
      "bus_stations\n"
     ]
    },
    {
     "name": "stderr",
     "output_type": "stream",
     "text": [
      "C:\\Users\\Achituv\\AppData\\Local\\Temp\\ipykernel_19564\\5065397.py:16: UserWarning: Column names longer than 10 characters will be truncated when saved to ESRI Shapefile.\n",
      "  sjoin.to_file('{}/sjoin.shp'.format(path))\n",
      "C:\\Users\\Achituv\\anaconda3\\envs\\momepy_env\\lib\\site-packages\\geopandas\\geodataframe.py:1472: SettingWithCopyWarning: \n",
      "A value is trying to be set on a copy of a slice from a DataFrame.\n",
      "Try using .loc[row_indexer,col_indexer] = value instead\n",
      "\n",
      "See the caveats in the documentation: https://pandas.pydata.org/pandas-docs/stable/user_guide/indexing.html#returning-a-view-versus-a-copy\n",
      "  super().__setitem__(key, value)\n",
      "C:\\Users\\Achituv\\anaconda3\\envs\\momepy_env\\lib\\site-packages\\geopandas\\geodataframe.py:1472: SettingWithCopyWarning: \n",
      "A value is trying to be set on a copy of a slice from a DataFrame.\n",
      "Try using .loc[row_indexer,col_indexer] = value instead\n",
      "\n",
      "See the caveats in the documentation: https://pandas.pydata.org/pandas-docs/stable/user_guide/indexing.html#returning-a-view-versus-a-copy\n",
      "  super().__setitem__(key, value)\n"
     ]
    },
    {
     "name": "stdout",
     "output_type": "stream",
     "text": [
      "lighting\n"
     ]
    },
    {
     "name": "stderr",
     "output_type": "stream",
     "text": [
      "C:\\Users\\Achituv\\AppData\\Local\\Temp\\ipykernel_19564\\5065397.py:16: UserWarning: Column names longer than 10 characters will be truncated when saved to ESRI Shapefile.\n",
      "  sjoin.to_file('{}/sjoin.shp'.format(path))\n",
      "C:\\Users\\Achituv\\anaconda3\\envs\\momepy_env\\lib\\site-packages\\geopandas\\geodataframe.py:1472: SettingWithCopyWarning: \n",
      "A value is trying to be set on a copy of a slice from a DataFrame.\n",
      "Try using .loc[row_indexer,col_indexer] = value instead\n",
      "\n",
      "See the caveats in the documentation: https://pandas.pydata.org/pandas-docs/stable/user_guide/indexing.html#returning-a-view-versus-a-copy\n",
      "  super().__setitem__(key, value)\n",
      "C:\\Users\\Achituv\\anaconda3\\envs\\momepy_env\\lib\\site-packages\\geopandas\\geodataframe.py:1472: SettingWithCopyWarning: \n",
      "A value is trying to be set on a copy of a slice from a DataFrame.\n",
      "Try using .loc[row_indexer,col_indexer] = value instead\n",
      "\n",
      "See the caveats in the documentation: https://pandas.pydata.org/pandas-docs/stable/user_guide/indexing.html#returning-a-view-versus-a-copy\n",
      "  super().__setitem__(key, value)\n"
     ]
    },
    {
     "name": "stdout",
     "output_type": "stream",
     "text": [
      "trees\n"
     ]
    },
    {
     "name": "stderr",
     "output_type": "stream",
     "text": [
      "C:\\Users\\Achituv\\AppData\\Local\\Temp\\ipykernel_19564\\5065397.py:16: UserWarning: Column names longer than 10 characters will be truncated when saved to ESRI Shapefile.\n",
      "  sjoin.to_file('{}/sjoin.shp'.format(path))\n",
      "C:\\Users\\Achituv\\anaconda3\\envs\\momepy_env\\lib\\site-packages\\geopandas\\geodataframe.py:1472: SettingWithCopyWarning: \n",
      "A value is trying to be set on a copy of a slice from a DataFrame.\n",
      "Try using .loc[row_indexer,col_indexer] = value instead\n",
      "\n",
      "See the caveats in the documentation: https://pandas.pydata.org/pandas-docs/stable/user_guide/indexing.html#returning-a-view-versus-a-copy\n",
      "  super().__setitem__(key, value)\n",
      "C:\\Users\\Achituv\\anaconda3\\envs\\momepy_env\\lib\\site-packages\\geopandas\\geodataframe.py:1472: SettingWithCopyWarning: \n",
      "A value is trying to be set on a copy of a slice from a DataFrame.\n",
      "Try using .loc[row_indexer,col_indexer] = value instead\n",
      "\n",
      "See the caveats in the documentation: https://pandas.pydata.org/pandas-docs/stable/user_guide/indexing.html#returning-a-view-versus-a-copy\n",
      "  super().__setitem__(key, value)\n",
      "C:\\Users\\Achituv\\AppData\\Local\\Temp\\ipykernel_19564\\5065397.py:28: UserWarning: Column names longer than 10 characters will be truncated when saved to ESRI Shapefile.\n",
      "  clean_network.to_file('output/streets_elements/streets_elements.shp')\n"
     ]
    },
    {
     "name": "stdout",
     "output_type": "stream",
     "text": [
      "finish\n"
     ]
    }
   ],
   "source": [
    "files_names = ['trees','lighting','bus_stations']\n",
    "for objects_file in objects_folder:\n",
    "    name = objects_file.split(\"\\\\\")[-1].split('.')[0]\n",
    "    print(name)\n",
    "    if  not name in files_names:\n",
    "        print(\"{} not in files name\")\n",
    "        continue\n",
    "    clean_network_temp =clean_network[col_to_leave]\n",
    "    objects_file = gpd.read_file(objects_file)\n",
    "    if 'index' in objects_file.columns:\n",
    "        objects_file = objects_file.drop(columns=['index'])\n",
    "    # Find the nearest street segment for each object\n",
    "    sjoin= objects_file.sjoin_nearest(clean_network_temp,distance_col='dis', max_distance=50)\n",
    "    path = 'output/streets_elements/detailed_folder/elements_as_length/{}'.format(name)\n",
    "    os.makedirs(path,exist_ok = True)\n",
    "    sjoin.to_file('{}/sjoin.shp'.format(path))\n",
    "    # Aggregate objects that share the same closet street\n",
    "    dissolve = sjoin.dissolve(by = 'oidrechov',aggfunc='count')\n",
    "    clean_network_temp.set_index('oidrechov', inplace=True)\n",
    "    clean_network.set_index('oidrechov', inplace=True)\n",
    "    # Each street segment is updated with the number of objects around it and the ratio between that number and its length.\n",
    "    clean_network_temp['count'] = dissolve['length']\n",
    "    clean_network_temp['ratio'] = clean_network_temp['count'] / clean_network_temp['length']\n",
    "    # Results are stored in two files - one specifically for the current object and one for the general streets network.\n",
    "    clean_network[name] = clean_network_temp['ratio']\n",
    "    clean_network.reset_index(inplace=True)\n",
    "    clean_network_temp.to_file('{}/streets_elements_{}.shp'.format(path,name))\n",
    "clean_network.to_file('output/streets_elements/streets_elements.shp')\n",
    "print('finish')"
   ],
   "metadata": {
    "collapsed": false,
    "pycharm": {
     "name": "#%%\n"
    }
   }
  },
  {
   "cell_type": "code",
   "execution_count": null,
   "outputs": [],
   "source": [],
   "metadata": {
    "collapsed": false,
    "pycharm": {
     "name": "#%%\n"
    }
   }
  }
 ],
 "metadata": {
  "kernelspec": {
   "display_name": "Python 3",
   "language": "python",
   "name": "python3"
  },
  "language_info": {
   "codemirror_mode": {
    "name": "ipython",
    "version": 2
   },
   "file_extension": ".py",
   "mimetype": "text/x-python",
   "name": "python",
   "nbconvert_exporter": "python",
   "pygments_lexer": "ipython2",
   "version": "2.7.6"
  }
 },
 "nbformat": 4,
 "nbformat_minor": 0
}