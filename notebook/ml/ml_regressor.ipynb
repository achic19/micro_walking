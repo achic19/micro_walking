{
 "cells": [
  {
   "cell_type": "code",
   "execution_count": 1,
   "outputs": [],
   "source": [
    "\n",
    "import pandas as pd\n",
    "import warnings\n",
    "warnings.filterwarnings(action='ignore')\n",
    "\n",
    "\n",
    "# fields names\n",
    "ped_level= 'ped_level'\n",
    "import os\n",
    "general_path = os.path.dirname(os.path.abspath(os.getcwd()))\n",
    "\n",
    "from sklearn.model_selection import train_test_split\n",
    "\n",
    "from sklearn.model_selection import ShuffleSplit\n",
    "from sklearn.model_selection import GridSearchCV\n",
    "from sklearn.tree import DecisionTreeRegressor\n",
    "from sklearn.pipeline import Pipeline\n",
    "from sklearn.decomposition import PCA\n",
    "from sklearn.metrics import r2_score, mean_squared_error, mean_absolute_error, explained_variance_score,median_absolute_error\n"
   ],
   "metadata": {
    "collapsed": false,
    "pycharm": {
     "name": "#%%\n"
    }
   }
  },
  {
   "cell_type": "code",
   "execution_count": 2,
   "outputs": [
    {
     "data": {
      "text/plain": "        day part  season  day  buildings  businesses  educationa  Health_ser  \\\n0              0       2    0  12.580000         0.0           8           1   \n1              1       2    0  12.580000         0.0           8           1   \n2              2       2    0  12.580000         0.0           8           1   \n3              3       2    0  12.580000         0.0           8           1   \n4              0       2    1  12.580000         0.0           8           1   \n...          ...     ...  ...        ...         ...         ...         ...   \n473795         3       0    0  21.498333         0.0           9           3   \n473796         0       0    1  21.498333         0.0           9           3   \n473797         1       0    1  21.498333         0.0           9           3   \n473798         2       0    1  21.498333         0.0           9           3   \n473799         3       0    1  21.498333         0.0           9           3   \n\n        Leisure_am  Playground  Sport_faci  ...  trees  bike_trail  parks  \\\n0                0           7           3  ...    0.0           0     12   \n1                0           7           3  ...    0.0           0     12   \n2                0           7           3  ...    0.0           0     12   \n3                0           7           3  ...    0.0           0     12   \n4                0           7           3  ...    0.0           0     12   \n...            ...         ...         ...  ...    ...         ...    ...   \n473795           4           2           2  ...    0.0           0      6   \n473796           4           2           2  ...    0.0           0      6   \n473797           4           2           2  ...    0.0           0      6   \n473798           4           2           2  ...    0.0           0      6   \n473799           4           2           2  ...    0.0           0      6   \n\n        density  closeness  betweennes  node_start  node_end  \\\n0           3.3   0.014734    0.004886           0         1   \n1           3.3   0.014734    0.004886           0         1   \n2           3.3   0.014734    0.004886           0         1   \n3           3.3   0.014734    0.004886           0         1   \n4           3.3   0.014734    0.004886           0         1   \n...         ...        ...         ...         ...       ...   \n473795     22.9   0.024888    0.001354        6432      6433   \n473796     22.9   0.024888    0.001354        6432      6433   \n473797     22.9   0.024888    0.001354        6432      6433   \n473798     22.9   0.024888    0.001354        6432      6433   \n473799     22.9   0.024888    0.001354        6432      6433   \n\n                                                 geometry  ped_level  \n0       LINESTRING (184322.70500000002 668574.483, 184...          1  \n1       LINESTRING (184322.70500000002 668574.483, 184...          0  \n2       LINESTRING (184322.70500000002 668574.483, 184...          2  \n3       LINESTRING (184322.70500000002 668574.483, 184...          0  \n4       LINESTRING (184322.70500000002 668574.483, 184...          0  \n...                                                   ...        ...  \n473795  LINESTRING (178804.17200000002 665057.617, 178...          4  \n473796  LINESTRING (178804.17200000002 665057.617, 178...          4  \n473797  LINESTRING (178804.17200000002 665057.617, 178...          4  \n473798  LINESTRING (178804.17200000002 665057.617, 178...          4  \n473799  LINESTRING (178804.17200000002 665057.617, 178...          4  \n\n[473800 rows x 23 columns]",
      "text/html": "<div>\n<style scoped>\n    .dataframe tbody tr th:only-of-type {\n        vertical-align: middle;\n    }\n\n    .dataframe tbody tr th {\n        vertical-align: top;\n    }\n\n    .dataframe thead th {\n        text-align: right;\n    }\n</style>\n<table border=\"1\" class=\"dataframe\">\n  <thead>\n    <tr style=\"text-align: right;\">\n      <th></th>\n      <th>day part</th>\n      <th>season</th>\n      <th>day</th>\n      <th>buildings</th>\n      <th>businesses</th>\n      <th>educationa</th>\n      <th>Health_ser</th>\n      <th>Leisure_am</th>\n      <th>Playground</th>\n      <th>Sport_faci</th>\n      <th>...</th>\n      <th>trees</th>\n      <th>bike_trail</th>\n      <th>parks</th>\n      <th>density</th>\n      <th>closeness</th>\n      <th>betweennes</th>\n      <th>node_start</th>\n      <th>node_end</th>\n      <th>geometry</th>\n      <th>ped_level</th>\n    </tr>\n  </thead>\n  <tbody>\n    <tr>\n      <th>0</th>\n      <td>0</td>\n      <td>2</td>\n      <td>0</td>\n      <td>12.580000</td>\n      <td>0.0</td>\n      <td>8</td>\n      <td>1</td>\n      <td>0</td>\n      <td>7</td>\n      <td>3</td>\n      <td>...</td>\n      <td>0.0</td>\n      <td>0</td>\n      <td>12</td>\n      <td>3.3</td>\n      <td>0.014734</td>\n      <td>0.004886</td>\n      <td>0</td>\n      <td>1</td>\n      <td>LINESTRING (184322.70500000002 668574.483, 184...</td>\n      <td>1</td>\n    </tr>\n    <tr>\n      <th>1</th>\n      <td>1</td>\n      <td>2</td>\n      <td>0</td>\n      <td>12.580000</td>\n      <td>0.0</td>\n      <td>8</td>\n      <td>1</td>\n      <td>0</td>\n      <td>7</td>\n      <td>3</td>\n      <td>...</td>\n      <td>0.0</td>\n      <td>0</td>\n      <td>12</td>\n      <td>3.3</td>\n      <td>0.014734</td>\n      <td>0.004886</td>\n      <td>0</td>\n      <td>1</td>\n      <td>LINESTRING (184322.70500000002 668574.483, 184...</td>\n      <td>0</td>\n    </tr>\n    <tr>\n      <th>2</th>\n      <td>2</td>\n      <td>2</td>\n      <td>0</td>\n      <td>12.580000</td>\n      <td>0.0</td>\n      <td>8</td>\n      <td>1</td>\n      <td>0</td>\n      <td>7</td>\n      <td>3</td>\n      <td>...</td>\n      <td>0.0</td>\n      <td>0</td>\n      <td>12</td>\n      <td>3.3</td>\n      <td>0.014734</td>\n      <td>0.004886</td>\n      <td>0</td>\n      <td>1</td>\n      <td>LINESTRING (184322.70500000002 668574.483, 184...</td>\n      <td>2</td>\n    </tr>\n    <tr>\n      <th>3</th>\n      <td>3</td>\n      <td>2</td>\n      <td>0</td>\n      <td>12.580000</td>\n      <td>0.0</td>\n      <td>8</td>\n      <td>1</td>\n      <td>0</td>\n      <td>7</td>\n      <td>3</td>\n      <td>...</td>\n      <td>0.0</td>\n      <td>0</td>\n      <td>12</td>\n      <td>3.3</td>\n      <td>0.014734</td>\n      <td>0.004886</td>\n      <td>0</td>\n      <td>1</td>\n      <td>LINESTRING (184322.70500000002 668574.483, 184...</td>\n      <td>0</td>\n    </tr>\n    <tr>\n      <th>4</th>\n      <td>0</td>\n      <td>2</td>\n      <td>1</td>\n      <td>12.580000</td>\n      <td>0.0</td>\n      <td>8</td>\n      <td>1</td>\n      <td>0</td>\n      <td>7</td>\n      <td>3</td>\n      <td>...</td>\n      <td>0.0</td>\n      <td>0</td>\n      <td>12</td>\n      <td>3.3</td>\n      <td>0.014734</td>\n      <td>0.004886</td>\n      <td>0</td>\n      <td>1</td>\n      <td>LINESTRING (184322.70500000002 668574.483, 184...</td>\n      <td>0</td>\n    </tr>\n    <tr>\n      <th>...</th>\n      <td>...</td>\n      <td>...</td>\n      <td>...</td>\n      <td>...</td>\n      <td>...</td>\n      <td>...</td>\n      <td>...</td>\n      <td>...</td>\n      <td>...</td>\n      <td>...</td>\n      <td>...</td>\n      <td>...</td>\n      <td>...</td>\n      <td>...</td>\n      <td>...</td>\n      <td>...</td>\n      <td>...</td>\n      <td>...</td>\n      <td>...</td>\n      <td>...</td>\n      <td>...</td>\n    </tr>\n    <tr>\n      <th>473795</th>\n      <td>3</td>\n      <td>0</td>\n      <td>0</td>\n      <td>21.498333</td>\n      <td>0.0</td>\n      <td>9</td>\n      <td>3</td>\n      <td>4</td>\n      <td>2</td>\n      <td>2</td>\n      <td>...</td>\n      <td>0.0</td>\n      <td>0</td>\n      <td>6</td>\n      <td>22.9</td>\n      <td>0.024888</td>\n      <td>0.001354</td>\n      <td>6432</td>\n      <td>6433</td>\n      <td>LINESTRING (178804.17200000002 665057.617, 178...</td>\n      <td>4</td>\n    </tr>\n    <tr>\n      <th>473796</th>\n      <td>0</td>\n      <td>0</td>\n      <td>1</td>\n      <td>21.498333</td>\n      <td>0.0</td>\n      <td>9</td>\n      <td>3</td>\n      <td>4</td>\n      <td>2</td>\n      <td>2</td>\n      <td>...</td>\n      <td>0.0</td>\n      <td>0</td>\n      <td>6</td>\n      <td>22.9</td>\n      <td>0.024888</td>\n      <td>0.001354</td>\n      <td>6432</td>\n      <td>6433</td>\n      <td>LINESTRING (178804.17200000002 665057.617, 178...</td>\n      <td>4</td>\n    </tr>\n    <tr>\n      <th>473797</th>\n      <td>1</td>\n      <td>0</td>\n      <td>1</td>\n      <td>21.498333</td>\n      <td>0.0</td>\n      <td>9</td>\n      <td>3</td>\n      <td>4</td>\n      <td>2</td>\n      <td>2</td>\n      <td>...</td>\n      <td>0.0</td>\n      <td>0</td>\n      <td>6</td>\n      <td>22.9</td>\n      <td>0.024888</td>\n      <td>0.001354</td>\n      <td>6432</td>\n      <td>6433</td>\n      <td>LINESTRING (178804.17200000002 665057.617, 178...</td>\n      <td>4</td>\n    </tr>\n    <tr>\n      <th>473798</th>\n      <td>2</td>\n      <td>0</td>\n      <td>1</td>\n      <td>21.498333</td>\n      <td>0.0</td>\n      <td>9</td>\n      <td>3</td>\n      <td>4</td>\n      <td>2</td>\n      <td>2</td>\n      <td>...</td>\n      <td>0.0</td>\n      <td>0</td>\n      <td>6</td>\n      <td>22.9</td>\n      <td>0.024888</td>\n      <td>0.001354</td>\n      <td>6432</td>\n      <td>6433</td>\n      <td>LINESTRING (178804.17200000002 665057.617, 178...</td>\n      <td>4</td>\n    </tr>\n    <tr>\n      <th>473799</th>\n      <td>3</td>\n      <td>0</td>\n      <td>1</td>\n      <td>21.498333</td>\n      <td>0.0</td>\n      <td>9</td>\n      <td>3</td>\n      <td>4</td>\n      <td>2</td>\n      <td>2</td>\n      <td>...</td>\n      <td>0.0</td>\n      <td>0</td>\n      <td>6</td>\n      <td>22.9</td>\n      <td>0.024888</td>\n      <td>0.001354</td>\n      <td>6432</td>\n      <td>6433</td>\n      <td>LINESTRING (178804.17200000002 665057.617, 178...</td>\n      <td>4</td>\n    </tr>\n  </tbody>\n</table>\n<p>473800 rows × 23 columns</p>\n</div>"
     },
     "execution_count": 2,
     "metadata": {},
     "output_type": "execute_result"
    }
   ],
   "source": [
    "ml_df = pd.read_csv('output/model_data_final.csv').drop(columns=['Unnamed: 0'])\n",
    "data_feature = ml_df.drop(columns=[ped_level,'geometry','node_end','node_start'])\n",
    "x_tree = data_feature.to_numpy()\n",
    "y_tree = ml_df[ped_level].to_numpy()\n",
    "ml_df"
   ],
   "metadata": {
    "collapsed": false,
    "pycharm": {
     "name": "#%%\n"
    }
   }
  },
  {
   "cell_type": "code",
   "execution_count": 26,
   "outputs": [
    {
     "name": "stdout",
     "output_type": "stream",
     "text": [
      "R2 scores: [0.52280685]\n",
      "Mean squared error: [0.98736613]\n",
      "Mean absolute error: [0.64981296]\n",
      "Explained variance score: [0.52282725]\n",
      "Median absolute error: [0.5]\n"
     ]
    }
   ],
   "source": [
    "# Model without PCA\n",
    "my_pipeline = Pipeline([\n",
    "    ('classifier', DecisionTreeRegressor())\n",
    "])\n",
    "cv = ShuffleSplit(n_splits=5, test_size=0.3)\n",
    "param_grid ={}\n",
    "\n",
    "# Divide the data to training and test\n",
    "X_train, X_test, y_train, y_test = train_test_split(x_tree, y_tree, test_size=0.2, random_state=0)\n",
    "# Find the optimal parameters and cross validation\n",
    "search =GridSearchCV(my_pipeline, param_grid=param_grid,cv=cv,n_jobs=-1)\n",
    "search.fit(X_train, y_train)\n",
    "# model accuracy and performance\n",
    "y_pred =search.best_estimator_.predict(X_test)\n",
    "\n",
    "# Compute the R2 score for each label\n",
    "r2_scores = r2_score(y_test, y_pred, multioutput='raw_values')\n",
    "print('R2 scores:', r2_scores)\n",
    "\n",
    "# Compute the mean squared error for each label\n",
    "mse_scores = mean_squared_error(y_test, y_pred, multioutput='raw_values')\n",
    "print('Mean squared error:', mse_scores)\n",
    "\n",
    "# Compute the mean absolute error for each label\n",
    "mae_scores = mean_absolute_error(y_test, y_pred, multioutput='raw_values')\n",
    "print('Mean absolute error:', mae_scores)\n",
    "\n",
    "# Compute the mean absolute error for each label\n",
    "var_scores = explained_variance_score(y_test, y_pred, multioutput='raw_values')\n",
    "print('Explained variance score:', var_scores)\n",
    "med_scores = median_absolute_error(y_test, y_pred, multioutput='raw_values')\n",
    "print('Median absolute error:', med_scores)"
   ],
   "metadata": {
    "collapsed": false,
    "pycharm": {
     "name": "#%%\n"
    }
   }
  },
  {
   "cell_type": "code",
   "execution_count": 30,
   "outputs": [
    {
     "data": {
      "text/plain": "       y_test  y_pred\n0           0     0.0\n1           2     0.0\n2           2     1.0\n3           2     3.0\n4           0     0.0\n...       ...     ...\n94755       3     4.0\n94756       2     1.0\n94757       3     1.0\n94758       4     4.0\n94759       2     1.0\n\n[94760 rows x 2 columns]",
      "text/html": "<div>\n<style scoped>\n    .dataframe tbody tr th:only-of-type {\n        vertical-align: middle;\n    }\n\n    .dataframe tbody tr th {\n        vertical-align: top;\n    }\n\n    .dataframe thead th {\n        text-align: right;\n    }\n</style>\n<table border=\"1\" class=\"dataframe\">\n  <thead>\n    <tr style=\"text-align: right;\">\n      <th></th>\n      <th>y_test</th>\n      <th>y_pred</th>\n    </tr>\n  </thead>\n  <tbody>\n    <tr>\n      <th>0</th>\n      <td>0</td>\n      <td>0.0</td>\n    </tr>\n    <tr>\n      <th>1</th>\n      <td>2</td>\n      <td>0.0</td>\n    </tr>\n    <tr>\n      <th>2</th>\n      <td>2</td>\n      <td>1.0</td>\n    </tr>\n    <tr>\n      <th>3</th>\n      <td>2</td>\n      <td>3.0</td>\n    </tr>\n    <tr>\n      <th>4</th>\n      <td>0</td>\n      <td>0.0</td>\n    </tr>\n    <tr>\n      <th>...</th>\n      <td>...</td>\n      <td>...</td>\n    </tr>\n    <tr>\n      <th>94755</th>\n      <td>3</td>\n      <td>4.0</td>\n    </tr>\n    <tr>\n      <th>94756</th>\n      <td>2</td>\n      <td>1.0</td>\n    </tr>\n    <tr>\n      <th>94757</th>\n      <td>3</td>\n      <td>1.0</td>\n    </tr>\n    <tr>\n      <th>94758</th>\n      <td>4</td>\n      <td>4.0</td>\n    </tr>\n    <tr>\n      <th>94759</th>\n      <td>2</td>\n      <td>1.0</td>\n    </tr>\n  </tbody>\n</table>\n<p>94760 rows × 2 columns</p>\n</div>"
     },
     "execution_count": 30,
     "metadata": {},
     "output_type": "execute_result"
    }
   ],
   "source": [
    "from pandas import DataFrame\n",
    "stat_df  = DataFrame(data={'y_test':y_test,'y_pred':y_pred})\n",
    "stat_df"
   ],
   "metadata": {
    "collapsed": false,
    "pycharm": {
     "name": "#%%\n"
    }
   }
  },
  {
   "cell_type": "code",
   "execution_count": 35,
   "outputs": [
    {
     "name": "stdout",
     "output_type": "stream",
     "text": [
      "group 0, samples: 22144, MSE:1.110884318413059\n",
      "group 1, samples: 18391, MSE:0.9843300769095995\n",
      "group 2, samples: 18969, MSE:1.1011957960649243\n",
      "group 3, samples: 17011, MSE:1.1457972619024293\n",
      "group 4, samples: 18245, MSE:0.5744498492737736\n"
     ]
    }
   ],
   "source": [
    "for group in stat_df.groupby('y_test'):\n",
    "    data_group = group[1]\n",
    "    print(f'group {group[0]}, samples: {len(data_group)}, MSE:{mean_squared_error(data_group[\"y_test\"],data_group[\"y_pred\"])}')\n",
    "\n"
   ],
   "metadata": {
    "collapsed": false,
    "pycharm": {
     "name": "#%%\n"
    }
   }
  },
  {
   "cell_type": "code",
   "execution_count": 22,
   "outputs": [
    {
     "name": "stdout",
     "output_type": "stream",
     "text": [
      "R2 scores: [0.51930274]\n",
      "Mean squared error: [0.99461652]\n",
      "Mean absolute error: [0.65353349]\n",
      "Explained variance score: [0.51931166]\n",
      "Median absolute error: [0.5]\n"
     ]
    }
   ],
   "source": [
    "# Model without tuning with PCA\n",
    "\n",
    "my_pipeline = Pipeline([\n",
    "    ('pca', PCA()),\n",
    "    ('classifier', DecisionTreeRegressor())\n",
    "])\n",
    "cv = ShuffleSplit(n_splits=5, test_size=0.3)\n",
    "\n",
    "\n",
    "param_grid ={}\n",
    "\n",
    "# Divide the data to training and test\n",
    "X_train, X_test, y_train, y_test = train_test_split(x_tree, y_tree, test_size=0.2, random_state=0)\n",
    "# Find the optimal parameters and cross validation\n",
    "search =GridSearchCV(my_pipeline, param_grid=param_grid,cv=cv,n_jobs=-1)\n",
    "search.fit(X_train, y_train)\n",
    "# model accuracy and performance\n",
    "y_pred =search.best_estimator_.predict(X_test)\n",
    "\n",
    "# Compute the R2 score for each label\n",
    "r2_scores = r2_score(y_test, y_pred, multioutput='raw_values')\n",
    "print('R2 scores:', r2_scores)\n",
    "\n",
    "# Compute the mean squared error for each label\n",
    "mse_scores = mean_squared_error(y_test, y_pred, multioutput='raw_values')\n",
    "print('Mean squared error:', mse_scores)\n",
    "\n",
    "# Compute the mean absolute error for each label\n",
    "mae_scores = mean_absolute_error(y_test, y_pred, multioutput='raw_values')\n",
    "print('Mean absolute error:', mae_scores)\n",
    "\n",
    "# Compute the mean absolute error for each label\n",
    "var_scores = explained_variance_score(y_test, y_pred, multioutput='raw_values')\n",
    "print('Explained variance score:', var_scores)\n",
    "med_scores = median_absolute_error(y_test, y_pred, multioutput='raw_values')\n",
    "print('Median absolute error:', med_scores)"
   ],
   "metadata": {
    "collapsed": false,
    "pycharm": {
     "name": "#%%\n"
    }
   }
  },
  {
   "cell_type": "code",
   "execution_count": 25,
   "outputs": [
    {
     "name": "stdout",
     "output_type": "stream",
     "text": [
      "R2 scores: [0.52205201]\n",
      "Mean squared error: [0.98892797]\n",
      "Mean absolute error: [0.65017176]\n",
      "Explained variance score: [0.52207558]\n",
      "Median absolute error: [0.5]\n"
     ]
    }
   ],
   "source": [
    "# Model without centrality\n",
    "data_feature_1 = data_feature.drop(columns=['closeness','betweennes'])\n",
    "x_tree = data_feature_1.to_numpy()\n",
    "y_tree = ml_df[ped_level].to_numpy()\n",
    "\n",
    "my_pipeline = Pipeline([\n",
    "    ('classifier', DecisionTreeRegressor())\n",
    "])\n",
    "cv = ShuffleSplit(n_splits=5, test_size=0.3)\n",
    "\n",
    "param_grid ={}\n",
    "\n",
    "# Divide the data to training and test\n",
    "X_train, X_test, y_train, y_test = train_test_split(x_tree, y_tree, test_size=0.2, random_state=0)\n",
    "# Find the optimal parameters and cross validation\n",
    "search =GridSearchCV(my_pipeline, param_grid=param_grid,cv=cv,n_jobs=-1)\n",
    "search.fit(X_train, y_train)\n",
    "# model accuracy and performance\n",
    "y_pred =search.best_estimator_.predict(X_test)\n",
    "\n",
    "# Compute the R2 score for each label\n",
    "r2_scores = r2_score(y_test, y_pred, multioutput='raw_values')\n",
    "print('R2 scores:', r2_scores)\n",
    "\n",
    "# Compute the mean squared error for each label\n",
    "mse_scores = mean_squared_error(y_test, y_pred, multioutput='raw_values')\n",
    "print('Mean squared error:', mse_scores)\n",
    "\n",
    "# Compute the mean absolute error for each label\n",
    "mae_scores = mean_absolute_error(y_test, y_pred, multioutput='raw_values')\n",
    "print('Mean absolute error:', mae_scores)\n",
    "\n",
    "# Compute the mean absolute error for each label\n",
    "var_scores = explained_variance_score(y_test, y_pred, multioutput='raw_values')\n",
    "print('Explained variance score:', var_scores)\n",
    "med_scores = median_absolute_error(y_test, y_pred, multioutput='raw_values')\n",
    "print('Median absolute error:', med_scores)"
   ],
   "metadata": {
    "collapsed": false,
    "pycharm": {
     "name": "#%%\n"
    }
   }
  },
  {
   "cell_type": "code",
   "execution_count": 3,
   "outputs": [
    {
     "ename": "OSError",
     "evalue": "[Errno 22] Invalid argument",
     "output_type": "error",
     "traceback": [
      "\u001B[1;31m---------------------------------------------------------------------------\u001B[0m",
      "\u001B[1;31mKeyboardInterrupt\u001B[0m                         Traceback (most recent call last)",
      "File \u001B[1;32m~\\anaconda3\\envs\\momepy_env\\lib\\site-packages\\joblib\\parallel.py:975\u001B[0m, in \u001B[0;36mParallel.retrieve\u001B[1;34m(self)\u001B[0m\n\u001B[0;32m    974\u001B[0m \u001B[38;5;28;01mif\u001B[39;00m \u001B[38;5;28mgetattr\u001B[39m(\u001B[38;5;28mself\u001B[39m\u001B[38;5;241m.\u001B[39m_backend, \u001B[38;5;124m'\u001B[39m\u001B[38;5;124msupports_timeout\u001B[39m\u001B[38;5;124m'\u001B[39m, \u001B[38;5;28;01mFalse\u001B[39;00m):\n\u001B[1;32m--> 975\u001B[0m     \u001B[38;5;28mself\u001B[39m\u001B[38;5;241m.\u001B[39m_output\u001B[38;5;241m.\u001B[39mextend(\u001B[43mjob\u001B[49m\u001B[38;5;241;43m.\u001B[39;49m\u001B[43mget\u001B[49m\u001B[43m(\u001B[49m\u001B[43mtimeout\u001B[49m\u001B[38;5;241;43m=\u001B[39;49m\u001B[38;5;28;43mself\u001B[39;49m\u001B[38;5;241;43m.\u001B[39;49m\u001B[43mtimeout\u001B[49m\u001B[43m)\u001B[49m)\n\u001B[0;32m    976\u001B[0m \u001B[38;5;28;01melse\u001B[39;00m:\n",
      "File \u001B[1;32m~\\anaconda3\\envs\\momepy_env\\lib\\site-packages\\joblib\\_parallel_backends.py:567\u001B[0m, in \u001B[0;36mLokyBackend.wrap_future_result\u001B[1;34m(future, timeout)\u001B[0m\n\u001B[0;32m    566\u001B[0m \u001B[38;5;28;01mtry\u001B[39;00m:\n\u001B[1;32m--> 567\u001B[0m     \u001B[38;5;28;01mreturn\u001B[39;00m \u001B[43mfuture\u001B[49m\u001B[38;5;241;43m.\u001B[39;49m\u001B[43mresult\u001B[49m\u001B[43m(\u001B[49m\u001B[43mtimeout\u001B[49m\u001B[38;5;241;43m=\u001B[39;49m\u001B[43mtimeout\u001B[49m\u001B[43m)\u001B[49m\n\u001B[0;32m    568\u001B[0m \u001B[38;5;28;01mexcept\u001B[39;00m CfTimeoutError \u001B[38;5;28;01mas\u001B[39;00m e:\n",
      "File \u001B[1;32m~\\anaconda3\\envs\\momepy_env\\lib\\concurrent\\futures\\_base.py:453\u001B[0m, in \u001B[0;36mFuture.result\u001B[1;34m(self, timeout)\u001B[0m\n\u001B[0;32m    451\u001B[0m     \u001B[38;5;28;01mreturn\u001B[39;00m \u001B[38;5;28mself\u001B[39m\u001B[38;5;241m.\u001B[39m__get_result()\n\u001B[1;32m--> 453\u001B[0m \u001B[38;5;28;43mself\u001B[39;49m\u001B[38;5;241;43m.\u001B[39;49m\u001B[43m_condition\u001B[49m\u001B[38;5;241;43m.\u001B[39;49m\u001B[43mwait\u001B[49m\u001B[43m(\u001B[49m\u001B[43mtimeout\u001B[49m\u001B[43m)\u001B[49m\n\u001B[0;32m    455\u001B[0m \u001B[38;5;28;01mif\u001B[39;00m \u001B[38;5;28mself\u001B[39m\u001B[38;5;241m.\u001B[39m_state \u001B[38;5;129;01min\u001B[39;00m [CANCELLED, CANCELLED_AND_NOTIFIED]:\n",
      "File \u001B[1;32m~\\anaconda3\\envs\\momepy_env\\lib\\threading.py:320\u001B[0m, in \u001B[0;36mCondition.wait\u001B[1;34m(self, timeout)\u001B[0m\n\u001B[0;32m    319\u001B[0m \u001B[38;5;28;01mif\u001B[39;00m timeout \u001B[38;5;129;01mis\u001B[39;00m \u001B[38;5;28;01mNone\u001B[39;00m:\n\u001B[1;32m--> 320\u001B[0m     \u001B[43mwaiter\u001B[49m\u001B[38;5;241;43m.\u001B[39;49m\u001B[43macquire\u001B[49m\u001B[43m(\u001B[49m\u001B[43m)\u001B[49m\n\u001B[0;32m    321\u001B[0m     gotit \u001B[38;5;241m=\u001B[39m \u001B[38;5;28;01mTrue\u001B[39;00m\n",
      "\u001B[1;31mKeyboardInterrupt\u001B[0m: ",
      "\nDuring handling of the above exception, another exception occurred:\n",
      "\u001B[1;31mOSError\u001B[0m                                   Traceback (most recent call last)",
      "File \u001B[1;32m~\\anaconda3\\envs\\momepy_env\\lib\\site-packages\\sklearn\\model_selection\\_search.py:875\u001B[0m, in \u001B[0;36mBaseSearchCV.fit\u001B[1;34m(self, X, y, groups, **fit_params)\u001B[0m\n\u001B[0;32m    873\u001B[0m     \u001B[38;5;28;01mreturn\u001B[39;00m results\n\u001B[1;32m--> 875\u001B[0m \u001B[38;5;28;43mself\u001B[39;49m\u001B[38;5;241;43m.\u001B[39;49m\u001B[43m_run_search\u001B[49m\u001B[43m(\u001B[49m\u001B[43mevaluate_candidates\u001B[49m\u001B[43m)\u001B[49m\n\u001B[0;32m    877\u001B[0m \u001B[38;5;66;03m# multimetric is determined here because in the case of a callable\u001B[39;00m\n\u001B[0;32m    878\u001B[0m \u001B[38;5;66;03m# self.scoring the return type is only known after calling\u001B[39;00m\n",
      "File \u001B[1;32m~\\anaconda3\\envs\\momepy_env\\lib\\site-packages\\sklearn\\model_selection\\_search.py:1753\u001B[0m, in \u001B[0;36mRandomizedSearchCV._run_search\u001B[1;34m(self, evaluate_candidates)\u001B[0m\n\u001B[0;32m   1752\u001B[0m \u001B[38;5;124;03m\"\"\"Search n_iter candidates from param_distributions\"\"\"\u001B[39;00m\n\u001B[1;32m-> 1753\u001B[0m \u001B[43mevaluate_candidates\u001B[49m\u001B[43m(\u001B[49m\n\u001B[0;32m   1754\u001B[0m \u001B[43m    \u001B[49m\u001B[43mParameterSampler\u001B[49m\u001B[43m(\u001B[49m\n\u001B[0;32m   1755\u001B[0m \u001B[43m        \u001B[49m\u001B[38;5;28;43mself\u001B[39;49m\u001B[38;5;241;43m.\u001B[39;49m\u001B[43mparam_distributions\u001B[49m\u001B[43m,\u001B[49m\u001B[43m \u001B[49m\u001B[38;5;28;43mself\u001B[39;49m\u001B[38;5;241;43m.\u001B[39;49m\u001B[43mn_iter\u001B[49m\u001B[43m,\u001B[49m\u001B[43m \u001B[49m\u001B[43mrandom_state\u001B[49m\u001B[38;5;241;43m=\u001B[39;49m\u001B[38;5;28;43mself\u001B[39;49m\u001B[38;5;241;43m.\u001B[39;49m\u001B[43mrandom_state\u001B[49m\n\u001B[0;32m   1756\u001B[0m \u001B[43m    \u001B[49m\u001B[43m)\u001B[49m\n\u001B[0;32m   1757\u001B[0m \u001B[43m\u001B[49m\u001B[43m)\u001B[49m\n",
      "File \u001B[1;32m~\\anaconda3\\envs\\momepy_env\\lib\\site-packages\\sklearn\\model_selection\\_search.py:822\u001B[0m, in \u001B[0;36mBaseSearchCV.fit.<locals>.evaluate_candidates\u001B[1;34m(candidate_params, cv, more_results)\u001B[0m\n\u001B[0;32m    815\u001B[0m     \u001B[38;5;28mprint\u001B[39m(\n\u001B[0;32m    816\u001B[0m         \u001B[38;5;124m\"\u001B[39m\u001B[38;5;124mFitting \u001B[39m\u001B[38;5;132;01m{0}\u001B[39;00m\u001B[38;5;124m folds for each of \u001B[39m\u001B[38;5;132;01m{1}\u001B[39;00m\u001B[38;5;124m candidates,\u001B[39m\u001B[38;5;124m\"\u001B[39m\n\u001B[0;32m    817\u001B[0m         \u001B[38;5;124m\"\u001B[39m\u001B[38;5;124m totalling \u001B[39m\u001B[38;5;132;01m{2}\u001B[39;00m\u001B[38;5;124m fits\u001B[39m\u001B[38;5;124m\"\u001B[39m\u001B[38;5;241m.\u001B[39mformat(\n\u001B[0;32m    818\u001B[0m             n_splits, n_candidates, n_candidates \u001B[38;5;241m*\u001B[39m n_splits\n\u001B[0;32m    819\u001B[0m         )\n\u001B[0;32m    820\u001B[0m     )\n\u001B[1;32m--> 822\u001B[0m out \u001B[38;5;241m=\u001B[39m \u001B[43mparallel\u001B[49m\u001B[43m(\u001B[49m\n\u001B[0;32m    823\u001B[0m \u001B[43m    \u001B[49m\u001B[43mdelayed\u001B[49m\u001B[43m(\u001B[49m\u001B[43m_fit_and_score\u001B[49m\u001B[43m)\u001B[49m\u001B[43m(\u001B[49m\n\u001B[0;32m    824\u001B[0m \u001B[43m        \u001B[49m\u001B[43mclone\u001B[49m\u001B[43m(\u001B[49m\u001B[43mbase_estimator\u001B[49m\u001B[43m)\u001B[49m\u001B[43m,\u001B[49m\n\u001B[0;32m    825\u001B[0m \u001B[43m        \u001B[49m\u001B[43mX\u001B[49m\u001B[43m,\u001B[49m\n\u001B[0;32m    826\u001B[0m \u001B[43m        \u001B[49m\u001B[43my\u001B[49m\u001B[43m,\u001B[49m\n\u001B[0;32m    827\u001B[0m \u001B[43m        \u001B[49m\u001B[43mtrain\u001B[49m\u001B[38;5;241;43m=\u001B[39;49m\u001B[43mtrain\u001B[49m\u001B[43m,\u001B[49m\n\u001B[0;32m    828\u001B[0m \u001B[43m        \u001B[49m\u001B[43mtest\u001B[49m\u001B[38;5;241;43m=\u001B[39;49m\u001B[43mtest\u001B[49m\u001B[43m,\u001B[49m\n\u001B[0;32m    829\u001B[0m \u001B[43m        \u001B[49m\u001B[43mparameters\u001B[49m\u001B[38;5;241;43m=\u001B[39;49m\u001B[43mparameters\u001B[49m\u001B[43m,\u001B[49m\n\u001B[0;32m    830\u001B[0m \u001B[43m        \u001B[49m\u001B[43msplit_progress\u001B[49m\u001B[38;5;241;43m=\u001B[39;49m\u001B[43m(\u001B[49m\u001B[43msplit_idx\u001B[49m\u001B[43m,\u001B[49m\u001B[43m \u001B[49m\u001B[43mn_splits\u001B[49m\u001B[43m)\u001B[49m\u001B[43m,\u001B[49m\n\u001B[0;32m    831\u001B[0m \u001B[43m        \u001B[49m\u001B[43mcandidate_progress\u001B[49m\u001B[38;5;241;43m=\u001B[39;49m\u001B[43m(\u001B[49m\u001B[43mcand_idx\u001B[49m\u001B[43m,\u001B[49m\u001B[43m \u001B[49m\u001B[43mn_candidates\u001B[49m\u001B[43m)\u001B[49m\u001B[43m,\u001B[49m\n\u001B[0;32m    832\u001B[0m \u001B[43m        \u001B[49m\u001B[38;5;241;43m*\u001B[39;49m\u001B[38;5;241;43m*\u001B[39;49m\u001B[43mfit_and_score_kwargs\u001B[49m\u001B[43m,\u001B[49m\n\u001B[0;32m    833\u001B[0m \u001B[43m    \u001B[49m\u001B[43m)\u001B[49m\n\u001B[0;32m    834\u001B[0m \u001B[43m    \u001B[49m\u001B[38;5;28;43;01mfor\u001B[39;49;00m\u001B[43m \u001B[49m\u001B[43m(\u001B[49m\u001B[43mcand_idx\u001B[49m\u001B[43m,\u001B[49m\u001B[43m \u001B[49m\u001B[43mparameters\u001B[49m\u001B[43m)\u001B[49m\u001B[43m,\u001B[49m\u001B[43m \u001B[49m\u001B[43m(\u001B[49m\u001B[43msplit_idx\u001B[49m\u001B[43m,\u001B[49m\u001B[43m \u001B[49m\u001B[43m(\u001B[49m\u001B[43mtrain\u001B[49m\u001B[43m,\u001B[49m\u001B[43m \u001B[49m\u001B[43mtest\u001B[49m\u001B[43m)\u001B[49m\u001B[43m)\u001B[49m\u001B[43m \u001B[49m\u001B[38;5;129;43;01min\u001B[39;49;00m\u001B[43m \u001B[49m\u001B[43mproduct\u001B[49m\u001B[43m(\u001B[49m\n\u001B[0;32m    835\u001B[0m \u001B[43m        \u001B[49m\u001B[38;5;28;43menumerate\u001B[39;49m\u001B[43m(\u001B[49m\u001B[43mcandidate_params\u001B[49m\u001B[43m)\u001B[49m\u001B[43m,\u001B[49m\u001B[43m \u001B[49m\u001B[38;5;28;43menumerate\u001B[39;49m\u001B[43m(\u001B[49m\u001B[43mcv\u001B[49m\u001B[38;5;241;43m.\u001B[39;49m\u001B[43msplit\u001B[49m\u001B[43m(\u001B[49m\u001B[43mX\u001B[49m\u001B[43m,\u001B[49m\u001B[43m \u001B[49m\u001B[43my\u001B[49m\u001B[43m,\u001B[49m\u001B[43m \u001B[49m\u001B[43mgroups\u001B[49m\u001B[43m)\u001B[49m\u001B[43m)\u001B[49m\n\u001B[0;32m    836\u001B[0m \u001B[43m    \u001B[49m\u001B[43m)\u001B[49m\n\u001B[0;32m    837\u001B[0m \u001B[43m\u001B[49m\u001B[43m)\u001B[49m\n\u001B[0;32m    839\u001B[0m \u001B[38;5;28;01mif\u001B[39;00m \u001B[38;5;28mlen\u001B[39m(out) \u001B[38;5;241m<\u001B[39m \u001B[38;5;241m1\u001B[39m:\n",
      "File \u001B[1;32m~\\anaconda3\\envs\\momepy_env\\lib\\site-packages\\joblib\\parallel.py:1098\u001B[0m, in \u001B[0;36mParallel.__call__\u001B[1;34m(self, iterable)\u001B[0m\n\u001B[0;32m   1097\u001B[0m \u001B[38;5;28;01mwith\u001B[39;00m \u001B[38;5;28mself\u001B[39m\u001B[38;5;241m.\u001B[39m_backend\u001B[38;5;241m.\u001B[39mretrieval_context():\n\u001B[1;32m-> 1098\u001B[0m     \u001B[38;5;28;43mself\u001B[39;49m\u001B[38;5;241;43m.\u001B[39;49m\u001B[43mretrieve\u001B[49m\u001B[43m(\u001B[49m\u001B[43m)\u001B[49m\n\u001B[0;32m   1099\u001B[0m \u001B[38;5;66;03m# Make sure that we get a last message telling us we are done\u001B[39;00m\n",
      "File \u001B[1;32m~\\anaconda3\\envs\\momepy_env\\lib\\site-packages\\joblib\\parallel.py:997\u001B[0m, in \u001B[0;36mParallel.retrieve\u001B[1;34m(self)\u001B[0m\n\u001B[0;32m    996\u001B[0m     ensure_ready \u001B[38;5;241m=\u001B[39m \u001B[38;5;28mself\u001B[39m\u001B[38;5;241m.\u001B[39m_managed_backend\n\u001B[1;32m--> 997\u001B[0m     \u001B[43mbackend\u001B[49m\u001B[38;5;241;43m.\u001B[39;49m\u001B[43mabort_everything\u001B[49m\u001B[43m(\u001B[49m\u001B[43mensure_ready\u001B[49m\u001B[38;5;241;43m=\u001B[39;49m\u001B[43mensure_ready\u001B[49m\u001B[43m)\u001B[49m\n\u001B[0;32m    998\u001B[0m \u001B[38;5;28;01mraise\u001B[39;00m\n",
      "File \u001B[1;32m~\\anaconda3\\envs\\momepy_env\\lib\\site-packages\\joblib\\_parallel_backends.py:586\u001B[0m, in \u001B[0;36mLokyBackend.abort_everything\u001B[1;34m(self, ensure_ready)\u001B[0m\n\u001B[0;32m    584\u001B[0m \u001B[38;5;124;03m\"\"\"Shutdown the workers and restart a new one with the same parameters\u001B[39;00m\n\u001B[0;32m    585\u001B[0m \u001B[38;5;124;03m\"\"\"\u001B[39;00m\n\u001B[1;32m--> 586\u001B[0m \u001B[38;5;28;43mself\u001B[39;49m\u001B[38;5;241;43m.\u001B[39;49m\u001B[43m_workers\u001B[49m\u001B[38;5;241;43m.\u001B[39;49m\u001B[43mterminate\u001B[49m\u001B[43m(\u001B[49m\u001B[43mkill_workers\u001B[49m\u001B[38;5;241;43m=\u001B[39;49m\u001B[38;5;28;43;01mTrue\u001B[39;49;00m\u001B[43m)\u001B[49m\n\u001B[0;32m    587\u001B[0m \u001B[38;5;28mself\u001B[39m\u001B[38;5;241m.\u001B[39m_workers \u001B[38;5;241m=\u001B[39m \u001B[38;5;28;01mNone\u001B[39;00m\n",
      "File \u001B[1;32m~\\anaconda3\\envs\\momepy_env\\lib\\site-packages\\joblib\\executor.py:86\u001B[0m, in \u001B[0;36mMemmappingExecutor.terminate\u001B[1;34m(self, kill_workers)\u001B[0m\n\u001B[0;32m     85\u001B[0m \u001B[38;5;28;01mwith\u001B[39;00m \u001B[38;5;28mself\u001B[39m\u001B[38;5;241m.\u001B[39m_submit_resize_lock:\n\u001B[1;32m---> 86\u001B[0m     \u001B[38;5;28;43mself\u001B[39;49m\u001B[38;5;241;43m.\u001B[39;49m\u001B[43m_temp_folder_manager\u001B[49m\u001B[38;5;241;43m.\u001B[39;49m\u001B[43m_unregister_temporary_resources\u001B[49m\u001B[43m(\u001B[49m\u001B[43m)\u001B[49m\n\u001B[0;32m     87\u001B[0m     \u001B[38;5;28mself\u001B[39m\u001B[38;5;241m.\u001B[39m_temp_folder_manager\u001B[38;5;241m.\u001B[39m_try_delete_folder(\n\u001B[0;32m     88\u001B[0m         allow_non_empty\u001B[38;5;241m=\u001B[39m\u001B[38;5;28;01mTrue\u001B[39;00m\n\u001B[0;32m     89\u001B[0m     )\n",
      "File \u001B[1;32m~\\anaconda3\\envs\\momepy_env\\lib\\site-packages\\joblib\\_memmapping_reducer.py:639\u001B[0m, in \u001B[0;36mTemporaryResourcesManager._unregister_temporary_resources\u001B[1;34m(self, context_id)\u001B[0m\n\u001B[0;32m    638\u001B[0m     \u001B[38;5;28;01mfor\u001B[39;00m context_id \u001B[38;5;129;01min\u001B[39;00m \u001B[38;5;28mself\u001B[39m\u001B[38;5;241m.\u001B[39m_cached_temp_folders:\n\u001B[1;32m--> 639\u001B[0m         \u001B[38;5;28;43mself\u001B[39;49m\u001B[38;5;241;43m.\u001B[39;49m\u001B[43m_unregister_temporary_resources\u001B[49m\u001B[43m(\u001B[49m\u001B[43mcontext_id\u001B[49m\u001B[43m)\u001B[49m\n\u001B[0;32m    640\u001B[0m \u001B[38;5;28;01melse\u001B[39;00m:\n",
      "File \u001B[1;32m~\\anaconda3\\envs\\momepy_env\\lib\\site-packages\\joblib\\_memmapping_reducer.py:644\u001B[0m, in \u001B[0;36mTemporaryResourcesManager._unregister_temporary_resources\u001B[1;34m(self, context_id)\u001B[0m\n\u001B[0;32m    643\u001B[0m \u001B[38;5;28;01mfor\u001B[39;00m filename \u001B[38;5;129;01min\u001B[39;00m os\u001B[38;5;241m.\u001B[39mlistdir(temp_folder):\n\u001B[1;32m--> 644\u001B[0m     \u001B[43mresource_tracker\u001B[49m\u001B[38;5;241;43m.\u001B[39;49m\u001B[43munregister\u001B[49m\u001B[43m(\u001B[49m\n\u001B[0;32m    645\u001B[0m \u001B[43m        \u001B[49m\u001B[43mos\u001B[49m\u001B[38;5;241;43m.\u001B[39;49m\u001B[43mpath\u001B[49m\u001B[38;5;241;43m.\u001B[39;49m\u001B[43mjoin\u001B[49m\u001B[43m(\u001B[49m\u001B[43mtemp_folder\u001B[49m\u001B[43m,\u001B[49m\u001B[43m \u001B[49m\u001B[43mfilename\u001B[49m\u001B[43m)\u001B[49m\u001B[43m,\u001B[49m\u001B[43m \u001B[49m\u001B[38;5;124;43m\"\u001B[39;49m\u001B[38;5;124;43mfile\u001B[39;49m\u001B[38;5;124;43m\"\u001B[39;49m\n\u001B[0;32m    646\u001B[0m \u001B[43m    \u001B[49m\u001B[43m)\u001B[49m\n",
      "File \u001B[1;32m~\\anaconda3\\envs\\momepy_env\\lib\\site-packages\\joblib\\externals\\loky\\backend\\resource_tracker.py:183\u001B[0m, in \u001B[0;36mResourceTracker.unregister\u001B[1;34m(self, name, rtype)\u001B[0m\n\u001B[0;32m    182\u001B[0m \u001B[38;5;124;03m'''Unregister a named resource with resource tracker.'''\u001B[39;00m\n\u001B[1;32m--> 183\u001B[0m \u001B[38;5;28;43mself\u001B[39;49m\u001B[38;5;241;43m.\u001B[39;49m\u001B[43mensure_running\u001B[49m\u001B[43m(\u001B[49m\u001B[43m)\u001B[49m\n\u001B[0;32m    184\u001B[0m \u001B[38;5;28mself\u001B[39m\u001B[38;5;241m.\u001B[39m_send(\u001B[38;5;124m'\u001B[39m\u001B[38;5;124mUNREGISTER\u001B[39m\u001B[38;5;124m'\u001B[39m, name, rtype)\n",
      "File \u001B[1;32m~\\anaconda3\\envs\\momepy_env\\lib\\site-packages\\joblib\\externals\\loky\\backend\\resource_tracker.py:99\u001B[0m, in \u001B[0;36mResourceTracker.ensure_running\u001B[1;34m(self)\u001B[0m\n\u001B[0;32m     97\u001B[0m \u001B[38;5;28;01mif\u001B[39;00m \u001B[38;5;28mself\u001B[39m\u001B[38;5;241m.\u001B[39m_fd \u001B[38;5;129;01mis\u001B[39;00m \u001B[38;5;129;01mnot\u001B[39;00m \u001B[38;5;28;01mNone\u001B[39;00m:\n\u001B[0;32m     98\u001B[0m     \u001B[38;5;66;03m# resource tracker was launched before, is it still running?\u001B[39;00m\n\u001B[1;32m---> 99\u001B[0m     \u001B[38;5;28;01mif\u001B[39;00m \u001B[38;5;28;43mself\u001B[39;49m\u001B[38;5;241;43m.\u001B[39;49m\u001B[43m_check_alive\u001B[49m\u001B[43m(\u001B[49m\u001B[43m)\u001B[49m:\n\u001B[0;32m    100\u001B[0m         \u001B[38;5;66;03m# => still alive\u001B[39;00m\n\u001B[0;32m    101\u001B[0m         \u001B[38;5;28;01mreturn\u001B[39;00m\n",
      "File \u001B[1;32m~\\anaconda3\\envs\\momepy_env\\lib\\site-packages\\joblib\\externals\\loky\\backend\\resource_tracker.py:170\u001B[0m, in \u001B[0;36mResourceTracker._check_alive\u001B[1;34m(self)\u001B[0m\n\u001B[0;32m    169\u001B[0m \u001B[38;5;28;01mtry\u001B[39;00m:\n\u001B[1;32m--> 170\u001B[0m     \u001B[38;5;28;43mself\u001B[39;49m\u001B[38;5;241;43m.\u001B[39;49m\u001B[43m_send\u001B[49m\u001B[43m(\u001B[49m\u001B[38;5;124;43m'\u001B[39;49m\u001B[38;5;124;43mPROBE\u001B[39;49m\u001B[38;5;124;43m'\u001B[39;49m\u001B[43m,\u001B[49m\u001B[43m \u001B[49m\u001B[38;5;124;43m'\u001B[39;49m\u001B[38;5;124;43m'\u001B[39;49m\u001B[43m,\u001B[49m\u001B[43m \u001B[49m\u001B[38;5;124;43m'\u001B[39;49m\u001B[38;5;124;43m'\u001B[39;49m\u001B[43m)\u001B[49m\n\u001B[0;32m    171\u001B[0m \u001B[38;5;28;01mexcept\u001B[39;00m \u001B[38;5;167;01mBrokenPipeError\u001B[39;00m:\n",
      "File \u001B[1;32m~\\anaconda3\\envs\\momepy_env\\lib\\site-packages\\joblib\\externals\\loky\\backend\\resource_tracker.py:197\u001B[0m, in \u001B[0;36mResourceTracker._send\u001B[1;34m(self, cmd, name, rtype)\u001B[0m\n\u001B[0;32m    196\u001B[0m msg \u001B[38;5;241m=\u001B[39m \u001B[38;5;124mf\u001B[39m\u001B[38;5;124m'\u001B[39m\u001B[38;5;132;01m{\u001B[39;00mcmd\u001B[38;5;132;01m}\u001B[39;00m\u001B[38;5;124m:\u001B[39m\u001B[38;5;132;01m{\u001B[39;00mname\u001B[38;5;132;01m}\u001B[39;00m\u001B[38;5;124m:\u001B[39m\u001B[38;5;132;01m{\u001B[39;00mrtype\u001B[38;5;132;01m}\u001B[39;00m\u001B[38;5;130;01m\\n\u001B[39;00m\u001B[38;5;124m'\u001B[39m\u001B[38;5;241m.\u001B[39mencode(\u001B[38;5;124m'\u001B[39m\u001B[38;5;124mascii\u001B[39m\u001B[38;5;124m'\u001B[39m)\n\u001B[1;32m--> 197\u001B[0m nbytes \u001B[38;5;241m=\u001B[39m \u001B[43mos\u001B[49m\u001B[38;5;241;43m.\u001B[39;49m\u001B[43mwrite\u001B[49m\u001B[43m(\u001B[49m\u001B[38;5;28;43mself\u001B[39;49m\u001B[38;5;241;43m.\u001B[39;49m\u001B[43m_fd\u001B[49m\u001B[43m,\u001B[49m\u001B[43m \u001B[49m\u001B[43mmsg\u001B[49m\u001B[43m)\u001B[49m\n\u001B[0;32m    198\u001B[0m \u001B[38;5;28;01massert\u001B[39;00m nbytes \u001B[38;5;241m==\u001B[39m \u001B[38;5;28mlen\u001B[39m(msg)\n",
      "\u001B[1;31mOSError\u001B[0m: [Errno 22] Invalid argument",
      "\nDuring handling of the above exception, another exception occurred:\n",
      "\u001B[1;31mOSError\u001B[0m                                   Traceback (most recent call last)",
      "Cell \u001B[1;32mIn [3], line 16\u001B[0m\n\u001B[0;32m     14\u001B[0m \u001B[38;5;66;03m# Find the optimal parameters and cross validation\u001B[39;00m\n\u001B[0;32m     15\u001B[0m search \u001B[38;5;241m=\u001B[39mRandomizedSearchCV(my_pipeline, param_distributions\u001B[38;5;241m=\u001B[39mparam_grid,cv\u001B[38;5;241m=\u001B[39mcv,n_jobs\u001B[38;5;241m=\u001B[39m\u001B[38;5;241m-\u001B[39m\u001B[38;5;241m1\u001B[39m,verbose\u001B[38;5;241m=\u001B[39m\u001B[38;5;241m2\u001B[39m)\n\u001B[1;32m---> 16\u001B[0m \u001B[43msearch\u001B[49m\u001B[38;5;241;43m.\u001B[39;49m\u001B[43mfit\u001B[49m\u001B[43m(\u001B[49m\u001B[43mX_train\u001B[49m\u001B[43m,\u001B[49m\u001B[43m \u001B[49m\u001B[43my_train\u001B[49m\u001B[43m)\u001B[49m\n\u001B[0;32m     17\u001B[0m \u001B[38;5;66;03m# model accuracy and performance\u001B[39;00m\n\u001B[0;32m     18\u001B[0m y_pred \u001B[38;5;241m=\u001B[39msearch\u001B[38;5;241m.\u001B[39mbest_estimator_\u001B[38;5;241m.\u001B[39mpredict(X_test)\n",
      "File \u001B[1;32m~\\anaconda3\\envs\\momepy_env\\lib\\site-packages\\sklearn\\model_selection\\_search.py:804\u001B[0m, in \u001B[0;36mBaseSearchCV.fit\u001B[1;34m(self, X, y, groups, **fit_params)\u001B[0m\n\u001B[0;32m    793\u001B[0m fit_and_score_kwargs \u001B[38;5;241m=\u001B[39m \u001B[38;5;28mdict\u001B[39m(\n\u001B[0;32m    794\u001B[0m     scorer\u001B[38;5;241m=\u001B[39mscorers,\n\u001B[0;32m    795\u001B[0m     fit_params\u001B[38;5;241m=\u001B[39mfit_params,\n\u001B[1;32m   (...)\u001B[0m\n\u001B[0;32m    801\u001B[0m     verbose\u001B[38;5;241m=\u001B[39m\u001B[38;5;28mself\u001B[39m\u001B[38;5;241m.\u001B[39mverbose,\n\u001B[0;32m    802\u001B[0m )\n\u001B[0;32m    803\u001B[0m results \u001B[38;5;241m=\u001B[39m {}\n\u001B[1;32m--> 804\u001B[0m \u001B[38;5;28;01mwith\u001B[39;00m parallel:\n\u001B[0;32m    805\u001B[0m     all_candidate_params \u001B[38;5;241m=\u001B[39m []\n\u001B[0;32m    806\u001B[0m     all_out \u001B[38;5;241m=\u001B[39m []\n",
      "File \u001B[1;32m~\\anaconda3\\envs\\momepy_env\\lib\\site-packages\\joblib\\parallel.py:769\u001B[0m, in \u001B[0;36mParallel.__exit__\u001B[1;34m(self, exc_type, exc_value, traceback)\u001B[0m\n\u001B[0;32m    768\u001B[0m \u001B[38;5;28;01mdef\u001B[39;00m \u001B[38;5;21m__exit__\u001B[39m(\u001B[38;5;28mself\u001B[39m, exc_type, exc_value, traceback):\n\u001B[1;32m--> 769\u001B[0m     \u001B[38;5;28;43mself\u001B[39;49m\u001B[38;5;241;43m.\u001B[39;49m\u001B[43m_terminate_backend\u001B[49m\u001B[43m(\u001B[49m\u001B[43m)\u001B[49m\n\u001B[0;32m    770\u001B[0m     \u001B[38;5;28mself\u001B[39m\u001B[38;5;241m.\u001B[39m_managed_backend \u001B[38;5;241m=\u001B[39m \u001B[38;5;28;01mFalse\u001B[39;00m\n",
      "File \u001B[1;32m~\\anaconda3\\envs\\momepy_env\\lib\\site-packages\\joblib\\parallel.py:799\u001B[0m, in \u001B[0;36mParallel._terminate_backend\u001B[1;34m(self)\u001B[0m\n\u001B[0;32m    797\u001B[0m \u001B[38;5;28;01mdef\u001B[39;00m \u001B[38;5;21m_terminate_backend\u001B[39m(\u001B[38;5;28mself\u001B[39m):\n\u001B[0;32m    798\u001B[0m     \u001B[38;5;28;01mif\u001B[39;00m \u001B[38;5;28mself\u001B[39m\u001B[38;5;241m.\u001B[39m_backend \u001B[38;5;129;01mis\u001B[39;00m \u001B[38;5;129;01mnot\u001B[39;00m \u001B[38;5;28;01mNone\u001B[39;00m:\n\u001B[1;32m--> 799\u001B[0m         \u001B[38;5;28;43mself\u001B[39;49m\u001B[38;5;241;43m.\u001B[39;49m\u001B[43m_backend\u001B[49m\u001B[38;5;241;43m.\u001B[39;49m\u001B[43mterminate\u001B[49m\u001B[43m(\u001B[49m\u001B[43m)\u001B[49m\n",
      "File \u001B[1;32m~\\anaconda3\\envs\\momepy_env\\lib\\site-packages\\joblib\\_parallel_backends.py:576\u001B[0m, in \u001B[0;36mLokyBackend.terminate\u001B[1;34m(self)\u001B[0m\n\u001B[0;32m    571\u001B[0m \u001B[38;5;28;01mdef\u001B[39;00m \u001B[38;5;21mterminate\u001B[39m(\u001B[38;5;28mself\u001B[39m):\n\u001B[0;32m    572\u001B[0m     \u001B[38;5;28;01mif\u001B[39;00m \u001B[38;5;28mself\u001B[39m\u001B[38;5;241m.\u001B[39m_workers \u001B[38;5;129;01mis\u001B[39;00m \u001B[38;5;129;01mnot\u001B[39;00m \u001B[38;5;28;01mNone\u001B[39;00m:\n\u001B[0;32m    573\u001B[0m         \u001B[38;5;66;03m# Don't terminate the workers as we want to reuse them in later\u001B[39;00m\n\u001B[0;32m    574\u001B[0m         \u001B[38;5;66;03m# calls, but cleanup the temporary resources that the Parallel call\u001B[39;00m\n\u001B[0;32m    575\u001B[0m         \u001B[38;5;66;03m# created. This 'hack' requires a private, low-level operation.\u001B[39;00m\n\u001B[1;32m--> 576\u001B[0m         \u001B[38;5;28;43mself\u001B[39;49m\u001B[38;5;241;43m.\u001B[39;49m\u001B[43m_workers\u001B[49m\u001B[38;5;241;43m.\u001B[39;49m\u001B[43m_temp_folder_manager\u001B[49m\u001B[38;5;241;43m.\u001B[39;49m\u001B[43m_unlink_temporary_resources\u001B[49m\u001B[43m(\u001B[49m\n\u001B[0;32m    577\u001B[0m \u001B[43m            \u001B[49m\u001B[43mcontext_id\u001B[49m\u001B[38;5;241;43m=\u001B[39;49m\u001B[38;5;28;43mself\u001B[39;49m\u001B[38;5;241;43m.\u001B[39;49m\u001B[43mparallel\u001B[49m\u001B[38;5;241;43m.\u001B[39;49m\u001B[43m_id\u001B[49m\n\u001B[0;32m    578\u001B[0m \u001B[43m        \u001B[49m\u001B[43m)\u001B[49m\n\u001B[0;32m    579\u001B[0m         \u001B[38;5;28mself\u001B[39m\u001B[38;5;241m.\u001B[39m_workers \u001B[38;5;241m=\u001B[39m \u001B[38;5;28;01mNone\u001B[39;00m\n\u001B[0;32m    581\u001B[0m     \u001B[38;5;28mself\u001B[39m\u001B[38;5;241m.\u001B[39mreset_batch_stats()\n",
      "File \u001B[1;32m~\\anaconda3\\envs\\momepy_env\\lib\\site-packages\\joblib\\_memmapping_reducer.py:628\u001B[0m, in \u001B[0;36mTemporaryResourcesManager._unlink_temporary_resources\u001B[1;34m(self, context_id)\u001B[0m\n\u001B[0;32m    626\u001B[0m \u001B[38;5;28;01mif\u001B[39;00m os\u001B[38;5;241m.\u001B[39mpath\u001B[38;5;241m.\u001B[39mexists(temp_folder):\n\u001B[0;32m    627\u001B[0m     \u001B[38;5;28;01mfor\u001B[39;00m filename \u001B[38;5;129;01min\u001B[39;00m os\u001B[38;5;241m.\u001B[39mlistdir(temp_folder):\n\u001B[1;32m--> 628\u001B[0m         \u001B[43mresource_tracker\u001B[49m\u001B[38;5;241;43m.\u001B[39;49m\u001B[43mmaybe_unlink\u001B[49m\u001B[43m(\u001B[49m\n\u001B[0;32m    629\u001B[0m \u001B[43m            \u001B[49m\u001B[43mos\u001B[49m\u001B[38;5;241;43m.\u001B[39;49m\u001B[43mpath\u001B[49m\u001B[38;5;241;43m.\u001B[39;49m\u001B[43mjoin\u001B[49m\u001B[43m(\u001B[49m\u001B[43mtemp_folder\u001B[49m\u001B[43m,\u001B[49m\u001B[43m \u001B[49m\u001B[43mfilename\u001B[49m\u001B[43m)\u001B[49m\u001B[43m,\u001B[49m\u001B[43m \u001B[49m\u001B[38;5;124;43m\"\u001B[39;49m\u001B[38;5;124;43mfile\u001B[39;49m\u001B[38;5;124;43m\"\u001B[39;49m\n\u001B[0;32m    630\u001B[0m \u001B[43m        \u001B[49m\u001B[43m)\u001B[49m\n\u001B[0;32m    631\u001B[0m     \u001B[38;5;28mself\u001B[39m\u001B[38;5;241m.\u001B[39m_try_delete_folder(\n\u001B[0;32m    632\u001B[0m         allow_non_empty\u001B[38;5;241m=\u001B[39m\u001B[38;5;28;01mFalse\u001B[39;00m, context_id\u001B[38;5;241m=\u001B[39mcontext_id\n\u001B[0;32m    633\u001B[0m     )\n",
      "File \u001B[1;32m~\\anaconda3\\envs\\momepy_env\\lib\\site-packages\\joblib\\externals\\loky\\backend\\resource_tracker.py:188\u001B[0m, in \u001B[0;36mResourceTracker.maybe_unlink\u001B[1;34m(self, name, rtype)\u001B[0m\n\u001B[0;32m    186\u001B[0m \u001B[38;5;28;01mdef\u001B[39;00m \u001B[38;5;21mmaybe_unlink\u001B[39m(\u001B[38;5;28mself\u001B[39m, name, rtype):\n\u001B[0;32m    187\u001B[0m     \u001B[38;5;124;03m'''Decrement the refcount of a resource, and delete it if it hits 0'''\u001B[39;00m\n\u001B[1;32m--> 188\u001B[0m     \u001B[38;5;28;43mself\u001B[39;49m\u001B[38;5;241;43m.\u001B[39;49m\u001B[43mensure_running\u001B[49m\u001B[43m(\u001B[49m\u001B[43m)\u001B[49m\n\u001B[0;32m    189\u001B[0m     \u001B[38;5;28mself\u001B[39m\u001B[38;5;241m.\u001B[39m_send(\u001B[38;5;124m\"\u001B[39m\u001B[38;5;124mMAYBE_UNLINK\u001B[39m\u001B[38;5;124m\"\u001B[39m, name, rtype)\n",
      "File \u001B[1;32m~\\anaconda3\\envs\\momepy_env\\lib\\site-packages\\joblib\\externals\\loky\\backend\\resource_tracker.py:99\u001B[0m, in \u001B[0;36mResourceTracker.ensure_running\u001B[1;34m(self)\u001B[0m\n\u001B[0;32m     96\u001B[0m \u001B[38;5;28;01mwith\u001B[39;00m \u001B[38;5;28mself\u001B[39m\u001B[38;5;241m.\u001B[39m_lock:\n\u001B[0;32m     97\u001B[0m     \u001B[38;5;28;01mif\u001B[39;00m \u001B[38;5;28mself\u001B[39m\u001B[38;5;241m.\u001B[39m_fd \u001B[38;5;129;01mis\u001B[39;00m \u001B[38;5;129;01mnot\u001B[39;00m \u001B[38;5;28;01mNone\u001B[39;00m:\n\u001B[0;32m     98\u001B[0m         \u001B[38;5;66;03m# resource tracker was launched before, is it still running?\u001B[39;00m\n\u001B[1;32m---> 99\u001B[0m         \u001B[38;5;28;01mif\u001B[39;00m \u001B[38;5;28;43mself\u001B[39;49m\u001B[38;5;241;43m.\u001B[39;49m\u001B[43m_check_alive\u001B[49m\u001B[43m(\u001B[49m\u001B[43m)\u001B[49m:\n\u001B[0;32m    100\u001B[0m             \u001B[38;5;66;03m# => still alive\u001B[39;00m\n\u001B[0;32m    101\u001B[0m             \u001B[38;5;28;01mreturn\u001B[39;00m\n\u001B[0;32m    102\u001B[0m         \u001B[38;5;66;03m# => dead, launch it again\u001B[39;00m\n",
      "File \u001B[1;32m~\\anaconda3\\envs\\momepy_env\\lib\\site-packages\\joblib\\externals\\loky\\backend\\resource_tracker.py:170\u001B[0m, in \u001B[0;36mResourceTracker._check_alive\u001B[1;34m(self)\u001B[0m\n\u001B[0;32m    168\u001B[0m \u001B[38;5;124;03m'''Check for the existence of the resource tracker process.'''\u001B[39;00m\n\u001B[0;32m    169\u001B[0m \u001B[38;5;28;01mtry\u001B[39;00m:\n\u001B[1;32m--> 170\u001B[0m     \u001B[38;5;28;43mself\u001B[39;49m\u001B[38;5;241;43m.\u001B[39;49m\u001B[43m_send\u001B[49m\u001B[43m(\u001B[49m\u001B[38;5;124;43m'\u001B[39;49m\u001B[38;5;124;43mPROBE\u001B[39;49m\u001B[38;5;124;43m'\u001B[39;49m\u001B[43m,\u001B[49m\u001B[43m \u001B[49m\u001B[38;5;124;43m'\u001B[39;49m\u001B[38;5;124;43m'\u001B[39;49m\u001B[43m,\u001B[49m\u001B[43m \u001B[49m\u001B[38;5;124;43m'\u001B[39;49m\u001B[38;5;124;43m'\u001B[39;49m\u001B[43m)\u001B[49m\n\u001B[0;32m    171\u001B[0m \u001B[38;5;28;01mexcept\u001B[39;00m \u001B[38;5;167;01mBrokenPipeError\u001B[39;00m:\n\u001B[0;32m    172\u001B[0m     \u001B[38;5;28;01mreturn\u001B[39;00m \u001B[38;5;28;01mFalse\u001B[39;00m\n",
      "File \u001B[1;32m~\\anaconda3\\envs\\momepy_env\\lib\\site-packages\\joblib\\externals\\loky\\backend\\resource_tracker.py:197\u001B[0m, in \u001B[0;36mResourceTracker._send\u001B[1;34m(self, cmd, name, rtype)\u001B[0m\n\u001B[0;32m    195\u001B[0m     \u001B[38;5;28;01mraise\u001B[39;00m \u001B[38;5;167;01mValueError\u001B[39;00m(\u001B[38;5;124m'\u001B[39m\u001B[38;5;124mname too long\u001B[39m\u001B[38;5;124m'\u001B[39m)\n\u001B[0;32m    196\u001B[0m msg \u001B[38;5;241m=\u001B[39m \u001B[38;5;124mf\u001B[39m\u001B[38;5;124m'\u001B[39m\u001B[38;5;132;01m{\u001B[39;00mcmd\u001B[38;5;132;01m}\u001B[39;00m\u001B[38;5;124m:\u001B[39m\u001B[38;5;132;01m{\u001B[39;00mname\u001B[38;5;132;01m}\u001B[39;00m\u001B[38;5;124m:\u001B[39m\u001B[38;5;132;01m{\u001B[39;00mrtype\u001B[38;5;132;01m}\u001B[39;00m\u001B[38;5;130;01m\\n\u001B[39;00m\u001B[38;5;124m'\u001B[39m\u001B[38;5;241m.\u001B[39mencode(\u001B[38;5;124m'\u001B[39m\u001B[38;5;124mascii\u001B[39m\u001B[38;5;124m'\u001B[39m)\n\u001B[1;32m--> 197\u001B[0m nbytes \u001B[38;5;241m=\u001B[39m \u001B[43mos\u001B[49m\u001B[38;5;241;43m.\u001B[39;49m\u001B[43mwrite\u001B[49m\u001B[43m(\u001B[49m\u001B[38;5;28;43mself\u001B[39;49m\u001B[38;5;241;43m.\u001B[39;49m\u001B[43m_fd\u001B[49m\u001B[43m,\u001B[49m\u001B[43m \u001B[49m\u001B[43mmsg\u001B[49m\u001B[43m)\u001B[49m\n\u001B[0;32m    198\u001B[0m \u001B[38;5;28;01massert\u001B[39;00m nbytes \u001B[38;5;241m==\u001B[39m \u001B[38;5;28mlen\u001B[39m(msg)\n",
      "\u001B[1;31mOSError\u001B[0m: [Errno 22] Invalid argument"
     ]
    }
   ],
   "source": [
    "from sklearn.experimental import enable_halving_search_cv\n",
    "from sklearn.model_selection import RandomizedSearchCV\n",
    "\n",
    "my_pipeline = Pipeline([\n",
    "    ('classifier', DecisionTreeRegressor())\n",
    "])\n",
    "cv = ShuffleSplit(n_splits=5, test_size=0.3,random_state=0)\n",
    "\n",
    "param_grid = {'classifier__criterion': [\"squared_error\", \"absolute_error\"],\"classifier__max_depth\": range(10,45,5),'classifier__min_samples_split':range(2,20,2),'classifier__max_features':['auto','sqrt','log2',None]}\n",
    "\n",
    "\n",
    "# Divide the data to training and test\n",
    "X_train, X_test, y_train, y_test = train_test_split(x_tree, y_tree, test_size=0.2, random_state=0)\n",
    "# Find the optimal parameters and cross validation\n",
    "search =RandomizedSearchCV(my_pipeline, param_distributions=param_grid,cv=cv,n_jobs=-1,verbose=2)\n",
    "search.fit(X_train, y_train)\n",
    "# model accuracy and performance\n",
    "y_pred =search.best_estimator_.predict(X_test)\n",
    "\n",
    "# Compute the R2 score for each label\n",
    "r2_scores = r2_score(y_test, y_pred, multioutput='raw_values')\n",
    "print('R2 scores:', r2_scores)\n",
    "\n",
    "# Compute the mean squared error for each label\n",
    "mse_scores = mean_squared_error(y_test, y_pred, multioutput='raw_values')\n",
    "print('Mean squared error:', mse_scores)\n",
    "\n",
    "# Compute the mean absolute error for each label\n",
    "mae_scores = mean_absolute_error(y_test, y_pred, multioutput='raw_values')\n",
    "print('Mean absolute error:', mae_scores)\n",
    "\n",
    "# Compute the mean absolute error for each label\n",
    "var_scores = explained_variance_score(y_test, y_pred, multioutput='raw_values')\n",
    "print('Explained variance score:', var_scores)\n",
    "med_scores = median_absolute_error(y_test, y_pred, multioutput='raw_values')\n",
    "print('Median absolute error:', med_scores)\n",
    "\n",
    "# feature importance\n",
    "# best_params = list(search.best_params_.values())\n",
    "# dt = DecisionTreeClassifier(random_state=0,criterion= best_params[0], max_features=best_params[1], splitter=best_params[2]).fit(x_tree, y_tree)\n",
    "# new_df = DataFrame(data={'feature_importance':dt.feature_importances_.round(3)*100,'features_name':data_feature.columns}).sort_values('feature_importance',ascending=0)\n",
    "# print(new_df)"
   ],
   "metadata": {
    "collapsed": false,
    "pycharm": {
     "name": "#%%\n"
    }
   }
  },
  {
   "cell_type": "code",
   "execution_count": null,
   "outputs": [],
   "source": [],
   "metadata": {
    "collapsed": false,
    "pycharm": {
     "name": "#%%\n"
    }
   }
  }
 ],
 "metadata": {
  "kernelspec": {
   "display_name": "Python 3",
   "language": "python",
   "name": "python3"
  },
  "language_info": {
   "codemirror_mode": {
    "name": "ipython",
    "version": 2
   },
   "file_extension": ".py",
   "mimetype": "text/x-python",
   "name": "python",
   "nbconvert_exporter": "python",
   "pygments_lexer": "ipython2",
   "version": "2.7.6"
  }
 },
 "nbformat": 4,
 "nbformat_minor": 0
}