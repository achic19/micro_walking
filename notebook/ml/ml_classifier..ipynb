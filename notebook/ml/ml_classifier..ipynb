{
 "cells": [
  {
   "cell_type": "code",
   "execution_count": 30,
   "outputs": [],
   "source": [
    "import geopandas as gpd\n",
    "from geopandas import GeoDataFrame, GeoSeries\n",
    "import calendar\n",
    "from pandas import DataFrame\n",
    "import pandas as pd\n",
    "import glob\n",
    "\n",
    "import warnings\n",
    "warnings.filterwarnings(action='ignore')\n",
    "\n",
    "# fields names\n",
    "ped_level= 'ped_level'\n",
    "import os\n",
    "general_path = os.path.dirname(os.path.abspath(os.getcwd()))"
   ],
   "metadata": {
    "collapsed": false,
    "pycharm": {
     "name": "#%%\n"
    }
   }
  },
  {
   "cell_type": "code",
   "execution_count": 32,
   "outputs": [
    {
     "data": {
      "text/plain": "        day part  season  day  buildings  businesses  educationa  Health_ser  \\\n0              0       2    0  12.580000    0.000000           8           1   \n1              1       2    0  12.580000    0.000000           8           1   \n2              2       2    0  12.580000    0.000000           8           1   \n3              3       2    0  12.580000    0.000000           8           1   \n4              0       2    1  12.580000    0.000000           8           1   \n...          ...     ...  ...        ...         ...         ...         ...   \n473795         3       0    0  16.378889    0.001021           4           2   \n473796         0       0    1  16.378889    0.001021           4           2   \n473797         1       0    1  16.378889    0.001021           4           2   \n473798         2       0    1  16.378889    0.001021           4           2   \n473799         3       0    1  16.378889    0.001021           4           2   \n\n        Leisure_am  Playground  Sport_faci  synagogues  bus_statio  lighting  \\\n0                0           7           3           4    0.030481  0.060961   \n1                0           7           3           4    0.030481  0.060961   \n2                0           7           3           4    0.030481  0.060961   \n3                0           7           3           4    0.030481  0.060961   \n4                0           7           3           4    0.030481  0.060961   \n...            ...         ...         ...         ...         ...       ...   \n473795           0           2           7           0    0.006125  0.042872   \n473796           0           2           7           0    0.006125  0.042872   \n473797           0           2           7           0    0.006125  0.042872   \n473798           0           2           7           0    0.006125  0.042872   \n473799           0           2           7           0    0.006125  0.042872   \n\n           trees  bike_trail  parks  density  \\\n0       0.000000           0     12      3.3   \n1       0.000000           0     12      3.3   \n2       0.000000           0     12      3.3   \n3       0.000000           0     12      3.3   \n4       0.000000           0     12      3.3   \n...          ...         ...    ...      ...   \n473795  0.103097           1      6      1.4   \n473796  0.103097           1      6      1.4   \n473797  0.103097           1      6      1.4   \n473798  0.103097           1      6      1.4   \n473799  0.103097           1      6      1.4   \n\n                                                 geometry  ped_level  \n0       LINESTRING (184322.70500000002 668574.483, 184...          1  \n1       LINESTRING (184322.70500000002 668574.483, 184...          0  \n2       LINESTRING (184322.70500000002 668574.483, 184...          2  \n3       LINESTRING (184322.70500000002 668574.483, 184...          0  \n4       LINESTRING (184322.70500000002 668574.483, 184...          0  \n...                                                   ...        ...  \n473795  LINESTRING (180665.74800000002 670989.905, 180...          4  \n473796  LINESTRING (180665.74800000002 670989.905, 180...          4  \n473797  LINESTRING (180665.74800000002 670989.905, 180...          4  \n473798  LINESTRING (180665.74800000002 670989.905, 180...          4  \n473799  LINESTRING (180665.74800000002 670989.905, 180...          4  \n\n[473800 rows x 19 columns]",
      "text/html": "<div>\n<style scoped>\n    .dataframe tbody tr th:only-of-type {\n        vertical-align: middle;\n    }\n\n    .dataframe tbody tr th {\n        vertical-align: top;\n    }\n\n    .dataframe thead th {\n        text-align: right;\n    }\n</style>\n<table border=\"1\" class=\"dataframe\">\n  <thead>\n    <tr style=\"text-align: right;\">\n      <th></th>\n      <th>day part</th>\n      <th>season</th>\n      <th>day</th>\n      <th>buildings</th>\n      <th>businesses</th>\n      <th>educationa</th>\n      <th>Health_ser</th>\n      <th>Leisure_am</th>\n      <th>Playground</th>\n      <th>Sport_faci</th>\n      <th>synagogues</th>\n      <th>bus_statio</th>\n      <th>lighting</th>\n      <th>trees</th>\n      <th>bike_trail</th>\n      <th>parks</th>\n      <th>density</th>\n      <th>geometry</th>\n      <th>ped_level</th>\n    </tr>\n  </thead>\n  <tbody>\n    <tr>\n      <th>0</th>\n      <td>0</td>\n      <td>2</td>\n      <td>0</td>\n      <td>12.580000</td>\n      <td>0.000000</td>\n      <td>8</td>\n      <td>1</td>\n      <td>0</td>\n      <td>7</td>\n      <td>3</td>\n      <td>4</td>\n      <td>0.030481</td>\n      <td>0.060961</td>\n      <td>0.000000</td>\n      <td>0</td>\n      <td>12</td>\n      <td>3.3</td>\n      <td>LINESTRING (184322.70500000002 668574.483, 184...</td>\n      <td>1</td>\n    </tr>\n    <tr>\n      <th>1</th>\n      <td>1</td>\n      <td>2</td>\n      <td>0</td>\n      <td>12.580000</td>\n      <td>0.000000</td>\n      <td>8</td>\n      <td>1</td>\n      <td>0</td>\n      <td>7</td>\n      <td>3</td>\n      <td>4</td>\n      <td>0.030481</td>\n      <td>0.060961</td>\n      <td>0.000000</td>\n      <td>0</td>\n      <td>12</td>\n      <td>3.3</td>\n      <td>LINESTRING (184322.70500000002 668574.483, 184...</td>\n      <td>0</td>\n    </tr>\n    <tr>\n      <th>2</th>\n      <td>2</td>\n      <td>2</td>\n      <td>0</td>\n      <td>12.580000</td>\n      <td>0.000000</td>\n      <td>8</td>\n      <td>1</td>\n      <td>0</td>\n      <td>7</td>\n      <td>3</td>\n      <td>4</td>\n      <td>0.030481</td>\n      <td>0.060961</td>\n      <td>0.000000</td>\n      <td>0</td>\n      <td>12</td>\n      <td>3.3</td>\n      <td>LINESTRING (184322.70500000002 668574.483, 184...</td>\n      <td>2</td>\n    </tr>\n    <tr>\n      <th>3</th>\n      <td>3</td>\n      <td>2</td>\n      <td>0</td>\n      <td>12.580000</td>\n      <td>0.000000</td>\n      <td>8</td>\n      <td>1</td>\n      <td>0</td>\n      <td>7</td>\n      <td>3</td>\n      <td>4</td>\n      <td>0.030481</td>\n      <td>0.060961</td>\n      <td>0.000000</td>\n      <td>0</td>\n      <td>12</td>\n      <td>3.3</td>\n      <td>LINESTRING (184322.70500000002 668574.483, 184...</td>\n      <td>0</td>\n    </tr>\n    <tr>\n      <th>4</th>\n      <td>0</td>\n      <td>2</td>\n      <td>1</td>\n      <td>12.580000</td>\n      <td>0.000000</td>\n      <td>8</td>\n      <td>1</td>\n      <td>0</td>\n      <td>7</td>\n      <td>3</td>\n      <td>4</td>\n      <td>0.030481</td>\n      <td>0.060961</td>\n      <td>0.000000</td>\n      <td>0</td>\n      <td>12</td>\n      <td>3.3</td>\n      <td>LINESTRING (184322.70500000002 668574.483, 184...</td>\n      <td>0</td>\n    </tr>\n    <tr>\n      <th>...</th>\n      <td>...</td>\n      <td>...</td>\n      <td>...</td>\n      <td>...</td>\n      <td>...</td>\n      <td>...</td>\n      <td>...</td>\n      <td>...</td>\n      <td>...</td>\n      <td>...</td>\n      <td>...</td>\n      <td>...</td>\n      <td>...</td>\n      <td>...</td>\n      <td>...</td>\n      <td>...</td>\n      <td>...</td>\n      <td>...</td>\n      <td>...</td>\n    </tr>\n    <tr>\n      <th>473795</th>\n      <td>3</td>\n      <td>0</td>\n      <td>0</td>\n      <td>16.378889</td>\n      <td>0.001021</td>\n      <td>4</td>\n      <td>2</td>\n      <td>0</td>\n      <td>2</td>\n      <td>7</td>\n      <td>0</td>\n      <td>0.006125</td>\n      <td>0.042872</td>\n      <td>0.103097</td>\n      <td>1</td>\n      <td>6</td>\n      <td>1.4</td>\n      <td>LINESTRING (180665.74800000002 670989.905, 180...</td>\n      <td>4</td>\n    </tr>\n    <tr>\n      <th>473796</th>\n      <td>0</td>\n      <td>0</td>\n      <td>1</td>\n      <td>16.378889</td>\n      <td>0.001021</td>\n      <td>4</td>\n      <td>2</td>\n      <td>0</td>\n      <td>2</td>\n      <td>7</td>\n      <td>0</td>\n      <td>0.006125</td>\n      <td>0.042872</td>\n      <td>0.103097</td>\n      <td>1</td>\n      <td>6</td>\n      <td>1.4</td>\n      <td>LINESTRING (180665.74800000002 670989.905, 180...</td>\n      <td>4</td>\n    </tr>\n    <tr>\n      <th>473797</th>\n      <td>1</td>\n      <td>0</td>\n      <td>1</td>\n      <td>16.378889</td>\n      <td>0.001021</td>\n      <td>4</td>\n      <td>2</td>\n      <td>0</td>\n      <td>2</td>\n      <td>7</td>\n      <td>0</td>\n      <td>0.006125</td>\n      <td>0.042872</td>\n      <td>0.103097</td>\n      <td>1</td>\n      <td>6</td>\n      <td>1.4</td>\n      <td>LINESTRING (180665.74800000002 670989.905, 180...</td>\n      <td>4</td>\n    </tr>\n    <tr>\n      <th>473798</th>\n      <td>2</td>\n      <td>0</td>\n      <td>1</td>\n      <td>16.378889</td>\n      <td>0.001021</td>\n      <td>4</td>\n      <td>2</td>\n      <td>0</td>\n      <td>2</td>\n      <td>7</td>\n      <td>0</td>\n      <td>0.006125</td>\n      <td>0.042872</td>\n      <td>0.103097</td>\n      <td>1</td>\n      <td>6</td>\n      <td>1.4</td>\n      <td>LINESTRING (180665.74800000002 670989.905, 180...</td>\n      <td>4</td>\n    </tr>\n    <tr>\n      <th>473799</th>\n      <td>3</td>\n      <td>0</td>\n      <td>1</td>\n      <td>16.378889</td>\n      <td>0.001021</td>\n      <td>4</td>\n      <td>2</td>\n      <td>0</td>\n      <td>2</td>\n      <td>7</td>\n      <td>0</td>\n      <td>0.006125</td>\n      <td>0.042872</td>\n      <td>0.103097</td>\n      <td>1</td>\n      <td>6</td>\n      <td>1.4</td>\n      <td>LINESTRING (180665.74800000002 670989.905, 180...</td>\n      <td>4</td>\n    </tr>\n  </tbody>\n</table>\n<p>473800 rows × 19 columns</p>\n</div>"
     },
     "execution_count": 32,
     "metadata": {},
     "output_type": "execute_result"
    }
   ],
   "source": [
    "ml_df = pd.read_csv('output/model_data_final.csv').drop(columns=['Unnamed: 0'])\n",
    "ml_df"
   ],
   "metadata": {
    "collapsed": false,
    "pycharm": {
     "name": "#%%\n"
    }
   }
  },
  {
   "cell_type": "code",
   "execution_count": 33,
   "outputs": [],
   "source": [
    "\n",
    "\n",
    "\n",
    "from sklearn.model_selection import train_test_split\n",
    "from sklearn.metrics import confusion_matrix\n",
    "\n",
    "from sklearn.model_selection import ShuffleSplit\n",
    "\n",
    "from sklearn.model_selection import GridSearchCV\n",
    "\n",
    "from sklearn.tree import DecisionTreeClassifier\n",
    "\n",
    "from sklearn.pipeline import Pipeline\n",
    "\n",
    "data_feature = ml_df.drop(columns=[ped_level,'geometry'])\n",
    "x_tree = data_feature.to_numpy()\n",
    "y_tree = ml_df[ped_level].to_numpy()\n",
    "from sklearn.metrics import accuracy_score, precision_score, recall_score, f1_score\n",
    "\n",
    "\n"
   ],
   "metadata": {
    "collapsed": false,
    "pycharm": {
     "name": "#%%\n"
    }
   }
  },
  {
   "cell_type": "code",
   "execution_count": 34,
   "outputs": [
    {
     "name": "stdout",
     "output_type": "stream",
     "text": [
      "Confusion Matrix:\n",
      "[[13518  5550  2344   615   117]\n",
      " [ 6292  6295  4232  1317   255]\n",
      " [ 2647  4633  6966  4002   721]\n",
      " [  767  1596  4385  7142  3121]\n",
      " [  145   252   863  3421 13564]]\n",
      "Best accuracy: 0.4919920500914591\n",
      "Accuracy: 0.5011080624736176\n",
      "Precision: 0.5006743952461294\n",
      "Recall: 0.5011080624736176\n",
      "F1 Score: 0.5007463405439272\n",
      "    feature_importance features_name\n",
      "1                 22.8        season\n",
      "0                 20.2      day part\n",
      "3                  9.1     buildings\n",
      "12                 6.6      lighting\n",
      "15                 5.4         parks\n",
      "16                 4.6       density\n",
      "2                  4.2           day\n",
      "13                 4.0         trees\n",
      "5                  3.7    educationa\n",
      "10                 3.5    synagogues\n",
      "4                  3.5    businesses\n",
      "9                  3.2    Sport_faci\n",
      "6                  2.8    Health_ser\n",
      "8                  2.6    Playground\n",
      "7                  1.9    Leisure_am\n",
      "11                 1.2    bus_statio\n",
      "14                 0.7    bike_trail\n"
     ]
    }
   ],
   "source": [
    "# This code run on the four seasons separately\n",
    "# Variables that won't change during the loop\n",
    "\n",
    "my_pipeline = Pipeline([\n",
    "    ('classifier', DecisionTreeClassifier())\n",
    "])\n",
    "cv = ShuffleSplit(n_splits=10, test_size=0.3)\n",
    "\n",
    "param_grid = {'classifier__criterion': [\"gini\", \"entropy\",\"log_loss\"],\"classifier__splitter\": ['best', 'random'],'classifier__max_features':['auto','sqrt','log2',None]}\n",
    "\n",
    "# Divide the data to training and test\n",
    "X_train, X_test, y_train, y_test = train_test_split(x_tree, y_tree, test_size=0.2, random_state=0)\n",
    "# Find the optimal parameters and cross validation\n",
    "search =GridSearchCV(my_pipeline, param_grid=param_grid,cv=cv,n_jobs=-1)\n",
    "search.fit(X_train, y_train)\n",
    "# model accuracy and performance\n",
    "y_pred =search.best_estimator_.predict(X_test)\n",
    "\n",
    "cm= confusion_matrix(y_test,y_pred)\n",
    "accuracy = accuracy_score(y_test, y_pred)\n",
    "precision = precision_score(y_test, y_pred, average='weighted')\n",
    "recall = recall_score(y_test, y_pred, average='weighted')\n",
    "f1 = f1_score(y_test, y_pred, average='weighted')\n",
    "print(\"Confusion Matrix:\")\n",
    "print(cm)\n",
    "print(\"Best accuracy:\", search.best_score_)\n",
    "print(\"Accuracy:\", accuracy)\n",
    "print(\"Precision:\", precision)\n",
    "print(\"Recall:\", recall)\n",
    "print(\"F1 Score:\", f1)\n",
    "\n",
    "# feature importance\n",
    "best_params = list(search.best_params_.values())\n",
    "dt = DecisionTreeClassifier(random_state=0,criterion= best_params[0], max_features=best_params[1], splitter=best_params[2]).fit(x_tree, y_tree)\n",
    "new_df = DataFrame(data={'feature_importance':dt.feature_importances_.round(3)*100,'features_name':data_feature.columns}).sort_values('feature_importance',ascending=0)\n",
    "print(new_df)\n"
   ],
   "metadata": {
    "collapsed": false,
    "pycharm": {
     "name": "#%%\n"
    }
   }
  }
 ],
 "metadata": {
  "kernelspec": {
   "display_name": "Python 3",
   "language": "python",
   "name": "python3"
  },
  "language_info": {
   "codemirror_mode": {
    "name": "ipython",
    "version": 2
   },
   "file_extension": ".py",
   "mimetype": "text/x-python",
   "name": "python",
   "nbconvert_exporter": "python",
   "pygments_lexer": "ipython2",
   "version": "2.7.6"
  }
 },
 "nbformat": 4,
 "nbformat_minor": 0
}