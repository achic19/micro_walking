{
 "cells": [
  {
   "cell_type": "code",
   "execution_count": 1,
   "outputs": [],
   "source": [
    "import geopandas as gpd\n",
    "\n",
    "import calendar\n",
    "from pandas import DataFrame\n",
    "import glob\n",
    "\n",
    "import warnings\n",
    "warnings.filterwarnings(action='ignore')\n",
    "\n",
    "# fields names\n",
    "ped_level= 'ped_level'\n",
    "import os\n",
    "general_path = os.path.dirname(os.path.abspath(os.getcwd()))"
   ],
   "metadata": {
    "collapsed": false,
    "pycharm": {
     "name": "#%%\n"
    }
   }
  },
  {
   "cell_type": "markdown",
   "source": [
    "### get time features and ped level from moovit data"
   ],
   "metadata": {
    "collapsed": false,
    "pycharm": {
     "name": "#%% md\n"
    }
   }
  },
  {
   "cell_type": "code",
   "execution_count": 2,
   "outputs": [
    {
     "data": {
      "text/plain": "[     Period        W    ID  morning  noon  afternoon  night\n 0     APR21  WeekDay     0        1     0          2      0\n 1     APR21  WeekDay     1        4     4          4      3\n 2     APR21  WeekDay     2        4     4          4      3\n 3     APR21  WeekDay     3        1     9          0      2\n 4     APR21  WeekDay     4        0     0          9      1\n ...     ...      ...   ...      ...   ...        ...    ...\n 8536  APR21  WeekDay  8760        3     2          1      0\n 8537  APR21  WeekDay  8761        0     0          0      0\n 8538  APR21  WeekDay  8762        4     4          4      3\n 8539  APR21  WeekDay  8763        2     3          2      3\n 8540  APR21  WeekDay  8764        3     4          2      3\n \n [8541 rows x 7 columns],\n      Period        W    ID  morning  noon  afternoon  night\n 0     APR21  WeekEnd     0        0     9          9      9\n 1     APR21  WeekEnd     1        3     2          3      3\n 2     APR21  WeekEnd     2        2     1          1      0\n 3     APR21  WeekEnd     3        0     9          9      0\n 4     APR21  WeekEnd     4        0     9          0      9\n ...     ...      ...   ...      ...   ...        ...    ...\n 8033  APR21  WeekEnd  8760        0     0          9      9\n 8034  APR21  WeekEnd  8761        0     1          9      9\n 8035  APR21  WeekEnd  8762        2     2          2      1\n 8036  APR21  WeekEnd  8763        1     0          9      9\n 8037  APR21  WeekEnd  8764        0     9          9      3\n \n [8038 rows x 7 columns],\n      Period        W    ID  morning  noon  afternoon  night\n 0     DEC21  WeekDay     0        2     2          2      1\n 1     DEC21  WeekDay     1        4     4          4      3\n 2     DEC21  WeekDay     2        3     1          2      0\n 3     DEC21  WeekDay     3        3     2          0      1\n 4     DEC21  WeekDay     4        1     0          2      9\n ...     ...      ...   ...      ...   ...        ...    ...\n 8535  DEC21  WeekDay  8760        0     0          9      0\n 8536  DEC21  WeekDay  8761        1     9          9      9\n 8537  DEC21  WeekDay  8762        4     4          4      3\n 8538  DEC21  WeekDay  8763        3     3          1      1\n 8539  DEC21  WeekDay  8764        3     4          2      1\n \n [8540 rows x 7 columns],\n      Period        W    ID  morning  noon  afternoon  night\n 0     DEC21  WeekEnd     0        0     2          1      9\n 1     DEC21  WeekEnd     1        2     1          0      9\n 2     DEC21  WeekEnd     2        0     0          9      9\n 3     DEC21  WeekEnd     3        1     0          0      0\n 4     DEC21  WeekEnd     5        0     9          0      9\n ...     ...      ...   ...      ...   ...        ...    ...\n 8098  DEC21  WeekEnd  8759        2     1          3      2\n 8099  DEC21  WeekEnd  8761        0     9          9      9\n 8100  DEC21  WeekEnd  8762        2     2          2      1\n 8101  DEC21  WeekEnd  8763        0     1          2      1\n 8102  DEC21  WeekEnd  8764        0     0          1      9\n \n [8103 rows x 7 columns],\n      Period        W    ID  morning  noon  afternoon  night\n 0     JAN22  WeekDay     0        1     1          2      1\n 1     JAN22  WeekDay     1        4     4          4      2\n 2     JAN22  WeekDay     2        4     3          2      2\n 3     JAN22  WeekDay     3        2     2          1      1\n 4     JAN22  WeekDay     4        1     0          1      9\n ...     ...      ...   ...      ...   ...        ...    ...\n 8560  JAN22  WeekDay  8760        1     2          1      9\n 8561  JAN22  WeekDay  8761        0     2          0      9\n 8562  JAN22  WeekDay  8762        4     4          4      3\n 8563  JAN22  WeekDay  8763        2     3          3      1\n 8564  JAN22  WeekDay  8764        3     3          9      2\n \n [8565 rows x 7 columns],\n      Period        W    ID  morning  noon  afternoon  night\n 0     JAN22  WeekEnd     0        1     1          0      9\n 1     JAN22  WeekEnd     1        1     1          1      1\n 2     JAN22  WeekEnd     2        1     2          0      1\n 3     JAN22  WeekEnd     3        0     0          3      9\n 4     JAN22  WeekEnd     4        0     9          0      9\n ...     ...      ...   ...      ...   ...        ...    ...\n 8114  JAN22  WeekEnd  8760        0     0          9      9\n 8115  JAN22  WeekEnd  8761        0     0          9      9\n 8116  JAN22  WeekEnd  8762        3     3          3      3\n 8117  JAN22  WeekEnd  8763        2     1          2      9\n 8118  JAN22  WeekEnd  8764        0     3          9      0\n \n [8119 rows x 7 columns],\n      Period        W    ID  morning  noon  afternoon  night\n 0     JUL21  WeekDay     0        2     1          4      1\n 1     JUL21  WeekDay     1        4     4          4      2\n 2     JUL21  WeekDay     2        4     3          4      3\n 3     JUL21  WeekDay     3        2     0          3      1\n 4     JUL21  WeekDay     4        1     2          1      0\n ...     ...      ...   ...      ...   ...        ...    ...\n 8577  JUL21  WeekDay  8760        0     9          1      0\n 8578  JUL21  WeekDay  8761        0     0          1      9\n 8579  JUL21  WeekDay  8762        4     4          4      4\n 8580  JUL21  WeekDay  8763        4     3          3      2\n 8581  JUL21  WeekDay  8764        4     4          3      2\n \n [8582 rows x 7 columns],\n      Period        W    ID  morning  noon  afternoon  night\n 0     JUL21  WeekEnd     0        0     9          9      0\n 1     JUL21  WeekEnd     1        3     9          1      1\n 2     JUL21  WeekEnd     2        1     1          1      0\n 3     JUL21  WeekEnd     3        2     0          1      9\n 4     JUL21  WeekEnd     4        0     9          9      0\n ...     ...      ...   ...      ...   ...        ...    ...\n 7991  JUL21  WeekEnd  8759        0     3          1      0\n 7992  JUL21  WeekEnd  8761        1     9          9      9\n 7993  JUL21  WeekEnd  8762        3     2          3      1\n 7994  JUL21  WeekEnd  8763        1     0          2      0\n 7995  JUL21  WeekEnd  8764        0     9          9      0\n \n [7996 rows x 7 columns],\n      Period        W    ID  morning  noon  afternoon  night\n 0     JUN21  WeekDay     0        1     1          2      1\n 1     JUN21  WeekDay     1        4     4          4      2\n 2     JUN21  WeekDay     2        4     3          4      3\n 3     JUN21  WeekDay     3        3     3          2      1\n 4     JUN21  WeekDay     4        1     0          1      9\n ...     ...      ...   ...      ...   ...        ...    ...\n 8578  JUN21  WeekDay  8760        2     0          1      9\n 8579  JUN21  WeekDay  8761        0     9          0      0\n 8580  JUN21  WeekDay  8762        4     4          4      2\n 8581  JUN21  WeekDay  8763        4     3          1      1\n 8582  JUN21  WeekDay  8764        3     4          3      2\n \n [8583 rows x 7 columns],\n      Period        W    ID  morning  noon  afternoon  night\n 0     JUN21  WeekEnd     0        0     0          0      9\n 1     JUN21  WeekEnd     1        3     1          1      1\n 2     JUN21  WeekEnd     2        1     1          9      0\n 3     JUN21  WeekEnd     3        1     1          0      2\n 4     JUN21  WeekEnd     4        0     9          9      9\n ...     ...      ...   ...      ...   ...        ...    ...\n 8115  JUN21  WeekEnd  8760        0     9          1      9\n 8116  JUN21  WeekEnd  8761        0     9          0      9\n 8117  JUN21  WeekEnd  8762        3     3          3      4\n 8118  JUN21  WeekEnd  8763        1     0          3      1\n 8119  JUN21  WeekEnd  8764        0     9          0      0\n \n [8120 rows x 7 columns],\n      Period        W    ID  morning  noon  afternoon  night\n 0     MAR21  WeekDay     0        1     2          1      0\n 1     MAR21  WeekDay     1        4     4          3      2\n 2     MAR21  WeekDay     2        4     3          4      2\n 3     MAR21  WeekDay     3        2     0          2      3\n 4     MAR21  WeekDay     4        1     1          1      0\n ...     ...      ...   ...      ...   ...        ...    ...\n 8547  MAR21  WeekDay  8759        3     1          3      2\n 8548  MAR21  WeekDay  8761        0     9          0      0\n 8549  MAR21  WeekDay  8762        4     4          4      3\n 8550  MAR21  WeekDay  8763        3     3          3      0\n 8551  MAR21  WeekDay  8764        3     3          1      9\n \n [8552 rows x 7 columns],\n      Period        W    ID  morning  noon  afternoon  night\n 0     MAR21  WeekEnd     0        0     9          9      9\n 1     MAR21  WeekEnd     1        2     2          1      2\n 2     MAR21  WeekEnd     2        1     1          0      1\n 3     MAR21  WeekEnd     3        0     9          9      0\n 4     MAR21  WeekEnd     4        0     9          1      9\n ...     ...      ...   ...      ...   ...        ...    ...\n 7965  MAR21  WeekEnd  8758        0     0          9      9\n 7966  MAR21  WeekEnd  8759        1     4          2      0\n 7967  MAR21  WeekEnd  8762        3     2          2      1\n 7968  MAR21  WeekEnd  8763        2     1          2      0\n 7969  MAR21  WeekEnd  8764        1     0          1      9\n \n [7970 rows x 7 columns],\n      Period        W    ID  morning  noon  afternoon  night\n 0     NOV21  WeekDay     0        2     0          1      1\n 1     NOV21  WeekDay     1        4     4          4      2\n 2     NOV21  WeekDay     2        4     4          4      3\n 3     NOV21  WeekDay     3        2     2          2      1\n 4     NOV21  WeekDay     4        0     1          1      0\n ...     ...      ...   ...      ...   ...        ...    ...\n 8588  NOV21  WeekDay  8760        1     9          0      9\n 8589  NOV21  WeekDay  8761        0     0          9      9\n 8590  NOV21  WeekDay  8762        4     4          4      4\n 8591  NOV21  WeekDay  8763        4     3          3      2\n 8592  NOV21  WeekDay  8764        4     4          2      2\n \n [8593 rows x 7 columns],\n      Period        W    ID  morning  noon  afternoon  night\n 0     NOV21  WeekEnd     0        1     1          0      9\n 1     NOV21  WeekEnd     1        2     1          3      1\n 2     NOV21  WeekEnd     2        3     0          0      0\n 3     NOV21  WeekEnd     3        1     9          9      9\n 4     NOV21  WeekEnd     4        1     0          0      0\n ...     ...      ...   ...      ...   ...        ...    ...\n 8134  NOV21  WeekEnd  8759        2     2          1      2\n 8135  NOV21  WeekEnd  8760        0     9          9      9\n 8136  NOV21  WeekEnd  8762        4     2          3      2\n 8137  NOV21  WeekEnd  8763        1     1          9      1\n 8138  NOV21  WeekEnd  8764        1     9          0      9\n \n [8139 rows x 7 columns],\n      Period        W    ID  morning  noon  afternoon  night\n 0     OCT21  WeekDay     0        3     3          3      2\n 1     OCT21  WeekDay     1        4     3          4      4\n 2     OCT21  WeekDay     2        4     3          4      2\n 3     OCT21  WeekDay     3        3     2          3      1\n 4     OCT21  WeekDay     4        1     1          2      2\n ...     ...      ...   ...      ...   ...        ...    ...\n 8590  OCT21  WeekDay  8760        1     9          1      9\n 8591  OCT21  WeekDay  8761        0     0          9      9\n 8592  OCT21  WeekDay  8762        4     4          4      3\n 8593  OCT21  WeekDay  8763        3     2          2      2\n 8594  OCT21  WeekDay  8764        4     4          4      2\n \n [8595 rows x 7 columns],\n      Period        W    ID  morning  noon  afternoon  night\n 0     OCT21  WeekEnd     0        0     0          0      0\n 1     OCT21  WeekEnd     1        3     2          1      2\n 2     OCT21  WeekEnd     2        0     2          0      0\n 3     OCT21  WeekEnd     3        0     1          0      0\n 4     OCT21  WeekEnd     4        0     9          9      9\n ...     ...      ...   ...      ...   ...        ...    ...\n 8095  OCT21  WeekEnd  8760        0     0          0      9\n 8096  OCT21  WeekEnd  8761        0     9          0      9\n 8097  OCT21  WeekEnd  8762        3     2          1      2\n 8098  OCT21  WeekEnd  8763        1     1          0      1\n 8099  OCT21  WeekEnd  8764        0     2          9      0\n \n [8100 rows x 7 columns]]"
     },
     "execution_count": 2,
     "metadata": {},
     "output_type": "execute_result"
    }
   ],
   "source": [
    "cols_to_use =['Period','W', 'ID', 'morning', 'noon', 'afternoon','night']\n",
    "moovit_data = [gpd.read_file(x)[cols_to_use] for x in glob.glob(f'{general_path}/output/moovit/*.shp') ]\n",
    "moovit_data"
   ],
   "metadata": {
    "collapsed": false,
    "pycharm": {
     "name": "#%%\n"
    }
   }
  },
  {
   "cell_type": "code",
   "execution_count": 3,
   "outputs": [],
   "source": [
    "# Calculate season predictor\n",
    "month_name = [x for x in calendar.month_abbr]\n",
    "for moovit_file in moovit_data:\n",
    "    month = month_name.index(moovit_file['Period'][0][:3].lower().capitalize())\n",
    "    if month in [12, 1, 2]:\n",
    "        season = 1\n",
    "    elif month in [3, 4, 5]:\n",
    "        season = 2\n",
    "    elif month in [6, 7, 8]:\n",
    "        season = 3\n",
    "    else:\n",
    "        season = 0\n",
    "    moovit_file['season'] =  season\n",
    "    # Encode W columns\n",
    "    moovit_file['day'] = 0 if moovit_file['W'][0]=='WeekDay'else 1\n"
   ],
   "metadata": {
    "collapsed": false,
    "pycharm": {
     "name": "#%%\n"
    }
   }
  },
  {
   "cell_type": "code",
   "execution_count": 4,
   "outputs": [
    {
     "data": {
      "text/plain": "          ID  day part  season  day  ped_level\n0          0         0       2    0          1\n1          0         1       2    0          0\n2          0         2       2    0          2\n3          0         3       2    0          0\n4          1         0       2    0          4\n...      ...       ...     ...  ...        ...\n532538  8763         2       0    1          0\n532539  8763         3       0    1          1\n532540  8764         0       0    1          0\n532541  8764         1       0    1          2\n532543  8764         3       0    1          0\n\n[474550 rows x 5 columns]",
      "text/html": "<div>\n<style scoped>\n    .dataframe tbody tr th:only-of-type {\n        vertical-align: middle;\n    }\n\n    .dataframe tbody tr th {\n        vertical-align: top;\n    }\n\n    .dataframe thead th {\n        text-align: right;\n    }\n</style>\n<table border=\"1\" class=\"dataframe\">\n  <thead>\n    <tr style=\"text-align: right;\">\n      <th></th>\n      <th>ID</th>\n      <th>day part</th>\n      <th>season</th>\n      <th>day</th>\n      <th>ped_level</th>\n    </tr>\n  </thead>\n  <tbody>\n    <tr>\n      <th>0</th>\n      <td>0</td>\n      <td>0</td>\n      <td>2</td>\n      <td>0</td>\n      <td>1</td>\n    </tr>\n    <tr>\n      <th>1</th>\n      <td>0</td>\n      <td>1</td>\n      <td>2</td>\n      <td>0</td>\n      <td>0</td>\n    </tr>\n    <tr>\n      <th>2</th>\n      <td>0</td>\n      <td>2</td>\n      <td>2</td>\n      <td>0</td>\n      <td>2</td>\n    </tr>\n    <tr>\n      <th>3</th>\n      <td>0</td>\n      <td>3</td>\n      <td>2</td>\n      <td>0</td>\n      <td>0</td>\n    </tr>\n    <tr>\n      <th>4</th>\n      <td>1</td>\n      <td>0</td>\n      <td>2</td>\n      <td>0</td>\n      <td>4</td>\n    </tr>\n    <tr>\n      <th>...</th>\n      <td>...</td>\n      <td>...</td>\n      <td>...</td>\n      <td>...</td>\n      <td>...</td>\n    </tr>\n    <tr>\n      <th>532538</th>\n      <td>8763</td>\n      <td>2</td>\n      <td>0</td>\n      <td>1</td>\n      <td>0</td>\n    </tr>\n    <tr>\n      <th>532539</th>\n      <td>8763</td>\n      <td>3</td>\n      <td>0</td>\n      <td>1</td>\n      <td>1</td>\n    </tr>\n    <tr>\n      <th>532540</th>\n      <td>8764</td>\n      <td>0</td>\n      <td>0</td>\n      <td>1</td>\n      <td>0</td>\n    </tr>\n    <tr>\n      <th>532541</th>\n      <td>8764</td>\n      <td>1</td>\n      <td>0</td>\n      <td>1</td>\n      <td>2</td>\n    </tr>\n    <tr>\n      <th>532543</th>\n      <td>8764</td>\n      <td>3</td>\n      <td>0</td>\n      <td>1</td>\n      <td>0</td>\n    </tr>\n  </tbody>\n</table>\n<p>474550 rows × 5 columns</p>\n</div>"
     },
     "execution_count": 4,
     "metadata": {},
     "output_type": "execute_result"
    }
   ],
   "source": [
    "# flat the data so each ped level would be in a new row\n",
    "def rearrange_data(row):\n",
    "    r\"\"\"\n",
    "    :param row:\n",
    "    :return:\n",
    "    \"\"\"\n",
    "    id= row['ID']\n",
    "    def add_row(day_part,ped_level_val):\n",
    "        r\"\"\"\n",
    "        if the ped level is not 9 add new line to the list with ID, day part and ped level\n",
    "        :param ped_level_val:\n",
    "        :param day_part:\n",
    "        :param ped_level:\n",
    "        :return:\n",
    "        \"\"\"\n",
    "        data_for_ml.append([id,day_part,row['season'],row['day'],ped_level_val])\n",
    "    [add_row(x,row[x+3]) for x in range(4)]\n",
    "\n",
    "data_for_ml = []\n",
    "_ = [moovit_file.apply(rearrange_data,axis=1) for moovit_file in moovit_data]\n",
    "ml_data = DataFrame(data_for_ml,columns=['ID','day part','season','day', ped_level])\n",
    "ml_data = ml_data[ml_data['ped_level']<9]\n",
    "ml_data"
   ],
   "metadata": {
    "collapsed": false,
    "pycharm": {
     "name": "#%%\n"
    }
   }
  },
  {
   "cell_type": "code",
   "execution_count": 14,
   "outputs": [
    {
     "name": "stdout",
     "output_type": "stream",
     "text": [
      "mean:day part\n",
      "0    1.78\n",
      "1    1.99\n",
      "2    1.98\n",
      "3    1.88\n",
      "Name: ped_level, dtype: float64\n",
      "std:day part\n",
      "0    1.48\n",
      "1    1.41\n",
      "2    1.43\n",
      "3    1.42\n",
      "Name: ped_level, dtype: float64\n",
      "mean:season\n",
      "0    1.96\n",
      "1    1.88\n",
      "2    1.86\n",
      "3    1.90\n",
      "Name: ped_level, dtype: float64\n",
      "std:season\n",
      "0    1.44\n",
      "1    1.43\n",
      "2    1.44\n",
      "3    1.44\n",
      "Name: ped_level, dtype: float64\n",
      "mean:day\n",
      "0    2.32\n",
      "1    1.41\n",
      "Name: ped_level, dtype: float64\n",
      "std:day\n",
      "0    1.42\n",
      "1    1.30\n",
      "Name: ped_level, dtype: float64\n"
     ]
    }
   ],
   "source": [
    "# mean and std\n",
    "for col in ['day part','season','day']:\n",
    "    calc_col = \"ped_level\"\n",
    "    print(f'mean:{ml_data.groupby(col)[calc_col].mean().round(2)}')\n",
    "    print(f'std:{ml_data.groupby(col)[calc_col].std().round(2)}')\n"
   ],
   "metadata": {
    "collapsed": false,
    "pycharm": {
     "name": "#%%\n"
    }
   }
  },
  {
   "cell_type": "code",
   "execution_count": 15,
   "outputs": [
    {
     "data": {
      "text/plain": "      day part  season  day  buildings  businesses  educationa  Health_ser  \\\n0            0       2    0  16.036667         0.0           8           1   \n0            1       2    0  16.036667         0.0           8           1   \n0            2       2    0  16.036667         0.0           8           1   \n0            3       2    0  16.036667         0.0           8           1   \n0            0       2    1  16.036667         0.0           8           1   \n...        ...     ...  ...        ...         ...         ...         ...   \n8750         3       0    0  19.660000         0.0           9           3   \n8750         0       0    1  19.660000         0.0           9           3   \n8750         1       0    1  19.660000         0.0           9           3   \n8750         2       0    1  19.660000         0.0           9           3   \n8750         3       0    1  19.660000         0.0           9           3   \n\n      Leisure_am  Playground  Sport_faci  ...  bike_trail  parks  density  \\\n0              0           7           3  ...           0     12      3.3   \n0              0           7           3  ...           0     12      3.3   \n0              0           7           3  ...           0     12      3.3   \n0              0           7           3  ...           0     12      3.3   \n0              0           7           3  ...           0     12      3.3   \n...          ...         ...         ...  ...         ...    ...      ...   \n8750           4           2           2  ...           0      6     22.9   \n8750           4           2           2  ...           0      6     22.9   \n8750           4           2           2  ...           0      6     22.9   \n8750           4           2           2  ...           0      6     22.9   \n8750           4           2           2  ...           0      6     22.9   \n\n      SEleve1_10  closeness  betweennes  node_start  node_end  \\\n0              7   0.014734    0.004886           0         1   \n0              7   0.014734    0.004886           0         1   \n0              7   0.014734    0.004886           0         1   \n0              7   0.014734    0.004886           0         1   \n0              7   0.014734    0.004886           0         1   \n...          ...        ...         ...         ...       ...   \n8750           6   0.024888    0.001354        6432      6433   \n8750           6   0.024888    0.001354        6432      6433   \n8750           6   0.024888    0.001354        6432      6433   \n8750           6   0.024888    0.001354        6432      6433   \n8750           6   0.024888    0.001354        6432      6433   \n\n                                               geometry  ped_level  \n0     LINESTRING (184322.705 668574.483, 184351.736 ...          1  \n0     LINESTRING (184322.705 668574.483, 184351.736 ...          0  \n0     LINESTRING (184322.705 668574.483, 184351.736 ...          2  \n0     LINESTRING (184322.705 668574.483, 184351.736 ...          0  \n0     LINESTRING (184322.705 668574.483, 184351.736 ...          0  \n...                                                 ...        ...  \n8750  LINESTRING (178804.172 665057.617, 178807.785 ...          4  \n8750  LINESTRING (178804.172 665057.617, 178807.785 ...          4  \n8750  LINESTRING (178804.172 665057.617, 178807.785 ...          4  \n8750  LINESTRING (178804.172 665057.617, 178807.785 ...          4  \n8750  LINESTRING (178804.172 665057.617, 178807.785 ...          4  \n\n[473800 rows x 24 columns]",
      "text/html": "<div>\n<style scoped>\n    .dataframe tbody tr th:only-of-type {\n        vertical-align: middle;\n    }\n\n    .dataframe tbody tr th {\n        vertical-align: top;\n    }\n\n    .dataframe thead th {\n        text-align: right;\n    }\n</style>\n<table border=\"1\" class=\"dataframe\">\n  <thead>\n    <tr style=\"text-align: right;\">\n      <th></th>\n      <th>day part</th>\n      <th>season</th>\n      <th>day</th>\n      <th>buildings</th>\n      <th>businesses</th>\n      <th>educationa</th>\n      <th>Health_ser</th>\n      <th>Leisure_am</th>\n      <th>Playground</th>\n      <th>Sport_faci</th>\n      <th>...</th>\n      <th>bike_trail</th>\n      <th>parks</th>\n      <th>density</th>\n      <th>SEleve1_10</th>\n      <th>closeness</th>\n      <th>betweennes</th>\n      <th>node_start</th>\n      <th>node_end</th>\n      <th>geometry</th>\n      <th>ped_level</th>\n    </tr>\n  </thead>\n  <tbody>\n    <tr>\n      <th>0</th>\n      <td>0</td>\n      <td>2</td>\n      <td>0</td>\n      <td>16.036667</td>\n      <td>0.0</td>\n      <td>8</td>\n      <td>1</td>\n      <td>0</td>\n      <td>7</td>\n      <td>3</td>\n      <td>...</td>\n      <td>0</td>\n      <td>12</td>\n      <td>3.3</td>\n      <td>7</td>\n      <td>0.014734</td>\n      <td>0.004886</td>\n      <td>0</td>\n      <td>1</td>\n      <td>LINESTRING (184322.705 668574.483, 184351.736 ...</td>\n      <td>1</td>\n    </tr>\n    <tr>\n      <th>0</th>\n      <td>1</td>\n      <td>2</td>\n      <td>0</td>\n      <td>16.036667</td>\n      <td>0.0</td>\n      <td>8</td>\n      <td>1</td>\n      <td>0</td>\n      <td>7</td>\n      <td>3</td>\n      <td>...</td>\n      <td>0</td>\n      <td>12</td>\n      <td>3.3</td>\n      <td>7</td>\n      <td>0.014734</td>\n      <td>0.004886</td>\n      <td>0</td>\n      <td>1</td>\n      <td>LINESTRING (184322.705 668574.483, 184351.736 ...</td>\n      <td>0</td>\n    </tr>\n    <tr>\n      <th>0</th>\n      <td>2</td>\n      <td>2</td>\n      <td>0</td>\n      <td>16.036667</td>\n      <td>0.0</td>\n      <td>8</td>\n      <td>1</td>\n      <td>0</td>\n      <td>7</td>\n      <td>3</td>\n      <td>...</td>\n      <td>0</td>\n      <td>12</td>\n      <td>3.3</td>\n      <td>7</td>\n      <td>0.014734</td>\n      <td>0.004886</td>\n      <td>0</td>\n      <td>1</td>\n      <td>LINESTRING (184322.705 668574.483, 184351.736 ...</td>\n      <td>2</td>\n    </tr>\n    <tr>\n      <th>0</th>\n      <td>3</td>\n      <td>2</td>\n      <td>0</td>\n      <td>16.036667</td>\n      <td>0.0</td>\n      <td>8</td>\n      <td>1</td>\n      <td>0</td>\n      <td>7</td>\n      <td>3</td>\n      <td>...</td>\n      <td>0</td>\n      <td>12</td>\n      <td>3.3</td>\n      <td>7</td>\n      <td>0.014734</td>\n      <td>0.004886</td>\n      <td>0</td>\n      <td>1</td>\n      <td>LINESTRING (184322.705 668574.483, 184351.736 ...</td>\n      <td>0</td>\n    </tr>\n    <tr>\n      <th>0</th>\n      <td>0</td>\n      <td>2</td>\n      <td>1</td>\n      <td>16.036667</td>\n      <td>0.0</td>\n      <td>8</td>\n      <td>1</td>\n      <td>0</td>\n      <td>7</td>\n      <td>3</td>\n      <td>...</td>\n      <td>0</td>\n      <td>12</td>\n      <td>3.3</td>\n      <td>7</td>\n      <td>0.014734</td>\n      <td>0.004886</td>\n      <td>0</td>\n      <td>1</td>\n      <td>LINESTRING (184322.705 668574.483, 184351.736 ...</td>\n      <td>0</td>\n    </tr>\n    <tr>\n      <th>...</th>\n      <td>...</td>\n      <td>...</td>\n      <td>...</td>\n      <td>...</td>\n      <td>...</td>\n      <td>...</td>\n      <td>...</td>\n      <td>...</td>\n      <td>...</td>\n      <td>...</td>\n      <td>...</td>\n      <td>...</td>\n      <td>...</td>\n      <td>...</td>\n      <td>...</td>\n      <td>...</td>\n      <td>...</td>\n      <td>...</td>\n      <td>...</td>\n      <td>...</td>\n      <td>...</td>\n    </tr>\n    <tr>\n      <th>8750</th>\n      <td>3</td>\n      <td>0</td>\n      <td>0</td>\n      <td>19.660000</td>\n      <td>0.0</td>\n      <td>9</td>\n      <td>3</td>\n      <td>4</td>\n      <td>2</td>\n      <td>2</td>\n      <td>...</td>\n      <td>0</td>\n      <td>6</td>\n      <td>22.9</td>\n      <td>6</td>\n      <td>0.024888</td>\n      <td>0.001354</td>\n      <td>6432</td>\n      <td>6433</td>\n      <td>LINESTRING (178804.172 665057.617, 178807.785 ...</td>\n      <td>4</td>\n    </tr>\n    <tr>\n      <th>8750</th>\n      <td>0</td>\n      <td>0</td>\n      <td>1</td>\n      <td>19.660000</td>\n      <td>0.0</td>\n      <td>9</td>\n      <td>3</td>\n      <td>4</td>\n      <td>2</td>\n      <td>2</td>\n      <td>...</td>\n      <td>0</td>\n      <td>6</td>\n      <td>22.9</td>\n      <td>6</td>\n      <td>0.024888</td>\n      <td>0.001354</td>\n      <td>6432</td>\n      <td>6433</td>\n      <td>LINESTRING (178804.172 665057.617, 178807.785 ...</td>\n      <td>4</td>\n    </tr>\n    <tr>\n      <th>8750</th>\n      <td>1</td>\n      <td>0</td>\n      <td>1</td>\n      <td>19.660000</td>\n      <td>0.0</td>\n      <td>9</td>\n      <td>3</td>\n      <td>4</td>\n      <td>2</td>\n      <td>2</td>\n      <td>...</td>\n      <td>0</td>\n      <td>6</td>\n      <td>22.9</td>\n      <td>6</td>\n      <td>0.024888</td>\n      <td>0.001354</td>\n      <td>6432</td>\n      <td>6433</td>\n      <td>LINESTRING (178804.172 665057.617, 178807.785 ...</td>\n      <td>4</td>\n    </tr>\n    <tr>\n      <th>8750</th>\n      <td>2</td>\n      <td>0</td>\n      <td>1</td>\n      <td>19.660000</td>\n      <td>0.0</td>\n      <td>9</td>\n      <td>3</td>\n      <td>4</td>\n      <td>2</td>\n      <td>2</td>\n      <td>...</td>\n      <td>0</td>\n      <td>6</td>\n      <td>22.9</td>\n      <td>6</td>\n      <td>0.024888</td>\n      <td>0.001354</td>\n      <td>6432</td>\n      <td>6433</td>\n      <td>LINESTRING (178804.172 665057.617, 178807.785 ...</td>\n      <td>4</td>\n    </tr>\n    <tr>\n      <th>8750</th>\n      <td>3</td>\n      <td>0</td>\n      <td>1</td>\n      <td>19.660000</td>\n      <td>0.0</td>\n      <td>9</td>\n      <td>3</td>\n      <td>4</td>\n      <td>2</td>\n      <td>2</td>\n      <td>...</td>\n      <td>0</td>\n      <td>6</td>\n      <td>22.9</td>\n      <td>6</td>\n      <td>0.024888</td>\n      <td>0.001354</td>\n      <td>6432</td>\n      <td>6433</td>\n      <td>LINESTRING (178804.172 665057.617, 178807.785 ...</td>\n      <td>4</td>\n    </tr>\n  </tbody>\n</table>\n<p>473800 rows × 24 columns</p>\n</div>"
     },
     "execution_count": 15,
     "metadata": {},
     "output_type": "execute_result"
    }
   ],
   "source": [
    "# join street attributes to the rest of the data (lable and time)\n",
    "network_data = gpd.read_file(f'{general_path}/output/streets_elements/streets_elements_2.shp')\n",
    "\n",
    "result = ml_data.set_index('ID').join(network_data, how='inner')\n",
    "ml_result = result.drop(columns=['oidrechov','length'])\n",
    "# move column 'B' to the end of the dataframe\n",
    "col_to_move = ml_result.pop(ped_level)\n",
    "ml_df = ml_result.assign(ped_level=col_to_move)\n",
    "ml_df.to_csv('output/model_data_final.csv')\n",
    "ml_df"
   ],
   "metadata": {
    "collapsed": false,
    "pycharm": {
     "name": "#%%\n"
    }
   }
  },
  {
   "cell_type": "code",
   "execution_count": 15,
   "outputs": [],
   "source": [],
   "metadata": {
    "collapsed": false,
    "pycharm": {
     "name": "#%%\n"
    }
   }
  }
 ],
 "metadata": {
  "kernelspec": {
   "display_name": "Python 3",
   "language": "python",
   "name": "python3"
  },
  "language_info": {
   "codemirror_mode": {
    "name": "ipython",
    "version": 2
   },
   "file_extension": ".py",
   "mimetype": "text/x-python",
   "name": "python",
   "nbconvert_exporter": "python",
   "pygments_lexer": "ipython2",
   "version": "2.7.6"
  }
 },
 "nbformat": 4,
 "nbformat_minor": 0
}