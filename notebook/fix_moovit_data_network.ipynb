{
 "cells": [
  {
   "cell_type": "code",
   "execution_count": null,
   "outputs": [],
   "source": [
    "import geopandas as gpd\n",
    "from geopandas import GeoDataFrame\n",
    "import os\n",
    "import zipfile\n",
    "import pandas as pd\n",
    "import glob\n",
    "import zipfile\n",
    "from pandas import DataFrame\n",
    "layer_crs= 'epsg:2039'\n",
    "project_folder = os.path.dirname(os.getcwd())"
   ],
   "metadata": {
    "collapsed": false,
    "pycharm": {
     "name": "#%%\n"
    }
   }
  },
  {
   "cell_type": "code",
   "execution_count": null,
   "metadata": {
    "collapsed": true,
    "pycharm": {
     "name": "#%%\n"
    }
   },
   "outputs": [],
   "source": [
    "# Upload moovit and objects shp files\n",
    "moovit_folder = glob.glob(project_folder + r'\\moovit\\pedestrian_data\\*.zip\\*.shp')\n",
    "clean_network = gpd.read_file(project_folder + r'\\zip\\clean\\streets_clean.shp').reset_index()\n",
    "for moovit_path in moovit_folder:\n",
    "    name_moovit = moovit_path.split(\"\\\\\")[-1].split('.')[0]\n",
    "    print(name_moovit)\n",
    "    moovit = gpd.read_file(moovit_path)\n",
    "    mergy = moovit.merge(clean_network,how = 'inner',left_on='ID',right_on='index',suffixes= ('','_y'))\n",
    "    mergy[['tsug','trechov','geometry']] = mergy[['tsug_y','trechov_y','geometry_y']]\n",
    "    mergy_final = mergy[moovit.columns]\n",
    "    GeoDataFrame(mergy_final,crs=clean_network.crs).to_file('output/moovit/{}.shp'.format(name_moovit))"
   ]
  }
 ],
 "metadata": {
  "kernelspec": {
   "display_name": "Python 3",
   "language": "python",
   "name": "python3"
  },
  "language_info": {
   "codemirror_mode": {
    "name": "ipython",
    "version": 2
   },
   "file_extension": ".py",
   "mimetype": "text/x-python",
   "name": "python",
   "nbconvert_exporter": "python",
   "pygments_lexer": "ipython2",
   "version": "2.7.6"
  }
 },
 "nbformat": 4,
 "nbformat_minor": 0
}